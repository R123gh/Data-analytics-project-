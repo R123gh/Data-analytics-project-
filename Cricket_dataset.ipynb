{
 "cells": [
  {
   "cell_type": "code",
   "execution_count": 215,
   "id": "9d243ce1",
   "metadata": {},
   "outputs": [],
   "source": [
    "import pandas as pd  \n",
    "import numpy as np  \n",
    "import matplotlib.pyplot as plt \n",
    "import seaborn as sns  "
   ]
  },
  {
   "cell_type": "markdown",
   "id": "e6d95ea4",
   "metadata": {},
   "source": [
    "Load the data set "
   ]
  },
  {
   "cell_type": "code",
   "execution_count": 216,
   "id": "e33d6a88",
   "metadata": {},
   "outputs": [],
   "source": [
    "cricket_data = pd.read_csv('matches.csv')"
   ]
  },
  {
   "cell_type": "code",
   "execution_count": 217,
   "id": "2bde8705",
   "metadata": {},
   "outputs": [
    {
     "data": {
      "application/vnd.microsoft.datawrangler.viewer.v0+json": {
       "columns": [
        {
         "name": "index",
         "rawType": "int64",
         "type": "integer"
        },
        {
         "name": "match_id",
         "rawType": "int64",
         "type": "integer"
        },
        {
         "name": "date",
         "rawType": "object",
         "type": "string"
        },
        {
         "name": "venue",
         "rawType": "object",
         "type": "string"
        },
        {
         "name": "team1",
         "rawType": "object",
         "type": "string"
        },
        {
         "name": "team2",
         "rawType": "object",
         "type": "string"
        },
        {
         "name": "stage",
         "rawType": "object",
         "type": "string"
        },
        {
         "name": "toss_winner",
         "rawType": "object",
         "type": "string"
        },
        {
         "name": "toss_decision",
         "rawType": "object",
         "type": "string"
        },
        {
         "name": "first_ings_score",
         "rawType": "float64",
         "type": "float"
        },
        {
         "name": "first_ings_wkts",
         "rawType": "float64",
         "type": "float"
        },
        {
         "name": "second_ings_score",
         "rawType": "float64",
         "type": "float"
        },
        {
         "name": "second_ings_wkts",
         "rawType": "float64",
         "type": "float"
        },
        {
         "name": "match_result",
         "rawType": "object",
         "type": "string"
        },
        {
         "name": "match_winner",
         "rawType": "object",
         "type": "string"
        },
        {
         "name": "wb_runs",
         "rawType": "object",
         "type": "unknown"
        },
        {
         "name": "wb_wickets",
         "rawType": "object",
         "type": "unknown"
        },
        {
         "name": "balls_left",
         "rawType": "float64",
         "type": "float"
        },
        {
         "name": "player_of_the_match",
         "rawType": "object",
         "type": "string"
        },
        {
         "name": "top_scorer",
         "rawType": "object",
         "type": "string"
        },
        {
         "name": "highscore",
         "rawType": "float64",
         "type": "float"
        },
        {
         "name": "best_bowling",
         "rawType": "object",
         "type": "string"
        },
        {
         "name": "best_bowling_figure",
         "rawType": "object",
         "type": "string"
        }
       ],
       "ref": "43e6e23a-21fe-45d3-b61c-677b5dfab695",
       "rows": [
        [
         "0",
         "1",
         "March 22,2025",
         "Eden Gardens, Kolkata",
         "KKR",
         "RCB",
         "League",
         "RCB",
         "Bowl",
         "174.0",
         "8.0",
         "177.0",
         "3.0",
         "completed",
         "RCB",
         null,
         "7",
         "22.0",
         "Krunal Pandya",
         "Virat Kohli",
         "59.0",
         "Krunal Pandya",
         "3--29"
        ],
        [
         "1",
         "2",
         "March 23,2025",
         "Rajiv Gandhi International Stadium, Hyderabad",
         "SRH",
         "RR",
         "League",
         "RR",
         "Bowl",
         "286.0",
         "6.0",
         "242.0",
         "6.0",
         "completed",
         "SRH",
         "44",
         null,
         "0.0",
         "Ishan Kishan",
         "Ishan Kishan",
         "106.0",
         "Tushar Deshpande",
         "3--44"
        ],
        [
         "2",
         "3",
         "March 23,2025",
         "MA Chidambaram Stadium, Chennai",
         "CSK",
         "MI",
         "League",
         "CSK",
         "Bowl",
         "155.0",
         "9.0",
         "158.0",
         "6.0",
         "completed",
         "CSK",
         null,
         "4",
         "5.0",
         "Noor Ahmad",
         "Rachin Ravindra",
         "65.0",
         "Noor Ahmad",
         "4--18"
        ],
        [
         "3",
         "4",
         "March 24,2025",
         "ACA-VDCA Cricket Stadium, Vishakhapatnam",
         "DC",
         "LSG",
         "League",
         "DC",
         "Bowl",
         "209.0",
         "8.0",
         "211.0",
         "9.0",
         "completed",
         "DC",
         null,
         "1",
         "3.0",
         "Ashutosh Sharma",
         "Nicholas Pooran",
         "75.0",
         "Mitchell Starc",
         "3--42"
        ],
        [
         "4",
         "5",
         "March 25,2025",
         "Narendra Modi Stadium, Ahmedabad",
         "GT",
         "PBKS",
         "League",
         "GT",
         "Bowl",
         "243.0",
         "5.0",
         "232.0",
         "5.0",
         "completed",
         "PBKS",
         "11",
         null,
         "0.0",
         "Shreyas Iyer",
         "Shreyas Iyer",
         "97.0",
         "Sai Kishore",
         "3--30"
        ],
        [
         "5",
         "6",
         "March 26,2025",
         "Barsapara Stadium, Guwahati",
         "RR",
         "KKR",
         "League",
         "KKR",
         "Bowl",
         "151.0",
         "9.0",
         "153.0",
         "2.0",
         "completed",
         "KKR",
         null,
         "8",
         "15.0",
         "Quinton de Kock",
         "Quinton de Kock",
         "97.0",
         "Varun Chakravarthy",
         "2--17"
        ],
        [
         "6",
         "7",
         "March 27,2025",
         "Rajiv Gandhi International Stadium, Hyderabad",
         "SRH",
         "LSG",
         "League",
         "LSG",
         "Bowl",
         "190.0",
         "9.0",
         "193.0",
         "5.0",
         "completed",
         "LSG",
         null,
         "5",
         "23.0",
         "Shardul Thakur",
         "Nicholas Pooran",
         "70.0",
         "Shardul Thakur",
         "4--34"
        ],
        [
         "7",
         "8",
         "March 28,2025",
         "MA Chidambaram Stadium, Chennai",
         "CSK",
         "RCB",
         "League",
         "CSK",
         "Bowl",
         "196.0",
         "7.0",
         "146.0",
         "8.0",
         "completed",
         "RCB",
         "50",
         null,
         "0.0",
         "Rajat Patidar",
         "Rajat Patidar",
         "51.0",
         "Josh Hazlewood",
         "3--21"
        ],
        [
         "8",
         "9",
         "March 29,2025",
         "Narendra Modi Stadium, Ahmedabad",
         "GT",
         "MI",
         "League",
         "MI",
         "Bowl",
         "196.0",
         "8.0",
         "160.0",
         "6.0",
         "completed",
         "GT",
         "36",
         null,
         "0.0",
         "Prasidh Krishna",
         "Sai Sudarshan",
         "63.0",
         "Prasidh Krishna",
         "2--18"
        ],
        [
         "9",
         "10",
         "March 30,2025",
         "ACA-VDCA Cricket Stadium, Vishakhapatnam",
         "DC",
         "SRH",
         "League",
         "SRH",
         "Bat",
         "163.0",
         "10.0",
         "166.0",
         "3.0",
         "completed",
         "DC",
         null,
         "7",
         "24.0",
         "Mitchell Starc",
         "Aniket Verma",
         "74.0",
         "Mitchell Starc",
         "5--35"
        ]
       ],
       "shape": {
        "columns": 22,
        "rows": 10
       }
      },
      "text/html": [
       "<div>\n",
       "<style scoped>\n",
       "    .dataframe tbody tr th:only-of-type {\n",
       "        vertical-align: middle;\n",
       "    }\n",
       "\n",
       "    .dataframe tbody tr th {\n",
       "        vertical-align: top;\n",
       "    }\n",
       "\n",
       "    .dataframe thead th {\n",
       "        text-align: right;\n",
       "    }\n",
       "</style>\n",
       "<table border=\"1\" class=\"dataframe\">\n",
       "  <thead>\n",
       "    <tr style=\"text-align: right;\">\n",
       "      <th></th>\n",
       "      <th>match_id</th>\n",
       "      <th>date</th>\n",
       "      <th>venue</th>\n",
       "      <th>team1</th>\n",
       "      <th>team2</th>\n",
       "      <th>stage</th>\n",
       "      <th>toss_winner</th>\n",
       "      <th>toss_decision</th>\n",
       "      <th>first_ings_score</th>\n",
       "      <th>first_ings_wkts</th>\n",
       "      <th>...</th>\n",
       "      <th>match_result</th>\n",
       "      <th>match_winner</th>\n",
       "      <th>wb_runs</th>\n",
       "      <th>wb_wickets</th>\n",
       "      <th>balls_left</th>\n",
       "      <th>player_of_the_match</th>\n",
       "      <th>top_scorer</th>\n",
       "      <th>highscore</th>\n",
       "      <th>best_bowling</th>\n",
       "      <th>best_bowling_figure</th>\n",
       "    </tr>\n",
       "  </thead>\n",
       "  <tbody>\n",
       "    <tr>\n",
       "      <th>0</th>\n",
       "      <td>1</td>\n",
       "      <td>March 22,2025</td>\n",
       "      <td>Eden Gardens, Kolkata</td>\n",
       "      <td>KKR</td>\n",
       "      <td>RCB</td>\n",
       "      <td>League</td>\n",
       "      <td>RCB</td>\n",
       "      <td>Bowl</td>\n",
       "      <td>174.0</td>\n",
       "      <td>8.0</td>\n",
       "      <td>...</td>\n",
       "      <td>completed</td>\n",
       "      <td>RCB</td>\n",
       "      <td>NaN</td>\n",
       "      <td>7</td>\n",
       "      <td>22.0</td>\n",
       "      <td>Krunal Pandya</td>\n",
       "      <td>Virat Kohli</td>\n",
       "      <td>59.0</td>\n",
       "      <td>Krunal Pandya</td>\n",
       "      <td>3--29</td>\n",
       "    </tr>\n",
       "    <tr>\n",
       "      <th>1</th>\n",
       "      <td>2</td>\n",
       "      <td>March 23,2025</td>\n",
       "      <td>Rajiv Gandhi International Stadium, Hyderabad</td>\n",
       "      <td>SRH</td>\n",
       "      <td>RR</td>\n",
       "      <td>League</td>\n",
       "      <td>RR</td>\n",
       "      <td>Bowl</td>\n",
       "      <td>286.0</td>\n",
       "      <td>6.0</td>\n",
       "      <td>...</td>\n",
       "      <td>completed</td>\n",
       "      <td>SRH</td>\n",
       "      <td>44</td>\n",
       "      <td>NaN</td>\n",
       "      <td>0.0</td>\n",
       "      <td>Ishan Kishan</td>\n",
       "      <td>Ishan Kishan</td>\n",
       "      <td>106.0</td>\n",
       "      <td>Tushar Deshpande</td>\n",
       "      <td>3--44</td>\n",
       "    </tr>\n",
       "    <tr>\n",
       "      <th>2</th>\n",
       "      <td>3</td>\n",
       "      <td>March 23,2025</td>\n",
       "      <td>MA Chidambaram Stadium, Chennai</td>\n",
       "      <td>CSK</td>\n",
       "      <td>MI</td>\n",
       "      <td>League</td>\n",
       "      <td>CSK</td>\n",
       "      <td>Bowl</td>\n",
       "      <td>155.0</td>\n",
       "      <td>9.0</td>\n",
       "      <td>...</td>\n",
       "      <td>completed</td>\n",
       "      <td>CSK</td>\n",
       "      <td>NaN</td>\n",
       "      <td>4</td>\n",
       "      <td>5.0</td>\n",
       "      <td>Noor Ahmad</td>\n",
       "      <td>Rachin Ravindra</td>\n",
       "      <td>65.0</td>\n",
       "      <td>Noor Ahmad</td>\n",
       "      <td>4--18</td>\n",
       "    </tr>\n",
       "    <tr>\n",
       "      <th>3</th>\n",
       "      <td>4</td>\n",
       "      <td>March 24,2025</td>\n",
       "      <td>ACA-VDCA Cricket Stadium, Vishakhapatnam</td>\n",
       "      <td>DC</td>\n",
       "      <td>LSG</td>\n",
       "      <td>League</td>\n",
       "      <td>DC</td>\n",
       "      <td>Bowl</td>\n",
       "      <td>209.0</td>\n",
       "      <td>8.0</td>\n",
       "      <td>...</td>\n",
       "      <td>completed</td>\n",
       "      <td>DC</td>\n",
       "      <td>NaN</td>\n",
       "      <td>1</td>\n",
       "      <td>3.0</td>\n",
       "      <td>Ashutosh Sharma</td>\n",
       "      <td>Nicholas Pooran</td>\n",
       "      <td>75.0</td>\n",
       "      <td>Mitchell Starc</td>\n",
       "      <td>3--42</td>\n",
       "    </tr>\n",
       "    <tr>\n",
       "      <th>4</th>\n",
       "      <td>5</td>\n",
       "      <td>March 25,2025</td>\n",
       "      <td>Narendra Modi Stadium, Ahmedabad</td>\n",
       "      <td>GT</td>\n",
       "      <td>PBKS</td>\n",
       "      <td>League</td>\n",
       "      <td>GT</td>\n",
       "      <td>Bowl</td>\n",
       "      <td>243.0</td>\n",
       "      <td>5.0</td>\n",
       "      <td>...</td>\n",
       "      <td>completed</td>\n",
       "      <td>PBKS</td>\n",
       "      <td>11</td>\n",
       "      <td>NaN</td>\n",
       "      <td>0.0</td>\n",
       "      <td>Shreyas Iyer</td>\n",
       "      <td>Shreyas Iyer</td>\n",
       "      <td>97.0</td>\n",
       "      <td>Sai Kishore</td>\n",
       "      <td>3--30</td>\n",
       "    </tr>\n",
       "    <tr>\n",
       "      <th>5</th>\n",
       "      <td>6</td>\n",
       "      <td>March 26,2025</td>\n",
       "      <td>Barsapara Stadium, Guwahati</td>\n",
       "      <td>RR</td>\n",
       "      <td>KKR</td>\n",
       "      <td>League</td>\n",
       "      <td>KKR</td>\n",
       "      <td>Bowl</td>\n",
       "      <td>151.0</td>\n",
       "      <td>9.0</td>\n",
       "      <td>...</td>\n",
       "      <td>completed</td>\n",
       "      <td>KKR</td>\n",
       "      <td>NaN</td>\n",
       "      <td>8</td>\n",
       "      <td>15.0</td>\n",
       "      <td>Quinton de Kock</td>\n",
       "      <td>Quinton de Kock</td>\n",
       "      <td>97.0</td>\n",
       "      <td>Varun Chakravarthy</td>\n",
       "      <td>2--17</td>\n",
       "    </tr>\n",
       "    <tr>\n",
       "      <th>6</th>\n",
       "      <td>7</td>\n",
       "      <td>March 27,2025</td>\n",
       "      <td>Rajiv Gandhi International Stadium, Hyderabad</td>\n",
       "      <td>SRH</td>\n",
       "      <td>LSG</td>\n",
       "      <td>League</td>\n",
       "      <td>LSG</td>\n",
       "      <td>Bowl</td>\n",
       "      <td>190.0</td>\n",
       "      <td>9.0</td>\n",
       "      <td>...</td>\n",
       "      <td>completed</td>\n",
       "      <td>LSG</td>\n",
       "      <td>NaN</td>\n",
       "      <td>5</td>\n",
       "      <td>23.0</td>\n",
       "      <td>Shardul Thakur</td>\n",
       "      <td>Nicholas Pooran</td>\n",
       "      <td>70.0</td>\n",
       "      <td>Shardul Thakur</td>\n",
       "      <td>4--34</td>\n",
       "    </tr>\n",
       "    <tr>\n",
       "      <th>7</th>\n",
       "      <td>8</td>\n",
       "      <td>March 28,2025</td>\n",
       "      <td>MA Chidambaram Stadium, Chennai</td>\n",
       "      <td>CSK</td>\n",
       "      <td>RCB</td>\n",
       "      <td>League</td>\n",
       "      <td>CSK</td>\n",
       "      <td>Bowl</td>\n",
       "      <td>196.0</td>\n",
       "      <td>7.0</td>\n",
       "      <td>...</td>\n",
       "      <td>completed</td>\n",
       "      <td>RCB</td>\n",
       "      <td>50</td>\n",
       "      <td>NaN</td>\n",
       "      <td>0.0</td>\n",
       "      <td>Rajat Patidar</td>\n",
       "      <td>Rajat Patidar</td>\n",
       "      <td>51.0</td>\n",
       "      <td>Josh Hazlewood</td>\n",
       "      <td>3--21</td>\n",
       "    </tr>\n",
       "    <tr>\n",
       "      <th>8</th>\n",
       "      <td>9</td>\n",
       "      <td>March 29,2025</td>\n",
       "      <td>Narendra Modi Stadium, Ahmedabad</td>\n",
       "      <td>GT</td>\n",
       "      <td>MI</td>\n",
       "      <td>League</td>\n",
       "      <td>MI</td>\n",
       "      <td>Bowl</td>\n",
       "      <td>196.0</td>\n",
       "      <td>8.0</td>\n",
       "      <td>...</td>\n",
       "      <td>completed</td>\n",
       "      <td>GT</td>\n",
       "      <td>36</td>\n",
       "      <td>NaN</td>\n",
       "      <td>0.0</td>\n",
       "      <td>Prasidh Krishna</td>\n",
       "      <td>Sai Sudarshan</td>\n",
       "      <td>63.0</td>\n",
       "      <td>Prasidh Krishna</td>\n",
       "      <td>2--18</td>\n",
       "    </tr>\n",
       "    <tr>\n",
       "      <th>9</th>\n",
       "      <td>10</td>\n",
       "      <td>March 30,2025</td>\n",
       "      <td>ACA-VDCA Cricket Stadium, Vishakhapatnam</td>\n",
       "      <td>DC</td>\n",
       "      <td>SRH</td>\n",
       "      <td>League</td>\n",
       "      <td>SRH</td>\n",
       "      <td>Bat</td>\n",
       "      <td>163.0</td>\n",
       "      <td>10.0</td>\n",
       "      <td>...</td>\n",
       "      <td>completed</td>\n",
       "      <td>DC</td>\n",
       "      <td>NaN</td>\n",
       "      <td>7</td>\n",
       "      <td>24.0</td>\n",
       "      <td>Mitchell Starc</td>\n",
       "      <td>Aniket Verma</td>\n",
       "      <td>74.0</td>\n",
       "      <td>Mitchell Starc</td>\n",
       "      <td>5--35</td>\n",
       "    </tr>\n",
       "  </tbody>\n",
       "</table>\n",
       "<p>10 rows × 22 columns</p>\n",
       "</div>"
      ],
      "text/plain": [
       "   match_id           date                                          venue  \\\n",
       "0         1  March 22,2025                          Eden Gardens, Kolkata   \n",
       "1         2  March 23,2025  Rajiv Gandhi International Stadium, Hyderabad   \n",
       "2         3  March 23,2025                MA Chidambaram Stadium, Chennai   \n",
       "3         4  March 24,2025       ACA-VDCA Cricket Stadium, Vishakhapatnam   \n",
       "4         5  March 25,2025               Narendra Modi Stadium, Ahmedabad   \n",
       "5         6  March 26,2025                    Barsapara Stadium, Guwahati   \n",
       "6         7  March 27,2025  Rajiv Gandhi International Stadium, Hyderabad   \n",
       "7         8  March 28,2025                MA Chidambaram Stadium, Chennai   \n",
       "8         9  March 29,2025               Narendra Modi Stadium, Ahmedabad   \n",
       "9        10  March 30,2025       ACA-VDCA Cricket Stadium, Vishakhapatnam   \n",
       "\n",
       "  team1 team2   stage toss_winner toss_decision  first_ings_score  \\\n",
       "0   KKR   RCB  League         RCB          Bowl             174.0   \n",
       "1   SRH    RR  League          RR          Bowl             286.0   \n",
       "2   CSK    MI  League         CSK          Bowl             155.0   \n",
       "3    DC   LSG  League          DC          Bowl             209.0   \n",
       "4    GT  PBKS  League          GT          Bowl             243.0   \n",
       "5    RR   KKR  League         KKR          Bowl             151.0   \n",
       "6   SRH   LSG  League         LSG          Bowl             190.0   \n",
       "7   CSK   RCB  League         CSK          Bowl             196.0   \n",
       "8    GT    MI  League          MI          Bowl             196.0   \n",
       "9    DC   SRH  League         SRH           Bat             163.0   \n",
       "\n",
       "   first_ings_wkts  ...  match_result  match_winner wb_runs wb_wickets  \\\n",
       "0              8.0  ...     completed           RCB     NaN          7   \n",
       "1              6.0  ...     completed           SRH      44        NaN   \n",
       "2              9.0  ...     completed           CSK     NaN          4   \n",
       "3              8.0  ...     completed            DC     NaN          1   \n",
       "4              5.0  ...     completed          PBKS      11        NaN   \n",
       "5              9.0  ...     completed           KKR     NaN          8   \n",
       "6              9.0  ...     completed           LSG     NaN          5   \n",
       "7              7.0  ...     completed           RCB      50        NaN   \n",
       "8              8.0  ...     completed            GT      36        NaN   \n",
       "9             10.0  ...     completed            DC     NaN          7   \n",
       "\n",
       "  balls_left player_of_the_match       top_scorer highscore  \\\n",
       "0       22.0       Krunal Pandya      Virat Kohli      59.0   \n",
       "1        0.0        Ishan Kishan     Ishan Kishan     106.0   \n",
       "2        5.0          Noor Ahmad  Rachin Ravindra      65.0   \n",
       "3        3.0     Ashutosh Sharma  Nicholas Pooran      75.0   \n",
       "4        0.0        Shreyas Iyer     Shreyas Iyer      97.0   \n",
       "5       15.0     Quinton de Kock  Quinton de Kock      97.0   \n",
       "6       23.0      Shardul Thakur  Nicholas Pooran      70.0   \n",
       "7        0.0       Rajat Patidar    Rajat Patidar      51.0   \n",
       "8        0.0     Prasidh Krishna    Sai Sudarshan      63.0   \n",
       "9       24.0      Mitchell Starc     Aniket Verma      74.0   \n",
       "\n",
       "         best_bowling  best_bowling_figure  \n",
       "0       Krunal Pandya                3--29  \n",
       "1    Tushar Deshpande                3--44  \n",
       "2          Noor Ahmad                4--18  \n",
       "3      Mitchell Starc                3--42  \n",
       "4         Sai Kishore                3--30  \n",
       "5  Varun Chakravarthy                2--17  \n",
       "6      Shardul Thakur                4--34  \n",
       "7      Josh Hazlewood                3--21  \n",
       "8     Prasidh Krishna                2--18  \n",
       "9      Mitchell Starc                5--35  \n",
       "\n",
       "[10 rows x 22 columns]"
      ]
     },
     "execution_count": 217,
     "metadata": {},
     "output_type": "execute_result"
    }
   ],
   "source": [
    "cricket_data.head(10)"
   ]
  },
  {
   "cell_type": "markdown",
   "id": "a3ad3944",
   "metadata": {},
   "source": [
    "Check the info about dataset"
   ]
  },
  {
   "cell_type": "code",
   "execution_count": 218,
   "id": "51aa29d4",
   "metadata": {},
   "outputs": [
    {
     "name": "stdout",
     "output_type": "stream",
     "text": [
      "<class 'pandas.core.frame.DataFrame'>\n",
      "RangeIndex: 74 entries, 0 to 73\n",
      "Data columns (total 22 columns):\n",
      " #   Column               Non-Null Count  Dtype  \n",
      "---  ------               --------------  -----  \n",
      " 0   match_id             74 non-null     int64  \n",
      " 1   date                 74 non-null     object \n",
      " 2   venue                74 non-null     object \n",
      " 3   team1                74 non-null     object \n",
      " 4   team2                74 non-null     object \n",
      " 5   stage                74 non-null     object \n",
      " 6   toss_winner          73 non-null     object \n",
      " 7   toss_decision        74 non-null     object \n",
      " 8   first_ings_score     73 non-null     float64\n",
      " 9   first_ings_wkts      73 non-null     float64\n",
      " 10  second_ings_score    72 non-null     float64\n",
      " 11  second_ings_wkts     72 non-null     float64\n",
      " 12  match_result         74 non-null     object \n",
      " 13  match_winner         71 non-null     object \n",
      " 14  wb_runs              34 non-null     object \n",
      " 15  wb_wickets           38 non-null     object \n",
      " 16  balls_left           72 non-null     float64\n",
      " 17  player_of_the_match  71 non-null     object \n",
      " 18  top_scorer           71 non-null     object \n",
      " 19  highscore            71 non-null     float64\n",
      " 20  best_bowling         71 non-null     object \n",
      " 21  best_bowling_figure  71 non-null     object \n",
      "dtypes: float64(6), int64(1), object(15)\n",
      "memory usage: 12.8+ KB\n"
     ]
    }
   ],
   "source": [
    "cricket_data.info()"
   ]
  },
  {
   "cell_type": "markdown",
   "id": "827401a5",
   "metadata": {},
   "source": [
    "Let,s check the date columns "
   ]
  },
  {
   "cell_type": "code",
   "execution_count": 219,
   "id": "c830bcd3",
   "metadata": {},
   "outputs": [
    {
     "data": {
      "text/plain": [
       "str"
      ]
     },
     "execution_count": 219,
     "metadata": {},
     "output_type": "execute_result"
    }
   ],
   "source": [
    "type(cricket_data['date'][0])"
   ]
  },
  {
   "cell_type": "code",
   "execution_count": 220,
   "id": "8e19a1bb",
   "metadata": {},
   "outputs": [
    {
     "data": {
      "application/vnd.microsoft.datawrangler.viewer.v0+json": {
       "columns": [
        {
         "name": "index",
         "rawType": "int64",
         "type": "integer"
        },
        {
         "name": "date",
         "rawType": "object",
         "type": "string"
        }
       ],
       "ref": "63f8f129-9cce-4bdf-91e6-b56f9db4bc2b",
       "rows": [
        [
         "0",
         "March 22,2025"
        ],
        [
         "1",
         "March 23,2025"
        ],
        [
         "2",
         "March 23,2025"
        ],
        [
         "3",
         "March 24,2025"
        ],
        [
         "4",
         "March 25,2025"
        ],
        [
         "5",
         "March 26,2025"
        ],
        [
         "6",
         "March 27,2025"
        ],
        [
         "7",
         "March 28,2025"
        ],
        [
         "8",
         "March 29,2025"
        ],
        [
         "9",
         "March 30,2025"
        ],
        [
         "10",
         "March 30,2025"
        ],
        [
         "11",
         "March 31,2025"
        ],
        [
         "12",
         "April 01,2025"
        ],
        [
         "13",
         "April 02,2025"
        ],
        [
         "14",
         "April 03,2025"
        ],
        [
         "15",
         "April 04,2025"
        ],
        [
         "16",
         "April 05,2025"
        ],
        [
         "17",
         "April 05,2025"
        ],
        [
         "18",
         "April 06,2025"
        ],
        [
         "19",
         "April 07,2025"
        ],
        [
         "20",
         "April 08,2025"
        ],
        [
         "21",
         "April 08,2025"
        ],
        [
         "22",
         "April 09,2025"
        ],
        [
         "23",
         "April 10,2025"
        ],
        [
         "24",
         "April 11,2025"
        ],
        [
         "25",
         "April 12,2025"
        ],
        [
         "26",
         "April 12,2025"
        ],
        [
         "27",
         "April 13,2025"
        ],
        [
         "28",
         "April 13,2025"
        ],
        [
         "29",
         "April 14,2025"
        ],
        [
         "30",
         "April 15,2025"
        ],
        [
         "31",
         "April 16,2025"
        ],
        [
         "32",
         "April 17,2025"
        ],
        [
         "33",
         "April 18,2025"
        ],
        [
         "34",
         "April 19,2025"
        ],
        [
         "35",
         "April 19,2025"
        ],
        [
         "36",
         "April 20,2025"
        ],
        [
         "37",
         "April 20,2025"
        ],
        [
         "38",
         "April 21,2025"
        ],
        [
         "39",
         "April 22,2025"
        ],
        [
         "40",
         "April 23,2025"
        ],
        [
         "41",
         "April 24,2025"
        ],
        [
         "42",
         "April 25,2025"
        ],
        [
         "43",
         "April 26,2025"
        ],
        [
         "44",
         "April 27,2025"
        ],
        [
         "45",
         "April 27,2025"
        ],
        [
         "46",
         "April 28,2025"
        ],
        [
         "47",
         "April 29,2025"
        ],
        [
         "48",
         "April 30,2025"
        ],
        [
         "49",
         "May 1,2025"
        ]
       ],
       "shape": {
        "columns": 1,
        "rows": 74
       }
      },
      "text/plain": [
       "0     March 22,2025\n",
       "1     March 23,2025\n",
       "2     March 23,2025\n",
       "3     March 24,2025\n",
       "4     March 25,2025\n",
       "          ...      \n",
       "69      May 27,2025\n",
       "70      May 29,2025\n",
       "71      May 30,2025\n",
       "72      June 1,2025\n",
       "73      June 3,2025\n",
       "Name: date, Length: 74, dtype: object"
      ]
     },
     "execution_count": 220,
     "metadata": {},
     "output_type": "execute_result"
    }
   ],
   "source": [
    "cricket_data['date']"
   ]
  },
  {
   "cell_type": "markdown",
   "id": "0038863c",
   "metadata": {},
   "source": [
    "Now convert into string---->Timestamp "
   ]
  },
  {
   "cell_type": "code",
   "execution_count": 221,
   "id": "5e7a0dfd",
   "metadata": {},
   "outputs": [],
   "source": [
    "cricket_data['date']  = cricket_data['date'].str.replace(',', ',',regex=False)"
   ]
  },
  {
   "cell_type": "code",
   "execution_count": 222,
   "id": "07ef3c6e",
   "metadata": {},
   "outputs": [
    {
     "data": {
      "text/plain": [
       "'March 22,2025'"
      ]
     },
     "execution_count": 222,
     "metadata": {},
     "output_type": "execute_result"
    }
   ],
   "source": [
    "cricket_data['date'][0]"
   ]
  },
  {
   "cell_type": "code",
   "execution_count": 223,
   "id": "c4b64680",
   "metadata": {},
   "outputs": [],
   "source": [
    "cricket_data['date'] = cricket_data['date'].str.replace(',', ', ', regex=False) "
   ]
  },
  {
   "cell_type": "code",
   "execution_count": 224,
   "id": "00480337",
   "metadata": {},
   "outputs": [],
   "source": [
    "cricket_data['date'] = pd.to_datetime(cricket_data['date'], format='%B %d, %Y')"
   ]
  },
  {
   "cell_type": "code",
   "execution_count": 225,
   "id": "b804f32f",
   "metadata": {},
   "outputs": [
    {
     "data": {
      "text/plain": [
       "pandas._libs.tslibs.timestamps.Timestamp"
      ]
     },
     "execution_count": 225,
     "metadata": {},
     "output_type": "execute_result"
    }
   ],
   "source": [
    "type(cricket_data['date'][0])"
   ]
  },
  {
   "cell_type": "code",
   "execution_count": 226,
   "id": "87c744ab",
   "metadata": {},
   "outputs": [
    {
     "data": {
      "application/vnd.microsoft.datawrangler.viewer.v0+json": {
       "columns": [
        {
         "name": "index",
         "rawType": "int64",
         "type": "integer"
        },
        {
         "name": "date",
         "rawType": "datetime64[ns]",
         "type": "datetime"
        }
       ],
       "ref": "1a466693-f2cb-4aa0-a90d-d692a27f8a98",
       "rows": [
        [
         "0",
         "2025-03-22 00:00:00"
        ],
        [
         "1",
         "2025-03-23 00:00:00"
        ],
        [
         "2",
         "2025-03-23 00:00:00"
        ],
        [
         "3",
         "2025-03-24 00:00:00"
        ],
        [
         "4",
         "2025-03-25 00:00:00"
        ]
       ],
       "shape": {
        "columns": 1,
        "rows": 5
       }
      },
      "text/plain": [
       "0   2025-03-22\n",
       "1   2025-03-23\n",
       "2   2025-03-23\n",
       "3   2025-03-24\n",
       "4   2025-03-25\n",
       "Name: date, dtype: datetime64[ns]"
      ]
     },
     "execution_count": 226,
     "metadata": {},
     "output_type": "execute_result"
    }
   ],
   "source": [
    "cricket_data['date'].head(5)"
   ]
  },
  {
   "cell_type": "markdown",
   "id": "c5621ed0",
   "metadata": {},
   "source": [
    "Also check the another columns "
   ]
  },
  {
   "cell_type": "code",
   "execution_count": 227,
   "id": "9fe030bb",
   "metadata": {},
   "outputs": [
    {
     "data": {
      "application/vnd.microsoft.datawrangler.viewer.v0+json": {
       "columns": [
        {
         "name": "balls_left",
         "rawType": "float64",
         "type": "float"
        },
        {
         "name": "count",
         "rawType": "int64",
         "type": "integer"
        }
       ],
       "ref": "8128b601-2a7b-4816-8db7-111e8a73429e",
       "rows": [
        [
         "0.0",
         "26"
        ],
        [
         "3.0",
         "4"
        ],
        [
         "9.0",
         "4"
        ],
        [
         "13.0",
         "3"
        ],
        [
         "6.0",
         "3"
        ],
        [
         "8.0",
         "3"
        ],
        [
         "20.0",
         "2"
        ],
        [
         "22.0",
         "2"
        ],
        [
         "23.0",
         "2"
        ],
        [
         "15.0",
         "2"
        ],
        [
         "26.0",
         "2"
        ],
        [
         "10.0",
         "2"
        ],
        [
         "2.0",
         "2"
        ],
        [
         "4.0",
         "2"
        ],
        [
         "11.0",
         "2"
        ],
        [
         "24.0",
         "1"
        ],
        [
         "5.0",
         "1"
        ],
        [
         "43.0",
         "1"
        ],
        [
         "7.0",
         "1"
        ],
        [
         "29.0",
         "1"
        ],
        [
         "59.0",
         "1"
        ],
        [
         "114.0",
         "1"
        ],
        [
         "25.0",
         "1"
        ],
        [
         "17.0",
         "1"
        ],
        [
         "1.0",
         "1"
        ],
        [
         "60.0",
         "1"
        ]
       ],
       "shape": {
        "columns": 1,
        "rows": 26
       }
      },
      "text/plain": [
       "balls_left\n",
       "0.0      26\n",
       "3.0       4\n",
       "9.0       4\n",
       "13.0      3\n",
       "6.0       3\n",
       "8.0       3\n",
       "20.0      2\n",
       "22.0      2\n",
       "23.0      2\n",
       "15.0      2\n",
       "26.0      2\n",
       "10.0      2\n",
       "2.0       2\n",
       "4.0       2\n",
       "11.0      2\n",
       "24.0      1\n",
       "5.0       1\n",
       "43.0      1\n",
       "7.0       1\n",
       "29.0      1\n",
       "59.0      1\n",
       "114.0     1\n",
       "25.0      1\n",
       "17.0      1\n",
       "1.0       1\n",
       "60.0      1\n",
       "Name: count, dtype: int64"
      ]
     },
     "execution_count": 227,
     "metadata": {},
     "output_type": "execute_result"
    }
   ],
   "source": [
    "cricket_data['balls_left'].value_counts()\n"
   ]
  },
  {
   "cell_type": "code",
   "execution_count": 228,
   "id": "05044def",
   "metadata": {},
   "outputs": [
    {
     "data": {
      "application/vnd.microsoft.datawrangler.viewer.v0+json": {
       "columns": [
        {
         "name": "best_bowling",
         "rawType": "object",
         "type": "string"
        },
        {
         "name": "count",
         "rawType": "int64",
         "type": "integer"
        }
       ],
       "ref": "cdf69084-76ad-49f4-8c5a-8c0cb670ed82",
       "rows": [
        [
         "Prasidh Krishna",
         "5"
        ],
        [
         "Krunal Pandya",
         "4"
        ],
        [
         "Arshdeep Singh",
         "4"
        ],
        [
         "Josh Hazlewood",
         "3"
        ],
        [
         "Varun Chakravarthy",
         "3"
        ],
        [
         "Noor Ahmad",
         "3"
        ],
        [
         "Jasprit Bumrah",
         "3"
        ],
        [
         "Jofra Archer",
         "2"
        ],
        [
         "Mitchell Starc",
         "2"
        ],
        [
         "Sai Kishore",
         "2"
        ],
        [
         "Jaydev Unadkat",
         "2"
        ],
        [
         "Will O'Rourke",
         "2"
        ],
        [
         "Sunil Narine",
         "2"
        ],
        [
         "Mohammed Siraj",
         "2"
        ],
        [
         "Yuzvendra Chahal",
         "2"
        ],
        [
         "Karn Sharma",
         "2"
        ],
        [
         "Harshal Patel",
         "2"
        ],
        [
         "Pat Cummins",
         "2"
        ],
        [
         "Wanindu Hasranga",
         "1"
        ],
        [
         "Shardul Thakur",
         "1"
        ],
        [
         "Tushar Deshpande",
         "1"
        ],
        [
         "Lockie Ferguson",
         "1"
        ],
        [
         "Ashwani Kumar",
         "1"
        ],
        [
         "Harshit Rana",
         "1"
        ],
        [
         "Khaleel Ahmed",
         "1"
        ],
        [
         "Hardik Pandya",
         "1"
        ],
        [
         "Avesh Khan",
         "1"
        ],
        [
         "Ravi Bishnoi",
         "1"
        ],
        [
         "Kuldeep Yadav",
         "1"
        ],
        [
         "Trent Boult",
         "1"
        ],
        [
         "Bhuvneshwar Kumar",
         "1"
        ],
        [
         "Maheesh Theekshana",
         "1"
        ],
        [
         "Lungi Ngidi",
         "1"
        ],
        [
         "Mukesh Kumar",
         "1"
        ],
        [
         "Harpreet Brar",
         "1"
        ],
        [
         "Arshad Khan",
         "1"
        ],
        [
         "Akash Madhwal",
         "1"
        ],
        [
         "Eshan Malinga",
         "1"
        ],
        [
         "Mitchell Santner",
         "1"
        ],
        [
         "Mustafizur Rahman",
         "1"
        ],
        [
         "Suyash Sharma",
         "1"
        ],
        [
         "Azmatullah Omarzai",
         "1"
        ]
       ],
       "shape": {
        "columns": 1,
        "rows": 42
       }
      },
      "text/plain": [
       "best_bowling\n",
       "Prasidh Krishna       5\n",
       "Krunal Pandya         4\n",
       "Arshdeep Singh        4\n",
       "Josh Hazlewood        3\n",
       "Varun Chakravarthy    3\n",
       "Noor Ahmad            3\n",
       "Jasprit Bumrah        3\n",
       "Jofra Archer          2\n",
       "Mitchell Starc        2\n",
       "Sai Kishore           2\n",
       "Jaydev Unadkat        2\n",
       "Will O'Rourke         2\n",
       "Sunil Narine          2\n",
       "Mohammed Siraj        2\n",
       "Yuzvendra Chahal      2\n",
       "Karn Sharma           2\n",
       "Harshal Patel         2\n",
       "Pat Cummins           2\n",
       "Wanindu Hasranga      1\n",
       "Shardul Thakur        1\n",
       "Tushar Deshpande      1\n",
       "Lockie Ferguson       1\n",
       "Ashwani Kumar         1\n",
       "Harshit Rana          1\n",
       "Khaleel Ahmed         1\n",
       "Hardik Pandya         1\n",
       "Avesh Khan            1\n",
       "Ravi Bishnoi          1\n",
       "Kuldeep Yadav         1\n",
       "Trent Boult           1\n",
       "Bhuvneshwar Kumar     1\n",
       "Maheesh Theekshana    1\n",
       "Lungi Ngidi           1\n",
       "Mukesh Kumar          1\n",
       "Harpreet Brar         1\n",
       "Arshad Khan           1\n",
       "Akash Madhwal         1\n",
       "Eshan Malinga         1\n",
       "Mitchell Santner      1\n",
       "Mustafizur Rahman     1\n",
       "Suyash Sharma         1\n",
       "Azmatullah Omarzai    1\n",
       "Name: count, dtype: int64"
      ]
     },
     "execution_count": 228,
     "metadata": {},
     "output_type": "execute_result"
    }
   ],
   "source": [
    "cricket_data['best_bowling'].value_counts()"
   ]
  },
  {
   "cell_type": "code",
   "execution_count": 229,
   "id": "8b27b093",
   "metadata": {},
   "outputs": [
    {
     "data": {
      "application/vnd.microsoft.datawrangler.viewer.v0+json": {
       "columns": [
        {
         "name": "best_bowling_figure",
         "rawType": "object",
         "type": "string"
        },
        {
         "name": "count",
         "rawType": "int64",
         "type": "integer"
        }
       ],
       "ref": "25dfc2ba-a4d3-4a29-8771-e88e268548de",
       "rows": [
        [
         "2--25",
         "4"
        ],
        [
         "3--29",
         "3"
        ],
        [
         "3--30",
         "2"
        ],
        [
         "3--22",
         "2"
        ],
        [
         "3--21",
         "2"
        ],
        [
         "2--17",
         "2"
        ],
        [
         "2--18",
         "2"
        ],
        [
         "2--28",
         "2"
        ],
        [
         "4--33",
         "2"
        ],
        [
         "3--33",
         "2"
        ],
        [
         "3--36",
         "2"
        ],
        [
         "4--28",
         "2"
        ],
        [
         "2--32",
         "2"
        ],
        [
         "3--24",
         "2"
        ],
        [
         "3--19",
         "1"
        ],
        [
         "4--18",
         "1"
        ],
        [
         "3--44",
         "1"
        ],
        [
         "3--42",
         "1"
        ],
        [
         "4--35",
         "1"
        ],
        [
         "4--24",
         "1"
        ],
        [
         "4--34",
         "1"
        ],
        [
         "5--35",
         "1"
        ],
        [
         "2--40",
         "1"
        ],
        [
         "2--51",
         "1"
        ],
        [
         "4--45",
         "1"
        ],
        [
         "4--17",
         "1"
        ],
        [
         "3--25",
         "1"
        ],
        [
         "5--36",
         "1"
        ],
        [
         "3--43",
         "1"
        ],
        [
         "4--42",
         "1"
        ],
        [
         "1--29",
         "1"
        ],
        [
         "3--13",
         "1"
        ],
        [
         "4--41",
         "1"
        ],
        [
         "3--14",
         "1"
        ],
        [
         "3--37",
         "1"
        ],
        [
         "4--26",
         "1"
        ],
        [
         "4--22",
         "1"
        ],
        [
         "2--26",
         "1"
        ],
        [
         "2--35",
         "1"
        ],
        [
         "4--32",
         "1"
        ],
        [
         "3--35",
         "1"
        ],
        [
         "3--23",
         "1"
        ],
        [
         "3--16",
         "1"
        ],
        [
         "2--19",
         "1"
        ],
        [
         "4--31",
         "1"
        ],
        [
         "1--7",
         "1"
        ],
        [
         "3--11",
         "1"
        ],
        [
         "3--27",
         "1"
        ],
        [
         "3--28",
         "1"
        ],
        [
         "2--74",
         "1"
        ]
       ],
       "shape": {
        "columns": 1,
        "rows": 54
       }
      },
      "text/plain": [
       "best_bowling_figure\n",
       "2--25    4\n",
       "3--29    3\n",
       "3--30    2\n",
       "3--22    2\n",
       "3--21    2\n",
       "2--17    2\n",
       "2--18    2\n",
       "2--28    2\n",
       "4--33    2\n",
       "3--33    2\n",
       "3--36    2\n",
       "4--28    2\n",
       "2--32    2\n",
       "3--24    2\n",
       "3--19    1\n",
       "4--18    1\n",
       "3--44    1\n",
       "3--42    1\n",
       "4--35    1\n",
       "4--24    1\n",
       "4--34    1\n",
       "5--35    1\n",
       "2--40    1\n",
       "2--51    1\n",
       "4--45    1\n",
       "4--17    1\n",
       "3--25    1\n",
       "5--36    1\n",
       "3--43    1\n",
       "4--42    1\n",
       "1--29    1\n",
       "3--13    1\n",
       "4--41    1\n",
       "3--14    1\n",
       "3--37    1\n",
       "4--26    1\n",
       "4--22    1\n",
       "2--26    1\n",
       "2--35    1\n",
       "4--32    1\n",
       "3--35    1\n",
       "3--23    1\n",
       "3--16    1\n",
       "2--19    1\n",
       "4--31    1\n",
       "1--7     1\n",
       "3--11    1\n",
       "3--27    1\n",
       "3--28    1\n",
       "2--74    1\n",
       "3--17    1\n",
       "2--42    1\n",
       "2--43    1\n",
       "3--40    1\n",
       "Name: count, dtype: int64"
      ]
     },
     "execution_count": 229,
     "metadata": {},
     "output_type": "execute_result"
    }
   ],
   "source": [
    "cricket_data['best_bowling_figure'].value_counts()"
   ]
  },
  {
   "cell_type": "markdown",
   "id": "7683d7f5",
   "metadata": {},
   "source": [
    "Now split this columns into to two columns \n",
    "---> best_bowling_wickets \n",
    "---> best_bowling_runs "
   ]
  },
  {
   "cell_type": "code",
   "execution_count": 272,
   "id": "e42a1a49",
   "metadata": {},
   "outputs": [],
   "source": [
    "cricket_data[['best_bowling_wickets1','best_bowling_runs']] = cricket_data['best_bowling_figure'].str.split('--',expand=True)\n"
   ]
  },
  {
   "cell_type": "code",
   "execution_count": 251,
   "id": "134332ba",
   "metadata": {},
   "outputs": [
    {
     "data": {
      "application/vnd.microsoft.datawrangler.viewer.v0+json": {
       "columns": [
        {
         "name": "best_bowling_wickets",
         "rawType": "object",
         "type": "string"
        },
        {
         "name": "count",
         "rawType": "int64",
         "type": "integer"
        }
       ],
       "ref": "3c942d28-cd50-4a2a-ac6f-d5586f39c7d0",
       "rows": [
        [
         "3",
         "31"
        ],
        [
         "2",
         "20"
        ],
        [
         "4",
         "16"
        ],
        [
         "5",
         "2"
        ],
        [
         "1",
         "2"
        ]
       ],
       "shape": {
        "columns": 1,
        "rows": 5
       }
      },
      "text/plain": [
       "best_bowling_wickets\n",
       "3    31\n",
       "2    20\n",
       "4    16\n",
       "5     2\n",
       "1     2\n",
       "Name: count, dtype: int64"
      ]
     },
     "execution_count": 251,
     "metadata": {},
     "output_type": "execute_result"
    }
   ],
   "source": [
    "cricket_data['best_bowling_wickets'].value_counts()"
   ]
  },
  {
   "cell_type": "code",
   "execution_count": 232,
   "id": "a02e408b",
   "metadata": {},
   "outputs": [
    {
     "data": {
      "application/vnd.microsoft.datawrangler.viewer.v0+json": {
       "columns": [
        {
         "name": "best_bowling_wickets",
         "rawType": "object",
         "type": "string"
        },
        {
         "name": "count",
         "rawType": "int64",
         "type": "integer"
        }
       ],
       "ref": "f5a8e881-c177-456a-a798-7c7083c796f7",
       "rows": [
        [
         "3",
         "31"
        ],
        [
         "2",
         "20"
        ],
        [
         "4",
         "16"
        ],
        [
         "5",
         "2"
        ],
        [
         "1",
         "2"
        ]
       ],
       "shape": {
        "columns": 1,
        "rows": 5
       }
      },
      "text/plain": [
       "best_bowling_wickets\n",
       "3    31\n",
       "2    20\n",
       "4    16\n",
       "5     2\n",
       "1     2\n",
       "Name: count, dtype: int64"
      ]
     },
     "execution_count": 232,
     "metadata": {},
     "output_type": "execute_result"
    }
   ],
   "source": [
    "cricket_data['best_bowling_wickets'].value_counts()"
   ]
  },
  {
   "cell_type": "code",
   "execution_count": 264,
   "id": "eb678f0b",
   "metadata": {},
   "outputs": [],
   "source": [
    "split_data = cricket_data['best_bowling_figure'].str.split('-',expand=True)"
   ]
  },
  {
   "cell_type": "code",
   "execution_count": 269,
   "id": "64837ea9",
   "metadata": {},
   "outputs": [],
   "source": [
    "cricket_data['best_bowling_wickets'] = pd.to_numeric(split_data[0],errors='coerce')\n",
    "cricket_data['best_bowling_runs'] = pd.to_numeric(split_data[1],errors='coerce')\n",
    "\n"
   ]
  },
  {
   "cell_type": "code",
   "execution_count": 257,
   "id": "064e7681",
   "metadata": {},
   "outputs": [],
   "source": [
    "cricket_data['best_bowling_wickets'] = cricket_data['best_bowling_wickets'].fillna(cricket_data['best_bowling_wickets'].median())"
   ]
  },
  {
   "cell_type": "code",
   "execution_count": 258,
   "id": "b34b94ac",
   "metadata": {},
   "outputs": [
    {
     "name": "stderr",
     "output_type": "stream",
     "text": [
      "C:\\Users\\ragha\\AppData\\Local\\Packages\\PythonSoftwareFoundation.Python.3.11_qbz5n2kfra8p0\\LocalCache\\local-packages\\Python311\\site-packages\\numpy\\lib\\_nanfunctions_impl.py:1215: RuntimeWarning: Mean of empty slice\n",
      "  return np.nanmean(a, axis, out=out, keepdims=keepdims)\n"
     ]
    }
   ],
   "source": [
    "cricket_data['best_bowling_runs'] = cricket_data['best_bowling_runs'].fillna(cricket_data['best_bowling_runs'].median())"
   ]
  },
  {
   "cell_type": "code",
   "execution_count": 260,
   "id": "0850156b",
   "metadata": {},
   "outputs": [
    {
     "data": {
      "application/vnd.microsoft.datawrangler.viewer.v0+json": {
       "columns": [
        {
         "name": "best_bowling_wickets",
         "rawType": "float64",
         "type": "float"
        },
        {
         "name": "count",
         "rawType": "int64",
         "type": "integer"
        }
       ],
       "ref": "c156d9df-4840-4870-9ec2-1087e9e561ab",
       "rows": [
        [
         "3.0",
         "34"
        ],
        [
         "2.0",
         "20"
        ],
        [
         "4.0",
         "16"
        ],
        [
         "5.0",
         "2"
        ],
        [
         "1.0",
         "2"
        ]
       ],
       "shape": {
        "columns": 1,
        "rows": 5
       }
      },
      "text/plain": [
       "best_bowling_wickets\n",
       "3.0    34\n",
       "2.0    20\n",
       "4.0    16\n",
       "5.0     2\n",
       "1.0     2\n",
       "Name: count, dtype: int64"
      ]
     },
     "execution_count": 260,
     "metadata": {},
     "output_type": "execute_result"
    }
   ],
   "source": [
    "cricket_data['best_bowling_wickets'].value_counts()"
   ]
  },
  {
   "cell_type": "code",
   "execution_count": 273,
   "id": "0a886d97",
   "metadata": {},
   "outputs": [
    {
     "data": {
      "application/vnd.microsoft.datawrangler.viewer.v0+json": {
       "columns": [
        {
         "name": "best_bowling_runs",
         "rawType": "object",
         "type": "string"
        },
        {
         "name": "count",
         "rawType": "int64",
         "type": "integer"
        }
       ],
       "ref": "2d42fd6a-f16e-4bcf-bd66-879faac28953",
       "rows": [
        [
         "25",
         "5"
        ],
        [
         "28",
         "5"
        ],
        [
         "29",
         "4"
        ],
        [
         "17",
         "4"
        ],
        [
         "35",
         "4"
        ],
        [
         "33",
         "4"
        ],
        [
         "36",
         "3"
        ],
        [
         "22",
         "3"
        ],
        [
         "18",
         "3"
        ],
        [
         "24",
         "3"
        ],
        [
         "32",
         "3"
        ],
        [
         "42",
         "3"
        ],
        [
         "19",
         "2"
        ],
        [
         "26",
         "2"
        ],
        [
         "43",
         "2"
        ],
        [
         "30",
         "2"
        ],
        [
         "21",
         "2"
        ],
        [
         "40",
         "2"
        ],
        [
         "45",
         "1"
        ],
        [
         "44",
         "1"
        ],
        [
         "34",
         "1"
        ],
        [
         "51",
         "1"
        ],
        [
         "13",
         "1"
        ],
        [
         "41",
         "1"
        ],
        [
         "14",
         "1"
        ],
        [
         "37",
         "1"
        ],
        [
         "23",
         "1"
        ],
        [
         "16",
         "1"
        ],
        [
         "31",
         "1"
        ],
        [
         "7",
         "1"
        ],
        [
         "11",
         "1"
        ],
        [
         "27",
         "1"
        ],
        [
         "74",
         "1"
        ]
       ],
       "shape": {
        "columns": 1,
        "rows": 33
       }
      },
      "text/plain": [
       "best_bowling_runs\n",
       "25    5\n",
       "28    5\n",
       "29    4\n",
       "17    4\n",
       "35    4\n",
       "33    4\n",
       "36    3\n",
       "22    3\n",
       "18    3\n",
       "24    3\n",
       "32    3\n",
       "42    3\n",
       "19    2\n",
       "26    2\n",
       "43    2\n",
       "30    2\n",
       "21    2\n",
       "40    2\n",
       "45    1\n",
       "44    1\n",
       "34    1\n",
       "51    1\n",
       "13    1\n",
       "41    1\n",
       "14    1\n",
       "37    1\n",
       "23    1\n",
       "16    1\n",
       "31    1\n",
       "7     1\n",
       "11    1\n",
       "27    1\n",
       "74    1\n",
       "Name: count, dtype: int64"
      ]
     },
     "execution_count": 273,
     "metadata": {},
     "output_type": "execute_result"
    }
   ],
   "source": [
    "cricket_data['best_bowling_runs'].value_counts()"
   ]
  },
  {
   "cell_type": "code",
   "execution_count": 275,
   "id": "bfc620c4",
   "metadata": {},
   "outputs": [
    {
     "data": {
      "application/vnd.microsoft.datawrangler.viewer.v0+json": {
       "columns": [
        {
         "name": "index",
         "rawType": "int64",
         "type": "integer"
        },
        {
         "name": "best_bowling_figure",
         "rawType": "object",
         "type": "unknown"
        }
       ],
       "ref": "a5bf5384-098d-44f5-979c-8640090f2a05",
       "rows": [
        [
         "0",
         "3--29"
        ],
        [
         "1",
         "3--44"
        ],
        [
         "2",
         "4--18"
        ],
        [
         "3",
         "3--42"
        ],
        [
         "4",
         "3--30"
        ],
        [
         "5",
         "2--17"
        ],
        [
         "6",
         "4--34"
        ],
        [
         "7",
         "3--21"
        ],
        [
         "8",
         "2--18"
        ],
        [
         "9",
         "5--35"
        ],
        [
         "10",
         "4--35"
        ],
        [
         "11",
         "4--24"
        ],
        [
         "12",
         "3--43"
        ],
        [
         "13",
         "3--19"
        ],
        [
         "14",
         "3--22"
        ],
        [
         "15",
         "5--36"
        ],
        [
         "16",
         "2--25"
        ],
        [
         "17",
         "3--25"
        ],
        [
         "18",
         "4--17"
        ],
        [
         "19",
         "4--45"
        ],
        [
         "20",
         "2--51"
        ],
        [
         "21",
         "2--40"
        ],
        [
         "22",
         "3--24"
        ],
        [
         "23",
         "2--17"
        ],
        [
         "24",
         "3--13"
        ],
        [
         "25",
         "2--26"
        ],
        [
         "26",
         "4--42"
        ],
        [
         "27",
         "1--29"
        ],
        [
         "28",
         "3--36"
        ],
        [
         "29",
         "2--18"
        ],
        [
         "30",
         "4--28"
        ],
        [
         "31",
         "2--32"
        ],
        [
         "32",
         "3--36"
        ],
        [
         "33",
         "3--14"
        ],
        [
         "34",
         "4--41"
        ],
        [
         "35",
         "3--37"
        ],
        [
         "36",
         "2--25"
        ],
        [
         "37",
         "2--25"
        ],
        [
         "38",
         "2--25"
        ],
        [
         "39",
         "4--33"
        ],
        [
         "40",
         "4--26"
        ],
        [
         "41",
         "4--33"
        ],
        [
         "42",
         "4--28"
        ],
        [
         "43",
         null
        ],
        [
         "44",
         "4--22"
        ],
        [
         "45",
         "3--33"
        ],
        [
         "46",
         "2--35"
        ],
        [
         "47",
         "3--29"
        ],
        [
         "48",
         "4--32"
        ],
        [
         "49",
         "3--23"
        ]
       ],
       "shape": {
        "columns": 1,
        "rows": 74
       }
      },
      "text/plain": [
       "0     3--29\n",
       "1     3--44\n",
       "2     4--18\n",
       "3     3--42\n",
       "4     3--30\n",
       "      ...  \n",
       "69    2--74\n",
       "70    3--17\n",
       "71    2--42\n",
       "72    2--43\n",
       "73    3--40\n",
       "Name: best_bowling_figure, Length: 74, dtype: object"
      ]
     },
     "execution_count": 275,
     "metadata": {},
     "output_type": "execute_result"
    }
   ],
   "source": [
    "cricket_data['best_bowling_figure']"
   ]
  },
  {
   "cell_type": "markdown",
   "id": "dfff6c85",
   "metadata": {},
   "source": [
    "Change the columns name "
   ]
  },
  {
   "cell_type": "code",
   "execution_count": 240,
   "id": "c0a9ea0d",
   "metadata": {},
   "outputs": [],
   "source": [
    "cricket_data.rename(columns={'first_ings_score':'first_innings_score'} , inplace=True)"
   ]
  },
  {
   "cell_type": "code",
   "execution_count": 241,
   "id": "913d2286",
   "metadata": {},
   "outputs": [
    {
     "data": {
      "application/vnd.microsoft.datawrangler.viewer.v0+json": {
       "columns": [
        {
         "name": "index",
         "rawType": "int64",
         "type": "integer"
        },
        {
         "name": "first_ings_wkts",
         "rawType": "float64",
         "type": "float"
        }
       ],
       "ref": "3cefa32e-626e-4709-abab-b4c1308d62ed",
       "rows": [
        [
         "0",
         "8.0"
        ],
        [
         "1",
         "6.0"
        ],
        [
         "2",
         "9.0"
        ],
        [
         "3",
         "8.0"
        ],
        [
         "4",
         "5.0"
        ],
        [
         "5",
         "9.0"
        ],
        [
         "6",
         "9.0"
        ],
        [
         "7",
         "7.0"
        ],
        [
         "8",
         "8.0"
        ],
        [
         "9",
         "10.0"
        ],
        [
         "10",
         "9.0"
        ],
        [
         "11",
         "10.0"
        ],
        [
         "12",
         "7.0"
        ],
        [
         "13",
         "8.0"
        ],
        [
         "14",
         "6.0"
        ],
        [
         "15",
         "8.0"
        ],
        [
         "16",
         "6.0"
        ],
        [
         "17",
         "4.0"
        ],
        [
         "18",
         "8.0"
        ],
        [
         "19",
         "5.0"
        ],
        [
         "20",
         "3.0"
        ],
        [
         "21",
         "6.0"
        ],
        [
         "22",
         "6.0"
        ],
        [
         "23",
         "7.0"
        ],
        [
         "24",
         "9.0"
        ],
        [
         "25",
         "6.0"
        ],
        [
         "26",
         "6.0"
        ],
        [
         "27",
         "4.0"
        ],
        [
         "28",
         "5.0"
        ],
        [
         "29",
         "7.0"
        ],
        [
         "30",
         "10.0"
        ],
        [
         "31",
         "5.0"
        ],
        [
         "32",
         "5.0"
        ],
        [
         "33",
         "9.0"
        ],
        [
         "34",
         "8.0"
        ],
        [
         "35",
         "5.0"
        ],
        [
         "36",
         "6.0"
        ],
        [
         "37",
         "5.0"
        ],
        [
         "38",
         "3.0"
        ],
        [
         "39",
         "6.0"
        ],
        [
         "40",
         "8.0"
        ],
        [
         "41",
         "5.0"
        ],
        [
         "42",
         "10.0"
        ],
        [
         "43",
         "4.0"
        ],
        [
         "44",
         "7.0"
        ],
        [
         "45",
         "8.0"
        ],
        [
         "46",
         "4.0"
        ],
        [
         "47",
         "9.0"
        ],
        [
         "48",
         "10.0"
        ],
        [
         "49",
         "2.0"
        ]
       ],
       "shape": {
        "columns": 1,
        "rows": 74
       }
      },
      "text/plain": [
       "0      8.0\n",
       "1      6.0\n",
       "2      9.0\n",
       "3      8.0\n",
       "4      5.0\n",
       "      ... \n",
       "69     3.0\n",
       "70    10.0\n",
       "71     5.0\n",
       "72     6.0\n",
       "73     9.0\n",
       "Name: first_ings_wkts, Length: 74, dtype: float64"
      ]
     },
     "execution_count": 241,
     "metadata": {},
     "output_type": "execute_result"
    }
   ],
   "source": [
    "cricket_data['first_ings_wkts']"
   ]
  },
  {
   "cell_type": "code",
   "execution_count": 245,
   "id": "ef13c368",
   "metadata": {},
   "outputs": [],
   "source": [
    "cricket_data.rename(columns={'first_ings_wkts':'first_innings_wickets'} , inplace=True)"
   ]
  },
  {
   "cell_type": "code",
   "execution_count": 247,
   "id": "212e02b1",
   "metadata": {},
   "outputs": [
    {
     "data": {
      "application/vnd.microsoft.datawrangler.viewer.v0+json": {
       "columns": [
        {
         "name": "balls_left",
         "rawType": "float64",
         "type": "float"
        },
        {
         "name": "count",
         "rawType": "int64",
         "type": "integer"
        }
       ],
       "ref": "6336b879-3e75-4fcd-bc33-5e310d7db0f5",
       "rows": [
        [
         "0.0",
         "26"
        ],
        [
         "3.0",
         "4"
        ],
        [
         "9.0",
         "4"
        ],
        [
         "13.0",
         "3"
        ],
        [
         "6.0",
         "3"
        ],
        [
         "8.0",
         "3"
        ],
        [
         "20.0",
         "2"
        ],
        [
         "22.0",
         "2"
        ],
        [
         "23.0",
         "2"
        ],
        [
         "15.0",
         "2"
        ],
        [
         "26.0",
         "2"
        ],
        [
         "10.0",
         "2"
        ],
        [
         "2.0",
         "2"
        ],
        [
         "4.0",
         "2"
        ],
        [
         "11.0",
         "2"
        ],
        [
         "24.0",
         "1"
        ],
        [
         "5.0",
         "1"
        ],
        [
         "43.0",
         "1"
        ],
        [
         "7.0",
         "1"
        ],
        [
         "29.0",
         "1"
        ],
        [
         "59.0",
         "1"
        ],
        [
         "114.0",
         "1"
        ],
        [
         "25.0",
         "1"
        ],
        [
         "17.0",
         "1"
        ],
        [
         "1.0",
         "1"
        ],
        [
         "60.0",
         "1"
        ]
       ],
       "shape": {
        "columns": 1,
        "rows": 26
       }
      },
      "text/plain": [
       "balls_left\n",
       "0.0      26\n",
       "3.0       4\n",
       "9.0       4\n",
       "13.0      3\n",
       "6.0       3\n",
       "8.0       3\n",
       "20.0      2\n",
       "22.0      2\n",
       "23.0      2\n",
       "15.0      2\n",
       "26.0      2\n",
       "10.0      2\n",
       "2.0       2\n",
       "4.0       2\n",
       "11.0      2\n",
       "24.0      1\n",
       "5.0       1\n",
       "43.0      1\n",
       "7.0       1\n",
       "29.0      1\n",
       "59.0      1\n",
       "114.0     1\n",
       "25.0      1\n",
       "17.0      1\n",
       "1.0       1\n",
       "60.0      1\n",
       "Name: count, dtype: int64"
      ]
     },
     "execution_count": 247,
     "metadata": {},
     "output_type": "execute_result"
    }
   ],
   "source": [
    "cricket_data['balls_left'].value_counts()"
   ]
  },
  {
   "cell_type": "code",
   "execution_count": 278,
   "id": "a09bf5f6",
   "metadata": {},
   "outputs": [
    {
     "data": {
      "text/plain": [
       "numpy.float64"
      ]
     },
     "execution_count": 278,
     "metadata": {},
     "output_type": "execute_result"
    }
   ],
   "source": [
    "type(cricket_data['highscore'][0])"
   ]
  },
  {
   "cell_type": "code",
   "execution_count": 281,
   "id": "469b8be2",
   "metadata": {},
   "outputs": [
    {
     "data": {
      "application/vnd.microsoft.datawrangler.viewer.v0+json": {
       "columns": [
        {
         "name": "player_of_the_match",
         "rawType": "object",
         "type": "string"
        },
        {
         "name": "count",
         "rawType": "int64",
         "type": "integer"
        }
       ],
       "ref": "5b8ce7dc-1be8-45f9-97e9-11d244856eaf",
       "rows": [
        [
         "Krunal Pandya",
         "3"
        ],
        [
         "Shreyas Iyer",
         "3"
        ],
        [
         "Ishan Kishan",
         "2"
        ],
        [
         "Noor Ahmad",
         "2"
        ],
        [
         "Prasidh Krishna",
         "2"
        ],
        [
         "KL Rahul",
         "2"
        ],
        [
         "Rajat Patidar",
         "2"
        ],
        [
         "Prabhsimran Singh",
         "2"
        ],
        [
         "Mitchell Starc",
         "2"
        ],
        [
         "Mohammed Siraj",
         "2"
        ],
        [
         "Sai Sudarshan",
         "2"
        ],
        [
         "Abhishek Sharma",
         "2"
        ],
        [
         "Sunil Narine",
         "2"
        ],
        [
         "Shubman Gill",
         "2"
        ],
        [
         "Will Jacks",
         "2"
        ],
        [
         "Rohit Sharma",
         "2"
        ],
        [
         "Shardul Thakur",
         "1"
        ],
        [
         "Ashwani Kumar",
         "1"
        ],
        [
         "Nitish Rana",
         "1"
        ],
        [
         "Ashutosh Sharma",
         "1"
        ],
        [
         "Quinton de Kock",
         "1"
        ],
        [
         "Priyansh Arya",
         "1"
        ],
        [
         "Nicholas Pooran",
         "1"
        ],
        [
         "Jofra Archer",
         "1"
        ],
        [
         "Digvesh Singh",
         "1"
        ],
        [
         "Vaibhav Arora",
         "1"
        ],
        [
         "Karn Sharma",
         "1"
        ],
        [
         "Phil Salt",
         "1"
        ],
        [
         "Aiden Markram",
         "1"
        ],
        [
         "Yuzvendra Chahal",
         "1"
        ],
        [
         "MS Dhoni",
         "1"
        ],
        [
         "Tim David",
         "1"
        ],
        [
         "Jos Buttler",
         "1"
        ],
        [
         "Virat Kohli",
         "1"
        ],
        [
         "Avesh Khan",
         "1"
        ],
        [
         "Mukesh Kumar",
         "1"
        ],
        [
         "Trent Boult",
         "1"
        ],
        [
         "Josh Hazlewood",
         "1"
        ],
        [
         "Harshal Patel",
         "1"
        ],
        [
         "Vaibhav Suryavanshi",
         "1"
        ],
        [
         "Ryan Rickelton",
         "1"
        ],
        [
         "Romario Shepherd",
         "1"
        ],
        [
         "Andre Russell",
         "1"
        ],
        [
         "Harpreet Brar",
         "1"
        ],
        [
         "Akash Madhwal",
         "1"
        ],
        [
         "Suryakumar Yadav",
         "1"
        ],
        [
         "Mitchell Marsh",
         "1"
        ],
        [
         "Sameer Rizvi",
         "1"
        ],
        [
         "Dewald Brevis",
         "1"
        ],
        [
         "Heinrich Klassen",
         "1"
        ]
       ],
       "shape": {
        "columns": 1,
        "rows": 53
       }
      },
      "text/plain": [
       "player_of_the_match\n",
       "Krunal Pandya          3\n",
       "Shreyas Iyer           3\n",
       "Ishan Kishan           2\n",
       "Noor Ahmad             2\n",
       "Prasidh Krishna        2\n",
       "KL Rahul               2\n",
       "Rajat Patidar          2\n",
       "Prabhsimran Singh      2\n",
       "Mitchell Starc         2\n",
       "Mohammed Siraj         2\n",
       "Sai Sudarshan          2\n",
       "Abhishek Sharma        2\n",
       "Sunil Narine           2\n",
       "Shubman Gill           2\n",
       "Will Jacks             2\n",
       "Rohit Sharma           2\n",
       "Shardul Thakur         1\n",
       "Ashwani Kumar          1\n",
       "Nitish Rana            1\n",
       "Ashutosh Sharma        1\n",
       "Quinton de Kock        1\n",
       "Priyansh Arya          1\n",
       "Nicholas Pooran        1\n",
       "Jofra Archer           1\n",
       "Digvesh Singh          1\n",
       "Vaibhav Arora          1\n",
       "Karn Sharma            1\n",
       "Phil Salt              1\n",
       "Aiden Markram          1\n",
       "Yuzvendra Chahal       1\n",
       "MS Dhoni               1\n",
       "Tim David              1\n",
       "Jos Buttler            1\n",
       "Virat Kohli            1\n",
       "Avesh Khan             1\n",
       "Mukesh Kumar           1\n",
       "Trent Boult            1\n",
       "Josh Hazlewood         1\n",
       "Harshal Patel          1\n",
       "Vaibhav Suryavanshi    1\n",
       "Ryan Rickelton         1\n",
       "Romario Shepherd       1\n",
       "Andre Russell          1\n",
       "Harpreet Brar          1\n",
       "Akash Madhwal          1\n",
       "Suryakumar Yadav       1\n",
       "Mitchell Marsh         1\n",
       "Sameer Rizvi           1\n",
       "Dewald Brevis          1\n",
       "Heinrich Klassen       1\n",
       "Josh Inglis            1\n",
       "Jitesh Sharma          1\n",
       "Suyash Sharma          1\n",
       "Name: count, dtype: int64"
      ]
     },
     "execution_count": 281,
     "metadata": {},
     "output_type": "execute_result"
    }
   ],
   "source": [
    "cricket_data['player_of_the_match'].value_counts()"
   ]
  },
  {
   "cell_type": "code",
   "execution_count": 282,
   "id": "0181fe55",
   "metadata": {},
   "outputs": [
    {
     "data": {
      "application/vnd.microsoft.datawrangler.viewer.v0+json": {
       "columns": [
        {
         "name": "index",
         "rawType": "int64",
         "type": "integer"
        },
        {
         "name": "second_ings_score",
         "rawType": "float64",
         "type": "float"
        }
       ],
       "ref": "60387ea7-114c-4c22-ac03-2e9bc5aa7c53",
       "rows": [
        [
         "0",
         "177.0"
        ],
        [
         "1",
         "242.0"
        ],
        [
         "2",
         "158.0"
        ],
        [
         "3",
         "211.0"
        ],
        [
         "4",
         "232.0"
        ],
        [
         "5",
         "153.0"
        ],
        [
         "6",
         "193.0"
        ],
        [
         "7",
         "146.0"
        ],
        [
         "8",
         "160.0"
        ],
        [
         "9",
         "166.0"
        ],
        [
         "10",
         "176.0"
        ],
        [
         "11",
         "121.0"
        ],
        [
         "12",
         "177.0"
        ],
        [
         "13",
         "170.0"
        ],
        [
         "14",
         "120.0"
        ],
        [
         "15",
         "191.0"
        ],
        [
         "16",
         "158.0"
        ],
        [
         "17",
         "155.0"
        ],
        [
         "18",
         "153.0"
        ],
        [
         "19",
         "209.0"
        ],
        [
         "20",
         "234.0"
        ],
        [
         "21",
         "201.0"
        ],
        [
         "22",
         "159.0"
        ],
        [
         "23",
         "169.0"
        ],
        [
         "24",
         "107.0"
        ],
        [
         "25",
         "186.0"
        ],
        [
         "26",
         "247.0"
        ],
        [
         "27",
         "175.0"
        ],
        [
         "28",
         "193.0"
        ],
        [
         "29",
         "168.0"
        ],
        [
         "30",
         "95.0"
        ],
        [
         "31",
         "188.0"
        ],
        [
         "32",
         "166.0"
        ],
        [
         "33",
         "98.0"
        ],
        [
         "34",
         "204.0"
        ],
        [
         "35",
         "178.0"
        ],
        [
         "36",
         "159.0"
        ],
        [
         "37",
         "177.0"
        ],
        [
         "38",
         "159.0"
        ],
        [
         "39",
         "161.0"
        ],
        [
         "40",
         "146.0"
        ],
        [
         "41",
         "194.0"
        ],
        [
         "42",
         "155.0"
        ],
        [
         "43",
         "7.0"
        ],
        [
         "44",
         "161.0"
        ],
        [
         "45",
         "165.0"
        ],
        [
         "46",
         "212.0"
        ],
        [
         "47",
         "190.0"
        ],
        [
         "48",
         "194.0"
        ],
        [
         "49",
         "117.0"
        ]
       ],
       "shape": {
        "columns": 1,
        "rows": 74
       }
      },
      "text/plain": [
       "0     177.0\n",
       "1     242.0\n",
       "2     158.0\n",
       "3     211.0\n",
       "4     232.0\n",
       "      ...  \n",
       "69    230.0\n",
       "70    106.0\n",
       "71    208.0\n",
       "72    207.0\n",
       "73    184.0\n",
       "Name: second_ings_score, Length: 74, dtype: float64"
      ]
     },
     "execution_count": 282,
     "metadata": {},
     "output_type": "execute_result"
    }
   ],
   "source": [
    "cricket_data['second_ings_score']"
   ]
  },
  {
   "cell_type": "code",
   "execution_count": 285,
   "id": "36fc0fa4",
   "metadata": {},
   "outputs": [],
   "source": [
    "cricket_data.rename(columns={'second_ings_score':'second_innings_score'} , inplace=True)"
   ]
  },
  {
   "cell_type": "code",
   "execution_count": 286,
   "id": "bf3a02d5",
   "metadata": {},
   "outputs": [
    {
     "data": {
      "application/vnd.microsoft.datawrangler.viewer.v0+json": {
       "columns": [
        {
         "name": "index",
         "rawType": "int64",
         "type": "integer"
        },
        {
         "name": "second_ings_wkts",
         "rawType": "float64",
         "type": "float"
        }
       ],
       "ref": "ba75f19f-aed0-4dc9-902f-e356afad4734",
       "rows": [
        [
         "0",
         "3.0"
        ],
        [
         "1",
         "6.0"
        ],
        [
         "2",
         "6.0"
        ],
        [
         "3",
         "9.0"
        ],
        [
         "4",
         "5.0"
        ],
        [
         "5",
         "2.0"
        ],
        [
         "6",
         "5.0"
        ],
        [
         "7",
         "8.0"
        ],
        [
         "8",
         "6.0"
        ],
        [
         "9",
         "3.0"
        ],
        [
         "10",
         "6.0"
        ],
        [
         "11",
         "2.0"
        ],
        [
         "12",
         "2.0"
        ],
        [
         "13",
         "2.0"
        ],
        [
         "14",
         "10.0"
        ],
        [
         "15",
         "5.0"
        ],
        [
         "16",
         "5.0"
        ],
        [
         "17",
         "9.0"
        ],
        [
         "18",
         "3.0"
        ],
        [
         "19",
         "9.0"
        ],
        [
         "20",
         "7.0"
        ],
        [
         "21",
         "5.0"
        ],
        [
         "22",
         "10.0"
        ],
        [
         "23",
         "4.0"
        ],
        [
         "24",
         "2.0"
        ],
        [
         "25",
         "4.0"
        ],
        [
         "26",
         "2.0"
        ],
        [
         "27",
         "1.0"
        ],
        [
         "28",
         "10.0"
        ],
        [
         "29",
         "5.0"
        ],
        [
         "30",
         "10.0"
        ],
        [
         "31",
         "4.0"
        ],
        [
         "32",
         "6.0"
        ],
        [
         "33",
         "5.0"
        ],
        [
         "34",
         "3.0"
        ],
        [
         "35",
         "5.0"
        ],
        [
         "36",
         "3.0"
        ],
        [
         "37",
         "1.0"
        ],
        [
         "38",
         "8.0"
        ],
        [
         "39",
         "2.0"
        ],
        [
         "40",
         "3.0"
        ],
        [
         "41",
         "9.0"
        ],
        [
         "42",
         "5.0"
        ],
        [
         "43",
         "0.0"
        ],
        [
         "44",
         "10.0"
        ],
        [
         "45",
         "4.0"
        ],
        [
         "46",
         "2.0"
        ],
        [
         "47",
         "9.0"
        ],
        [
         "48",
         "6.0"
        ],
        [
         "49",
         "10.0"
        ]
       ],
       "shape": {
        "columns": 1,
        "rows": 74
       }
      },
      "text/plain": [
       "0     3.0\n",
       "1     6.0\n",
       "2     6.0\n",
       "3     9.0\n",
       "4     5.0\n",
       "     ... \n",
       "69    4.0\n",
       "70    2.0\n",
       "71    6.0\n",
       "72    5.0\n",
       "73    7.0\n",
       "Name: second_ings_wkts, Length: 74, dtype: float64"
      ]
     },
     "execution_count": 286,
     "metadata": {},
     "output_type": "execute_result"
    }
   ],
   "source": [
    "cricket_data['second_ings_wkts']"
   ]
  },
  {
   "cell_type": "code",
   "execution_count": 288,
   "id": "3562ea38",
   "metadata": {},
   "outputs": [],
   "source": [
    "cricket_data.rename(columns={'second_ings_wkts': 'second_innings_wickets'},inplace=True)"
   ]
  },
  {
   "cell_type": "code",
   "execution_count": 289,
   "id": "36469240",
   "metadata": {},
   "outputs": [
    {
     "data": {
      "application/vnd.microsoft.datawrangler.viewer.v0+json": {
       "columns": [
        {
         "name": "stage",
         "rawType": "object",
         "type": "string"
        },
        {
         "name": "count",
         "rawType": "int64",
         "type": "integer"
        }
       ],
       "ref": "a7bb9b89-6e82-4d61-8f27-348c6884b964",
       "rows": [
        [
         "League",
         "70"
        ],
        [
         "Playoffs",
         "3"
        ],
        [
         "Final",
         "1"
        ]
       ],
       "shape": {
        "columns": 1,
        "rows": 3
       }
      },
      "text/plain": [
       "stage\n",
       "League      70\n",
       "Playoffs     3\n",
       "Final        1\n",
       "Name: count, dtype: int64"
      ]
     },
     "execution_count": 289,
     "metadata": {},
     "output_type": "execute_result"
    }
   ],
   "source": [
    "cricket_data['stage'].value_counts()"
   ]
  },
  {
   "cell_type": "code",
   "execution_count": 290,
   "id": "772361b0",
   "metadata": {},
   "outputs": [
    {
     "data": {
      "application/vnd.microsoft.datawrangler.viewer.v0+json": {
       "columns": [
        {
         "name": "index",
         "rawType": "int64",
         "type": "integer"
        },
        {
         "name": "team1",
         "rawType": "object",
         "type": "string"
        }
       ],
       "ref": "5c7e77f9-6637-4d2f-98a0-f3627acce514",
       "rows": [
        [
         "0",
         "KKR"
        ],
        [
         "1",
         "SRH"
        ],
        [
         "2",
         "CSK"
        ],
        [
         "3",
         "DC"
        ],
        [
         "4",
         "GT"
        ],
        [
         "5",
         "RR"
        ],
        [
         "6",
         "SRH"
        ],
        [
         "7",
         "CSK"
        ],
        [
         "8",
         "GT"
        ],
        [
         "9",
         "DC"
        ],
        [
         "10",
         "RR"
        ],
        [
         "11",
         "MI"
        ],
        [
         "12",
         "LSG"
        ],
        [
         "13",
         "RCB"
        ],
        [
         "14",
         "KKR"
        ],
        [
         "15",
         "LSG"
        ],
        [
         "16",
         "CSK"
        ],
        [
         "17",
         "PBKS"
        ],
        [
         "18",
         "SRH"
        ],
        [
         "19",
         "MI"
        ],
        [
         "20",
         "KKR"
        ],
        [
         "21",
         "PBKS"
        ],
        [
         "22",
         "GT"
        ],
        [
         "23",
         "RCB"
        ],
        [
         "24",
         "CSK"
        ],
        [
         "25",
         "LSG"
        ],
        [
         "26",
         "SRH"
        ],
        [
         "27",
         "RR"
        ],
        [
         "28",
         "DC"
        ],
        [
         "29",
         "LSG"
        ],
        [
         "30",
         "PBKS"
        ],
        [
         "31",
         "DC"
        ],
        [
         "32",
         "MI"
        ],
        [
         "33",
         "RCB"
        ],
        [
         "34",
         "GT"
        ],
        [
         "35",
         "RR"
        ],
        [
         "36",
         "PBKS"
        ],
        [
         "37",
         "MI"
        ],
        [
         "38",
         "KKR"
        ],
        [
         "39",
         "LSG"
        ],
        [
         "40",
         "SRH"
        ],
        [
         "41",
         "RCB"
        ],
        [
         "42",
         "CSK"
        ],
        [
         "43",
         "KKR"
        ],
        [
         "44",
         "MI"
        ],
        [
         "45",
         "DC"
        ],
        [
         "46",
         "RR"
        ],
        [
         "47",
         "DC"
        ],
        [
         "48",
         "CSK"
        ],
        [
         "49",
         "RR"
        ]
       ],
       "shape": {
        "columns": 1,
        "rows": 74
       }
      },
      "text/plain": [
       "0      KKR\n",
       "1      SRH\n",
       "2      CSK\n",
       "3       DC\n",
       "4       GT\n",
       "      ... \n",
       "69     LSG\n",
       "70    PBKS\n",
       "71      GT\n",
       "72    PBKS\n",
       "73     RCB\n",
       "Name: team1, Length: 74, dtype: object"
      ]
     },
     "execution_count": 290,
     "metadata": {},
     "output_type": "execute_result"
    }
   ],
   "source": [
    "cricket_data['team1']"
   ]
  },
  {
   "cell_type": "code",
   "execution_count": 291,
   "id": "85a405ad",
   "metadata": {},
   "outputs": [
    {
     "data": {
      "application/vnd.microsoft.datawrangler.viewer.v0+json": {
       "columns": [
        {
         "name": "index",
         "rawType": "int64",
         "type": "integer"
        },
        {
         "name": "team2",
         "rawType": "object",
         "type": "string"
        }
       ],
       "ref": "775a1709-840a-41c2-8ae5-068c3a1b06cd",
       "rows": [
        [
         "0",
         "RCB"
        ],
        [
         "1",
         "RR"
        ],
        [
         "2",
         "MI"
        ],
        [
         "3",
         "LSG"
        ],
        [
         "4",
         "PBKS"
        ],
        [
         "5",
         "KKR"
        ],
        [
         "6",
         "LSG"
        ],
        [
         "7",
         "RCB"
        ],
        [
         "8",
         "MI"
        ],
        [
         "9",
         "SRH"
        ],
        [
         "10",
         "CSK"
        ],
        [
         "11",
         "KKR"
        ],
        [
         "12",
         "PBKS"
        ],
        [
         "13",
         "GT"
        ],
        [
         "14",
         "SRH"
        ],
        [
         "15",
         "MI"
        ],
        [
         "16",
         "DC"
        ],
        [
         "17",
         "RR"
        ],
        [
         "18",
         "GT"
        ],
        [
         "19",
         "RCB"
        ],
        [
         "20",
         "LSG"
        ],
        [
         "21",
         "CSK"
        ],
        [
         "22",
         "RR"
        ],
        [
         "23",
         "DC"
        ],
        [
         "24",
         "KKR"
        ],
        [
         "25",
         "GT"
        ],
        [
         "26",
         "PBKS"
        ],
        [
         "27",
         "RCB"
        ],
        [
         "28",
         "MI"
        ],
        [
         "29",
         "CSK"
        ],
        [
         "30",
         "KKR"
        ],
        [
         "31",
         "RR"
        ],
        [
         "32",
         "SRH"
        ],
        [
         "33",
         "PBKS"
        ],
        [
         "34",
         "DC"
        ],
        [
         "35",
         "LSG"
        ],
        [
         "36",
         "RCB"
        ],
        [
         "37",
         "CSK"
        ],
        [
         "38",
         "GT"
        ],
        [
         "39",
         "DC"
        ],
        [
         "40",
         "MI"
        ],
        [
         "41",
         "RR"
        ],
        [
         "42",
         "SRH"
        ],
        [
         "43",
         "PBKS"
        ],
        [
         "44",
         "LSG"
        ],
        [
         "45",
         "RCB"
        ],
        [
         "46",
         "GT"
        ],
        [
         "47",
         "KKR"
        ],
        [
         "48",
         "PBKS"
        ],
        [
         "49",
         "MI"
        ]
       ],
       "shape": {
        "columns": 1,
        "rows": 74
       }
      },
      "text/plain": [
       "0      RCB\n",
       "1       RR\n",
       "2       MI\n",
       "3      LSG\n",
       "4     PBKS\n",
       "      ... \n",
       "69     RCB\n",
       "70     RCB\n",
       "71      MI\n",
       "72      MI\n",
       "73    PBKS\n",
       "Name: team2, Length: 74, dtype: object"
      ]
     },
     "execution_count": 291,
     "metadata": {},
     "output_type": "execute_result"
    }
   ],
   "source": [
    "cricket_data['team2']"
   ]
  },
  {
   "cell_type": "code",
   "execution_count": 292,
   "id": "0db5edcf",
   "metadata": {},
   "outputs": [
    {
     "data": {
      "application/vnd.microsoft.datawrangler.viewer.v0+json": {
       "columns": [
        {
         "name": "top_scorer",
         "rawType": "object",
         "type": "string"
        },
        {
         "name": "count",
         "rawType": "int64",
         "type": "integer"
        }
       ],
       "ref": "29cda42f-5753-4c43-8180-c6c1c9f3698c",
       "rows": [
        [
         "Virat Kohli",
         "4"
        ],
        [
         "Nicholas Pooran",
         "4"
        ],
        [
         "Ishan Kishan",
         "3"
        ],
        [
         "Sai Sudarshan",
         "3"
        ],
        [
         "Ryan Rickelton",
         "3"
        ],
        [
         "Shubman Gill",
         "3"
        ],
        [
         "KL Rahul",
         "3"
        ],
        [
         "Yashasvi Jaiswal",
         "3"
        ],
        [
         "Shreyas Iyer",
         "2"
        ],
        [
         "Rishabh Pant",
         "2"
        ],
        [
         "Abhishek Sharma",
         "2"
        ],
        [
         "Heinrich Klassen",
         "2"
        ],
        [
         "Mitchell Marsh",
         "2"
        ],
        [
         "Jos Buttler",
         "2"
        ],
        [
         "Prabhsimran Singh",
         "2"
        ],
        [
         "Suryakumar Yadav",
         "2"
        ],
        [
         "Nitish Rana",
         "2"
        ],
        [
         "Dewald Brevis",
         "2"
        ],
        [
         "Vaibhav Suryavanshi",
         "2"
        ],
        [
         "Rohit Sharma",
         "2"
        ],
        [
         "Rachin Ravindra",
         "1"
        ],
        [
         "Aniket Verma",
         "1"
        ],
        [
         "Rajat Patidar",
         "1"
        ],
        [
         "Quinton de Kock",
         "1"
        ],
        [
         "Venkatesh Iyer",
         "1"
        ],
        [
         "Tim David",
         "1"
        ],
        [
         "Angkrish Raghuvanshi",
         "1"
        ],
        [
         "Karun Nair",
         "1"
        ],
        [
         "Sunil Narine",
         "1"
        ],
        [
         "Priyansh Arya",
         "1"
        ],
        [
         "Sam Curran",
         "1"
        ],
        [
         "Faf du Plessis",
         "1"
        ],
        [
         "Krunal Pandya",
         "1"
        ],
        [
         "Riyan Parag",
         "1"
        ],
        [
         "Ayush Mhatre",
         "1"
        ],
        [
         "Will Jacks",
         "1"
        ],
        [
         "Nehal Wadhera",
         "1"
        ],
        [
         "Sameer Rizvi",
         "1"
        ],
        [
         "Josh Inglis",
         "1"
        ],
        [
         "Phil Salt",
         "1"
        ],
        [
         "Shashank Singh",
         "1"
        ]
       ],
       "shape": {
        "columns": 1,
        "rows": 41
       }
      },
      "text/plain": [
       "top_scorer\n",
       "Virat Kohli             4\n",
       "Nicholas Pooran         4\n",
       "Ishan Kishan            3\n",
       "Sai Sudarshan           3\n",
       "Ryan Rickelton          3\n",
       "Shubman Gill            3\n",
       "KL Rahul                3\n",
       "Yashasvi Jaiswal        3\n",
       "Shreyas Iyer            2\n",
       "Rishabh Pant            2\n",
       "Abhishek Sharma         2\n",
       "Heinrich Klassen        2\n",
       "Mitchell Marsh          2\n",
       "Jos Buttler             2\n",
       "Prabhsimran Singh       2\n",
       "Suryakumar Yadav        2\n",
       "Nitish Rana             2\n",
       "Dewald Brevis           2\n",
       "Vaibhav Suryavanshi     2\n",
       "Rohit Sharma            2\n",
       "Rachin Ravindra         1\n",
       "Aniket Verma            1\n",
       "Rajat Patidar           1\n",
       "Quinton de Kock         1\n",
       "Venkatesh Iyer          1\n",
       "Tim David               1\n",
       "Angkrish Raghuvanshi    1\n",
       "Karun Nair              1\n",
       "Sunil Narine            1\n",
       "Priyansh Arya           1\n",
       "Sam Curran              1\n",
       "Faf du Plessis          1\n",
       "Krunal Pandya           1\n",
       "Riyan Parag             1\n",
       "Ayush Mhatre            1\n",
       "Will Jacks              1\n",
       "Nehal Wadhera           1\n",
       "Sameer Rizvi            1\n",
       "Josh Inglis             1\n",
       "Phil Salt               1\n",
       "Shashank Singh          1\n",
       "Name: count, dtype: int64"
      ]
     },
     "execution_count": 292,
     "metadata": {},
     "output_type": "execute_result"
    }
   ],
   "source": [
    "cricket_data['top_scorer'].value_counts()"
   ]
  },
  {
   "cell_type": "code",
   "execution_count": 293,
   "id": "ec66c988",
   "metadata": {},
   "outputs": [
    {
     "data": {
      "application/vnd.microsoft.datawrangler.viewer.v0+json": {
       "columns": [
        {
         "name": "toss_decision",
         "rawType": "object",
         "type": "string"
        },
        {
         "name": "count",
         "rawType": "int64",
         "type": "integer"
        }
       ],
       "ref": "1d67032b-d93f-4c45-be41-ff1abcbe4524",
       "rows": [
        [
         "Bowl",
         "61"
        ],
        [
         "Bat",
         "13"
        ]
       ],
       "shape": {
        "columns": 1,
        "rows": 2
       }
      },
      "text/plain": [
       "toss_decision\n",
       "Bowl    61\n",
       "Bat     13\n",
       "Name: count, dtype: int64"
      ]
     },
     "execution_count": 293,
     "metadata": {},
     "output_type": "execute_result"
    }
   ],
   "source": [
    "cricket_data['toss_decision'].value_counts()"
   ]
  },
  {
   "cell_type": "code",
   "execution_count": 294,
   "id": "c5056113",
   "metadata": {},
   "outputs": [
    {
     "data": {
      "application/vnd.microsoft.datawrangler.viewer.v0+json": {
       "columns": [
        {
         "name": "toss_winner",
         "rawType": "object",
         "type": "string"
        },
        {
         "name": "count",
         "rawType": "int64",
         "type": "integer"
        }
       ],
       "ref": "27f459ba-04f5-4edc-94ca-459d6e99da3f",
       "rows": [
        [
         "PBKS",
         "12"
        ],
        [
         "DC",
         "8"
        ],
        [
         "SRH",
         "8"
        ],
        [
         "RCB",
         "7"
        ],
        [
         "RR",
         "7"
        ],
        [
         "GT",
         "7"
        ],
        [
         "MI",
         "7"
        ],
        [
         "CSK",
         "6"
        ],
        [
         "KKR",
         "6"
        ],
        [
         "LSG",
         "5"
        ]
       ],
       "shape": {
        "columns": 1,
        "rows": 10
       }
      },
      "text/plain": [
       "toss_winner\n",
       "PBKS    12\n",
       "DC       8\n",
       "SRH      8\n",
       "RCB      7\n",
       "RR       7\n",
       "GT       7\n",
       "MI       7\n",
       "CSK      6\n",
       "KKR      6\n",
       "LSG      5\n",
       "Name: count, dtype: int64"
      ]
     },
     "execution_count": 294,
     "metadata": {},
     "output_type": "execute_result"
    }
   ],
   "source": [
    "cricket_data['toss_winner'].value_counts()"
   ]
  },
  {
   "cell_type": "code",
   "execution_count": 295,
   "id": "78e4c9c0",
   "metadata": {},
   "outputs": [
    {
     "data": {
      "application/vnd.microsoft.datawrangler.viewer.v0+json": {
       "columns": [
        {
         "name": "venue",
         "rawType": "object",
         "type": "string"
        },
        {
         "name": "count",
         "rawType": "int64",
         "type": "integer"
        }
       ],
       "ref": "227d104a-06d7-40da-8d13-b4b52e01ddec",
       "rows": [
        [
         "Narendra Modi Stadium, Ahmedabad",
         "9"
        ],
        [
         "Ekana Cricket Stadium, Lucknow",
         "8"
        ],
        [
         "Eden Gardens, Kolkata",
         "7"
        ],
        [
         "Wankhede Stadium, Mumbai",
         "7"
        ],
        [
         "Arun Jaitley Stadium, Delhi",
         "7"
        ],
        [
         "Sawai Mansingh Stadium, Jaipur",
         "7"
        ],
        [
         "New PCA Cricket Stadium, Mullanpur",
         "6"
        ],
        [
         "Rajiv Gandhi International Stadium, Hyderabad",
         "6"
        ],
        [
         "MA Chidambaram Stadium, Chennai",
         "6"
        ],
        [
         "M. Chinnaswamy Stadium, Bangalore",
         "6"
        ],
        [
         "ACA-VDCA Cricket Stadium, Vishakhapatnam",
         "2"
        ],
        [
         "Barsapara Stadium, Guwahati",
         "2"
        ],
        [
         "HPCA Stadium, Dharamshala",
         "1"
        ]
       ],
       "shape": {
        "columns": 1,
        "rows": 13
       }
      },
      "text/plain": [
       "venue\n",
       "Narendra Modi Stadium, Ahmedabad                 9\n",
       "Ekana Cricket Stadium, Lucknow                   8\n",
       "Eden Gardens, Kolkata                            7\n",
       "Wankhede Stadium, Mumbai                         7\n",
       "Arun Jaitley Stadium, Delhi                      7\n",
       "Sawai Mansingh Stadium, Jaipur                   7\n",
       "New PCA Cricket Stadium, Mullanpur               6\n",
       "Rajiv Gandhi International Stadium, Hyderabad    6\n",
       "MA Chidambaram Stadium, Chennai                  6\n",
       "M. Chinnaswamy Stadium, Bangalore                6\n",
       "ACA-VDCA Cricket Stadium, Vishakhapatnam         2\n",
       "Barsapara Stadium, Guwahati                      2\n",
       "HPCA Stadium, Dharamshala                        1\n",
       "Name: count, dtype: int64"
      ]
     },
     "execution_count": 295,
     "metadata": {},
     "output_type": "execute_result"
    }
   ],
   "source": [
    "cricket_data['venue'].value_counts()"
   ]
  },
  {
   "cell_type": "code",
   "execution_count": 296,
   "id": "a8bd14f6",
   "metadata": {},
   "outputs": [
    {
     "data": {
      "application/vnd.microsoft.datawrangler.viewer.v0+json": {
       "columns": [
        {
         "name": "index",
         "rawType": "int64",
         "type": "integer"
        },
        {
         "name": "wb_runs",
         "rawType": "object",
         "type": "unknown"
        }
       ],
       "ref": "bcd67731-f9d6-4b3d-b204-e9439c757af9",
       "rows": [
        [
         "0",
         null
        ],
        [
         "1",
         "44"
        ],
        [
         "2",
         null
        ],
        [
         "3",
         null
        ],
        [
         "4",
         "11"
        ],
        [
         "5",
         null
        ],
        [
         "6",
         null
        ],
        [
         "7",
         "50"
        ],
        [
         "8",
         "36"
        ],
        [
         "9",
         null
        ],
        [
         "10",
         "6"
        ],
        [
         "11",
         null
        ],
        [
         "12",
         null
        ],
        [
         "13",
         null
        ],
        [
         "14",
         "80"
        ],
        [
         "15",
         "12"
        ],
        [
         "16",
         "25"
        ],
        [
         "17",
         "50"
        ],
        [
         "18",
         null
        ],
        [
         "19",
         "12"
        ],
        [
         "20",
         "4"
        ],
        [
         "21",
         "18"
        ],
        [
         "22",
         "58"
        ],
        [
         "23",
         null
        ],
        [
         "24",
         null
        ],
        [
         "25",
         null
        ],
        [
         "26",
         null
        ],
        [
         "27",
         null
        ],
        [
         "28",
         "12"
        ],
        [
         "29",
         null
        ],
        [
         "30",
         "16"
        ],
        [
         "31",
         "super over"
        ],
        [
         "32",
         null
        ],
        [
         "33",
         null
        ],
        [
         "34",
         null
        ],
        [
         "35",
         "2"
        ],
        [
         "36",
         null
        ],
        [
         "37",
         null
        ],
        [
         "38",
         "39"
        ],
        [
         "39",
         null
        ],
        [
         "40",
         null
        ],
        [
         "41",
         "11"
        ],
        [
         "42",
         null
        ],
        [
         "43",
         null
        ],
        [
         "44",
         "54"
        ],
        [
         "45",
         null
        ],
        [
         "46",
         null
        ],
        [
         "47",
         "14"
        ],
        [
         "48",
         null
        ],
        [
         "49",
         "100"
        ]
       ],
       "shape": {
        "columns": 1,
        "rows": 74
       }
      },
      "text/plain": [
       "0     NaN\n",
       "1      44\n",
       "2     NaN\n",
       "3     NaN\n",
       "4      11\n",
       "     ... \n",
       "69    NaN\n",
       "70    NaN\n",
       "71     20\n",
       "72    NaN\n",
       "73      6\n",
       "Name: wb_runs, Length: 74, dtype: object"
      ]
     },
     "execution_count": 296,
     "metadata": {},
     "output_type": "execute_result"
    }
   ],
   "source": [
    "cricket_data['wb_runs']"
   ]
  },
  {
   "cell_type": "code",
   "execution_count": 298,
   "id": "46b00a98",
   "metadata": {},
   "outputs": [],
   "source": [
    "cricket_data.rename(columns={'wb_runs':'wide ball runs'},inplace=True)"
   ]
  },
  {
   "cell_type": "code",
   "execution_count": 308,
   "id": "2fa1ad95",
   "metadata": {},
   "outputs": [],
   "source": [
    "cricket_data.rename(columns={'wb_wickets': 'wide wickets'},inplace=True)"
   ]
  },
  {
   "cell_type": "code",
   "execution_count": null,
   "id": "d14bb59d",
   "metadata": {},
   "outputs": [],
   "source": []
  },
  {
   "cell_type": "code",
   "execution_count": null,
   "id": "479bd8d0",
   "metadata": {},
   "outputs": [],
   "source": []
  }
 ],
 "metadata": {
  "kernelspec": {
   "display_name": "Python 3",
   "language": "python",
   "name": "python3"
  },
  "language_info": {
   "codemirror_mode": {
    "name": "ipython",
    "version": 3
   },
   "file_extension": ".py",
   "mimetype": "text/x-python",
   "name": "python",
   "nbconvert_exporter": "python",
   "pygments_lexer": "ipython3",
   "version": "3.11.9"
  }
 },
 "nbformat": 4,
 "nbformat_minor": 5
}
