{
 "cells": [
  {
   "cell_type": "code",
   "execution_count": 1,
   "id": "bc9a3c4b",
   "metadata": {},
   "outputs": [],
   "source": [
    "import numpy as np  \n",
    "import pandas as pd  \n",
    "import matplotlib.pyplot as plt \n",
    "import seaborn as sns "
   ]
  },
  {
   "cell_type": "markdown",
   "id": "89e971cb",
   "metadata": {},
   "source": [
    "# Load the dataset "
   ]
  },
  {
   "cell_type": "code",
   "execution_count": null,
   "id": "0a5809eb",
   "metadata": {},
   "outputs": [],
   "source": [
    "flight_data_set = pd.read_csv(\"Flight_Price_Dataset_of_Bangladesh.csv\")"
   ]
  },
  {
   "cell_type": "code",
   "execution_count": 3,
   "id": "f61d7aeb",
   "metadata": {},
   "outputs": [
    {
     "data": {
      "application/vnd.microsoft.datawrangler.viewer.v0+json": {
       "columns": [
        {
         "name": "index",
         "rawType": "int64",
         "type": "integer"
        },
        {
         "name": "Airline",
         "rawType": "object",
         "type": "string"
        },
        {
         "name": "Source",
         "rawType": "object",
         "type": "string"
        },
        {
         "name": "Source Name",
         "rawType": "object",
         "type": "string"
        },
        {
         "name": "Destination",
         "rawType": "object",
         "type": "string"
        },
        {
         "name": "Destination Name",
         "rawType": "object",
         "type": "string"
        },
        {
         "name": "Departure Date & Time",
         "rawType": "object",
         "type": "string"
        },
        {
         "name": "Arrival Date & Time",
         "rawType": "object",
         "type": "string"
        },
        {
         "name": "Duration (hrs)",
         "rawType": "float64",
         "type": "float"
        },
        {
         "name": "Stopovers",
         "rawType": "object",
         "type": "string"
        },
        {
         "name": "Aircraft Type",
         "rawType": "object",
         "type": "string"
        },
        {
         "name": "Class",
         "rawType": "object",
         "type": "string"
        },
        {
         "name": "Booking Source",
         "rawType": "object",
         "type": "string"
        },
        {
         "name": "Base Fare (BDT)",
         "rawType": "float64",
         "type": "float"
        },
        {
         "name": "Tax & Surcharge (BDT)",
         "rawType": "float64",
         "type": "float"
        },
        {
         "name": "Total Fare (BDT)",
         "rawType": "float64",
         "type": "float"
        },
        {
         "name": "Seasonality",
         "rawType": "object",
         "type": "string"
        },
        {
         "name": "Days Before Departure",
         "rawType": "int64",
         "type": "integer"
        }
       ],
       "ref": "65e0dcab-ed95-413e-b519-bce9c06c1f1f",
       "rows": [
        [
         "0",
         "Malaysian Airlines",
         "CXB",
         "Cox's Bazar Airport",
         "CCU",
         "Netaji Subhas Chandra Bose International Airport, Kolkata",
         "2025-11-17 06:25:00",
         "2025-11-17 07:38:10",
         "1.2195264539377717",
         "Direct",
         "Airbus A320",
         "Economy",
         "Online Website",
         "21131.22502141266",
         "5169.683753211899",
         "26300.90877462456",
         "Regular",
         "10"
        ],
        [
         "1",
         "Cathay Pacific",
         "BZL",
         "Barisal Airport",
         "CGP",
         "Shah Amanat International Airport, Chittagong",
         "2025-03-16 00:17:00",
         "2025-03-16 00:53:31",
         "0.6086380128173666",
         "Direct",
         "Airbus A320",
         "First Class",
         "Travel Agency",
         "11605.395470566073",
         "200.0",
         "11805.395470566073",
         "Regular",
         "14"
        ],
        [
         "2",
         "British Airways",
         "ZYL",
         "Osmani International Airport, Sylhet",
         "KUL",
         "Kuala Lumpur International Airport",
         "2025-12-13 12:03:00",
         "2025-12-13 14:44:22",
         "2.6896505565217104",
         "1 Stop",
         "Boeing 787",
         "Economy",
         "Travel Agency",
         "39882.49934875141",
         "11982.374902312711",
         "51864.87425106412",
         "Winter Holidays",
         "83"
        ],
        [
         "3",
         "Singapore Airlines",
         "RJH",
         "Shah Makhdum Airport, Rajshahi",
         "DAC",
         "Hazrat Shahjalal International Airport, Dhaka",
         "2025-05-30 03:21:00",
         "2025-05-30 04:02:09",
         "0.6860536480181382",
         "Direct",
         "Airbus A320",
         "Economy",
         "Direct Booking",
         "4435.607340298566",
         "200.0",
         "4635.607340298566",
         "Regular",
         "56"
        ],
        [
         "4",
         "British Airways",
         "SPD",
         "Saidpur Airport",
         "YYZ",
         "Toronto Pearson International Airport",
         "2025-04-25 09:14:00",
         "2025-04-25 23:17:20",
         "14.05560922703888",
         "1 Stop",
         "Airbus A350",
         "Business",
         "Direct Booking",
         "59243.806145866125",
         "14886.570921879918",
         "74130.37706774604",
         "Regular",
         "90"
        ],
        [
         "5",
         "IndiGo",
         "ZYL",
         "Osmani International Airport, Sylhet",
         "SPD",
         "Saidpur Airport",
         "2025-06-18 18:28:00",
         "2025-06-18 19:33:06",
         "1.085065740447081",
         "Direct",
         "Airbus A320",
         "Business",
         "Travel Agency",
         "5036.394160331064",
         "200.0",
         "5236.394160331064",
         "Regular",
         "70"
        ],
        [
         "6",
         "US-Bangla Airlines",
         "SPD",
         "Saidpur Airport",
         "BZL",
         "Barisal Airport",
         "2025-10-25 22:41:00",
         "2025-10-25 23:45:41",
         "1.0781554879523396",
         "Direct",
         "Airbus A320",
         "Business",
         "Direct Booking",
         "7397.669873630726",
         "200.0",
         "7597.669873630726",
         "Regular",
         "28"
        ],
        [
         "7",
         "AirAsia",
         "JSR",
         "Jessore Airport",
         "LHR",
         "London Heathrow Airport",
         "2025-12-28 01:38:00",
         "2025-12-28 10:30:49",
         "8.880375526991697",
         "1 Stop",
         "Airbus A350",
         "Economy",
         "Online Website",
         "11946.813582613677",
         "7792.022037392051",
         "19738.835620005724",
         "Winter Holidays",
         "12"
        ],
        [
         "8",
         "Etihad Airways",
         "SPD",
         "Saidpur Airport",
         "KUL",
         "Kuala Lumpur International Airport",
         "2025-07-06 21:52:00",
         "2025-07-07 01:09:46",
         "3.296281693097868",
         "Direct",
         "Boeing 787",
         "Business",
         "Travel Agency",
         "74973.62187091996",
         "17246.043280637994",
         "92219.66515155796",
         "Regular",
         "23"
        ],
        [
         "9",
         "US-Bangla Airlines",
         "DAC",
         "Hazrat Shahjalal International Airport, Dhaka",
         "DEL",
         "Indira Gandhi International Airport, Delhi",
         "2025-04-14 23:19:00",
         "2025-04-15 01:54:44",
         "2.595620253019129",
         "Direct",
         "Boeing 787",
         "First Class",
         "Direct Booking",
         "116951.64544472432",
         "19542.746816708648",
         "136494.39226143298",
         "Regular",
         "41"
        ]
       ],
       "shape": {
        "columns": 17,
        "rows": 10
       }
      },
      "text/html": [
       "<div>\n",
       "<style scoped>\n",
       "    .dataframe tbody tr th:only-of-type {\n",
       "        vertical-align: middle;\n",
       "    }\n",
       "\n",
       "    .dataframe tbody tr th {\n",
       "        vertical-align: top;\n",
       "    }\n",
       "\n",
       "    .dataframe thead th {\n",
       "        text-align: right;\n",
       "    }\n",
       "</style>\n",
       "<table border=\"1\" class=\"dataframe\">\n",
       "  <thead>\n",
       "    <tr style=\"text-align: right;\">\n",
       "      <th></th>\n",
       "      <th>Airline</th>\n",
       "      <th>Source</th>\n",
       "      <th>Source Name</th>\n",
       "      <th>Destination</th>\n",
       "      <th>Destination Name</th>\n",
       "      <th>Departure Date &amp; Time</th>\n",
       "      <th>Arrival Date &amp; Time</th>\n",
       "      <th>Duration (hrs)</th>\n",
       "      <th>Stopovers</th>\n",
       "      <th>Aircraft Type</th>\n",
       "      <th>Class</th>\n",
       "      <th>Booking Source</th>\n",
       "      <th>Base Fare (BDT)</th>\n",
       "      <th>Tax &amp; Surcharge (BDT)</th>\n",
       "      <th>Total Fare (BDT)</th>\n",
       "      <th>Seasonality</th>\n",
       "      <th>Days Before Departure</th>\n",
       "    </tr>\n",
       "  </thead>\n",
       "  <tbody>\n",
       "    <tr>\n",
       "      <th>0</th>\n",
       "      <td>Malaysian Airlines</td>\n",
       "      <td>CXB</td>\n",
       "      <td>Cox's Bazar Airport</td>\n",
       "      <td>CCU</td>\n",
       "      <td>Netaji Subhas Chandra Bose International Airpo...</td>\n",
       "      <td>2025-11-17 06:25:00</td>\n",
       "      <td>2025-11-17 07:38:10</td>\n",
       "      <td>1.219526</td>\n",
       "      <td>Direct</td>\n",
       "      <td>Airbus A320</td>\n",
       "      <td>Economy</td>\n",
       "      <td>Online Website</td>\n",
       "      <td>21131.225021</td>\n",
       "      <td>5169.683753</td>\n",
       "      <td>26300.908775</td>\n",
       "      <td>Regular</td>\n",
       "      <td>10</td>\n",
       "    </tr>\n",
       "    <tr>\n",
       "      <th>1</th>\n",
       "      <td>Cathay Pacific</td>\n",
       "      <td>BZL</td>\n",
       "      <td>Barisal Airport</td>\n",
       "      <td>CGP</td>\n",
       "      <td>Shah Amanat International Airport, Chittagong</td>\n",
       "      <td>2025-03-16 00:17:00</td>\n",
       "      <td>2025-03-16 00:53:31</td>\n",
       "      <td>0.608638</td>\n",
       "      <td>Direct</td>\n",
       "      <td>Airbus A320</td>\n",
       "      <td>First Class</td>\n",
       "      <td>Travel Agency</td>\n",
       "      <td>11605.395471</td>\n",
       "      <td>200.000000</td>\n",
       "      <td>11805.395471</td>\n",
       "      <td>Regular</td>\n",
       "      <td>14</td>\n",
       "    </tr>\n",
       "    <tr>\n",
       "      <th>2</th>\n",
       "      <td>British Airways</td>\n",
       "      <td>ZYL</td>\n",
       "      <td>Osmani International Airport, Sylhet</td>\n",
       "      <td>KUL</td>\n",
       "      <td>Kuala Lumpur International Airport</td>\n",
       "      <td>2025-12-13 12:03:00</td>\n",
       "      <td>2025-12-13 14:44:22</td>\n",
       "      <td>2.689651</td>\n",
       "      <td>1 Stop</td>\n",
       "      <td>Boeing 787</td>\n",
       "      <td>Economy</td>\n",
       "      <td>Travel Agency</td>\n",
       "      <td>39882.499349</td>\n",
       "      <td>11982.374902</td>\n",
       "      <td>51864.874251</td>\n",
       "      <td>Winter Holidays</td>\n",
       "      <td>83</td>\n",
       "    </tr>\n",
       "    <tr>\n",
       "      <th>3</th>\n",
       "      <td>Singapore Airlines</td>\n",
       "      <td>RJH</td>\n",
       "      <td>Shah Makhdum Airport, Rajshahi</td>\n",
       "      <td>DAC</td>\n",
       "      <td>Hazrat Shahjalal International Airport, Dhaka</td>\n",
       "      <td>2025-05-30 03:21:00</td>\n",
       "      <td>2025-05-30 04:02:09</td>\n",
       "      <td>0.686054</td>\n",
       "      <td>Direct</td>\n",
       "      <td>Airbus A320</td>\n",
       "      <td>Economy</td>\n",
       "      <td>Direct Booking</td>\n",
       "      <td>4435.607340</td>\n",
       "      <td>200.000000</td>\n",
       "      <td>4635.607340</td>\n",
       "      <td>Regular</td>\n",
       "      <td>56</td>\n",
       "    </tr>\n",
       "    <tr>\n",
       "      <th>4</th>\n",
       "      <td>British Airways</td>\n",
       "      <td>SPD</td>\n",
       "      <td>Saidpur Airport</td>\n",
       "      <td>YYZ</td>\n",
       "      <td>Toronto Pearson International Airport</td>\n",
       "      <td>2025-04-25 09:14:00</td>\n",
       "      <td>2025-04-25 23:17:20</td>\n",
       "      <td>14.055609</td>\n",
       "      <td>1 Stop</td>\n",
       "      <td>Airbus A350</td>\n",
       "      <td>Business</td>\n",
       "      <td>Direct Booking</td>\n",
       "      <td>59243.806146</td>\n",
       "      <td>14886.570922</td>\n",
       "      <td>74130.377068</td>\n",
       "      <td>Regular</td>\n",
       "      <td>90</td>\n",
       "    </tr>\n",
       "    <tr>\n",
       "      <th>5</th>\n",
       "      <td>IndiGo</td>\n",
       "      <td>ZYL</td>\n",
       "      <td>Osmani International Airport, Sylhet</td>\n",
       "      <td>SPD</td>\n",
       "      <td>Saidpur Airport</td>\n",
       "      <td>2025-06-18 18:28:00</td>\n",
       "      <td>2025-06-18 19:33:06</td>\n",
       "      <td>1.085066</td>\n",
       "      <td>Direct</td>\n",
       "      <td>Airbus A320</td>\n",
       "      <td>Business</td>\n",
       "      <td>Travel Agency</td>\n",
       "      <td>5036.394160</td>\n",
       "      <td>200.000000</td>\n",
       "      <td>5236.394160</td>\n",
       "      <td>Regular</td>\n",
       "      <td>70</td>\n",
       "    </tr>\n",
       "    <tr>\n",
       "      <th>6</th>\n",
       "      <td>US-Bangla Airlines</td>\n",
       "      <td>SPD</td>\n",
       "      <td>Saidpur Airport</td>\n",
       "      <td>BZL</td>\n",
       "      <td>Barisal Airport</td>\n",
       "      <td>2025-10-25 22:41:00</td>\n",
       "      <td>2025-10-25 23:45:41</td>\n",
       "      <td>1.078155</td>\n",
       "      <td>Direct</td>\n",
       "      <td>Airbus A320</td>\n",
       "      <td>Business</td>\n",
       "      <td>Direct Booking</td>\n",
       "      <td>7397.669874</td>\n",
       "      <td>200.000000</td>\n",
       "      <td>7597.669874</td>\n",
       "      <td>Regular</td>\n",
       "      <td>28</td>\n",
       "    </tr>\n",
       "    <tr>\n",
       "      <th>7</th>\n",
       "      <td>AirAsia</td>\n",
       "      <td>JSR</td>\n",
       "      <td>Jessore Airport</td>\n",
       "      <td>LHR</td>\n",
       "      <td>London Heathrow Airport</td>\n",
       "      <td>2025-12-28 01:38:00</td>\n",
       "      <td>2025-12-28 10:30:49</td>\n",
       "      <td>8.880376</td>\n",
       "      <td>1 Stop</td>\n",
       "      <td>Airbus A350</td>\n",
       "      <td>Economy</td>\n",
       "      <td>Online Website</td>\n",
       "      <td>11946.813583</td>\n",
       "      <td>7792.022037</td>\n",
       "      <td>19738.835620</td>\n",
       "      <td>Winter Holidays</td>\n",
       "      <td>12</td>\n",
       "    </tr>\n",
       "    <tr>\n",
       "      <th>8</th>\n",
       "      <td>Etihad Airways</td>\n",
       "      <td>SPD</td>\n",
       "      <td>Saidpur Airport</td>\n",
       "      <td>KUL</td>\n",
       "      <td>Kuala Lumpur International Airport</td>\n",
       "      <td>2025-07-06 21:52:00</td>\n",
       "      <td>2025-07-07 01:09:46</td>\n",
       "      <td>3.296282</td>\n",
       "      <td>Direct</td>\n",
       "      <td>Boeing 787</td>\n",
       "      <td>Business</td>\n",
       "      <td>Travel Agency</td>\n",
       "      <td>74973.621871</td>\n",
       "      <td>17246.043281</td>\n",
       "      <td>92219.665152</td>\n",
       "      <td>Regular</td>\n",
       "      <td>23</td>\n",
       "    </tr>\n",
       "    <tr>\n",
       "      <th>9</th>\n",
       "      <td>US-Bangla Airlines</td>\n",
       "      <td>DAC</td>\n",
       "      <td>Hazrat Shahjalal International Airport, Dhaka</td>\n",
       "      <td>DEL</td>\n",
       "      <td>Indira Gandhi International Airport, Delhi</td>\n",
       "      <td>2025-04-14 23:19:00</td>\n",
       "      <td>2025-04-15 01:54:44</td>\n",
       "      <td>2.595620</td>\n",
       "      <td>Direct</td>\n",
       "      <td>Boeing 787</td>\n",
       "      <td>First Class</td>\n",
       "      <td>Direct Booking</td>\n",
       "      <td>116951.645445</td>\n",
       "      <td>19542.746817</td>\n",
       "      <td>136494.392261</td>\n",
       "      <td>Regular</td>\n",
       "      <td>41</td>\n",
       "    </tr>\n",
       "  </tbody>\n",
       "</table>\n",
       "</div>"
      ],
      "text/plain": [
       "              Airline Source                                    Source Name  \\\n",
       "0  Malaysian Airlines    CXB                            Cox's Bazar Airport   \n",
       "1      Cathay Pacific    BZL                                Barisal Airport   \n",
       "2     British Airways    ZYL           Osmani International Airport, Sylhet   \n",
       "3  Singapore Airlines    RJH                 Shah Makhdum Airport, Rajshahi   \n",
       "4     British Airways    SPD                                Saidpur Airport   \n",
       "5              IndiGo    ZYL           Osmani International Airport, Sylhet   \n",
       "6  US-Bangla Airlines    SPD                                Saidpur Airport   \n",
       "7             AirAsia    JSR                                Jessore Airport   \n",
       "8      Etihad Airways    SPD                                Saidpur Airport   \n",
       "9  US-Bangla Airlines    DAC  Hazrat Shahjalal International Airport, Dhaka   \n",
       "\n",
       "  Destination                                   Destination Name  \\\n",
       "0         CCU  Netaji Subhas Chandra Bose International Airpo...   \n",
       "1         CGP      Shah Amanat International Airport, Chittagong   \n",
       "2         KUL                 Kuala Lumpur International Airport   \n",
       "3         DAC      Hazrat Shahjalal International Airport, Dhaka   \n",
       "4         YYZ              Toronto Pearson International Airport   \n",
       "5         SPD                                    Saidpur Airport   \n",
       "6         BZL                                    Barisal Airport   \n",
       "7         LHR                            London Heathrow Airport   \n",
       "8         KUL                 Kuala Lumpur International Airport   \n",
       "9         DEL         Indira Gandhi International Airport, Delhi   \n",
       "\n",
       "  Departure Date & Time  Arrival Date & Time  Duration (hrs) Stopovers  \\\n",
       "0   2025-11-17 06:25:00  2025-11-17 07:38:10        1.219526    Direct   \n",
       "1   2025-03-16 00:17:00  2025-03-16 00:53:31        0.608638    Direct   \n",
       "2   2025-12-13 12:03:00  2025-12-13 14:44:22        2.689651    1 Stop   \n",
       "3   2025-05-30 03:21:00  2025-05-30 04:02:09        0.686054    Direct   \n",
       "4   2025-04-25 09:14:00  2025-04-25 23:17:20       14.055609    1 Stop   \n",
       "5   2025-06-18 18:28:00  2025-06-18 19:33:06        1.085066    Direct   \n",
       "6   2025-10-25 22:41:00  2025-10-25 23:45:41        1.078155    Direct   \n",
       "7   2025-12-28 01:38:00  2025-12-28 10:30:49        8.880376    1 Stop   \n",
       "8   2025-07-06 21:52:00  2025-07-07 01:09:46        3.296282    Direct   \n",
       "9   2025-04-14 23:19:00  2025-04-15 01:54:44        2.595620    Direct   \n",
       "\n",
       "  Aircraft Type        Class  Booking Source  Base Fare (BDT)  \\\n",
       "0   Airbus A320      Economy  Online Website     21131.225021   \n",
       "1   Airbus A320  First Class   Travel Agency     11605.395471   \n",
       "2    Boeing 787      Economy   Travel Agency     39882.499349   \n",
       "3   Airbus A320      Economy  Direct Booking      4435.607340   \n",
       "4   Airbus A350     Business  Direct Booking     59243.806146   \n",
       "5   Airbus A320     Business   Travel Agency      5036.394160   \n",
       "6   Airbus A320     Business  Direct Booking      7397.669874   \n",
       "7   Airbus A350      Economy  Online Website     11946.813583   \n",
       "8    Boeing 787     Business   Travel Agency     74973.621871   \n",
       "9    Boeing 787  First Class  Direct Booking    116951.645445   \n",
       "\n",
       "   Tax & Surcharge (BDT)  Total Fare (BDT)      Seasonality  \\\n",
       "0            5169.683753      26300.908775          Regular   \n",
       "1             200.000000      11805.395471          Regular   \n",
       "2           11982.374902      51864.874251  Winter Holidays   \n",
       "3             200.000000       4635.607340          Regular   \n",
       "4           14886.570922      74130.377068          Regular   \n",
       "5             200.000000       5236.394160          Regular   \n",
       "6             200.000000       7597.669874          Regular   \n",
       "7            7792.022037      19738.835620  Winter Holidays   \n",
       "8           17246.043281      92219.665152          Regular   \n",
       "9           19542.746817     136494.392261          Regular   \n",
       "\n",
       "   Days Before Departure  \n",
       "0                     10  \n",
       "1                     14  \n",
       "2                     83  \n",
       "3                     56  \n",
       "4                     90  \n",
       "5                     70  \n",
       "6                     28  \n",
       "7                     12  \n",
       "8                     23  \n",
       "9                     41  "
      ]
     },
     "execution_count": 3,
     "metadata": {},
     "output_type": "execute_result"
    }
   ],
   "source": [
    "flight_data_set.head(10)"
   ]
  },
  {
   "cell_type": "markdown",
   "id": "e490134c",
   "metadata": {},
   "source": [
    "Check about the data set like how many rows and columns,which type of datatypes are used "
   ]
  },
  {
   "cell_type": "code",
   "execution_count": 4,
   "id": "ca37181d",
   "metadata": {},
   "outputs": [
    {
     "name": "stdout",
     "output_type": "stream",
     "text": [
      "<class 'pandas.core.frame.DataFrame'>\n",
      "RangeIndex: 57000 entries, 0 to 56999\n",
      "Data columns (total 17 columns):\n",
      " #   Column                 Non-Null Count  Dtype  \n",
      "---  ------                 --------------  -----  \n",
      " 0   Airline                57000 non-null  object \n",
      " 1   Source                 57000 non-null  object \n",
      " 2   Source Name            57000 non-null  object \n",
      " 3   Destination            57000 non-null  object \n",
      " 4   Destination Name       57000 non-null  object \n",
      " 5   Departure Date & Time  57000 non-null  object \n",
      " 6   Arrival Date & Time    57000 non-null  object \n",
      " 7   Duration (hrs)         57000 non-null  float64\n",
      " 8   Stopovers              57000 non-null  object \n",
      " 9   Aircraft Type          57000 non-null  object \n",
      " 10  Class                  57000 non-null  object \n",
      " 11  Booking Source         57000 non-null  object \n",
      " 12  Base Fare (BDT)        57000 non-null  float64\n",
      " 13  Tax & Surcharge (BDT)  57000 non-null  float64\n",
      " 14  Total Fare (BDT)       57000 non-null  float64\n",
      " 15  Seasonality            57000 non-null  object \n",
      " 16  Days Before Departure  57000 non-null  int64  \n",
      "dtypes: float64(4), int64(1), object(12)\n",
      "memory usage: 7.4+ MB\n"
     ]
    }
   ],
   "source": [
    "flight_data_set.info()"
   ]
  },
  {
   "cell_type": "markdown",
   "id": "92ba6ed2",
   "metadata": {},
   "source": [
    "Also check wether in dataset null values is present or not "
   ]
  },
  {
   "cell_type": "code",
   "execution_count": 8,
   "id": "664f9209",
   "metadata": {},
   "outputs": [
    {
     "data": {
      "application/vnd.microsoft.datawrangler.viewer.v0+json": {
       "columns": [
        {
         "name": "index",
         "rawType": "object",
         "type": "string"
        },
        {
         "name": "0",
         "rawType": "int64",
         "type": "integer"
        }
       ],
       "ref": "5cd5c6d0-481e-4a05-9a24-eef1b50a7745",
       "rows": [
        [
         "Airline",
         "0"
        ],
        [
         "Source",
         "0"
        ],
        [
         "Source Name",
         "0"
        ],
        [
         "Destination",
         "0"
        ],
        [
         "Destination Name",
         "0"
        ],
        [
         "Departure Date & Time",
         "0"
        ],
        [
         "Arrival Date & Time",
         "0"
        ],
        [
         "Duration (hrs)",
         "0"
        ],
        [
         "Stopovers",
         "0"
        ],
        [
         "Aircraft Type",
         "0"
        ],
        [
         "Class",
         "0"
        ],
        [
         "Booking Source",
         "0"
        ],
        [
         "Base Fare (BDT)",
         "0"
        ],
        [
         "Tax & Surcharge (BDT)",
         "0"
        ],
        [
         "Total Fare (BDT)",
         "0"
        ],
        [
         "Seasonality",
         "0"
        ],
        [
         "Days Before Departure",
         "0"
        ]
       ],
       "shape": {
        "columns": 1,
        "rows": 17
       }
      },
      "text/plain": [
       "Airline                  0\n",
       "Source                   0\n",
       "Source Name              0\n",
       "Destination              0\n",
       "Destination Name         0\n",
       "Departure Date & Time    0\n",
       "Arrival Date & Time      0\n",
       "Duration (hrs)           0\n",
       "Stopovers                0\n",
       "Aircraft Type            0\n",
       "Class                    0\n",
       "Booking Source           0\n",
       "Base Fare (BDT)          0\n",
       "Tax & Surcharge (BDT)    0\n",
       "Total Fare (BDT)         0\n",
       "Seasonality              0\n",
       "Days Before Departure    0\n",
       "dtype: int64"
      ]
     },
     "execution_count": 8,
     "metadata": {},
     "output_type": "execute_result"
    }
   ],
   "source": [
    "flight_data_set.isnull().sum()"
   ]
  },
  {
   "cell_type": "code",
   "execution_count": 9,
   "id": "d00957eb",
   "metadata": {},
   "outputs": [
    {
     "data": {
      "application/vnd.microsoft.datawrangler.viewer.v0+json": {
       "columns": [
        {
         "name": "index",
         "rawType": "int64",
         "type": "integer"
        },
        {
         "name": "Airline",
         "rawType": "object",
         "type": "string"
        },
        {
         "name": "Source",
         "rawType": "object",
         "type": "string"
        },
        {
         "name": "Source Name",
         "rawType": "object",
         "type": "string"
        },
        {
         "name": "Destination",
         "rawType": "object",
         "type": "string"
        },
        {
         "name": "Destination Name",
         "rawType": "object",
         "type": "string"
        },
        {
         "name": "Departure Date & Time",
         "rawType": "object",
         "type": "string"
        },
        {
         "name": "Arrival Date & Time",
         "rawType": "object",
         "type": "string"
        },
        {
         "name": "Duration (hrs)",
         "rawType": "float64",
         "type": "float"
        },
        {
         "name": "Stopovers",
         "rawType": "object",
         "type": "string"
        },
        {
         "name": "Aircraft Type",
         "rawType": "object",
         "type": "string"
        },
        {
         "name": "Class",
         "rawType": "object",
         "type": "string"
        },
        {
         "name": "Booking Source",
         "rawType": "object",
         "type": "string"
        },
        {
         "name": "Base Fare (BDT)",
         "rawType": "float64",
         "type": "float"
        },
        {
         "name": "Tax & Surcharge (BDT)",
         "rawType": "float64",
         "type": "float"
        },
        {
         "name": "Total Fare (BDT)",
         "rawType": "float64",
         "type": "float"
        },
        {
         "name": "Seasonality",
         "rawType": "object",
         "type": "string"
        },
        {
         "name": "Days Before Departure",
         "rawType": "int64",
         "type": "integer"
        }
       ],
       "ref": "d2192852-7bcb-4e5d-be9d-8a59adc36c24",
       "rows": [
        [
         "0",
         "Malaysian Airlines",
         "CXB",
         "Cox's Bazar Airport",
         "CCU",
         "Netaji Subhas Chandra Bose International Airport, Kolkata",
         "2025-11-17 06:25:00",
         "2025-11-17 07:38:10",
         "1.2195264539377717",
         "Direct",
         "Airbus A320",
         "Economy",
         "Online Website",
         "21131.22502141266",
         "5169.683753211899",
         "26300.90877462456",
         "Regular",
         "10"
        ],
        [
         "1",
         "Cathay Pacific",
         "BZL",
         "Barisal Airport",
         "CGP",
         "Shah Amanat International Airport, Chittagong",
         "2025-03-16 00:17:00",
         "2025-03-16 00:53:31",
         "0.6086380128173666",
         "Direct",
         "Airbus A320",
         "First Class",
         "Travel Agency",
         "11605.395470566073",
         "200.0",
         "11805.395470566073",
         "Regular",
         "14"
        ],
        [
         "2",
         "British Airways",
         "ZYL",
         "Osmani International Airport, Sylhet",
         "KUL",
         "Kuala Lumpur International Airport",
         "2025-12-13 12:03:00",
         "2025-12-13 14:44:22",
         "2.6896505565217104",
         "1 Stop",
         "Boeing 787",
         "Economy",
         "Travel Agency",
         "39882.49934875141",
         "11982.374902312711",
         "51864.87425106412",
         "Winter Holidays",
         "83"
        ],
        [
         "3",
         "Singapore Airlines",
         "RJH",
         "Shah Makhdum Airport, Rajshahi",
         "DAC",
         "Hazrat Shahjalal International Airport, Dhaka",
         "2025-05-30 03:21:00",
         "2025-05-30 04:02:09",
         "0.6860536480181382",
         "Direct",
         "Airbus A320",
         "Economy",
         "Direct Booking",
         "4435.607340298566",
         "200.0",
         "4635.607340298566",
         "Regular",
         "56"
        ],
        [
         "4",
         "British Airways",
         "SPD",
         "Saidpur Airport",
         "YYZ",
         "Toronto Pearson International Airport",
         "2025-04-25 09:14:00",
         "2025-04-25 23:17:20",
         "14.05560922703888",
         "1 Stop",
         "Airbus A350",
         "Business",
         "Direct Booking",
         "59243.806145866125",
         "14886.570921879918",
         "74130.37706774604",
         "Regular",
         "90"
        ]
       ],
       "shape": {
        "columns": 17,
        "rows": 5
       }
      },
      "text/html": [
       "<div>\n",
       "<style scoped>\n",
       "    .dataframe tbody tr th:only-of-type {\n",
       "        vertical-align: middle;\n",
       "    }\n",
       "\n",
       "    .dataframe tbody tr th {\n",
       "        vertical-align: top;\n",
       "    }\n",
       "\n",
       "    .dataframe thead th {\n",
       "        text-align: right;\n",
       "    }\n",
       "</style>\n",
       "<table border=\"1\" class=\"dataframe\">\n",
       "  <thead>\n",
       "    <tr style=\"text-align: right;\">\n",
       "      <th></th>\n",
       "      <th>Airline</th>\n",
       "      <th>Source</th>\n",
       "      <th>Source Name</th>\n",
       "      <th>Destination</th>\n",
       "      <th>Destination Name</th>\n",
       "      <th>Departure Date &amp; Time</th>\n",
       "      <th>Arrival Date &amp; Time</th>\n",
       "      <th>Duration (hrs)</th>\n",
       "      <th>Stopovers</th>\n",
       "      <th>Aircraft Type</th>\n",
       "      <th>Class</th>\n",
       "      <th>Booking Source</th>\n",
       "      <th>Base Fare (BDT)</th>\n",
       "      <th>Tax &amp; Surcharge (BDT)</th>\n",
       "      <th>Total Fare (BDT)</th>\n",
       "      <th>Seasonality</th>\n",
       "      <th>Days Before Departure</th>\n",
       "    </tr>\n",
       "  </thead>\n",
       "  <tbody>\n",
       "    <tr>\n",
       "      <th>0</th>\n",
       "      <td>Malaysian Airlines</td>\n",
       "      <td>CXB</td>\n",
       "      <td>Cox's Bazar Airport</td>\n",
       "      <td>CCU</td>\n",
       "      <td>Netaji Subhas Chandra Bose International Airpo...</td>\n",
       "      <td>2025-11-17 06:25:00</td>\n",
       "      <td>2025-11-17 07:38:10</td>\n",
       "      <td>1.219526</td>\n",
       "      <td>Direct</td>\n",
       "      <td>Airbus A320</td>\n",
       "      <td>Economy</td>\n",
       "      <td>Online Website</td>\n",
       "      <td>21131.225021</td>\n",
       "      <td>5169.683753</td>\n",
       "      <td>26300.908775</td>\n",
       "      <td>Regular</td>\n",
       "      <td>10</td>\n",
       "    </tr>\n",
       "    <tr>\n",
       "      <th>1</th>\n",
       "      <td>Cathay Pacific</td>\n",
       "      <td>BZL</td>\n",
       "      <td>Barisal Airport</td>\n",
       "      <td>CGP</td>\n",
       "      <td>Shah Amanat International Airport, Chittagong</td>\n",
       "      <td>2025-03-16 00:17:00</td>\n",
       "      <td>2025-03-16 00:53:31</td>\n",
       "      <td>0.608638</td>\n",
       "      <td>Direct</td>\n",
       "      <td>Airbus A320</td>\n",
       "      <td>First Class</td>\n",
       "      <td>Travel Agency</td>\n",
       "      <td>11605.395471</td>\n",
       "      <td>200.000000</td>\n",
       "      <td>11805.395471</td>\n",
       "      <td>Regular</td>\n",
       "      <td>14</td>\n",
       "    </tr>\n",
       "    <tr>\n",
       "      <th>2</th>\n",
       "      <td>British Airways</td>\n",
       "      <td>ZYL</td>\n",
       "      <td>Osmani International Airport, Sylhet</td>\n",
       "      <td>KUL</td>\n",
       "      <td>Kuala Lumpur International Airport</td>\n",
       "      <td>2025-12-13 12:03:00</td>\n",
       "      <td>2025-12-13 14:44:22</td>\n",
       "      <td>2.689651</td>\n",
       "      <td>1 Stop</td>\n",
       "      <td>Boeing 787</td>\n",
       "      <td>Economy</td>\n",
       "      <td>Travel Agency</td>\n",
       "      <td>39882.499349</td>\n",
       "      <td>11982.374902</td>\n",
       "      <td>51864.874251</td>\n",
       "      <td>Winter Holidays</td>\n",
       "      <td>83</td>\n",
       "    </tr>\n",
       "    <tr>\n",
       "      <th>3</th>\n",
       "      <td>Singapore Airlines</td>\n",
       "      <td>RJH</td>\n",
       "      <td>Shah Makhdum Airport, Rajshahi</td>\n",
       "      <td>DAC</td>\n",
       "      <td>Hazrat Shahjalal International Airport, Dhaka</td>\n",
       "      <td>2025-05-30 03:21:00</td>\n",
       "      <td>2025-05-30 04:02:09</td>\n",
       "      <td>0.686054</td>\n",
       "      <td>Direct</td>\n",
       "      <td>Airbus A320</td>\n",
       "      <td>Economy</td>\n",
       "      <td>Direct Booking</td>\n",
       "      <td>4435.607340</td>\n",
       "      <td>200.000000</td>\n",
       "      <td>4635.607340</td>\n",
       "      <td>Regular</td>\n",
       "      <td>56</td>\n",
       "    </tr>\n",
       "    <tr>\n",
       "      <th>4</th>\n",
       "      <td>British Airways</td>\n",
       "      <td>SPD</td>\n",
       "      <td>Saidpur Airport</td>\n",
       "      <td>YYZ</td>\n",
       "      <td>Toronto Pearson International Airport</td>\n",
       "      <td>2025-04-25 09:14:00</td>\n",
       "      <td>2025-04-25 23:17:20</td>\n",
       "      <td>14.055609</td>\n",
       "      <td>1 Stop</td>\n",
       "      <td>Airbus A350</td>\n",
       "      <td>Business</td>\n",
       "      <td>Direct Booking</td>\n",
       "      <td>59243.806146</td>\n",
       "      <td>14886.570922</td>\n",
       "      <td>74130.377068</td>\n",
       "      <td>Regular</td>\n",
       "      <td>90</td>\n",
       "    </tr>\n",
       "  </tbody>\n",
       "</table>\n",
       "</div>"
      ],
      "text/plain": [
       "              Airline Source                           Source Name  \\\n",
       "0  Malaysian Airlines    CXB                   Cox's Bazar Airport   \n",
       "1      Cathay Pacific    BZL                       Barisal Airport   \n",
       "2     British Airways    ZYL  Osmani International Airport, Sylhet   \n",
       "3  Singapore Airlines    RJH        Shah Makhdum Airport, Rajshahi   \n",
       "4     British Airways    SPD                       Saidpur Airport   \n",
       "\n",
       "  Destination                                   Destination Name  \\\n",
       "0         CCU  Netaji Subhas Chandra Bose International Airpo...   \n",
       "1         CGP      Shah Amanat International Airport, Chittagong   \n",
       "2         KUL                 Kuala Lumpur International Airport   \n",
       "3         DAC      Hazrat Shahjalal International Airport, Dhaka   \n",
       "4         YYZ              Toronto Pearson International Airport   \n",
       "\n",
       "  Departure Date & Time  Arrival Date & Time  Duration (hrs) Stopovers  \\\n",
       "0   2025-11-17 06:25:00  2025-11-17 07:38:10        1.219526    Direct   \n",
       "1   2025-03-16 00:17:00  2025-03-16 00:53:31        0.608638    Direct   \n",
       "2   2025-12-13 12:03:00  2025-12-13 14:44:22        2.689651    1 Stop   \n",
       "3   2025-05-30 03:21:00  2025-05-30 04:02:09        0.686054    Direct   \n",
       "4   2025-04-25 09:14:00  2025-04-25 23:17:20       14.055609    1 Stop   \n",
       "\n",
       "  Aircraft Type        Class  Booking Source  Base Fare (BDT)  \\\n",
       "0   Airbus A320      Economy  Online Website     21131.225021   \n",
       "1   Airbus A320  First Class   Travel Agency     11605.395471   \n",
       "2    Boeing 787      Economy   Travel Agency     39882.499349   \n",
       "3   Airbus A320      Economy  Direct Booking      4435.607340   \n",
       "4   Airbus A350     Business  Direct Booking     59243.806146   \n",
       "\n",
       "   Tax & Surcharge (BDT)  Total Fare (BDT)      Seasonality  \\\n",
       "0            5169.683753      26300.908775          Regular   \n",
       "1             200.000000      11805.395471          Regular   \n",
       "2           11982.374902      51864.874251  Winter Holidays   \n",
       "3             200.000000       4635.607340          Regular   \n",
       "4           14886.570922      74130.377068          Regular   \n",
       "\n",
       "   Days Before Departure  \n",
       "0                     10  \n",
       "1                     14  \n",
       "2                     83  \n",
       "3                     56  \n",
       "4                     90  "
      ]
     },
     "execution_count": 9,
     "metadata": {},
     "output_type": "execute_result"
    }
   ],
   "source": [
    "flight_data_set.head()"
   ]
  },
  {
   "cell_type": "markdown",
   "id": "509e7417",
   "metadata": {},
   "source": [
    "lets work on the columns like in date and time "
   ]
  },
  {
   "cell_type": "code",
   "execution_count": 12,
   "id": "ee6279f0",
   "metadata": {},
   "outputs": [
    {
     "data": {
      "text/plain": [
       "Index(['Airline', 'Source', 'Source Name', 'Destination', 'Destination Name',\n",
       "       'Departure Date & Time', 'Arrival Date & Time', 'Duration (hrs)',\n",
       "       'Stopovers', 'Aircraft Type', 'Class', 'Booking Source',\n",
       "       'Base Fare (BDT)', 'Tax & Surcharge (BDT)', 'Total Fare (BDT)',\n",
       "       'Seasonality', 'Days Before Departure'],\n",
       "      dtype='object')"
      ]
     },
     "execution_count": 12,
     "metadata": {},
     "output_type": "execute_result"
    }
   ],
   "source": [
    "flight_data_set.columns"
   ]
  },
  {
   "cell_type": "code",
   "execution_count": 14,
   "id": "7b63d18d",
   "metadata": {},
   "outputs": [
    {
     "data": {
      "text/plain": [
       "array(['2025-11-17 06:25:00', '2025-03-16 00:17:00',\n",
       "       '2025-12-13 12:03:00', ..., '2025-11-08 09:23:00',\n",
       "       '2025-11-25 10:23:00', '2025-07-05 04:12:00'],\n",
       "      shape=(54126,), dtype=object)"
      ]
     },
     "execution_count": 14,
     "metadata": {},
     "output_type": "execute_result"
    }
   ],
   "source": [
    "flight_data_set['Departure Date & Time'].unique()"
   ]
  },
  {
   "cell_type": "markdown",
   "id": "f60c01d8",
   "metadata": {},
   "source": [
    "lets check the data type of date and time "
   ]
  },
  {
   "cell_type": "code",
   "execution_count": 16,
   "id": "909ac5c5",
   "metadata": {},
   "outputs": [
    {
     "data": {
      "text/plain": [
       "str"
      ]
     },
     "execution_count": 16,
     "metadata": {},
     "output_type": "execute_result"
    }
   ],
   "source": [
    "type(flight_data_set['Departure Date & Time'][0])"
   ]
  },
  {
   "cell_type": "markdown",
   "id": "44b5a133",
   "metadata": {},
   "source": [
    "So in the date time column string data  type is used lets convert into date time"
   ]
  },
  {
   "cell_type": "code",
   "execution_count": 17,
   "id": "fe0ffdaf",
   "metadata": {},
   "outputs": [],
   "source": [
    "flight_data_set['Departure Date & Time'] = pd.to_datetime(flight_data_set['Departure Date & Time'])\n"
   ]
  },
  {
   "cell_type": "code",
   "execution_count": 21,
   "id": "447fb47e",
   "metadata": {},
   "outputs": [
    {
     "data": {
      "text/plain": [
       "pandas._libs.tslibs.timestamps.Timestamp"
      ]
     },
     "execution_count": 21,
     "metadata": {},
     "output_type": "execute_result"
    }
   ],
   "source": [
    "type(flight_data_set['Departure Date & Time'][0])"
   ]
  },
  {
   "cell_type": "code",
   "execution_count": 22,
   "id": "f7388d5a",
   "metadata": {},
   "outputs": [
    {
     "data": {
      "text/plain": [
       "Timestamp('2025-11-17 06:25:00')"
      ]
     },
     "execution_count": 22,
     "metadata": {},
     "output_type": "execute_result"
    }
   ],
   "source": [
    "flight_data_set['Departure Date & Time'][0]"
   ]
  },
  {
   "cell_type": "code",
   "execution_count": null,
   "id": "872d9d22",
   "metadata": {},
   "outputs": [],
   "source": []
  }
 ],
 "metadata": {
  "kernelspec": {
   "display_name": "Python 3",
   "language": "python",
   "name": "python3"
  },
  "language_info": {
   "codemirror_mode": {
    "name": "ipython",
    "version": 3
   },
   "file_extension": ".py",
   "mimetype": "text/x-python",
   "name": "python",
   "nbconvert_exporter": "python",
   "pygments_lexer": "ipython3",
   "version": "3.11.9"
  }
 },
 "nbformat": 4,
 "nbformat_minor": 5
}
