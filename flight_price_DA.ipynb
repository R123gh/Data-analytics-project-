{
 "cells": [
  {
   "cell_type": "code",
   "execution_count": 1,
   "id": "bc9a3c4b",
   "metadata": {},
   "outputs": [],
   "source": [
    "import numpy as np  \n",
    "import pandas as pd  \n",
    "import matplotlib.pyplot as plt \n",
    "import seaborn as sns "
   ]
  },
  {
   "cell_type": "markdown",
   "id": "89e971cb",
   "metadata": {},
   "source": [
    "# Load the dataset "
   ]
  },
  {
   "cell_type": "code",
   "execution_count": 2,
   "id": "0a5809eb",
   "metadata": {},
   "outputs": [],
   "source": [
    "flight_data_set = pd.read_csv(\"Flight_Price_Dataset_of_Bangladesh.csv\")"
   ]
  },
  {
   "cell_type": "code",
   "execution_count": 3,
   "id": "f61d7aeb",
   "metadata": {},
   "outputs": [
    {
     "data": {
      "application/vnd.microsoft.datawrangler.viewer.v0+json": {
       "columns": [
        {
         "name": "index",
         "rawType": "int64",
         "type": "integer"
        },
        {
         "name": "Airline",
         "rawType": "object",
         "type": "string"
        },
        {
         "name": "Source",
         "rawType": "object",
         "type": "string"
        },
        {
         "name": "Source Name",
         "rawType": "object",
         "type": "string"
        },
        {
         "name": "Destination",
         "rawType": "object",
         "type": "string"
        },
        {
         "name": "Destination Name",
         "rawType": "object",
         "type": "string"
        },
        {
         "name": "Departure Date & Time",
         "rawType": "object",
         "type": "string"
        },
        {
         "name": "Arrival Date & Time",
         "rawType": "object",
         "type": "string"
        },
        {
         "name": "Duration (hrs)",
         "rawType": "float64",
         "type": "float"
        },
        {
         "name": "Stopovers",
         "rawType": "object",
         "type": "string"
        },
        {
         "name": "Aircraft Type",
         "rawType": "object",
         "type": "string"
        },
        {
         "name": "Class",
         "rawType": "object",
         "type": "string"
        },
        {
         "name": "Booking Source",
         "rawType": "object",
         "type": "string"
        },
        {
         "name": "Base Fare (BDT)",
         "rawType": "float64",
         "type": "float"
        },
        {
         "name": "Tax & Surcharge (BDT)",
         "rawType": "float64",
         "type": "float"
        },
        {
         "name": "Total Fare (BDT)",
         "rawType": "float64",
         "type": "float"
        },
        {
         "name": "Seasonality",
         "rawType": "object",
         "type": "string"
        },
        {
         "name": "Days Before Departure",
         "rawType": "int64",
         "type": "integer"
        }
       ],
       "ref": "bc486ae7-c937-444a-9c07-9e6defea14be",
       "rows": [
        [
         "0",
         "Malaysian Airlines",
         "CXB",
         "Cox's Bazar Airport",
         "CCU",
         "Netaji Subhas Chandra Bose International Airport, Kolkata",
         "2025-11-17 06:25:00",
         "2025-11-17 07:38:10",
         "1.2195264539377717",
         "Direct",
         "Airbus A320",
         "Economy",
         "Online Website",
         "21131.22502141266",
         "5169.683753211899",
         "26300.90877462456",
         "Regular",
         "10"
        ],
        [
         "1",
         "Cathay Pacific",
         "BZL",
         "Barisal Airport",
         "CGP",
         "Shah Amanat International Airport, Chittagong",
         "2025-03-16 00:17:00",
         "2025-03-16 00:53:31",
         "0.6086380128173666",
         "Direct",
         "Airbus A320",
         "First Class",
         "Travel Agency",
         "11605.395470566073",
         "200.0",
         "11805.395470566073",
         "Regular",
         "14"
        ],
        [
         "2",
         "British Airways",
         "ZYL",
         "Osmani International Airport, Sylhet",
         "KUL",
         "Kuala Lumpur International Airport",
         "2025-12-13 12:03:00",
         "2025-12-13 14:44:22",
         "2.6896505565217104",
         "1 Stop",
         "Boeing 787",
         "Economy",
         "Travel Agency",
         "39882.49934875141",
         "11982.374902312711",
         "51864.87425106412",
         "Winter Holidays",
         "83"
        ],
        [
         "3",
         "Singapore Airlines",
         "RJH",
         "Shah Makhdum Airport, Rajshahi",
         "DAC",
         "Hazrat Shahjalal International Airport, Dhaka",
         "2025-05-30 03:21:00",
         "2025-05-30 04:02:09",
         "0.6860536480181382",
         "Direct",
         "Airbus A320",
         "Economy",
         "Direct Booking",
         "4435.607340298566",
         "200.0",
         "4635.607340298566",
         "Regular",
         "56"
        ],
        [
         "4",
         "British Airways",
         "SPD",
         "Saidpur Airport",
         "YYZ",
         "Toronto Pearson International Airport",
         "2025-04-25 09:14:00",
         "2025-04-25 23:17:20",
         "14.05560922703888",
         "1 Stop",
         "Airbus A350",
         "Business",
         "Direct Booking",
         "59243.806145866125",
         "14886.570921879918",
         "74130.37706774604",
         "Regular",
         "90"
        ],
        [
         "5",
         "IndiGo",
         "ZYL",
         "Osmani International Airport, Sylhet",
         "SPD",
         "Saidpur Airport",
         "2025-06-18 18:28:00",
         "2025-06-18 19:33:06",
         "1.085065740447081",
         "Direct",
         "Airbus A320",
         "Business",
         "Travel Agency",
         "5036.394160331064",
         "200.0",
         "5236.394160331064",
         "Regular",
         "70"
        ],
        [
         "6",
         "US-Bangla Airlines",
         "SPD",
         "Saidpur Airport",
         "BZL",
         "Barisal Airport",
         "2025-10-25 22:41:00",
         "2025-10-25 23:45:41",
         "1.0781554879523396",
         "Direct",
         "Airbus A320",
         "Business",
         "Direct Booking",
         "7397.669873630726",
         "200.0",
         "7597.669873630726",
         "Regular",
         "28"
        ],
        [
         "7",
         "AirAsia",
         "JSR",
         "Jessore Airport",
         "LHR",
         "London Heathrow Airport",
         "2025-12-28 01:38:00",
         "2025-12-28 10:30:49",
         "8.880375526991697",
         "1 Stop",
         "Airbus A350",
         "Economy",
         "Online Website",
         "11946.813582613677",
         "7792.022037392051",
         "19738.835620005724",
         "Winter Holidays",
         "12"
        ],
        [
         "8",
         "Etihad Airways",
         "SPD",
         "Saidpur Airport",
         "KUL",
         "Kuala Lumpur International Airport",
         "2025-07-06 21:52:00",
         "2025-07-07 01:09:46",
         "3.296281693097868",
         "Direct",
         "Boeing 787",
         "Business",
         "Travel Agency",
         "74973.62187091996",
         "17246.043280637994",
         "92219.66515155796",
         "Regular",
         "23"
        ],
        [
         "9",
         "US-Bangla Airlines",
         "DAC",
         "Hazrat Shahjalal International Airport, Dhaka",
         "DEL",
         "Indira Gandhi International Airport, Delhi",
         "2025-04-14 23:19:00",
         "2025-04-15 01:54:44",
         "2.595620253019129",
         "Direct",
         "Boeing 787",
         "First Class",
         "Direct Booking",
         "116951.64544472432",
         "19542.746816708648",
         "136494.39226143298",
         "Regular",
         "41"
        ]
       ],
       "shape": {
        "columns": 17,
        "rows": 10
       }
      },
      "text/html": [
       "<div>\n",
       "<style scoped>\n",
       "    .dataframe tbody tr th:only-of-type {\n",
       "        vertical-align: middle;\n",
       "    }\n",
       "\n",
       "    .dataframe tbody tr th {\n",
       "        vertical-align: top;\n",
       "    }\n",
       "\n",
       "    .dataframe thead th {\n",
       "        text-align: right;\n",
       "    }\n",
       "</style>\n",
       "<table border=\"1\" class=\"dataframe\">\n",
       "  <thead>\n",
       "    <tr style=\"text-align: right;\">\n",
       "      <th></th>\n",
       "      <th>Airline</th>\n",
       "      <th>Source</th>\n",
       "      <th>Source Name</th>\n",
       "      <th>Destination</th>\n",
       "      <th>Destination Name</th>\n",
       "      <th>Departure Date &amp; Time</th>\n",
       "      <th>Arrival Date &amp; Time</th>\n",
       "      <th>Duration (hrs)</th>\n",
       "      <th>Stopovers</th>\n",
       "      <th>Aircraft Type</th>\n",
       "      <th>Class</th>\n",
       "      <th>Booking Source</th>\n",
       "      <th>Base Fare (BDT)</th>\n",
       "      <th>Tax &amp; Surcharge (BDT)</th>\n",
       "      <th>Total Fare (BDT)</th>\n",
       "      <th>Seasonality</th>\n",
       "      <th>Days Before Departure</th>\n",
       "    </tr>\n",
       "  </thead>\n",
       "  <tbody>\n",
       "    <tr>\n",
       "      <th>0</th>\n",
       "      <td>Malaysian Airlines</td>\n",
       "      <td>CXB</td>\n",
       "      <td>Cox's Bazar Airport</td>\n",
       "      <td>CCU</td>\n",
       "      <td>Netaji Subhas Chandra Bose International Airpo...</td>\n",
       "      <td>2025-11-17 06:25:00</td>\n",
       "      <td>2025-11-17 07:38:10</td>\n",
       "      <td>1.219526</td>\n",
       "      <td>Direct</td>\n",
       "      <td>Airbus A320</td>\n",
       "      <td>Economy</td>\n",
       "      <td>Online Website</td>\n",
       "      <td>21131.225021</td>\n",
       "      <td>5169.683753</td>\n",
       "      <td>26300.908775</td>\n",
       "      <td>Regular</td>\n",
       "      <td>10</td>\n",
       "    </tr>\n",
       "    <tr>\n",
       "      <th>1</th>\n",
       "      <td>Cathay Pacific</td>\n",
       "      <td>BZL</td>\n",
       "      <td>Barisal Airport</td>\n",
       "      <td>CGP</td>\n",
       "      <td>Shah Amanat International Airport, Chittagong</td>\n",
       "      <td>2025-03-16 00:17:00</td>\n",
       "      <td>2025-03-16 00:53:31</td>\n",
       "      <td>0.608638</td>\n",
       "      <td>Direct</td>\n",
       "      <td>Airbus A320</td>\n",
       "      <td>First Class</td>\n",
       "      <td>Travel Agency</td>\n",
       "      <td>11605.395471</td>\n",
       "      <td>200.000000</td>\n",
       "      <td>11805.395471</td>\n",
       "      <td>Regular</td>\n",
       "      <td>14</td>\n",
       "    </tr>\n",
       "    <tr>\n",
       "      <th>2</th>\n",
       "      <td>British Airways</td>\n",
       "      <td>ZYL</td>\n",
       "      <td>Osmani International Airport, Sylhet</td>\n",
       "      <td>KUL</td>\n",
       "      <td>Kuala Lumpur International Airport</td>\n",
       "      <td>2025-12-13 12:03:00</td>\n",
       "      <td>2025-12-13 14:44:22</td>\n",
       "      <td>2.689651</td>\n",
       "      <td>1 Stop</td>\n",
       "      <td>Boeing 787</td>\n",
       "      <td>Economy</td>\n",
       "      <td>Travel Agency</td>\n",
       "      <td>39882.499349</td>\n",
       "      <td>11982.374902</td>\n",
       "      <td>51864.874251</td>\n",
       "      <td>Winter Holidays</td>\n",
       "      <td>83</td>\n",
       "    </tr>\n",
       "    <tr>\n",
       "      <th>3</th>\n",
       "      <td>Singapore Airlines</td>\n",
       "      <td>RJH</td>\n",
       "      <td>Shah Makhdum Airport, Rajshahi</td>\n",
       "      <td>DAC</td>\n",
       "      <td>Hazrat Shahjalal International Airport, Dhaka</td>\n",
       "      <td>2025-05-30 03:21:00</td>\n",
       "      <td>2025-05-30 04:02:09</td>\n",
       "      <td>0.686054</td>\n",
       "      <td>Direct</td>\n",
       "      <td>Airbus A320</td>\n",
       "      <td>Economy</td>\n",
       "      <td>Direct Booking</td>\n",
       "      <td>4435.607340</td>\n",
       "      <td>200.000000</td>\n",
       "      <td>4635.607340</td>\n",
       "      <td>Regular</td>\n",
       "      <td>56</td>\n",
       "    </tr>\n",
       "    <tr>\n",
       "      <th>4</th>\n",
       "      <td>British Airways</td>\n",
       "      <td>SPD</td>\n",
       "      <td>Saidpur Airport</td>\n",
       "      <td>YYZ</td>\n",
       "      <td>Toronto Pearson International Airport</td>\n",
       "      <td>2025-04-25 09:14:00</td>\n",
       "      <td>2025-04-25 23:17:20</td>\n",
       "      <td>14.055609</td>\n",
       "      <td>1 Stop</td>\n",
       "      <td>Airbus A350</td>\n",
       "      <td>Business</td>\n",
       "      <td>Direct Booking</td>\n",
       "      <td>59243.806146</td>\n",
       "      <td>14886.570922</td>\n",
       "      <td>74130.377068</td>\n",
       "      <td>Regular</td>\n",
       "      <td>90</td>\n",
       "    </tr>\n",
       "    <tr>\n",
       "      <th>5</th>\n",
       "      <td>IndiGo</td>\n",
       "      <td>ZYL</td>\n",
       "      <td>Osmani International Airport, Sylhet</td>\n",
       "      <td>SPD</td>\n",
       "      <td>Saidpur Airport</td>\n",
       "      <td>2025-06-18 18:28:00</td>\n",
       "      <td>2025-06-18 19:33:06</td>\n",
       "      <td>1.085066</td>\n",
       "      <td>Direct</td>\n",
       "      <td>Airbus A320</td>\n",
       "      <td>Business</td>\n",
       "      <td>Travel Agency</td>\n",
       "      <td>5036.394160</td>\n",
       "      <td>200.000000</td>\n",
       "      <td>5236.394160</td>\n",
       "      <td>Regular</td>\n",
       "      <td>70</td>\n",
       "    </tr>\n",
       "    <tr>\n",
       "      <th>6</th>\n",
       "      <td>US-Bangla Airlines</td>\n",
       "      <td>SPD</td>\n",
       "      <td>Saidpur Airport</td>\n",
       "      <td>BZL</td>\n",
       "      <td>Barisal Airport</td>\n",
       "      <td>2025-10-25 22:41:00</td>\n",
       "      <td>2025-10-25 23:45:41</td>\n",
       "      <td>1.078155</td>\n",
       "      <td>Direct</td>\n",
       "      <td>Airbus A320</td>\n",
       "      <td>Business</td>\n",
       "      <td>Direct Booking</td>\n",
       "      <td>7397.669874</td>\n",
       "      <td>200.000000</td>\n",
       "      <td>7597.669874</td>\n",
       "      <td>Regular</td>\n",
       "      <td>28</td>\n",
       "    </tr>\n",
       "    <tr>\n",
       "      <th>7</th>\n",
       "      <td>AirAsia</td>\n",
       "      <td>JSR</td>\n",
       "      <td>Jessore Airport</td>\n",
       "      <td>LHR</td>\n",
       "      <td>London Heathrow Airport</td>\n",
       "      <td>2025-12-28 01:38:00</td>\n",
       "      <td>2025-12-28 10:30:49</td>\n",
       "      <td>8.880376</td>\n",
       "      <td>1 Stop</td>\n",
       "      <td>Airbus A350</td>\n",
       "      <td>Economy</td>\n",
       "      <td>Online Website</td>\n",
       "      <td>11946.813583</td>\n",
       "      <td>7792.022037</td>\n",
       "      <td>19738.835620</td>\n",
       "      <td>Winter Holidays</td>\n",
       "      <td>12</td>\n",
       "    </tr>\n",
       "    <tr>\n",
       "      <th>8</th>\n",
       "      <td>Etihad Airways</td>\n",
       "      <td>SPD</td>\n",
       "      <td>Saidpur Airport</td>\n",
       "      <td>KUL</td>\n",
       "      <td>Kuala Lumpur International Airport</td>\n",
       "      <td>2025-07-06 21:52:00</td>\n",
       "      <td>2025-07-07 01:09:46</td>\n",
       "      <td>3.296282</td>\n",
       "      <td>Direct</td>\n",
       "      <td>Boeing 787</td>\n",
       "      <td>Business</td>\n",
       "      <td>Travel Agency</td>\n",
       "      <td>74973.621871</td>\n",
       "      <td>17246.043281</td>\n",
       "      <td>92219.665152</td>\n",
       "      <td>Regular</td>\n",
       "      <td>23</td>\n",
       "    </tr>\n",
       "    <tr>\n",
       "      <th>9</th>\n",
       "      <td>US-Bangla Airlines</td>\n",
       "      <td>DAC</td>\n",
       "      <td>Hazrat Shahjalal International Airport, Dhaka</td>\n",
       "      <td>DEL</td>\n",
       "      <td>Indira Gandhi International Airport, Delhi</td>\n",
       "      <td>2025-04-14 23:19:00</td>\n",
       "      <td>2025-04-15 01:54:44</td>\n",
       "      <td>2.595620</td>\n",
       "      <td>Direct</td>\n",
       "      <td>Boeing 787</td>\n",
       "      <td>First Class</td>\n",
       "      <td>Direct Booking</td>\n",
       "      <td>116951.645445</td>\n",
       "      <td>19542.746817</td>\n",
       "      <td>136494.392261</td>\n",
       "      <td>Regular</td>\n",
       "      <td>41</td>\n",
       "    </tr>\n",
       "  </tbody>\n",
       "</table>\n",
       "</div>"
      ],
      "text/plain": [
       "              Airline Source                                    Source Name  \\\n",
       "0  Malaysian Airlines    CXB                            Cox's Bazar Airport   \n",
       "1      Cathay Pacific    BZL                                Barisal Airport   \n",
       "2     British Airways    ZYL           Osmani International Airport, Sylhet   \n",
       "3  Singapore Airlines    RJH                 Shah Makhdum Airport, Rajshahi   \n",
       "4     British Airways    SPD                                Saidpur Airport   \n",
       "5              IndiGo    ZYL           Osmani International Airport, Sylhet   \n",
       "6  US-Bangla Airlines    SPD                                Saidpur Airport   \n",
       "7             AirAsia    JSR                                Jessore Airport   \n",
       "8      Etihad Airways    SPD                                Saidpur Airport   \n",
       "9  US-Bangla Airlines    DAC  Hazrat Shahjalal International Airport, Dhaka   \n",
       "\n",
       "  Destination                                   Destination Name  \\\n",
       "0         CCU  Netaji Subhas Chandra Bose International Airpo...   \n",
       "1         CGP      Shah Amanat International Airport, Chittagong   \n",
       "2         KUL                 Kuala Lumpur International Airport   \n",
       "3         DAC      Hazrat Shahjalal International Airport, Dhaka   \n",
       "4         YYZ              Toronto Pearson International Airport   \n",
       "5         SPD                                    Saidpur Airport   \n",
       "6         BZL                                    Barisal Airport   \n",
       "7         LHR                            London Heathrow Airport   \n",
       "8         KUL                 Kuala Lumpur International Airport   \n",
       "9         DEL         Indira Gandhi International Airport, Delhi   \n",
       "\n",
       "  Departure Date & Time  Arrival Date & Time  Duration (hrs) Stopovers  \\\n",
       "0   2025-11-17 06:25:00  2025-11-17 07:38:10        1.219526    Direct   \n",
       "1   2025-03-16 00:17:00  2025-03-16 00:53:31        0.608638    Direct   \n",
       "2   2025-12-13 12:03:00  2025-12-13 14:44:22        2.689651    1 Stop   \n",
       "3   2025-05-30 03:21:00  2025-05-30 04:02:09        0.686054    Direct   \n",
       "4   2025-04-25 09:14:00  2025-04-25 23:17:20       14.055609    1 Stop   \n",
       "5   2025-06-18 18:28:00  2025-06-18 19:33:06        1.085066    Direct   \n",
       "6   2025-10-25 22:41:00  2025-10-25 23:45:41        1.078155    Direct   \n",
       "7   2025-12-28 01:38:00  2025-12-28 10:30:49        8.880376    1 Stop   \n",
       "8   2025-07-06 21:52:00  2025-07-07 01:09:46        3.296282    Direct   \n",
       "9   2025-04-14 23:19:00  2025-04-15 01:54:44        2.595620    Direct   \n",
       "\n",
       "  Aircraft Type        Class  Booking Source  Base Fare (BDT)  \\\n",
       "0   Airbus A320      Economy  Online Website     21131.225021   \n",
       "1   Airbus A320  First Class   Travel Agency     11605.395471   \n",
       "2    Boeing 787      Economy   Travel Agency     39882.499349   \n",
       "3   Airbus A320      Economy  Direct Booking      4435.607340   \n",
       "4   Airbus A350     Business  Direct Booking     59243.806146   \n",
       "5   Airbus A320     Business   Travel Agency      5036.394160   \n",
       "6   Airbus A320     Business  Direct Booking      7397.669874   \n",
       "7   Airbus A350      Economy  Online Website     11946.813583   \n",
       "8    Boeing 787     Business   Travel Agency     74973.621871   \n",
       "9    Boeing 787  First Class  Direct Booking    116951.645445   \n",
       "\n",
       "   Tax & Surcharge (BDT)  Total Fare (BDT)      Seasonality  \\\n",
       "0            5169.683753      26300.908775          Regular   \n",
       "1             200.000000      11805.395471          Regular   \n",
       "2           11982.374902      51864.874251  Winter Holidays   \n",
       "3             200.000000       4635.607340          Regular   \n",
       "4           14886.570922      74130.377068          Regular   \n",
       "5             200.000000       5236.394160          Regular   \n",
       "6             200.000000       7597.669874          Regular   \n",
       "7            7792.022037      19738.835620  Winter Holidays   \n",
       "8           17246.043281      92219.665152          Regular   \n",
       "9           19542.746817     136494.392261          Regular   \n",
       "\n",
       "   Days Before Departure  \n",
       "0                     10  \n",
       "1                     14  \n",
       "2                     83  \n",
       "3                     56  \n",
       "4                     90  \n",
       "5                     70  \n",
       "6                     28  \n",
       "7                     12  \n",
       "8                     23  \n",
       "9                     41  "
      ]
     },
     "execution_count": 3,
     "metadata": {},
     "output_type": "execute_result"
    }
   ],
   "source": [
    "flight_data_set.head(10)"
   ]
  },
  {
   "cell_type": "markdown",
   "id": "e490134c",
   "metadata": {},
   "source": [
    "Check about the data set like how many rows and columns,which type of datatypes are used "
   ]
  },
  {
   "cell_type": "code",
   "execution_count": 4,
   "id": "ca37181d",
   "metadata": {},
   "outputs": [
    {
     "name": "stdout",
     "output_type": "stream",
     "text": [
      "<class 'pandas.core.frame.DataFrame'>\n",
      "RangeIndex: 57000 entries, 0 to 56999\n",
      "Data columns (total 17 columns):\n",
      " #   Column                 Non-Null Count  Dtype  \n",
      "---  ------                 --------------  -----  \n",
      " 0   Airline                57000 non-null  object \n",
      " 1   Source                 57000 non-null  object \n",
      " 2   Source Name            57000 non-null  object \n",
      " 3   Destination            57000 non-null  object \n",
      " 4   Destination Name       57000 non-null  object \n",
      " 5   Departure Date & Time  57000 non-null  object \n",
      " 6   Arrival Date & Time    57000 non-null  object \n",
      " 7   Duration (hrs)         57000 non-null  float64\n",
      " 8   Stopovers              57000 non-null  object \n",
      " 9   Aircraft Type          57000 non-null  object \n",
      " 10  Class                  57000 non-null  object \n",
      " 11  Booking Source         57000 non-null  object \n",
      " 12  Base Fare (BDT)        57000 non-null  float64\n",
      " 13  Tax & Surcharge (BDT)  57000 non-null  float64\n",
      " 14  Total Fare (BDT)       57000 non-null  float64\n",
      " 15  Seasonality            57000 non-null  object \n",
      " 16  Days Before Departure  57000 non-null  int64  \n",
      "dtypes: float64(4), int64(1), object(12)\n",
      "memory usage: 7.4+ MB\n"
     ]
    }
   ],
   "source": [
    "flight_data_set.info()"
   ]
  },
  {
   "cell_type": "markdown",
   "id": "92ba6ed2",
   "metadata": {},
   "source": [
    "Also check wether in dataset null values is present or not "
   ]
  },
  {
   "cell_type": "code",
   "execution_count": 5,
   "id": "664f9209",
   "metadata": {},
   "outputs": [
    {
     "data": {
      "application/vnd.microsoft.datawrangler.viewer.v0+json": {
       "columns": [
        {
         "name": "index",
         "rawType": "object",
         "type": "string"
        },
        {
         "name": "0",
         "rawType": "int64",
         "type": "integer"
        }
       ],
       "ref": "41b158c1-b4bb-4c15-b7f0-259f3028d50d",
       "rows": [
        [
         "Airline",
         "0"
        ],
        [
         "Source",
         "0"
        ],
        [
         "Source Name",
         "0"
        ],
        [
         "Destination",
         "0"
        ],
        [
         "Destination Name",
         "0"
        ],
        [
         "Departure Date & Time",
         "0"
        ],
        [
         "Arrival Date & Time",
         "0"
        ],
        [
         "Duration (hrs)",
         "0"
        ],
        [
         "Stopovers",
         "0"
        ],
        [
         "Aircraft Type",
         "0"
        ],
        [
         "Class",
         "0"
        ],
        [
         "Booking Source",
         "0"
        ],
        [
         "Base Fare (BDT)",
         "0"
        ],
        [
         "Tax & Surcharge (BDT)",
         "0"
        ],
        [
         "Total Fare (BDT)",
         "0"
        ],
        [
         "Seasonality",
         "0"
        ],
        [
         "Days Before Departure",
         "0"
        ]
       ],
       "shape": {
        "columns": 1,
        "rows": 17
       }
      },
      "text/plain": [
       "Airline                  0\n",
       "Source                   0\n",
       "Source Name              0\n",
       "Destination              0\n",
       "Destination Name         0\n",
       "Departure Date & Time    0\n",
       "Arrival Date & Time      0\n",
       "Duration (hrs)           0\n",
       "Stopovers                0\n",
       "Aircraft Type            0\n",
       "Class                    0\n",
       "Booking Source           0\n",
       "Base Fare (BDT)          0\n",
       "Tax & Surcharge (BDT)    0\n",
       "Total Fare (BDT)         0\n",
       "Seasonality              0\n",
       "Days Before Departure    0\n",
       "dtype: int64"
      ]
     },
     "execution_count": 5,
     "metadata": {},
     "output_type": "execute_result"
    }
   ],
   "source": [
    "flight_data_set.isnull().sum()"
   ]
  },
  {
   "cell_type": "code",
   "execution_count": 6,
   "id": "d00957eb",
   "metadata": {},
   "outputs": [
    {
     "data": {
      "application/vnd.microsoft.datawrangler.viewer.v0+json": {
       "columns": [
        {
         "name": "index",
         "rawType": "int64",
         "type": "integer"
        },
        {
         "name": "Airline",
         "rawType": "object",
         "type": "string"
        },
        {
         "name": "Source",
         "rawType": "object",
         "type": "string"
        },
        {
         "name": "Source Name",
         "rawType": "object",
         "type": "string"
        },
        {
         "name": "Destination",
         "rawType": "object",
         "type": "string"
        },
        {
         "name": "Destination Name",
         "rawType": "object",
         "type": "string"
        },
        {
         "name": "Departure Date & Time",
         "rawType": "object",
         "type": "string"
        },
        {
         "name": "Arrival Date & Time",
         "rawType": "object",
         "type": "string"
        },
        {
         "name": "Duration (hrs)",
         "rawType": "float64",
         "type": "float"
        },
        {
         "name": "Stopovers",
         "rawType": "object",
         "type": "string"
        },
        {
         "name": "Aircraft Type",
         "rawType": "object",
         "type": "string"
        },
        {
         "name": "Class",
         "rawType": "object",
         "type": "string"
        },
        {
         "name": "Booking Source",
         "rawType": "object",
         "type": "string"
        },
        {
         "name": "Base Fare (BDT)",
         "rawType": "float64",
         "type": "float"
        },
        {
         "name": "Tax & Surcharge (BDT)",
         "rawType": "float64",
         "type": "float"
        },
        {
         "name": "Total Fare (BDT)",
         "rawType": "float64",
         "type": "float"
        },
        {
         "name": "Seasonality",
         "rawType": "object",
         "type": "string"
        },
        {
         "name": "Days Before Departure",
         "rawType": "int64",
         "type": "integer"
        }
       ],
       "ref": "5f3726aa-14dd-4d26-890d-ed763378a7ec",
       "rows": [
        [
         "0",
         "Malaysian Airlines",
         "CXB",
         "Cox's Bazar Airport",
         "CCU",
         "Netaji Subhas Chandra Bose International Airport, Kolkata",
         "2025-11-17 06:25:00",
         "2025-11-17 07:38:10",
         "1.2195264539377717",
         "Direct",
         "Airbus A320",
         "Economy",
         "Online Website",
         "21131.22502141266",
         "5169.683753211899",
         "26300.90877462456",
         "Regular",
         "10"
        ],
        [
         "1",
         "Cathay Pacific",
         "BZL",
         "Barisal Airport",
         "CGP",
         "Shah Amanat International Airport, Chittagong",
         "2025-03-16 00:17:00",
         "2025-03-16 00:53:31",
         "0.6086380128173666",
         "Direct",
         "Airbus A320",
         "First Class",
         "Travel Agency",
         "11605.395470566073",
         "200.0",
         "11805.395470566073",
         "Regular",
         "14"
        ],
        [
         "2",
         "British Airways",
         "ZYL",
         "Osmani International Airport, Sylhet",
         "KUL",
         "Kuala Lumpur International Airport",
         "2025-12-13 12:03:00",
         "2025-12-13 14:44:22",
         "2.6896505565217104",
         "1 Stop",
         "Boeing 787",
         "Economy",
         "Travel Agency",
         "39882.49934875141",
         "11982.374902312711",
         "51864.87425106412",
         "Winter Holidays",
         "83"
        ],
        [
         "3",
         "Singapore Airlines",
         "RJH",
         "Shah Makhdum Airport, Rajshahi",
         "DAC",
         "Hazrat Shahjalal International Airport, Dhaka",
         "2025-05-30 03:21:00",
         "2025-05-30 04:02:09",
         "0.6860536480181382",
         "Direct",
         "Airbus A320",
         "Economy",
         "Direct Booking",
         "4435.607340298566",
         "200.0",
         "4635.607340298566",
         "Regular",
         "56"
        ],
        [
         "4",
         "British Airways",
         "SPD",
         "Saidpur Airport",
         "YYZ",
         "Toronto Pearson International Airport",
         "2025-04-25 09:14:00",
         "2025-04-25 23:17:20",
         "14.05560922703888",
         "1 Stop",
         "Airbus A350",
         "Business",
         "Direct Booking",
         "59243.806145866125",
         "14886.570921879918",
         "74130.37706774604",
         "Regular",
         "90"
        ]
       ],
       "shape": {
        "columns": 17,
        "rows": 5
       }
      },
      "text/html": [
       "<div>\n",
       "<style scoped>\n",
       "    .dataframe tbody tr th:only-of-type {\n",
       "        vertical-align: middle;\n",
       "    }\n",
       "\n",
       "    .dataframe tbody tr th {\n",
       "        vertical-align: top;\n",
       "    }\n",
       "\n",
       "    .dataframe thead th {\n",
       "        text-align: right;\n",
       "    }\n",
       "</style>\n",
       "<table border=\"1\" class=\"dataframe\">\n",
       "  <thead>\n",
       "    <tr style=\"text-align: right;\">\n",
       "      <th></th>\n",
       "      <th>Airline</th>\n",
       "      <th>Source</th>\n",
       "      <th>Source Name</th>\n",
       "      <th>Destination</th>\n",
       "      <th>Destination Name</th>\n",
       "      <th>Departure Date &amp; Time</th>\n",
       "      <th>Arrival Date &amp; Time</th>\n",
       "      <th>Duration (hrs)</th>\n",
       "      <th>Stopovers</th>\n",
       "      <th>Aircraft Type</th>\n",
       "      <th>Class</th>\n",
       "      <th>Booking Source</th>\n",
       "      <th>Base Fare (BDT)</th>\n",
       "      <th>Tax &amp; Surcharge (BDT)</th>\n",
       "      <th>Total Fare (BDT)</th>\n",
       "      <th>Seasonality</th>\n",
       "      <th>Days Before Departure</th>\n",
       "    </tr>\n",
       "  </thead>\n",
       "  <tbody>\n",
       "    <tr>\n",
       "      <th>0</th>\n",
       "      <td>Malaysian Airlines</td>\n",
       "      <td>CXB</td>\n",
       "      <td>Cox's Bazar Airport</td>\n",
       "      <td>CCU</td>\n",
       "      <td>Netaji Subhas Chandra Bose International Airpo...</td>\n",
       "      <td>2025-11-17 06:25:00</td>\n",
       "      <td>2025-11-17 07:38:10</td>\n",
       "      <td>1.219526</td>\n",
       "      <td>Direct</td>\n",
       "      <td>Airbus A320</td>\n",
       "      <td>Economy</td>\n",
       "      <td>Online Website</td>\n",
       "      <td>21131.225021</td>\n",
       "      <td>5169.683753</td>\n",
       "      <td>26300.908775</td>\n",
       "      <td>Regular</td>\n",
       "      <td>10</td>\n",
       "    </tr>\n",
       "    <tr>\n",
       "      <th>1</th>\n",
       "      <td>Cathay Pacific</td>\n",
       "      <td>BZL</td>\n",
       "      <td>Barisal Airport</td>\n",
       "      <td>CGP</td>\n",
       "      <td>Shah Amanat International Airport, Chittagong</td>\n",
       "      <td>2025-03-16 00:17:00</td>\n",
       "      <td>2025-03-16 00:53:31</td>\n",
       "      <td>0.608638</td>\n",
       "      <td>Direct</td>\n",
       "      <td>Airbus A320</td>\n",
       "      <td>First Class</td>\n",
       "      <td>Travel Agency</td>\n",
       "      <td>11605.395471</td>\n",
       "      <td>200.000000</td>\n",
       "      <td>11805.395471</td>\n",
       "      <td>Regular</td>\n",
       "      <td>14</td>\n",
       "    </tr>\n",
       "    <tr>\n",
       "      <th>2</th>\n",
       "      <td>British Airways</td>\n",
       "      <td>ZYL</td>\n",
       "      <td>Osmani International Airport, Sylhet</td>\n",
       "      <td>KUL</td>\n",
       "      <td>Kuala Lumpur International Airport</td>\n",
       "      <td>2025-12-13 12:03:00</td>\n",
       "      <td>2025-12-13 14:44:22</td>\n",
       "      <td>2.689651</td>\n",
       "      <td>1 Stop</td>\n",
       "      <td>Boeing 787</td>\n",
       "      <td>Economy</td>\n",
       "      <td>Travel Agency</td>\n",
       "      <td>39882.499349</td>\n",
       "      <td>11982.374902</td>\n",
       "      <td>51864.874251</td>\n",
       "      <td>Winter Holidays</td>\n",
       "      <td>83</td>\n",
       "    </tr>\n",
       "    <tr>\n",
       "      <th>3</th>\n",
       "      <td>Singapore Airlines</td>\n",
       "      <td>RJH</td>\n",
       "      <td>Shah Makhdum Airport, Rajshahi</td>\n",
       "      <td>DAC</td>\n",
       "      <td>Hazrat Shahjalal International Airport, Dhaka</td>\n",
       "      <td>2025-05-30 03:21:00</td>\n",
       "      <td>2025-05-30 04:02:09</td>\n",
       "      <td>0.686054</td>\n",
       "      <td>Direct</td>\n",
       "      <td>Airbus A320</td>\n",
       "      <td>Economy</td>\n",
       "      <td>Direct Booking</td>\n",
       "      <td>4435.607340</td>\n",
       "      <td>200.000000</td>\n",
       "      <td>4635.607340</td>\n",
       "      <td>Regular</td>\n",
       "      <td>56</td>\n",
       "    </tr>\n",
       "    <tr>\n",
       "      <th>4</th>\n",
       "      <td>British Airways</td>\n",
       "      <td>SPD</td>\n",
       "      <td>Saidpur Airport</td>\n",
       "      <td>YYZ</td>\n",
       "      <td>Toronto Pearson International Airport</td>\n",
       "      <td>2025-04-25 09:14:00</td>\n",
       "      <td>2025-04-25 23:17:20</td>\n",
       "      <td>14.055609</td>\n",
       "      <td>1 Stop</td>\n",
       "      <td>Airbus A350</td>\n",
       "      <td>Business</td>\n",
       "      <td>Direct Booking</td>\n",
       "      <td>59243.806146</td>\n",
       "      <td>14886.570922</td>\n",
       "      <td>74130.377068</td>\n",
       "      <td>Regular</td>\n",
       "      <td>90</td>\n",
       "    </tr>\n",
       "  </tbody>\n",
       "</table>\n",
       "</div>"
      ],
      "text/plain": [
       "              Airline Source                           Source Name  \\\n",
       "0  Malaysian Airlines    CXB                   Cox's Bazar Airport   \n",
       "1      Cathay Pacific    BZL                       Barisal Airport   \n",
       "2     British Airways    ZYL  Osmani International Airport, Sylhet   \n",
       "3  Singapore Airlines    RJH        Shah Makhdum Airport, Rajshahi   \n",
       "4     British Airways    SPD                       Saidpur Airport   \n",
       "\n",
       "  Destination                                   Destination Name  \\\n",
       "0         CCU  Netaji Subhas Chandra Bose International Airpo...   \n",
       "1         CGP      Shah Amanat International Airport, Chittagong   \n",
       "2         KUL                 Kuala Lumpur International Airport   \n",
       "3         DAC      Hazrat Shahjalal International Airport, Dhaka   \n",
       "4         YYZ              Toronto Pearson International Airport   \n",
       "\n",
       "  Departure Date & Time  Arrival Date & Time  Duration (hrs) Stopovers  \\\n",
       "0   2025-11-17 06:25:00  2025-11-17 07:38:10        1.219526    Direct   \n",
       "1   2025-03-16 00:17:00  2025-03-16 00:53:31        0.608638    Direct   \n",
       "2   2025-12-13 12:03:00  2025-12-13 14:44:22        2.689651    1 Stop   \n",
       "3   2025-05-30 03:21:00  2025-05-30 04:02:09        0.686054    Direct   \n",
       "4   2025-04-25 09:14:00  2025-04-25 23:17:20       14.055609    1 Stop   \n",
       "\n",
       "  Aircraft Type        Class  Booking Source  Base Fare (BDT)  \\\n",
       "0   Airbus A320      Economy  Online Website     21131.225021   \n",
       "1   Airbus A320  First Class   Travel Agency     11605.395471   \n",
       "2    Boeing 787      Economy   Travel Agency     39882.499349   \n",
       "3   Airbus A320      Economy  Direct Booking      4435.607340   \n",
       "4   Airbus A350     Business  Direct Booking     59243.806146   \n",
       "\n",
       "   Tax & Surcharge (BDT)  Total Fare (BDT)      Seasonality  \\\n",
       "0            5169.683753      26300.908775          Regular   \n",
       "1             200.000000      11805.395471          Regular   \n",
       "2           11982.374902      51864.874251  Winter Holidays   \n",
       "3             200.000000       4635.607340          Regular   \n",
       "4           14886.570922      74130.377068          Regular   \n",
       "\n",
       "   Days Before Departure  \n",
       "0                     10  \n",
       "1                     14  \n",
       "2                     83  \n",
       "3                     56  \n",
       "4                     90  "
      ]
     },
     "execution_count": 6,
     "metadata": {},
     "output_type": "execute_result"
    }
   ],
   "source": [
    "flight_data_set.head()"
   ]
  },
  {
   "cell_type": "markdown",
   "id": "509e7417",
   "metadata": {},
   "source": [
    "lets work on the columns like in date and time "
   ]
  },
  {
   "cell_type": "code",
   "execution_count": 7,
   "id": "ee6279f0",
   "metadata": {},
   "outputs": [
    {
     "data": {
      "text/plain": [
       "Index(['Airline', 'Source', 'Source Name', 'Destination', 'Destination Name',\n",
       "       'Departure Date & Time', 'Arrival Date & Time', 'Duration (hrs)',\n",
       "       'Stopovers', 'Aircraft Type', 'Class', 'Booking Source',\n",
       "       'Base Fare (BDT)', 'Tax & Surcharge (BDT)', 'Total Fare (BDT)',\n",
       "       'Seasonality', 'Days Before Departure'],\n",
       "      dtype='object')"
      ]
     },
     "execution_count": 7,
     "metadata": {},
     "output_type": "execute_result"
    }
   ],
   "source": [
    "flight_data_set.columns"
   ]
  },
  {
   "cell_type": "code",
   "execution_count": 8,
   "id": "7b63d18d",
   "metadata": {},
   "outputs": [
    {
     "data": {
      "text/plain": [
       "array(['2025-11-17 06:25:00', '2025-03-16 00:17:00',\n",
       "       '2025-12-13 12:03:00', ..., '2025-11-08 09:23:00',\n",
       "       '2025-11-25 10:23:00', '2025-07-05 04:12:00'],\n",
       "      shape=(54126,), dtype=object)"
      ]
     },
     "execution_count": 8,
     "metadata": {},
     "output_type": "execute_result"
    }
   ],
   "source": [
    "flight_data_set['Departure Date & Time'].unique()"
   ]
  },
  {
   "cell_type": "markdown",
   "id": "f60c01d8",
   "metadata": {},
   "source": [
    "lets check the data type of date and time "
   ]
  },
  {
   "cell_type": "code",
   "execution_count": 9,
   "id": "909ac5c5",
   "metadata": {},
   "outputs": [
    {
     "data": {
      "text/plain": [
       "str"
      ]
     },
     "execution_count": 9,
     "metadata": {},
     "output_type": "execute_result"
    }
   ],
   "source": [
    "type(flight_data_set['Departure Date & Time'][0])"
   ]
  },
  {
   "cell_type": "markdown",
   "id": "44b5a133",
   "metadata": {},
   "source": [
    "So in the date time column string data  type is used lets convert into date time"
   ]
  },
  {
   "cell_type": "code",
   "execution_count": 10,
   "id": "fe0ffdaf",
   "metadata": {},
   "outputs": [],
   "source": [
    "flight_data_set['Departure Date & Time'] = pd.to_datetime(flight_data_set['Departure Date & Time'])\n"
   ]
  },
  {
   "cell_type": "code",
   "execution_count": 11,
   "id": "447fb47e",
   "metadata": {},
   "outputs": [
    {
     "data": {
      "text/plain": [
       "pandas._libs.tslibs.timestamps.Timestamp"
      ]
     },
     "execution_count": 11,
     "metadata": {},
     "output_type": "execute_result"
    }
   ],
   "source": [
    "type(flight_data_set['Departure Date & Time'][0])"
   ]
  },
  {
   "cell_type": "code",
   "execution_count": 12,
   "id": "f7388d5a",
   "metadata": {},
   "outputs": [
    {
     "data": {
      "text/plain": [
       "Timestamp('2025-11-17 06:25:00')"
      ]
     },
     "execution_count": 12,
     "metadata": {},
     "output_type": "execute_result"
    }
   ],
   "source": [
    "flight_data_set['Departure Date & Time'][0]"
   ]
  },
  {
   "cell_type": "markdown",
   "id": "73739d69",
   "metadata": {},
   "source": [
    "Also for another columns "
   ]
  },
  {
   "cell_type": "code",
   "execution_count": 13,
   "id": "872d9d22",
   "metadata": {},
   "outputs": [
    {
     "data": {
      "application/vnd.microsoft.datawrangler.viewer.v0+json": {
       "columns": [
        {
         "name": "index",
         "rawType": "int64",
         "type": "integer"
        },
        {
         "name": "Arrival Date & Time",
         "rawType": "object",
         "type": "string"
        }
       ],
       "ref": "ce1d14c3-0047-4abf-98d2-70084a0aaff8",
       "rows": [
        [
         "0",
         "2025-11-17 07:38:10"
        ],
        [
         "1",
         "2025-03-16 00:53:31"
        ],
        [
         "2",
         "2025-12-13 14:44:22"
        ],
        [
         "3",
         "2025-05-30 04:02:09"
        ],
        [
         "4",
         "2025-04-25 23:17:20"
        ],
        [
         "5",
         "2025-06-18 19:33:06"
        ],
        [
         "6",
         "2025-10-25 23:45:41"
        ],
        [
         "7",
         "2025-12-28 10:30:49"
        ],
        [
         "8",
         "2025-07-07 01:09:46"
        ],
        [
         "9",
         "2025-04-15 01:54:44"
        ],
        [
         "10",
         "2025-07-12 23:32:29"
        ],
        [
         "11",
         "2026-01-11 06:49:51"
        ],
        [
         "12",
         "2025-04-28 10:33:27"
        ],
        [
         "13",
         "2025-11-05 02:25:23"
        ],
        [
         "14",
         "2025-11-04 01:20:30"
        ],
        [
         "15",
         "2025-09-08 13:55:46"
        ],
        [
         "16",
         "2026-02-23 01:08:44"
        ],
        [
         "17",
         "2025-11-18 08:18:36"
        ],
        [
         "18",
         "2025-12-22 17:22:06"
        ],
        [
         "19",
         "2026-01-12 10:57:46"
        ],
        [
         "20",
         "2025-05-17 22:47:21"
        ],
        [
         "21",
         "2025-04-03 10:35:04"
        ],
        [
         "22",
         "2025-03-04 05:45:33"
        ],
        [
         "23",
         "2025-03-15 05:31:58"
        ],
        [
         "24",
         "2025-04-02 13:15:12"
        ],
        [
         "25",
         "2025-03-02 05:53:33"
        ],
        [
         "26",
         "2025-06-13 18:12:45"
        ],
        [
         "27",
         "2025-05-02 03:50:10"
        ],
        [
         "28",
         "2025-05-17 09:26:37"
        ],
        [
         "29",
         "2026-02-08 06:12:14"
        ],
        [
         "30",
         "2026-01-29 20:38:19"
        ],
        [
         "31",
         "2026-01-21 03:30:39"
        ],
        [
         "32",
         "2025-04-17 05:15:03"
        ],
        [
         "33",
         "2025-02-04 04:35:33"
        ],
        [
         "34",
         "2025-06-20 11:29:54"
        ],
        [
         "35",
         "2025-12-02 10:53:30"
        ],
        [
         "36",
         "2025-10-02 10:47:51"
        ],
        [
         "37",
         "2025-05-05 13:01:00"
        ],
        [
         "38",
         "2025-10-06 11:01:38"
        ],
        [
         "39",
         "2025-03-12 11:13:19"
        ],
        [
         "40",
         "2026-01-12 19:54:52"
        ],
        [
         "41",
         "2025-03-03 13:26:09"
        ],
        [
         "42",
         "2025-10-01 12:36:31"
        ],
        [
         "43",
         "2025-04-05 15:14:05"
        ],
        [
         "44",
         "2025-02-19 00:18:09"
        ],
        [
         "45",
         "2025-12-30 04:01:45"
        ],
        [
         "46",
         "2025-11-25 19:09:58"
        ],
        [
         "47",
         "2025-05-26 13:28:27"
        ],
        [
         "48",
         "2026-01-08 05:33:00"
        ],
        [
         "49",
         "2025-05-05 04:05:52"
        ]
       ],
       "shape": {
        "columns": 1,
        "rows": 57000
       }
      },
      "text/plain": [
       "0        2025-11-17 07:38:10\n",
       "1        2025-03-16 00:53:31\n",
       "2        2025-12-13 14:44:22\n",
       "3        2025-05-30 04:02:09\n",
       "4        2025-04-25 23:17:20\n",
       "                ...         \n",
       "56995    2025-08-11 00:40:00\n",
       "56996    2025-09-20 01:09:30\n",
       "56997    2025-11-08 10:35:59\n",
       "56998    2025-11-26 00:20:37\n",
       "56999    2025-07-05 04:50:55\n",
       "Name: Arrival Date & Time, Length: 57000, dtype: object"
      ]
     },
     "execution_count": 13,
     "metadata": {},
     "output_type": "execute_result"
    }
   ],
   "source": [
    "flight_data_set['Arrival Date & Time']"
   ]
  },
  {
   "cell_type": "code",
   "execution_count": 14,
   "id": "9af4f2fb",
   "metadata": {},
   "outputs": [
    {
     "data": {
      "text/plain": [
       "pandas.core.series.Series"
      ]
     },
     "execution_count": 14,
     "metadata": {},
     "output_type": "execute_result"
    }
   ],
   "source": [
    "type(flight_data_set['Arrival Date & Time'])"
   ]
  },
  {
   "cell_type": "code",
   "execution_count": 15,
   "id": "8e22ecf8",
   "metadata": {},
   "outputs": [],
   "source": [
    "flight_data_set['Arrival Date & Time'] = pd.to_datetime(flight_data_set['Arrival Date & Time'])"
   ]
  },
  {
   "cell_type": "code",
   "execution_count": 16,
   "id": "20f25435",
   "metadata": {},
   "outputs": [
    {
     "data": {
      "text/plain": [
       "Timestamp('2025-11-17 07:38:10')"
      ]
     },
     "execution_count": 16,
     "metadata": {},
     "output_type": "execute_result"
    }
   ],
   "source": [
    "flight_data_set['Arrival Date & Time'][0]"
   ]
  },
  {
   "cell_type": "code",
   "execution_count": 17,
   "id": "3acb9057",
   "metadata": {},
   "outputs": [
    {
     "data": {
      "application/vnd.microsoft.datawrangler.viewer.v0+json": {
       "columns": [
        {
         "name": "index",
         "rawType": "int64",
         "type": "integer"
        },
        {
         "name": "Airline",
         "rawType": "object",
         "type": "string"
        },
        {
         "name": "Source",
         "rawType": "object",
         "type": "string"
        },
        {
         "name": "Source Name",
         "rawType": "object",
         "type": "string"
        },
        {
         "name": "Destination",
         "rawType": "object",
         "type": "string"
        },
        {
         "name": "Destination Name",
         "rawType": "object",
         "type": "string"
        },
        {
         "name": "Departure Date & Time",
         "rawType": "datetime64[ns]",
         "type": "datetime"
        },
        {
         "name": "Arrival Date & Time",
         "rawType": "datetime64[ns]",
         "type": "datetime"
        },
        {
         "name": "Duration (hrs)",
         "rawType": "float64",
         "type": "float"
        },
        {
         "name": "Stopovers",
         "rawType": "object",
         "type": "string"
        },
        {
         "name": "Aircraft Type",
         "rawType": "object",
         "type": "string"
        },
        {
         "name": "Class",
         "rawType": "object",
         "type": "string"
        },
        {
         "name": "Booking Source",
         "rawType": "object",
         "type": "string"
        },
        {
         "name": "Base Fare (BDT)",
         "rawType": "float64",
         "type": "float"
        },
        {
         "name": "Tax & Surcharge (BDT)",
         "rawType": "float64",
         "type": "float"
        },
        {
         "name": "Total Fare (BDT)",
         "rawType": "float64",
         "type": "float"
        },
        {
         "name": "Seasonality",
         "rawType": "object",
         "type": "string"
        },
        {
         "name": "Days Before Departure",
         "rawType": "int64",
         "type": "integer"
        }
       ],
       "ref": "06ee7f9d-9964-489c-aab0-b06876ba4009",
       "rows": [
        [
         "0",
         "Malaysian Airlines",
         "CXB",
         "Cox's Bazar Airport",
         "CCU",
         "Netaji Subhas Chandra Bose International Airport, Kolkata",
         "2025-11-17 06:25:00",
         "2025-11-17 07:38:10",
         "1.2195264539377717",
         "Direct",
         "Airbus A320",
         "Economy",
         "Online Website",
         "21131.22502141266",
         "5169.683753211899",
         "26300.90877462456",
         "Regular",
         "10"
        ],
        [
         "1",
         "Cathay Pacific",
         "BZL",
         "Barisal Airport",
         "CGP",
         "Shah Amanat International Airport, Chittagong",
         "2025-03-16 00:17:00",
         "2025-03-16 00:53:31",
         "0.6086380128173666",
         "Direct",
         "Airbus A320",
         "First Class",
         "Travel Agency",
         "11605.395470566073",
         "200.0",
         "11805.395470566073",
         "Regular",
         "14"
        ],
        [
         "2",
         "British Airways",
         "ZYL",
         "Osmani International Airport, Sylhet",
         "KUL",
         "Kuala Lumpur International Airport",
         "2025-12-13 12:03:00",
         "2025-12-13 14:44:22",
         "2.6896505565217104",
         "1 Stop",
         "Boeing 787",
         "Economy",
         "Travel Agency",
         "39882.49934875141",
         "11982.374902312711",
         "51864.87425106412",
         "Winter Holidays",
         "83"
        ],
        [
         "3",
         "Singapore Airlines",
         "RJH",
         "Shah Makhdum Airport, Rajshahi",
         "DAC",
         "Hazrat Shahjalal International Airport, Dhaka",
         "2025-05-30 03:21:00",
         "2025-05-30 04:02:09",
         "0.6860536480181382",
         "Direct",
         "Airbus A320",
         "Economy",
         "Direct Booking",
         "4435.607340298566",
         "200.0",
         "4635.607340298566",
         "Regular",
         "56"
        ],
        [
         "4",
         "British Airways",
         "SPD",
         "Saidpur Airport",
         "YYZ",
         "Toronto Pearson International Airport",
         "2025-04-25 09:14:00",
         "2025-04-25 23:17:20",
         "14.05560922703888",
         "1 Stop",
         "Airbus A350",
         "Business",
         "Direct Booking",
         "59243.806145866125",
         "14886.570921879918",
         "74130.37706774604",
         "Regular",
         "90"
        ]
       ],
       "shape": {
        "columns": 17,
        "rows": 5
       }
      },
      "text/html": [
       "<div>\n",
       "<style scoped>\n",
       "    .dataframe tbody tr th:only-of-type {\n",
       "        vertical-align: middle;\n",
       "    }\n",
       "\n",
       "    .dataframe tbody tr th {\n",
       "        vertical-align: top;\n",
       "    }\n",
       "\n",
       "    .dataframe thead th {\n",
       "        text-align: right;\n",
       "    }\n",
       "</style>\n",
       "<table border=\"1\" class=\"dataframe\">\n",
       "  <thead>\n",
       "    <tr style=\"text-align: right;\">\n",
       "      <th></th>\n",
       "      <th>Airline</th>\n",
       "      <th>Source</th>\n",
       "      <th>Source Name</th>\n",
       "      <th>Destination</th>\n",
       "      <th>Destination Name</th>\n",
       "      <th>Departure Date &amp; Time</th>\n",
       "      <th>Arrival Date &amp; Time</th>\n",
       "      <th>Duration (hrs)</th>\n",
       "      <th>Stopovers</th>\n",
       "      <th>Aircraft Type</th>\n",
       "      <th>Class</th>\n",
       "      <th>Booking Source</th>\n",
       "      <th>Base Fare (BDT)</th>\n",
       "      <th>Tax &amp; Surcharge (BDT)</th>\n",
       "      <th>Total Fare (BDT)</th>\n",
       "      <th>Seasonality</th>\n",
       "      <th>Days Before Departure</th>\n",
       "    </tr>\n",
       "  </thead>\n",
       "  <tbody>\n",
       "    <tr>\n",
       "      <th>0</th>\n",
       "      <td>Malaysian Airlines</td>\n",
       "      <td>CXB</td>\n",
       "      <td>Cox's Bazar Airport</td>\n",
       "      <td>CCU</td>\n",
       "      <td>Netaji Subhas Chandra Bose International Airpo...</td>\n",
       "      <td>2025-11-17 06:25:00</td>\n",
       "      <td>2025-11-17 07:38:10</td>\n",
       "      <td>1.219526</td>\n",
       "      <td>Direct</td>\n",
       "      <td>Airbus A320</td>\n",
       "      <td>Economy</td>\n",
       "      <td>Online Website</td>\n",
       "      <td>21131.225021</td>\n",
       "      <td>5169.683753</td>\n",
       "      <td>26300.908775</td>\n",
       "      <td>Regular</td>\n",
       "      <td>10</td>\n",
       "    </tr>\n",
       "    <tr>\n",
       "      <th>1</th>\n",
       "      <td>Cathay Pacific</td>\n",
       "      <td>BZL</td>\n",
       "      <td>Barisal Airport</td>\n",
       "      <td>CGP</td>\n",
       "      <td>Shah Amanat International Airport, Chittagong</td>\n",
       "      <td>2025-03-16 00:17:00</td>\n",
       "      <td>2025-03-16 00:53:31</td>\n",
       "      <td>0.608638</td>\n",
       "      <td>Direct</td>\n",
       "      <td>Airbus A320</td>\n",
       "      <td>First Class</td>\n",
       "      <td>Travel Agency</td>\n",
       "      <td>11605.395471</td>\n",
       "      <td>200.000000</td>\n",
       "      <td>11805.395471</td>\n",
       "      <td>Regular</td>\n",
       "      <td>14</td>\n",
       "    </tr>\n",
       "    <tr>\n",
       "      <th>2</th>\n",
       "      <td>British Airways</td>\n",
       "      <td>ZYL</td>\n",
       "      <td>Osmani International Airport, Sylhet</td>\n",
       "      <td>KUL</td>\n",
       "      <td>Kuala Lumpur International Airport</td>\n",
       "      <td>2025-12-13 12:03:00</td>\n",
       "      <td>2025-12-13 14:44:22</td>\n",
       "      <td>2.689651</td>\n",
       "      <td>1 Stop</td>\n",
       "      <td>Boeing 787</td>\n",
       "      <td>Economy</td>\n",
       "      <td>Travel Agency</td>\n",
       "      <td>39882.499349</td>\n",
       "      <td>11982.374902</td>\n",
       "      <td>51864.874251</td>\n",
       "      <td>Winter Holidays</td>\n",
       "      <td>83</td>\n",
       "    </tr>\n",
       "    <tr>\n",
       "      <th>3</th>\n",
       "      <td>Singapore Airlines</td>\n",
       "      <td>RJH</td>\n",
       "      <td>Shah Makhdum Airport, Rajshahi</td>\n",
       "      <td>DAC</td>\n",
       "      <td>Hazrat Shahjalal International Airport, Dhaka</td>\n",
       "      <td>2025-05-30 03:21:00</td>\n",
       "      <td>2025-05-30 04:02:09</td>\n",
       "      <td>0.686054</td>\n",
       "      <td>Direct</td>\n",
       "      <td>Airbus A320</td>\n",
       "      <td>Economy</td>\n",
       "      <td>Direct Booking</td>\n",
       "      <td>4435.607340</td>\n",
       "      <td>200.000000</td>\n",
       "      <td>4635.607340</td>\n",
       "      <td>Regular</td>\n",
       "      <td>56</td>\n",
       "    </tr>\n",
       "    <tr>\n",
       "      <th>4</th>\n",
       "      <td>British Airways</td>\n",
       "      <td>SPD</td>\n",
       "      <td>Saidpur Airport</td>\n",
       "      <td>YYZ</td>\n",
       "      <td>Toronto Pearson International Airport</td>\n",
       "      <td>2025-04-25 09:14:00</td>\n",
       "      <td>2025-04-25 23:17:20</td>\n",
       "      <td>14.055609</td>\n",
       "      <td>1 Stop</td>\n",
       "      <td>Airbus A350</td>\n",
       "      <td>Business</td>\n",
       "      <td>Direct Booking</td>\n",
       "      <td>59243.806146</td>\n",
       "      <td>14886.570922</td>\n",
       "      <td>74130.377068</td>\n",
       "      <td>Regular</td>\n",
       "      <td>90</td>\n",
       "    </tr>\n",
       "  </tbody>\n",
       "</table>\n",
       "</div>"
      ],
      "text/plain": [
       "              Airline Source                           Source Name  \\\n",
       "0  Malaysian Airlines    CXB                   Cox's Bazar Airport   \n",
       "1      Cathay Pacific    BZL                       Barisal Airport   \n",
       "2     British Airways    ZYL  Osmani International Airport, Sylhet   \n",
       "3  Singapore Airlines    RJH        Shah Makhdum Airport, Rajshahi   \n",
       "4     British Airways    SPD                       Saidpur Airport   \n",
       "\n",
       "  Destination                                   Destination Name  \\\n",
       "0         CCU  Netaji Subhas Chandra Bose International Airpo...   \n",
       "1         CGP      Shah Amanat International Airport, Chittagong   \n",
       "2         KUL                 Kuala Lumpur International Airport   \n",
       "3         DAC      Hazrat Shahjalal International Airport, Dhaka   \n",
       "4         YYZ              Toronto Pearson International Airport   \n",
       "\n",
       "  Departure Date & Time Arrival Date & Time  Duration (hrs) Stopovers  \\\n",
       "0   2025-11-17 06:25:00 2025-11-17 07:38:10        1.219526    Direct   \n",
       "1   2025-03-16 00:17:00 2025-03-16 00:53:31        0.608638    Direct   \n",
       "2   2025-12-13 12:03:00 2025-12-13 14:44:22        2.689651    1 Stop   \n",
       "3   2025-05-30 03:21:00 2025-05-30 04:02:09        0.686054    Direct   \n",
       "4   2025-04-25 09:14:00 2025-04-25 23:17:20       14.055609    1 Stop   \n",
       "\n",
       "  Aircraft Type        Class  Booking Source  Base Fare (BDT)  \\\n",
       "0   Airbus A320      Economy  Online Website     21131.225021   \n",
       "1   Airbus A320  First Class   Travel Agency     11605.395471   \n",
       "2    Boeing 787      Economy   Travel Agency     39882.499349   \n",
       "3   Airbus A320      Economy  Direct Booking      4435.607340   \n",
       "4   Airbus A350     Business  Direct Booking     59243.806146   \n",
       "\n",
       "   Tax & Surcharge (BDT)  Total Fare (BDT)      Seasonality  \\\n",
       "0            5169.683753      26300.908775          Regular   \n",
       "1             200.000000      11805.395471          Regular   \n",
       "2           11982.374902      51864.874251  Winter Holidays   \n",
       "3             200.000000       4635.607340          Regular   \n",
       "4           14886.570922      74130.377068          Regular   \n",
       "\n",
       "   Days Before Departure  \n",
       "0                     10  \n",
       "1                     14  \n",
       "2                     83  \n",
       "3                     56  \n",
       "4                     90  "
      ]
     },
     "execution_count": 17,
     "metadata": {},
     "output_type": "execute_result"
    }
   ],
   "source": [
    "flight_data_set.head()"
   ]
  },
  {
   "cell_type": "markdown",
   "id": "03712faf",
   "metadata": {},
   "source": [
    "Let,s check the duration columns "
   ]
  },
  {
   "cell_type": "code",
   "execution_count": 18,
   "id": "0179a07a",
   "metadata": {},
   "outputs": [
    {
     "data": {
      "text/plain": [
       "np.float64(1.2195264539377717)"
      ]
     },
     "execution_count": 18,
     "metadata": {},
     "output_type": "execute_result"
    }
   ],
   "source": [
    "flight_data_set['Duration (hrs)'][0]"
   ]
  },
  {
   "cell_type": "markdown",
   "id": "88be5383",
   "metadata": {},
   "source": [
    "Also check the stopovers columns "
   ]
  },
  {
   "cell_type": "code",
   "execution_count": 19,
   "id": "c9c334d1",
   "metadata": {},
   "outputs": [
    {
     "data": {
      "text/plain": [
       "array(['Direct', '1 Stop', '2 Stops'], dtype=object)"
      ]
     },
     "execution_count": 19,
     "metadata": {},
     "output_type": "execute_result"
    }
   ],
   "source": [
    "flight_data_set['Stopovers'].unique()"
   ]
  },
  {
   "cell_type": "markdown",
   "id": "87fea571",
   "metadata": {},
   "source": [
    "lets convert into numeric format for more effecient for data visulization "
   ]
  },
  {
   "cell_type": "code",
   "execution_count": 20,
   "id": "1d21ea6d",
   "metadata": {},
   "outputs": [],
   "source": [
    "def stopover(stop):\n",
    "    if stop == 'Direct':\n",
    "        return 0\n",
    "    elif stop == '1 Stop':\n",
    "        return 1\n",
    "    elif stop == '2 Stops':\n",
    "        return 2 "
   ]
  },
  {
   "cell_type": "code",
   "execution_count": 21,
   "id": "949a60b0",
   "metadata": {},
   "outputs": [],
   "source": [
    "flight_data_set['Stopovers_numeric'] = flight_data_set['Stopovers'].apply(stopover) "
   ]
  },
  {
   "cell_type": "code",
   "execution_count": 22,
   "id": "f282feda",
   "metadata": {},
   "outputs": [
    {
     "data": {
      "text/plain": [
       "array([0, 1, 2])"
      ]
     },
     "execution_count": 22,
     "metadata": {},
     "output_type": "execute_result"
    }
   ],
   "source": [
    "flight_data_set['Stopovers_numeric'].unique()"
   ]
  },
  {
   "cell_type": "code",
   "execution_count": 23,
   "id": "5a007a8b",
   "metadata": {},
   "outputs": [
    {
     "data": {
      "application/vnd.microsoft.datawrangler.viewer.v0+json": {
       "columns": [
        {
         "name": "index",
         "rawType": "int64",
         "type": "integer"
        },
        {
         "name": "Airline",
         "rawType": "object",
         "type": "string"
        },
        {
         "name": "Source",
         "rawType": "object",
         "type": "string"
        },
        {
         "name": "Source Name",
         "rawType": "object",
         "type": "string"
        },
        {
         "name": "Destination",
         "rawType": "object",
         "type": "string"
        },
        {
         "name": "Destination Name",
         "rawType": "object",
         "type": "string"
        },
        {
         "name": "Departure Date & Time",
         "rawType": "datetime64[ns]",
         "type": "datetime"
        },
        {
         "name": "Arrival Date & Time",
         "rawType": "datetime64[ns]",
         "type": "datetime"
        },
        {
         "name": "Duration (hrs)",
         "rawType": "float64",
         "type": "float"
        },
        {
         "name": "Stopovers",
         "rawType": "object",
         "type": "string"
        },
        {
         "name": "Aircraft Type",
         "rawType": "object",
         "type": "string"
        },
        {
         "name": "Class",
         "rawType": "object",
         "type": "string"
        },
        {
         "name": "Booking Source",
         "rawType": "object",
         "type": "string"
        },
        {
         "name": "Base Fare (BDT)",
         "rawType": "float64",
         "type": "float"
        },
        {
         "name": "Tax & Surcharge (BDT)",
         "rawType": "float64",
         "type": "float"
        },
        {
         "name": "Total Fare (BDT)",
         "rawType": "float64",
         "type": "float"
        },
        {
         "name": "Seasonality",
         "rawType": "object",
         "type": "string"
        },
        {
         "name": "Days Before Departure",
         "rawType": "int64",
         "type": "integer"
        },
        {
         "name": "Stopovers_numeric",
         "rawType": "int64",
         "type": "integer"
        }
       ],
       "ref": "e7efb6a9-643e-42ca-9f69-ddd384b7a876",
       "rows": [
        [
         "0",
         "Malaysian Airlines",
         "CXB",
         "Cox's Bazar Airport",
         "CCU",
         "Netaji Subhas Chandra Bose International Airport, Kolkata",
         "2025-11-17 06:25:00",
         "2025-11-17 07:38:10",
         "1.2195264539377717",
         "Direct",
         "Airbus A320",
         "Economy",
         "Online Website",
         "21131.22502141266",
         "5169.683753211899",
         "26300.90877462456",
         "Regular",
         "10",
         "0"
        ],
        [
         "1",
         "Cathay Pacific",
         "BZL",
         "Barisal Airport",
         "CGP",
         "Shah Amanat International Airport, Chittagong",
         "2025-03-16 00:17:00",
         "2025-03-16 00:53:31",
         "0.6086380128173666",
         "Direct",
         "Airbus A320",
         "First Class",
         "Travel Agency",
         "11605.395470566073",
         "200.0",
         "11805.395470566073",
         "Regular",
         "14",
         "0"
        ],
        [
         "2",
         "British Airways",
         "ZYL",
         "Osmani International Airport, Sylhet",
         "KUL",
         "Kuala Lumpur International Airport",
         "2025-12-13 12:03:00",
         "2025-12-13 14:44:22",
         "2.6896505565217104",
         "1 Stop",
         "Boeing 787",
         "Economy",
         "Travel Agency",
         "39882.49934875141",
         "11982.374902312711",
         "51864.87425106412",
         "Winter Holidays",
         "83",
         "1"
        ],
        [
         "3",
         "Singapore Airlines",
         "RJH",
         "Shah Makhdum Airport, Rajshahi",
         "DAC",
         "Hazrat Shahjalal International Airport, Dhaka",
         "2025-05-30 03:21:00",
         "2025-05-30 04:02:09",
         "0.6860536480181382",
         "Direct",
         "Airbus A320",
         "Economy",
         "Direct Booking",
         "4435.607340298566",
         "200.0",
         "4635.607340298566",
         "Regular",
         "56",
         "0"
        ],
        [
         "4",
         "British Airways",
         "SPD",
         "Saidpur Airport",
         "YYZ",
         "Toronto Pearson International Airport",
         "2025-04-25 09:14:00",
         "2025-04-25 23:17:20",
         "14.05560922703888",
         "1 Stop",
         "Airbus A350",
         "Business",
         "Direct Booking",
         "59243.806145866125",
         "14886.570921879918",
         "74130.37706774604",
         "Regular",
         "90",
         "1"
        ]
       ],
       "shape": {
        "columns": 18,
        "rows": 5
       }
      },
      "text/html": [
       "<div>\n",
       "<style scoped>\n",
       "    .dataframe tbody tr th:only-of-type {\n",
       "        vertical-align: middle;\n",
       "    }\n",
       "\n",
       "    .dataframe tbody tr th {\n",
       "        vertical-align: top;\n",
       "    }\n",
       "\n",
       "    .dataframe thead th {\n",
       "        text-align: right;\n",
       "    }\n",
       "</style>\n",
       "<table border=\"1\" class=\"dataframe\">\n",
       "  <thead>\n",
       "    <tr style=\"text-align: right;\">\n",
       "      <th></th>\n",
       "      <th>Airline</th>\n",
       "      <th>Source</th>\n",
       "      <th>Source Name</th>\n",
       "      <th>Destination</th>\n",
       "      <th>Destination Name</th>\n",
       "      <th>Departure Date &amp; Time</th>\n",
       "      <th>Arrival Date &amp; Time</th>\n",
       "      <th>Duration (hrs)</th>\n",
       "      <th>Stopovers</th>\n",
       "      <th>Aircraft Type</th>\n",
       "      <th>Class</th>\n",
       "      <th>Booking Source</th>\n",
       "      <th>Base Fare (BDT)</th>\n",
       "      <th>Tax &amp; Surcharge (BDT)</th>\n",
       "      <th>Total Fare (BDT)</th>\n",
       "      <th>Seasonality</th>\n",
       "      <th>Days Before Departure</th>\n",
       "      <th>Stopovers_numeric</th>\n",
       "    </tr>\n",
       "  </thead>\n",
       "  <tbody>\n",
       "    <tr>\n",
       "      <th>0</th>\n",
       "      <td>Malaysian Airlines</td>\n",
       "      <td>CXB</td>\n",
       "      <td>Cox's Bazar Airport</td>\n",
       "      <td>CCU</td>\n",
       "      <td>Netaji Subhas Chandra Bose International Airpo...</td>\n",
       "      <td>2025-11-17 06:25:00</td>\n",
       "      <td>2025-11-17 07:38:10</td>\n",
       "      <td>1.219526</td>\n",
       "      <td>Direct</td>\n",
       "      <td>Airbus A320</td>\n",
       "      <td>Economy</td>\n",
       "      <td>Online Website</td>\n",
       "      <td>21131.225021</td>\n",
       "      <td>5169.683753</td>\n",
       "      <td>26300.908775</td>\n",
       "      <td>Regular</td>\n",
       "      <td>10</td>\n",
       "      <td>0</td>\n",
       "    </tr>\n",
       "    <tr>\n",
       "      <th>1</th>\n",
       "      <td>Cathay Pacific</td>\n",
       "      <td>BZL</td>\n",
       "      <td>Barisal Airport</td>\n",
       "      <td>CGP</td>\n",
       "      <td>Shah Amanat International Airport, Chittagong</td>\n",
       "      <td>2025-03-16 00:17:00</td>\n",
       "      <td>2025-03-16 00:53:31</td>\n",
       "      <td>0.608638</td>\n",
       "      <td>Direct</td>\n",
       "      <td>Airbus A320</td>\n",
       "      <td>First Class</td>\n",
       "      <td>Travel Agency</td>\n",
       "      <td>11605.395471</td>\n",
       "      <td>200.000000</td>\n",
       "      <td>11805.395471</td>\n",
       "      <td>Regular</td>\n",
       "      <td>14</td>\n",
       "      <td>0</td>\n",
       "    </tr>\n",
       "    <tr>\n",
       "      <th>2</th>\n",
       "      <td>British Airways</td>\n",
       "      <td>ZYL</td>\n",
       "      <td>Osmani International Airport, Sylhet</td>\n",
       "      <td>KUL</td>\n",
       "      <td>Kuala Lumpur International Airport</td>\n",
       "      <td>2025-12-13 12:03:00</td>\n",
       "      <td>2025-12-13 14:44:22</td>\n",
       "      <td>2.689651</td>\n",
       "      <td>1 Stop</td>\n",
       "      <td>Boeing 787</td>\n",
       "      <td>Economy</td>\n",
       "      <td>Travel Agency</td>\n",
       "      <td>39882.499349</td>\n",
       "      <td>11982.374902</td>\n",
       "      <td>51864.874251</td>\n",
       "      <td>Winter Holidays</td>\n",
       "      <td>83</td>\n",
       "      <td>1</td>\n",
       "    </tr>\n",
       "    <tr>\n",
       "      <th>3</th>\n",
       "      <td>Singapore Airlines</td>\n",
       "      <td>RJH</td>\n",
       "      <td>Shah Makhdum Airport, Rajshahi</td>\n",
       "      <td>DAC</td>\n",
       "      <td>Hazrat Shahjalal International Airport, Dhaka</td>\n",
       "      <td>2025-05-30 03:21:00</td>\n",
       "      <td>2025-05-30 04:02:09</td>\n",
       "      <td>0.686054</td>\n",
       "      <td>Direct</td>\n",
       "      <td>Airbus A320</td>\n",
       "      <td>Economy</td>\n",
       "      <td>Direct Booking</td>\n",
       "      <td>4435.607340</td>\n",
       "      <td>200.000000</td>\n",
       "      <td>4635.607340</td>\n",
       "      <td>Regular</td>\n",
       "      <td>56</td>\n",
       "      <td>0</td>\n",
       "    </tr>\n",
       "    <tr>\n",
       "      <th>4</th>\n",
       "      <td>British Airways</td>\n",
       "      <td>SPD</td>\n",
       "      <td>Saidpur Airport</td>\n",
       "      <td>YYZ</td>\n",
       "      <td>Toronto Pearson International Airport</td>\n",
       "      <td>2025-04-25 09:14:00</td>\n",
       "      <td>2025-04-25 23:17:20</td>\n",
       "      <td>14.055609</td>\n",
       "      <td>1 Stop</td>\n",
       "      <td>Airbus A350</td>\n",
       "      <td>Business</td>\n",
       "      <td>Direct Booking</td>\n",
       "      <td>59243.806146</td>\n",
       "      <td>14886.570922</td>\n",
       "      <td>74130.377068</td>\n",
       "      <td>Regular</td>\n",
       "      <td>90</td>\n",
       "      <td>1</td>\n",
       "    </tr>\n",
       "  </tbody>\n",
       "</table>\n",
       "</div>"
      ],
      "text/plain": [
       "              Airline Source                           Source Name  \\\n",
       "0  Malaysian Airlines    CXB                   Cox's Bazar Airport   \n",
       "1      Cathay Pacific    BZL                       Barisal Airport   \n",
       "2     British Airways    ZYL  Osmani International Airport, Sylhet   \n",
       "3  Singapore Airlines    RJH        Shah Makhdum Airport, Rajshahi   \n",
       "4     British Airways    SPD                       Saidpur Airport   \n",
       "\n",
       "  Destination                                   Destination Name  \\\n",
       "0         CCU  Netaji Subhas Chandra Bose International Airpo...   \n",
       "1         CGP      Shah Amanat International Airport, Chittagong   \n",
       "2         KUL                 Kuala Lumpur International Airport   \n",
       "3         DAC      Hazrat Shahjalal International Airport, Dhaka   \n",
       "4         YYZ              Toronto Pearson International Airport   \n",
       "\n",
       "  Departure Date & Time Arrival Date & Time  Duration (hrs) Stopovers  \\\n",
       "0   2025-11-17 06:25:00 2025-11-17 07:38:10        1.219526    Direct   \n",
       "1   2025-03-16 00:17:00 2025-03-16 00:53:31        0.608638    Direct   \n",
       "2   2025-12-13 12:03:00 2025-12-13 14:44:22        2.689651    1 Stop   \n",
       "3   2025-05-30 03:21:00 2025-05-30 04:02:09        0.686054    Direct   \n",
       "4   2025-04-25 09:14:00 2025-04-25 23:17:20       14.055609    1 Stop   \n",
       "\n",
       "  Aircraft Type        Class  Booking Source  Base Fare (BDT)  \\\n",
       "0   Airbus A320      Economy  Online Website     21131.225021   \n",
       "1   Airbus A320  First Class   Travel Agency     11605.395471   \n",
       "2    Boeing 787      Economy   Travel Agency     39882.499349   \n",
       "3   Airbus A320      Economy  Direct Booking      4435.607340   \n",
       "4   Airbus A350     Business  Direct Booking     59243.806146   \n",
       "\n",
       "   Tax & Surcharge (BDT)  Total Fare (BDT)      Seasonality  \\\n",
       "0            5169.683753      26300.908775          Regular   \n",
       "1             200.000000      11805.395471          Regular   \n",
       "2           11982.374902      51864.874251  Winter Holidays   \n",
       "3             200.000000       4635.607340          Regular   \n",
       "4           14886.570922      74130.377068          Regular   \n",
       "\n",
       "   Days Before Departure  Stopovers_numeric  \n",
       "0                     10                  0  \n",
       "1                     14                  0  \n",
       "2                     83                  1  \n",
       "3                     56                  0  \n",
       "4                     90                  1  "
      ]
     },
     "execution_count": 23,
     "metadata": {},
     "output_type": "execute_result"
    }
   ],
   "source": [
    "flight_data_set.head()"
   ]
  },
  {
   "cell_type": "markdown",
   "id": "1543de42",
   "metadata": {},
   "source": [
    "Now convert the class columns into the numeric format"
   ]
  },
  {
   "cell_type": "code",
   "execution_count": 24,
   "id": "34d0a76c",
   "metadata": {},
   "outputs": [
    {
     "data": {
      "text/plain": [
       "array(['Economy', 'First Class', 'Business'], dtype=object)"
      ]
     },
     "execution_count": 24,
     "metadata": {},
     "output_type": "execute_result"
    }
   ],
   "source": [
    "flight_data_set['Class'].unique()"
   ]
  },
  {
   "cell_type": "code",
   "execution_count": 25,
   "id": "48ad5f9f",
   "metadata": {},
   "outputs": [],
   "source": [
    "def class_numeric(class_1):\n",
    "    if class_1 == 'Economy':\n",
    "        return 3\n",
    "    elif class_1 == 'First Class':\n",
    "        return 2 \n",
    "    elif class_1 == 'Business':\n",
    "        return 1"
   ]
  },
  {
   "cell_type": "code",
   "execution_count": 26,
   "id": "3a931334",
   "metadata": {},
   "outputs": [],
   "source": [
    "flight_data_set['Class_numeric'] = flight_data_set['Class'].apply(class_numeric)"
   ]
  },
  {
   "cell_type": "code",
   "execution_count": 27,
   "id": "93c46b7d",
   "metadata": {},
   "outputs": [
    {
     "data": {
      "application/vnd.microsoft.datawrangler.viewer.v0+json": {
       "columns": [
        {
         "name": "Class_numeric",
         "rawType": "int64",
         "type": "integer"
        },
        {
         "name": "count",
         "rawType": "int64",
         "type": "integer"
        }
       ],
       "ref": "c639c0d5-8b28-446f-bb5e-67adf498901f",
       "rows": [
        [
         "3",
         "19112"
        ],
        [
         "2",
         "18979"
        ],
        [
         "1",
         "18909"
        ]
       ],
       "shape": {
        "columns": 1,
        "rows": 3
       }
      },
      "text/plain": [
       "Class_numeric\n",
       "3    19112\n",
       "2    18979\n",
       "1    18909\n",
       "Name: count, dtype: int64"
      ]
     },
     "execution_count": 27,
     "metadata": {},
     "output_type": "execute_result"
    }
   ],
   "source": [
    "flight_data_set['Class_numeric'].value_counts()"
   ]
  },
  {
   "cell_type": "code",
   "execution_count": 28,
   "id": "3348a57e",
   "metadata": {},
   "outputs": [
    {
     "data": {
      "application/vnd.microsoft.datawrangler.viewer.v0+json": {
       "columns": [
        {
         "name": "index",
         "rawType": "int64",
         "type": "integer"
        },
        {
         "name": "Airline",
         "rawType": "object",
         "type": "string"
        },
        {
         "name": "Source",
         "rawType": "object",
         "type": "string"
        },
        {
         "name": "Source Name",
         "rawType": "object",
         "type": "string"
        },
        {
         "name": "Destination",
         "rawType": "object",
         "type": "string"
        },
        {
         "name": "Destination Name",
         "rawType": "object",
         "type": "string"
        },
        {
         "name": "Departure Date & Time",
         "rawType": "datetime64[ns]",
         "type": "datetime"
        },
        {
         "name": "Arrival Date & Time",
         "rawType": "datetime64[ns]",
         "type": "datetime"
        },
        {
         "name": "Duration (hrs)",
         "rawType": "float64",
         "type": "float"
        },
        {
         "name": "Stopovers",
         "rawType": "object",
         "type": "string"
        },
        {
         "name": "Aircraft Type",
         "rawType": "object",
         "type": "string"
        },
        {
         "name": "Class",
         "rawType": "object",
         "type": "string"
        },
        {
         "name": "Booking Source",
         "rawType": "object",
         "type": "string"
        },
        {
         "name": "Base Fare (BDT)",
         "rawType": "float64",
         "type": "float"
        },
        {
         "name": "Tax & Surcharge (BDT)",
         "rawType": "float64",
         "type": "float"
        },
        {
         "name": "Total Fare (BDT)",
         "rawType": "float64",
         "type": "float"
        },
        {
         "name": "Seasonality",
         "rawType": "object",
         "type": "string"
        },
        {
         "name": "Days Before Departure",
         "rawType": "int64",
         "type": "integer"
        },
        {
         "name": "Stopovers_numeric",
         "rawType": "int64",
         "type": "integer"
        },
        {
         "name": "Class_numeric",
         "rawType": "int64",
         "type": "integer"
        }
       ],
       "ref": "de6e3320-04cd-49dd-8ff0-ca7e75e98d8c",
       "rows": [
        [
         "0",
         "Malaysian Airlines",
         "CXB",
         "Cox's Bazar Airport",
         "CCU",
         "Netaji Subhas Chandra Bose International Airport, Kolkata",
         "2025-11-17 06:25:00",
         "2025-11-17 07:38:10",
         "1.2195264539377717",
         "Direct",
         "Airbus A320",
         "Economy",
         "Online Website",
         "21131.22502141266",
         "5169.683753211899",
         "26300.90877462456",
         "Regular",
         "10",
         "0",
         "3"
        ],
        [
         "1",
         "Cathay Pacific",
         "BZL",
         "Barisal Airport",
         "CGP",
         "Shah Amanat International Airport, Chittagong",
         "2025-03-16 00:17:00",
         "2025-03-16 00:53:31",
         "0.6086380128173666",
         "Direct",
         "Airbus A320",
         "First Class",
         "Travel Agency",
         "11605.395470566073",
         "200.0",
         "11805.395470566073",
         "Regular",
         "14",
         "0",
         "2"
        ],
        [
         "2",
         "British Airways",
         "ZYL",
         "Osmani International Airport, Sylhet",
         "KUL",
         "Kuala Lumpur International Airport",
         "2025-12-13 12:03:00",
         "2025-12-13 14:44:22",
         "2.6896505565217104",
         "1 Stop",
         "Boeing 787",
         "Economy",
         "Travel Agency",
         "39882.49934875141",
         "11982.374902312711",
         "51864.87425106412",
         "Winter Holidays",
         "83",
         "1",
         "3"
        ],
        [
         "3",
         "Singapore Airlines",
         "RJH",
         "Shah Makhdum Airport, Rajshahi",
         "DAC",
         "Hazrat Shahjalal International Airport, Dhaka",
         "2025-05-30 03:21:00",
         "2025-05-30 04:02:09",
         "0.6860536480181382",
         "Direct",
         "Airbus A320",
         "Economy",
         "Direct Booking",
         "4435.607340298566",
         "200.0",
         "4635.607340298566",
         "Regular",
         "56",
         "0",
         "3"
        ],
        [
         "4",
         "British Airways",
         "SPD",
         "Saidpur Airport",
         "YYZ",
         "Toronto Pearson International Airport",
         "2025-04-25 09:14:00",
         "2025-04-25 23:17:20",
         "14.05560922703888",
         "1 Stop",
         "Airbus A350",
         "Business",
         "Direct Booking",
         "59243.806145866125",
         "14886.570921879918",
         "74130.37706774604",
         "Regular",
         "90",
         "1",
         "1"
        ]
       ],
       "shape": {
        "columns": 19,
        "rows": 5
       }
      },
      "text/html": [
       "<div>\n",
       "<style scoped>\n",
       "    .dataframe tbody tr th:only-of-type {\n",
       "        vertical-align: middle;\n",
       "    }\n",
       "\n",
       "    .dataframe tbody tr th {\n",
       "        vertical-align: top;\n",
       "    }\n",
       "\n",
       "    .dataframe thead th {\n",
       "        text-align: right;\n",
       "    }\n",
       "</style>\n",
       "<table border=\"1\" class=\"dataframe\">\n",
       "  <thead>\n",
       "    <tr style=\"text-align: right;\">\n",
       "      <th></th>\n",
       "      <th>Airline</th>\n",
       "      <th>Source</th>\n",
       "      <th>Source Name</th>\n",
       "      <th>Destination</th>\n",
       "      <th>Destination Name</th>\n",
       "      <th>Departure Date &amp; Time</th>\n",
       "      <th>Arrival Date &amp; Time</th>\n",
       "      <th>Duration (hrs)</th>\n",
       "      <th>Stopovers</th>\n",
       "      <th>Aircraft Type</th>\n",
       "      <th>Class</th>\n",
       "      <th>Booking Source</th>\n",
       "      <th>Base Fare (BDT)</th>\n",
       "      <th>Tax &amp; Surcharge (BDT)</th>\n",
       "      <th>Total Fare (BDT)</th>\n",
       "      <th>Seasonality</th>\n",
       "      <th>Days Before Departure</th>\n",
       "      <th>Stopovers_numeric</th>\n",
       "      <th>Class_numeric</th>\n",
       "    </tr>\n",
       "  </thead>\n",
       "  <tbody>\n",
       "    <tr>\n",
       "      <th>0</th>\n",
       "      <td>Malaysian Airlines</td>\n",
       "      <td>CXB</td>\n",
       "      <td>Cox's Bazar Airport</td>\n",
       "      <td>CCU</td>\n",
       "      <td>Netaji Subhas Chandra Bose International Airpo...</td>\n",
       "      <td>2025-11-17 06:25:00</td>\n",
       "      <td>2025-11-17 07:38:10</td>\n",
       "      <td>1.219526</td>\n",
       "      <td>Direct</td>\n",
       "      <td>Airbus A320</td>\n",
       "      <td>Economy</td>\n",
       "      <td>Online Website</td>\n",
       "      <td>21131.225021</td>\n",
       "      <td>5169.683753</td>\n",
       "      <td>26300.908775</td>\n",
       "      <td>Regular</td>\n",
       "      <td>10</td>\n",
       "      <td>0</td>\n",
       "      <td>3</td>\n",
       "    </tr>\n",
       "    <tr>\n",
       "      <th>1</th>\n",
       "      <td>Cathay Pacific</td>\n",
       "      <td>BZL</td>\n",
       "      <td>Barisal Airport</td>\n",
       "      <td>CGP</td>\n",
       "      <td>Shah Amanat International Airport, Chittagong</td>\n",
       "      <td>2025-03-16 00:17:00</td>\n",
       "      <td>2025-03-16 00:53:31</td>\n",
       "      <td>0.608638</td>\n",
       "      <td>Direct</td>\n",
       "      <td>Airbus A320</td>\n",
       "      <td>First Class</td>\n",
       "      <td>Travel Agency</td>\n",
       "      <td>11605.395471</td>\n",
       "      <td>200.000000</td>\n",
       "      <td>11805.395471</td>\n",
       "      <td>Regular</td>\n",
       "      <td>14</td>\n",
       "      <td>0</td>\n",
       "      <td>2</td>\n",
       "    </tr>\n",
       "    <tr>\n",
       "      <th>2</th>\n",
       "      <td>British Airways</td>\n",
       "      <td>ZYL</td>\n",
       "      <td>Osmani International Airport, Sylhet</td>\n",
       "      <td>KUL</td>\n",
       "      <td>Kuala Lumpur International Airport</td>\n",
       "      <td>2025-12-13 12:03:00</td>\n",
       "      <td>2025-12-13 14:44:22</td>\n",
       "      <td>2.689651</td>\n",
       "      <td>1 Stop</td>\n",
       "      <td>Boeing 787</td>\n",
       "      <td>Economy</td>\n",
       "      <td>Travel Agency</td>\n",
       "      <td>39882.499349</td>\n",
       "      <td>11982.374902</td>\n",
       "      <td>51864.874251</td>\n",
       "      <td>Winter Holidays</td>\n",
       "      <td>83</td>\n",
       "      <td>1</td>\n",
       "      <td>3</td>\n",
       "    </tr>\n",
       "    <tr>\n",
       "      <th>3</th>\n",
       "      <td>Singapore Airlines</td>\n",
       "      <td>RJH</td>\n",
       "      <td>Shah Makhdum Airport, Rajshahi</td>\n",
       "      <td>DAC</td>\n",
       "      <td>Hazrat Shahjalal International Airport, Dhaka</td>\n",
       "      <td>2025-05-30 03:21:00</td>\n",
       "      <td>2025-05-30 04:02:09</td>\n",
       "      <td>0.686054</td>\n",
       "      <td>Direct</td>\n",
       "      <td>Airbus A320</td>\n",
       "      <td>Economy</td>\n",
       "      <td>Direct Booking</td>\n",
       "      <td>4435.607340</td>\n",
       "      <td>200.000000</td>\n",
       "      <td>4635.607340</td>\n",
       "      <td>Regular</td>\n",
       "      <td>56</td>\n",
       "      <td>0</td>\n",
       "      <td>3</td>\n",
       "    </tr>\n",
       "    <tr>\n",
       "      <th>4</th>\n",
       "      <td>British Airways</td>\n",
       "      <td>SPD</td>\n",
       "      <td>Saidpur Airport</td>\n",
       "      <td>YYZ</td>\n",
       "      <td>Toronto Pearson International Airport</td>\n",
       "      <td>2025-04-25 09:14:00</td>\n",
       "      <td>2025-04-25 23:17:20</td>\n",
       "      <td>14.055609</td>\n",
       "      <td>1 Stop</td>\n",
       "      <td>Airbus A350</td>\n",
       "      <td>Business</td>\n",
       "      <td>Direct Booking</td>\n",
       "      <td>59243.806146</td>\n",
       "      <td>14886.570922</td>\n",
       "      <td>74130.377068</td>\n",
       "      <td>Regular</td>\n",
       "      <td>90</td>\n",
       "      <td>1</td>\n",
       "      <td>1</td>\n",
       "    </tr>\n",
       "  </tbody>\n",
       "</table>\n",
       "</div>"
      ],
      "text/plain": [
       "              Airline Source                           Source Name  \\\n",
       "0  Malaysian Airlines    CXB                   Cox's Bazar Airport   \n",
       "1      Cathay Pacific    BZL                       Barisal Airport   \n",
       "2     British Airways    ZYL  Osmani International Airport, Sylhet   \n",
       "3  Singapore Airlines    RJH        Shah Makhdum Airport, Rajshahi   \n",
       "4     British Airways    SPD                       Saidpur Airport   \n",
       "\n",
       "  Destination                                   Destination Name  \\\n",
       "0         CCU  Netaji Subhas Chandra Bose International Airpo...   \n",
       "1         CGP      Shah Amanat International Airport, Chittagong   \n",
       "2         KUL                 Kuala Lumpur International Airport   \n",
       "3         DAC      Hazrat Shahjalal International Airport, Dhaka   \n",
       "4         YYZ              Toronto Pearson International Airport   \n",
       "\n",
       "  Departure Date & Time Arrival Date & Time  Duration (hrs) Stopovers  \\\n",
       "0   2025-11-17 06:25:00 2025-11-17 07:38:10        1.219526    Direct   \n",
       "1   2025-03-16 00:17:00 2025-03-16 00:53:31        0.608638    Direct   \n",
       "2   2025-12-13 12:03:00 2025-12-13 14:44:22        2.689651    1 Stop   \n",
       "3   2025-05-30 03:21:00 2025-05-30 04:02:09        0.686054    Direct   \n",
       "4   2025-04-25 09:14:00 2025-04-25 23:17:20       14.055609    1 Stop   \n",
       "\n",
       "  Aircraft Type        Class  Booking Source  Base Fare (BDT)  \\\n",
       "0   Airbus A320      Economy  Online Website     21131.225021   \n",
       "1   Airbus A320  First Class   Travel Agency     11605.395471   \n",
       "2    Boeing 787      Economy   Travel Agency     39882.499349   \n",
       "3   Airbus A320      Economy  Direct Booking      4435.607340   \n",
       "4   Airbus A350     Business  Direct Booking     59243.806146   \n",
       "\n",
       "   Tax & Surcharge (BDT)  Total Fare (BDT)      Seasonality  \\\n",
       "0            5169.683753      26300.908775          Regular   \n",
       "1             200.000000      11805.395471          Regular   \n",
       "2           11982.374902      51864.874251  Winter Holidays   \n",
       "3             200.000000       4635.607340          Regular   \n",
       "4           14886.570922      74130.377068          Regular   \n",
       "\n",
       "   Days Before Departure  Stopovers_numeric  Class_numeric  \n",
       "0                     10                  0              3  \n",
       "1                     14                  0              2  \n",
       "2                     83                  1              3  \n",
       "3                     56                  0              3  \n",
       "4                     90                  1              1  "
      ]
     },
     "execution_count": 28,
     "metadata": {},
     "output_type": "execute_result"
    }
   ],
   "source": [
    "flight_data_set.head()"
   ]
  },
  {
   "cell_type": "markdown",
   "id": "bc596c97",
   "metadata": {},
   "source": [
    "Same logic for Booking Source \n"
   ]
  },
  {
   "cell_type": "code",
   "execution_count": 29,
   "id": "fad0fdd1",
   "metadata": {},
   "outputs": [
    {
     "data": {
      "application/vnd.microsoft.datawrangler.viewer.v0+json": {
       "columns": [
        {
         "name": "Booking Source",
         "rawType": "object",
         "type": "string"
        },
        {
         "name": "count",
         "rawType": "int64",
         "type": "integer"
        }
       ],
       "ref": "f622aefc-b793-45c8-a9d6-2740af59724a",
       "rows": [
        [
         "Direct Booking",
         "19111"
        ],
        [
         "Online Website",
         "18966"
        ],
        [
         "Travel Agency",
         "18923"
        ]
       ],
       "shape": {
        "columns": 1,
        "rows": 3
       }
      },
      "text/plain": [
       "Booking Source\n",
       "Direct Booking    19111\n",
       "Online Website    18966\n",
       "Travel Agency     18923\n",
       "Name: count, dtype: int64"
      ]
     },
     "execution_count": 29,
     "metadata": {},
     "output_type": "execute_result"
    }
   ],
   "source": [
    "flight_data_set['Booking Source'].value_counts()"
   ]
  },
  {
   "cell_type": "code",
   "execution_count": 30,
   "id": "02f0075a",
   "metadata": {},
   "outputs": [
    {
     "data": {
      "text/plain": [
       "array(['Online Website', 'Travel Agency', 'Direct Booking'], dtype=object)"
      ]
     },
     "execution_count": 30,
     "metadata": {},
     "output_type": "execute_result"
    }
   ],
   "source": [
    "flight_data_set['Booking Source'].unique()"
   ]
  },
  {
   "cell_type": "code",
   "execution_count": 31,
   "id": "69555a20",
   "metadata": {},
   "outputs": [],
   "source": [
    "def book_resource_numeric(book):\n",
    "    if book == 'Online Website':\n",
    "        return 2\n",
    "    elif book == 'Travel Agency':\n",
    "        return 1\n",
    "    elif book == 'Direct Booking':\n",
    "        return 3"
   ]
  },
  {
   "cell_type": "code",
   "execution_count": 32,
   "id": "f4a8d37b",
   "metadata": {},
   "outputs": [],
   "source": [
    "flight_data_set['Booking Source numeric'] = flight_data_set['Booking Source'].apply(book_resource_numeric)"
   ]
  },
  {
   "cell_type": "code",
   "execution_count": 33,
   "id": "4273fe68",
   "metadata": {},
   "outputs": [
    {
     "data": {
      "application/vnd.microsoft.datawrangler.viewer.v0+json": {
       "columns": [
        {
         "name": "Booking Source numeric",
         "rawType": "int64",
         "type": "integer"
        },
        {
         "name": "count",
         "rawType": "int64",
         "type": "integer"
        }
       ],
       "ref": "f0d4f125-c3d7-4b86-8a1c-1bf86f909abb",
       "rows": [
        [
         "3",
         "19111"
        ],
        [
         "2",
         "18966"
        ],
        [
         "1",
         "18923"
        ]
       ],
       "shape": {
        "columns": 1,
        "rows": 3
       }
      },
      "text/plain": [
       "Booking Source numeric\n",
       "3    19111\n",
       "2    18966\n",
       "1    18923\n",
       "Name: count, dtype: int64"
      ]
     },
     "execution_count": 33,
     "metadata": {},
     "output_type": "execute_result"
    }
   ],
   "source": [
    "flight_data_set['Booking Source numeric'].value_counts()"
   ]
  },
  {
   "cell_type": "code",
   "execution_count": 34,
   "id": "8a7457b4",
   "metadata": {},
   "outputs": [
    {
     "data": {
      "application/vnd.microsoft.datawrangler.viewer.v0+json": {
       "columns": [
        {
         "name": "index",
         "rawType": "int64",
         "type": "integer"
        },
        {
         "name": "Airline",
         "rawType": "object",
         "type": "string"
        },
        {
         "name": "Source",
         "rawType": "object",
         "type": "string"
        },
        {
         "name": "Source Name",
         "rawType": "object",
         "type": "string"
        },
        {
         "name": "Destination",
         "rawType": "object",
         "type": "string"
        },
        {
         "name": "Destination Name",
         "rawType": "object",
         "type": "string"
        },
        {
         "name": "Departure Date & Time",
         "rawType": "datetime64[ns]",
         "type": "datetime"
        },
        {
         "name": "Arrival Date & Time",
         "rawType": "datetime64[ns]",
         "type": "datetime"
        },
        {
         "name": "Duration (hrs)",
         "rawType": "float64",
         "type": "float"
        },
        {
         "name": "Stopovers",
         "rawType": "object",
         "type": "string"
        },
        {
         "name": "Aircraft Type",
         "rawType": "object",
         "type": "string"
        },
        {
         "name": "Class",
         "rawType": "object",
         "type": "string"
        },
        {
         "name": "Booking Source",
         "rawType": "object",
         "type": "string"
        },
        {
         "name": "Base Fare (BDT)",
         "rawType": "float64",
         "type": "float"
        },
        {
         "name": "Tax & Surcharge (BDT)",
         "rawType": "float64",
         "type": "float"
        },
        {
         "name": "Total Fare (BDT)",
         "rawType": "float64",
         "type": "float"
        },
        {
         "name": "Seasonality",
         "rawType": "object",
         "type": "string"
        },
        {
         "name": "Days Before Departure",
         "rawType": "int64",
         "type": "integer"
        },
        {
         "name": "Stopovers_numeric",
         "rawType": "int64",
         "type": "integer"
        },
        {
         "name": "Class_numeric",
         "rawType": "int64",
         "type": "integer"
        },
        {
         "name": "Booking Source numeric",
         "rawType": "int64",
         "type": "integer"
        }
       ],
       "ref": "20bc1a00-4e99-4125-8f2c-265f97fb0f3d",
       "rows": [
        [
         "0",
         "Malaysian Airlines",
         "CXB",
         "Cox's Bazar Airport",
         "CCU",
         "Netaji Subhas Chandra Bose International Airport, Kolkata",
         "2025-11-17 06:25:00",
         "2025-11-17 07:38:10",
         "1.2195264539377717",
         "Direct",
         "Airbus A320",
         "Economy",
         "Online Website",
         "21131.22502141266",
         "5169.683753211899",
         "26300.90877462456",
         "Regular",
         "10",
         "0",
         "3",
         "2"
        ],
        [
         "1",
         "Cathay Pacific",
         "BZL",
         "Barisal Airport",
         "CGP",
         "Shah Amanat International Airport, Chittagong",
         "2025-03-16 00:17:00",
         "2025-03-16 00:53:31",
         "0.6086380128173666",
         "Direct",
         "Airbus A320",
         "First Class",
         "Travel Agency",
         "11605.395470566073",
         "200.0",
         "11805.395470566073",
         "Regular",
         "14",
         "0",
         "2",
         "1"
        ],
        [
         "2",
         "British Airways",
         "ZYL",
         "Osmani International Airport, Sylhet",
         "KUL",
         "Kuala Lumpur International Airport",
         "2025-12-13 12:03:00",
         "2025-12-13 14:44:22",
         "2.6896505565217104",
         "1 Stop",
         "Boeing 787",
         "Economy",
         "Travel Agency",
         "39882.49934875141",
         "11982.374902312711",
         "51864.87425106412",
         "Winter Holidays",
         "83",
         "1",
         "3",
         "1"
        ],
        [
         "3",
         "Singapore Airlines",
         "RJH",
         "Shah Makhdum Airport, Rajshahi",
         "DAC",
         "Hazrat Shahjalal International Airport, Dhaka",
         "2025-05-30 03:21:00",
         "2025-05-30 04:02:09",
         "0.6860536480181382",
         "Direct",
         "Airbus A320",
         "Economy",
         "Direct Booking",
         "4435.607340298566",
         "200.0",
         "4635.607340298566",
         "Regular",
         "56",
         "0",
         "3",
         "3"
        ],
        [
         "4",
         "British Airways",
         "SPD",
         "Saidpur Airport",
         "YYZ",
         "Toronto Pearson International Airport",
         "2025-04-25 09:14:00",
         "2025-04-25 23:17:20",
         "14.05560922703888",
         "1 Stop",
         "Airbus A350",
         "Business",
         "Direct Booking",
         "59243.806145866125",
         "14886.570921879918",
         "74130.37706774604",
         "Regular",
         "90",
         "1",
         "1",
         "3"
        ]
       ],
       "shape": {
        "columns": 20,
        "rows": 5
       }
      },
      "text/html": [
       "<div>\n",
       "<style scoped>\n",
       "    .dataframe tbody tr th:only-of-type {\n",
       "        vertical-align: middle;\n",
       "    }\n",
       "\n",
       "    .dataframe tbody tr th {\n",
       "        vertical-align: top;\n",
       "    }\n",
       "\n",
       "    .dataframe thead th {\n",
       "        text-align: right;\n",
       "    }\n",
       "</style>\n",
       "<table border=\"1\" class=\"dataframe\">\n",
       "  <thead>\n",
       "    <tr style=\"text-align: right;\">\n",
       "      <th></th>\n",
       "      <th>Airline</th>\n",
       "      <th>Source</th>\n",
       "      <th>Source Name</th>\n",
       "      <th>Destination</th>\n",
       "      <th>Destination Name</th>\n",
       "      <th>Departure Date &amp; Time</th>\n",
       "      <th>Arrival Date &amp; Time</th>\n",
       "      <th>Duration (hrs)</th>\n",
       "      <th>Stopovers</th>\n",
       "      <th>Aircraft Type</th>\n",
       "      <th>Class</th>\n",
       "      <th>Booking Source</th>\n",
       "      <th>Base Fare (BDT)</th>\n",
       "      <th>Tax &amp; Surcharge (BDT)</th>\n",
       "      <th>Total Fare (BDT)</th>\n",
       "      <th>Seasonality</th>\n",
       "      <th>Days Before Departure</th>\n",
       "      <th>Stopovers_numeric</th>\n",
       "      <th>Class_numeric</th>\n",
       "      <th>Booking Source numeric</th>\n",
       "    </tr>\n",
       "  </thead>\n",
       "  <tbody>\n",
       "    <tr>\n",
       "      <th>0</th>\n",
       "      <td>Malaysian Airlines</td>\n",
       "      <td>CXB</td>\n",
       "      <td>Cox's Bazar Airport</td>\n",
       "      <td>CCU</td>\n",
       "      <td>Netaji Subhas Chandra Bose International Airpo...</td>\n",
       "      <td>2025-11-17 06:25:00</td>\n",
       "      <td>2025-11-17 07:38:10</td>\n",
       "      <td>1.219526</td>\n",
       "      <td>Direct</td>\n",
       "      <td>Airbus A320</td>\n",
       "      <td>Economy</td>\n",
       "      <td>Online Website</td>\n",
       "      <td>21131.225021</td>\n",
       "      <td>5169.683753</td>\n",
       "      <td>26300.908775</td>\n",
       "      <td>Regular</td>\n",
       "      <td>10</td>\n",
       "      <td>0</td>\n",
       "      <td>3</td>\n",
       "      <td>2</td>\n",
       "    </tr>\n",
       "    <tr>\n",
       "      <th>1</th>\n",
       "      <td>Cathay Pacific</td>\n",
       "      <td>BZL</td>\n",
       "      <td>Barisal Airport</td>\n",
       "      <td>CGP</td>\n",
       "      <td>Shah Amanat International Airport, Chittagong</td>\n",
       "      <td>2025-03-16 00:17:00</td>\n",
       "      <td>2025-03-16 00:53:31</td>\n",
       "      <td>0.608638</td>\n",
       "      <td>Direct</td>\n",
       "      <td>Airbus A320</td>\n",
       "      <td>First Class</td>\n",
       "      <td>Travel Agency</td>\n",
       "      <td>11605.395471</td>\n",
       "      <td>200.000000</td>\n",
       "      <td>11805.395471</td>\n",
       "      <td>Regular</td>\n",
       "      <td>14</td>\n",
       "      <td>0</td>\n",
       "      <td>2</td>\n",
       "      <td>1</td>\n",
       "    </tr>\n",
       "    <tr>\n",
       "      <th>2</th>\n",
       "      <td>British Airways</td>\n",
       "      <td>ZYL</td>\n",
       "      <td>Osmani International Airport, Sylhet</td>\n",
       "      <td>KUL</td>\n",
       "      <td>Kuala Lumpur International Airport</td>\n",
       "      <td>2025-12-13 12:03:00</td>\n",
       "      <td>2025-12-13 14:44:22</td>\n",
       "      <td>2.689651</td>\n",
       "      <td>1 Stop</td>\n",
       "      <td>Boeing 787</td>\n",
       "      <td>Economy</td>\n",
       "      <td>Travel Agency</td>\n",
       "      <td>39882.499349</td>\n",
       "      <td>11982.374902</td>\n",
       "      <td>51864.874251</td>\n",
       "      <td>Winter Holidays</td>\n",
       "      <td>83</td>\n",
       "      <td>1</td>\n",
       "      <td>3</td>\n",
       "      <td>1</td>\n",
       "    </tr>\n",
       "    <tr>\n",
       "      <th>3</th>\n",
       "      <td>Singapore Airlines</td>\n",
       "      <td>RJH</td>\n",
       "      <td>Shah Makhdum Airport, Rajshahi</td>\n",
       "      <td>DAC</td>\n",
       "      <td>Hazrat Shahjalal International Airport, Dhaka</td>\n",
       "      <td>2025-05-30 03:21:00</td>\n",
       "      <td>2025-05-30 04:02:09</td>\n",
       "      <td>0.686054</td>\n",
       "      <td>Direct</td>\n",
       "      <td>Airbus A320</td>\n",
       "      <td>Economy</td>\n",
       "      <td>Direct Booking</td>\n",
       "      <td>4435.607340</td>\n",
       "      <td>200.000000</td>\n",
       "      <td>4635.607340</td>\n",
       "      <td>Regular</td>\n",
       "      <td>56</td>\n",
       "      <td>0</td>\n",
       "      <td>3</td>\n",
       "      <td>3</td>\n",
       "    </tr>\n",
       "    <tr>\n",
       "      <th>4</th>\n",
       "      <td>British Airways</td>\n",
       "      <td>SPD</td>\n",
       "      <td>Saidpur Airport</td>\n",
       "      <td>YYZ</td>\n",
       "      <td>Toronto Pearson International Airport</td>\n",
       "      <td>2025-04-25 09:14:00</td>\n",
       "      <td>2025-04-25 23:17:20</td>\n",
       "      <td>14.055609</td>\n",
       "      <td>1 Stop</td>\n",
       "      <td>Airbus A350</td>\n",
       "      <td>Business</td>\n",
       "      <td>Direct Booking</td>\n",
       "      <td>59243.806146</td>\n",
       "      <td>14886.570922</td>\n",
       "      <td>74130.377068</td>\n",
       "      <td>Regular</td>\n",
       "      <td>90</td>\n",
       "      <td>1</td>\n",
       "      <td>1</td>\n",
       "      <td>3</td>\n",
       "    </tr>\n",
       "  </tbody>\n",
       "</table>\n",
       "</div>"
      ],
      "text/plain": [
       "              Airline Source                           Source Name  \\\n",
       "0  Malaysian Airlines    CXB                   Cox's Bazar Airport   \n",
       "1      Cathay Pacific    BZL                       Barisal Airport   \n",
       "2     British Airways    ZYL  Osmani International Airport, Sylhet   \n",
       "3  Singapore Airlines    RJH        Shah Makhdum Airport, Rajshahi   \n",
       "4     British Airways    SPD                       Saidpur Airport   \n",
       "\n",
       "  Destination                                   Destination Name  \\\n",
       "0         CCU  Netaji Subhas Chandra Bose International Airpo...   \n",
       "1         CGP      Shah Amanat International Airport, Chittagong   \n",
       "2         KUL                 Kuala Lumpur International Airport   \n",
       "3         DAC      Hazrat Shahjalal International Airport, Dhaka   \n",
       "4         YYZ              Toronto Pearson International Airport   \n",
       "\n",
       "  Departure Date & Time Arrival Date & Time  Duration (hrs) Stopovers  \\\n",
       "0   2025-11-17 06:25:00 2025-11-17 07:38:10        1.219526    Direct   \n",
       "1   2025-03-16 00:17:00 2025-03-16 00:53:31        0.608638    Direct   \n",
       "2   2025-12-13 12:03:00 2025-12-13 14:44:22        2.689651    1 Stop   \n",
       "3   2025-05-30 03:21:00 2025-05-30 04:02:09        0.686054    Direct   \n",
       "4   2025-04-25 09:14:00 2025-04-25 23:17:20       14.055609    1 Stop   \n",
       "\n",
       "  Aircraft Type        Class  Booking Source  Base Fare (BDT)  \\\n",
       "0   Airbus A320      Economy  Online Website     21131.225021   \n",
       "1   Airbus A320  First Class   Travel Agency     11605.395471   \n",
       "2    Boeing 787      Economy   Travel Agency     39882.499349   \n",
       "3   Airbus A320      Economy  Direct Booking      4435.607340   \n",
       "4   Airbus A350     Business  Direct Booking     59243.806146   \n",
       "\n",
       "   Tax & Surcharge (BDT)  Total Fare (BDT)      Seasonality  \\\n",
       "0            5169.683753      26300.908775          Regular   \n",
       "1             200.000000      11805.395471          Regular   \n",
       "2           11982.374902      51864.874251  Winter Holidays   \n",
       "3             200.000000       4635.607340          Regular   \n",
       "4           14886.570922      74130.377068          Regular   \n",
       "\n",
       "   Days Before Departure  Stopovers_numeric  Class_numeric  \\\n",
       "0                     10                  0              3   \n",
       "1                     14                  0              2   \n",
       "2                     83                  1              3   \n",
       "3                     56                  0              3   \n",
       "4                     90                  1              1   \n",
       "\n",
       "   Booking Source numeric  \n",
       "0                       2  \n",
       "1                       1  \n",
       "2                       1  \n",
       "3                       3  \n",
       "4                       3  "
      ]
     },
     "execution_count": 34,
     "metadata": {},
     "output_type": "execute_result"
    }
   ],
   "source": [
    "flight_data_set.head()"
   ]
  },
  {
   "cell_type": "code",
   "execution_count": 35,
   "id": "4fa18ca3",
   "metadata": {},
   "outputs": [
    {
     "data": {
      "text/plain": [
       "array(['Regular', 'Winter Holidays', 'Eid', 'Hajj'], dtype=object)"
      ]
     },
     "execution_count": 35,
     "metadata": {},
     "output_type": "execute_result"
    }
   ],
   "source": [
    "flight_data_set['Seasonality'].unique()"
   ]
  },
  {
   "cell_type": "code",
   "execution_count": 36,
   "id": "eea947c4",
   "metadata": {},
   "outputs": [],
   "source": [
    "def seasion(sea):\n",
    "    if sea == 'Regular':\n",
    "        return 1\n",
    "    elif sea == 'Winter Holidays':\n",
    "        return 2 \n",
    "    elif sea == 'Eid':\n",
    "        return 3\n",
    "    elif sea == 'Hajj':\n",
    "        return 4"
   ]
  },
  {
   "cell_type": "code",
   "execution_count": 37,
   "id": "8f7ea786",
   "metadata": {},
   "outputs": [],
   "source": [
    "flight_data_set['Seasonality Numeric'] = flight_data_set['Seasonality'].apply(seasion)"
   ]
  },
  {
   "cell_type": "code",
   "execution_count": 38,
   "id": "5390b54d",
   "metadata": {},
   "outputs": [
    {
     "data": {
      "text/plain": [
       "array([1, 2, 3, 4])"
      ]
     },
     "execution_count": 38,
     "metadata": {},
     "output_type": "execute_result"
    }
   ],
   "source": [
    "flight_data_set['Seasonality Numeric'].unique()"
   ]
  },
  {
   "cell_type": "code",
   "execution_count": 39,
   "id": "d3ab5ba2",
   "metadata": {},
   "outputs": [
    {
     "data": {
      "application/vnd.microsoft.datawrangler.viewer.v0+json": {
       "columns": [
        {
         "name": "index",
         "rawType": "int64",
         "type": "integer"
        },
        {
         "name": "Airline",
         "rawType": "object",
         "type": "string"
        },
        {
         "name": "Source",
         "rawType": "object",
         "type": "string"
        },
        {
         "name": "Source Name",
         "rawType": "object",
         "type": "string"
        },
        {
         "name": "Destination",
         "rawType": "object",
         "type": "string"
        },
        {
         "name": "Destination Name",
         "rawType": "object",
         "type": "string"
        },
        {
         "name": "Departure Date & Time",
         "rawType": "datetime64[ns]",
         "type": "datetime"
        },
        {
         "name": "Arrival Date & Time",
         "rawType": "datetime64[ns]",
         "type": "datetime"
        },
        {
         "name": "Duration (hrs)",
         "rawType": "float64",
         "type": "float"
        },
        {
         "name": "Stopovers",
         "rawType": "object",
         "type": "string"
        },
        {
         "name": "Aircraft Type",
         "rawType": "object",
         "type": "string"
        },
        {
         "name": "Class",
         "rawType": "object",
         "type": "string"
        },
        {
         "name": "Booking Source",
         "rawType": "object",
         "type": "string"
        },
        {
         "name": "Base Fare (BDT)",
         "rawType": "float64",
         "type": "float"
        },
        {
         "name": "Tax & Surcharge (BDT)",
         "rawType": "float64",
         "type": "float"
        },
        {
         "name": "Total Fare (BDT)",
         "rawType": "float64",
         "type": "float"
        },
        {
         "name": "Seasonality",
         "rawType": "object",
         "type": "string"
        },
        {
         "name": "Days Before Departure",
         "rawType": "int64",
         "type": "integer"
        },
        {
         "name": "Stopovers_numeric",
         "rawType": "int64",
         "type": "integer"
        },
        {
         "name": "Class_numeric",
         "rawType": "int64",
         "type": "integer"
        },
        {
         "name": "Booking Source numeric",
         "rawType": "int64",
         "type": "integer"
        },
        {
         "name": "Seasonality Numeric",
         "rawType": "int64",
         "type": "integer"
        }
       ],
       "ref": "50bcc832-122d-4e67-ba9c-afb5b8483877",
       "rows": [
        [
         "0",
         "Malaysian Airlines",
         "CXB",
         "Cox's Bazar Airport",
         "CCU",
         "Netaji Subhas Chandra Bose International Airport, Kolkata",
         "2025-11-17 06:25:00",
         "2025-11-17 07:38:10",
         "1.2195264539377717",
         "Direct",
         "Airbus A320",
         "Economy",
         "Online Website",
         "21131.22502141266",
         "5169.683753211899",
         "26300.90877462456",
         "Regular",
         "10",
         "0",
         "3",
         "2",
         "1"
        ],
        [
         "1",
         "Cathay Pacific",
         "BZL",
         "Barisal Airport",
         "CGP",
         "Shah Amanat International Airport, Chittagong",
         "2025-03-16 00:17:00",
         "2025-03-16 00:53:31",
         "0.6086380128173666",
         "Direct",
         "Airbus A320",
         "First Class",
         "Travel Agency",
         "11605.395470566073",
         "200.0",
         "11805.395470566073",
         "Regular",
         "14",
         "0",
         "2",
         "1",
         "1"
        ],
        [
         "2",
         "British Airways",
         "ZYL",
         "Osmani International Airport, Sylhet",
         "KUL",
         "Kuala Lumpur International Airport",
         "2025-12-13 12:03:00",
         "2025-12-13 14:44:22",
         "2.6896505565217104",
         "1 Stop",
         "Boeing 787",
         "Economy",
         "Travel Agency",
         "39882.49934875141",
         "11982.374902312711",
         "51864.87425106412",
         "Winter Holidays",
         "83",
         "1",
         "3",
         "1",
         "2"
        ],
        [
         "3",
         "Singapore Airlines",
         "RJH",
         "Shah Makhdum Airport, Rajshahi",
         "DAC",
         "Hazrat Shahjalal International Airport, Dhaka",
         "2025-05-30 03:21:00",
         "2025-05-30 04:02:09",
         "0.6860536480181382",
         "Direct",
         "Airbus A320",
         "Economy",
         "Direct Booking",
         "4435.607340298566",
         "200.0",
         "4635.607340298566",
         "Regular",
         "56",
         "0",
         "3",
         "3",
         "1"
        ],
        [
         "4",
         "British Airways",
         "SPD",
         "Saidpur Airport",
         "YYZ",
         "Toronto Pearson International Airport",
         "2025-04-25 09:14:00",
         "2025-04-25 23:17:20",
         "14.05560922703888",
         "1 Stop",
         "Airbus A350",
         "Business",
         "Direct Booking",
         "59243.806145866125",
         "14886.570921879918",
         "74130.37706774604",
         "Regular",
         "90",
         "1",
         "1",
         "3",
         "1"
        ]
       ],
       "shape": {
        "columns": 21,
        "rows": 5
       }
      },
      "text/html": [
       "<div>\n",
       "<style scoped>\n",
       "    .dataframe tbody tr th:only-of-type {\n",
       "        vertical-align: middle;\n",
       "    }\n",
       "\n",
       "    .dataframe tbody tr th {\n",
       "        vertical-align: top;\n",
       "    }\n",
       "\n",
       "    .dataframe thead th {\n",
       "        text-align: right;\n",
       "    }\n",
       "</style>\n",
       "<table border=\"1\" class=\"dataframe\">\n",
       "  <thead>\n",
       "    <tr style=\"text-align: right;\">\n",
       "      <th></th>\n",
       "      <th>Airline</th>\n",
       "      <th>Source</th>\n",
       "      <th>Source Name</th>\n",
       "      <th>Destination</th>\n",
       "      <th>Destination Name</th>\n",
       "      <th>Departure Date &amp; Time</th>\n",
       "      <th>Arrival Date &amp; Time</th>\n",
       "      <th>Duration (hrs)</th>\n",
       "      <th>Stopovers</th>\n",
       "      <th>Aircraft Type</th>\n",
       "      <th>...</th>\n",
       "      <th>Booking Source</th>\n",
       "      <th>Base Fare (BDT)</th>\n",
       "      <th>Tax &amp; Surcharge (BDT)</th>\n",
       "      <th>Total Fare (BDT)</th>\n",
       "      <th>Seasonality</th>\n",
       "      <th>Days Before Departure</th>\n",
       "      <th>Stopovers_numeric</th>\n",
       "      <th>Class_numeric</th>\n",
       "      <th>Booking Source numeric</th>\n",
       "      <th>Seasonality Numeric</th>\n",
       "    </tr>\n",
       "  </thead>\n",
       "  <tbody>\n",
       "    <tr>\n",
       "      <th>0</th>\n",
       "      <td>Malaysian Airlines</td>\n",
       "      <td>CXB</td>\n",
       "      <td>Cox's Bazar Airport</td>\n",
       "      <td>CCU</td>\n",
       "      <td>Netaji Subhas Chandra Bose International Airpo...</td>\n",
       "      <td>2025-11-17 06:25:00</td>\n",
       "      <td>2025-11-17 07:38:10</td>\n",
       "      <td>1.219526</td>\n",
       "      <td>Direct</td>\n",
       "      <td>Airbus A320</td>\n",
       "      <td>...</td>\n",
       "      <td>Online Website</td>\n",
       "      <td>21131.225021</td>\n",
       "      <td>5169.683753</td>\n",
       "      <td>26300.908775</td>\n",
       "      <td>Regular</td>\n",
       "      <td>10</td>\n",
       "      <td>0</td>\n",
       "      <td>3</td>\n",
       "      <td>2</td>\n",
       "      <td>1</td>\n",
       "    </tr>\n",
       "    <tr>\n",
       "      <th>1</th>\n",
       "      <td>Cathay Pacific</td>\n",
       "      <td>BZL</td>\n",
       "      <td>Barisal Airport</td>\n",
       "      <td>CGP</td>\n",
       "      <td>Shah Amanat International Airport, Chittagong</td>\n",
       "      <td>2025-03-16 00:17:00</td>\n",
       "      <td>2025-03-16 00:53:31</td>\n",
       "      <td>0.608638</td>\n",
       "      <td>Direct</td>\n",
       "      <td>Airbus A320</td>\n",
       "      <td>...</td>\n",
       "      <td>Travel Agency</td>\n",
       "      <td>11605.395471</td>\n",
       "      <td>200.000000</td>\n",
       "      <td>11805.395471</td>\n",
       "      <td>Regular</td>\n",
       "      <td>14</td>\n",
       "      <td>0</td>\n",
       "      <td>2</td>\n",
       "      <td>1</td>\n",
       "      <td>1</td>\n",
       "    </tr>\n",
       "    <tr>\n",
       "      <th>2</th>\n",
       "      <td>British Airways</td>\n",
       "      <td>ZYL</td>\n",
       "      <td>Osmani International Airport, Sylhet</td>\n",
       "      <td>KUL</td>\n",
       "      <td>Kuala Lumpur International Airport</td>\n",
       "      <td>2025-12-13 12:03:00</td>\n",
       "      <td>2025-12-13 14:44:22</td>\n",
       "      <td>2.689651</td>\n",
       "      <td>1 Stop</td>\n",
       "      <td>Boeing 787</td>\n",
       "      <td>...</td>\n",
       "      <td>Travel Agency</td>\n",
       "      <td>39882.499349</td>\n",
       "      <td>11982.374902</td>\n",
       "      <td>51864.874251</td>\n",
       "      <td>Winter Holidays</td>\n",
       "      <td>83</td>\n",
       "      <td>1</td>\n",
       "      <td>3</td>\n",
       "      <td>1</td>\n",
       "      <td>2</td>\n",
       "    </tr>\n",
       "    <tr>\n",
       "      <th>3</th>\n",
       "      <td>Singapore Airlines</td>\n",
       "      <td>RJH</td>\n",
       "      <td>Shah Makhdum Airport, Rajshahi</td>\n",
       "      <td>DAC</td>\n",
       "      <td>Hazrat Shahjalal International Airport, Dhaka</td>\n",
       "      <td>2025-05-30 03:21:00</td>\n",
       "      <td>2025-05-30 04:02:09</td>\n",
       "      <td>0.686054</td>\n",
       "      <td>Direct</td>\n",
       "      <td>Airbus A320</td>\n",
       "      <td>...</td>\n",
       "      <td>Direct Booking</td>\n",
       "      <td>4435.607340</td>\n",
       "      <td>200.000000</td>\n",
       "      <td>4635.607340</td>\n",
       "      <td>Regular</td>\n",
       "      <td>56</td>\n",
       "      <td>0</td>\n",
       "      <td>3</td>\n",
       "      <td>3</td>\n",
       "      <td>1</td>\n",
       "    </tr>\n",
       "    <tr>\n",
       "      <th>4</th>\n",
       "      <td>British Airways</td>\n",
       "      <td>SPD</td>\n",
       "      <td>Saidpur Airport</td>\n",
       "      <td>YYZ</td>\n",
       "      <td>Toronto Pearson International Airport</td>\n",
       "      <td>2025-04-25 09:14:00</td>\n",
       "      <td>2025-04-25 23:17:20</td>\n",
       "      <td>14.055609</td>\n",
       "      <td>1 Stop</td>\n",
       "      <td>Airbus A350</td>\n",
       "      <td>...</td>\n",
       "      <td>Direct Booking</td>\n",
       "      <td>59243.806146</td>\n",
       "      <td>14886.570922</td>\n",
       "      <td>74130.377068</td>\n",
       "      <td>Regular</td>\n",
       "      <td>90</td>\n",
       "      <td>1</td>\n",
       "      <td>1</td>\n",
       "      <td>3</td>\n",
       "      <td>1</td>\n",
       "    </tr>\n",
       "  </tbody>\n",
       "</table>\n",
       "<p>5 rows × 21 columns</p>\n",
       "</div>"
      ],
      "text/plain": [
       "              Airline Source                           Source Name  \\\n",
       "0  Malaysian Airlines    CXB                   Cox's Bazar Airport   \n",
       "1      Cathay Pacific    BZL                       Barisal Airport   \n",
       "2     British Airways    ZYL  Osmani International Airport, Sylhet   \n",
       "3  Singapore Airlines    RJH        Shah Makhdum Airport, Rajshahi   \n",
       "4     British Airways    SPD                       Saidpur Airport   \n",
       "\n",
       "  Destination                                   Destination Name  \\\n",
       "0         CCU  Netaji Subhas Chandra Bose International Airpo...   \n",
       "1         CGP      Shah Amanat International Airport, Chittagong   \n",
       "2         KUL                 Kuala Lumpur International Airport   \n",
       "3         DAC      Hazrat Shahjalal International Airport, Dhaka   \n",
       "4         YYZ              Toronto Pearson International Airport   \n",
       "\n",
       "  Departure Date & Time Arrival Date & Time  Duration (hrs) Stopovers  \\\n",
       "0   2025-11-17 06:25:00 2025-11-17 07:38:10        1.219526    Direct   \n",
       "1   2025-03-16 00:17:00 2025-03-16 00:53:31        0.608638    Direct   \n",
       "2   2025-12-13 12:03:00 2025-12-13 14:44:22        2.689651    1 Stop   \n",
       "3   2025-05-30 03:21:00 2025-05-30 04:02:09        0.686054    Direct   \n",
       "4   2025-04-25 09:14:00 2025-04-25 23:17:20       14.055609    1 Stop   \n",
       "\n",
       "  Aircraft Type  ...  Booking Source Base Fare (BDT)  Tax & Surcharge (BDT)  \\\n",
       "0   Airbus A320  ...  Online Website    21131.225021            5169.683753   \n",
       "1   Airbus A320  ...   Travel Agency    11605.395471             200.000000   \n",
       "2    Boeing 787  ...   Travel Agency    39882.499349           11982.374902   \n",
       "3   Airbus A320  ...  Direct Booking     4435.607340             200.000000   \n",
       "4   Airbus A350  ...  Direct Booking    59243.806146           14886.570922   \n",
       "\n",
       "   Total Fare (BDT)      Seasonality Days Before Departure  Stopovers_numeric  \\\n",
       "0      26300.908775          Regular                    10                  0   \n",
       "1      11805.395471          Regular                    14                  0   \n",
       "2      51864.874251  Winter Holidays                    83                  1   \n",
       "3       4635.607340          Regular                    56                  0   \n",
       "4      74130.377068          Regular                    90                  1   \n",
       "\n",
       "   Class_numeric  Booking Source numeric  Seasonality Numeric  \n",
       "0              3                       2                    1  \n",
       "1              2                       1                    1  \n",
       "2              3                       1                    2  \n",
       "3              3                       3                    1  \n",
       "4              1                       3                    1  \n",
       "\n",
       "[5 rows x 21 columns]"
      ]
     },
     "execution_count": 39,
     "metadata": {},
     "output_type": "execute_result"
    }
   ],
   "source": [
    "flight_data_set.head()"
   ]
  },
  {
   "cell_type": "markdown",
   "id": "9c8d2775",
   "metadata": {},
   "source": [
    "# Data Visulization "
   ]
  },
  {
   "cell_type": "code",
   "execution_count": 40,
   "id": "e83d3826",
   "metadata": {},
   "outputs": [
    {
     "data": {
      "image/png": "[encoded data removed]",
      "text/plain": [
       "<Figure size 1000x500 with 1 Axes>"
      ]
     },
     "metadata": {},
     "output_type": "display_data"
    }
   ],
   "source": [
    "plt.figure(figsize=(10,5))\n",
    "plt.bar(x = flight_data_set['Booking Source'],height=  flight_data_set['Booking Source numeric'])\n",
    "plt.title(\" Most Highest  Booking resources\" , fontsize = 14 , fontweight = 'bold')\n",
    "plt.xlabel(\"Different Booking resoures\")\n",
    "plt.show()\n",
    "\n"
   ]
  },
  {
   "cell_type": "code",
   "execution_count": 41,
   "id": "8fbe423e",
   "metadata": {},
   "outputs": [
    {
     "data": {
      "image/png": "[encoded data removed]",
      "text/plain": [
       "<Figure size 640x480 with 1 Axes>"
      ]
     },
     "metadata": {},
     "output_type": "display_data"
    }
   ],
   "source": [
    "plt.bar(x = flight_data_set['Class'] , height= flight_data_set['Class_numeric'])\n",
    "plt.show()"
   ]
  },
  {
   "cell_type": "code",
   "execution_count": 42,
   "id": "362477bf",
   "metadata": {},
   "outputs": [
    {
     "data": {
      "application/vnd.microsoft.datawrangler.viewer.v0+json": {
       "columns": [
        {
         "name": "Class_numeric",
         "rawType": "int64",
         "type": "integer"
        },
        {
         "name": "count",
         "rawType": "int64",
         "type": "integer"
        }
       ],
       "ref": "e7abc861-91a2-4aea-9518-51a41fe99fc6",
       "rows": [
        [
         "3",
         "19112"
        ],
        [
         "2",
         "18979"
        ],
        [
         "1",
         "18909"
        ]
       ],
       "shape": {
        "columns": 1,
        "rows": 3
       }
      },
      "text/plain": [
       "Class_numeric\n",
       "3    19112\n",
       "2    18979\n",
       "1    18909\n",
       "Name: count, dtype: int64"
      ]
     },
     "execution_count": 42,
     "metadata": {},
     "output_type": "execute_result"
    }
   ],
   "source": [
    "flight_data_set['Class_numeric'].value_counts()"
   ]
  },
  {
   "cell_type": "code",
   "execution_count": 43,
   "id": "d22339a1",
   "metadata": {},
   "outputs": [
    {
     "data": {
      "application/vnd.microsoft.datawrangler.viewer.v0+json": {
       "columns": [
        {
         "name": "index",
         "rawType": "int64",
         "type": "integer"
        },
        {
         "name": "Airline",
         "rawType": "object",
         "type": "string"
        },
        {
         "name": "Source",
         "rawType": "object",
         "type": "string"
        },
        {
         "name": "Source Name",
         "rawType": "object",
         "type": "string"
        },
        {
         "name": "Destination",
         "rawType": "object",
         "type": "string"
        },
        {
         "name": "Destination Name",
         "rawType": "object",
         "type": "string"
        },
        {
         "name": "Departure Date & Time",
         "rawType": "datetime64[ns]",
         "type": "datetime"
        },
        {
         "name": "Arrival Date & Time",
         "rawType": "datetime64[ns]",
         "type": "datetime"
        },
        {
         "name": "Duration (hrs)",
         "rawType": "float64",
         "type": "float"
        },
        {
         "name": "Stopovers",
         "rawType": "object",
         "type": "string"
        },
        {
         "name": "Aircraft Type",
         "rawType": "object",
         "type": "string"
        },
        {
         "name": "Class",
         "rawType": "object",
         "type": "string"
        },
        {
         "name": "Booking Source",
         "rawType": "object",
         "type": "string"
        },
        {
         "name": "Base Fare (BDT)",
         "rawType": "float64",
         "type": "float"
        },
        {
         "name": "Tax & Surcharge (BDT)",
         "rawType": "float64",
         "type": "float"
        },
        {
         "name": "Total Fare (BDT)",
         "rawType": "float64",
         "type": "float"
        },
        {
         "name": "Seasonality",
         "rawType": "object",
         "type": "string"
        },
        {
         "name": "Days Before Departure",
         "rawType": "int64",
         "type": "integer"
        },
        {
         "name": "Stopovers_numeric",
         "rawType": "int64",
         "type": "integer"
        },
        {
         "name": "Class_numeric",
         "rawType": "int64",
         "type": "integer"
        },
        {
         "name": "Booking Source numeric",
         "rawType": "int64",
         "type": "integer"
        },
        {
         "name": "Seasonality Numeric",
         "rawType": "int64",
         "type": "integer"
        }
       ],
       "ref": "b3cc5153-bae2-4cc5-809a-270d4a9c62a4",
       "rows": [
        [
         "0",
         "Malaysian Airlines",
         "CXB",
         "Cox's Bazar Airport",
         "CCU",
         "Netaji Subhas Chandra Bose International Airport, Kolkata",
         "2025-11-17 06:25:00",
         "2025-11-17 07:38:10",
         "1.2195264539377717",
         "Direct",
         "Airbus A320",
         "Economy",
         "Online Website",
         "21131.22502141266",
         "5169.683753211899",
         "26300.90877462456",
         "Regular",
         "10",
         "0",
         "3",
         "2",
         "1"
        ],
        [
         "1",
         "Cathay Pacific",
         "BZL",
         "Barisal Airport",
         "CGP",
         "Shah Amanat International Airport, Chittagong",
         "2025-03-16 00:17:00",
         "2025-03-16 00:53:31",
         "0.6086380128173666",
         "Direct",
         "Airbus A320",
         "First Class",
         "Travel Agency",
         "11605.395470566073",
         "200.0",
         "11805.395470566073",
         "Regular",
         "14",
         "0",
         "2",
         "1",
         "1"
        ],
        [
         "2",
         "British Airways",
         "ZYL",
         "Osmani International Airport, Sylhet",
         "KUL",
         "Kuala Lumpur International Airport",
         "2025-12-13 12:03:00",
         "2025-12-13 14:44:22",
         "2.6896505565217104",
         "1 Stop",
         "Boeing 787",
         "Economy",
         "Travel Agency",
         "39882.49934875141",
         "11982.374902312711",
         "51864.87425106412",
         "Winter Holidays",
         "83",
         "1",
         "3",
         "1",
         "2"
        ],
        [
         "3",
         "Singapore Airlines",
         "RJH",
         "Shah Makhdum Airport, Rajshahi",
         "DAC",
         "Hazrat Shahjalal International Airport, Dhaka",
         "2025-05-30 03:21:00",
         "2025-05-30 04:02:09",
         "0.6860536480181382",
         "Direct",
         "Airbus A320",
         "Economy",
         "Direct Booking",
         "4435.607340298566",
         "200.0",
         "4635.607340298566",
         "Regular",
         "56",
         "0",
         "3",
         "3",
         "1"
        ],
        [
         "4",
         "British Airways",
         "SPD",
         "Saidpur Airport",
         "YYZ",
         "Toronto Pearson International Airport",
         "2025-04-25 09:14:00",
         "2025-04-25 23:17:20",
         "14.05560922703888",
         "1 Stop",
         "Airbus A350",
         "Business",
         "Direct Booking",
         "59243.806145866125",
         "14886.570921879918",
         "74130.37706774604",
         "Regular",
         "90",
         "1",
         "1",
         "3",
         "1"
        ]
       ],
       "shape": {
        "columns": 21,
        "rows": 5
       }
      },
      "text/html": [
       "<div>\n",
       "<style scoped>\n",
       "    .dataframe tbody tr th:only-of-type {\n",
       "        vertical-align: middle;\n",
       "    }\n",
       "\n",
       "    .dataframe tbody tr th {\n",
       "        vertical-align: top;\n",
       "    }\n",
       "\n",
       "    .dataframe thead th {\n",
       "        text-align: right;\n",
       "    }\n",
       "</style>\n",
       "<table border=\"1\" class=\"dataframe\">\n",
       "  <thead>\n",
       "    <tr style=\"text-align: right;\">\n",
       "      <th></th>\n",
       "      <th>Airline</th>\n",
       "      <th>Source</th>\n",
       "      <th>Source Name</th>\n",
       "      <th>Destination</th>\n",
       "      <th>Destination Name</th>\n",
       "      <th>Departure Date &amp; Time</th>\n",
       "      <th>Arrival Date &amp; Time</th>\n",
       "      <th>Duration (hrs)</th>\n",
       "      <th>Stopovers</th>\n",
       "      <th>Aircraft Type</th>\n",
       "      <th>...</th>\n",
       "      <th>Booking Source</th>\n",
       "      <th>Base Fare (BDT)</th>\n",
       "      <th>Tax &amp; Surcharge (BDT)</th>\n",
       "      <th>Total Fare (BDT)</th>\n",
       "      <th>Seasonality</th>\n",
       "      <th>Days Before Departure</th>\n",
       "      <th>Stopovers_numeric</th>\n",
       "      <th>Class_numeric</th>\n",
       "      <th>Booking Source numeric</th>\n",
       "      <th>Seasonality Numeric</th>\n",
       "    </tr>\n",
       "  </thead>\n",
       "  <tbody>\n",
       "    <tr>\n",
       "      <th>0</th>\n",
       "      <td>Malaysian Airlines</td>\n",
       "      <td>CXB</td>\n",
       "      <td>Cox's Bazar Airport</td>\n",
       "      <td>CCU</td>\n",
       "      <td>Netaji Subhas Chandra Bose International Airpo...</td>\n",
       "      <td>2025-11-17 06:25:00</td>\n",
       "      <td>2025-11-17 07:38:10</td>\n",
       "      <td>1.219526</td>\n",
       "      <td>Direct</td>\n",
       "      <td>Airbus A320</td>\n",
       "      <td>...</td>\n",
       "      <td>Online Website</td>\n",
       "      <td>21131.225021</td>\n",
       "      <td>5169.683753</td>\n",
       "      <td>26300.908775</td>\n",
       "      <td>Regular</td>\n",
       "      <td>10</td>\n",
       "      <td>0</td>\n",
       "      <td>3</td>\n",
       "      <td>2</td>\n",
       "      <td>1</td>\n",
       "    </tr>\n",
       "    <tr>\n",
       "      <th>1</th>\n",
       "      <td>Cathay Pacific</td>\n",
       "      <td>BZL</td>\n",
       "      <td>Barisal Airport</td>\n",
       "      <td>CGP</td>\n",
       "      <td>Shah Amanat International Airport, Chittagong</td>\n",
       "      <td>2025-03-16 00:17:00</td>\n",
       "      <td>2025-03-16 00:53:31</td>\n",
       "      <td>0.608638</td>\n",
       "      <td>Direct</td>\n",
       "      <td>Airbus A320</td>\n",
       "      <td>...</td>\n",
       "      <td>Travel Agency</td>\n",
       "      <td>11605.395471</td>\n",
       "      <td>200.000000</td>\n",
       "      <td>11805.395471</td>\n",
       "      <td>Regular</td>\n",
       "      <td>14</td>\n",
       "      <td>0</td>\n",
       "      <td>2</td>\n",
       "      <td>1</td>\n",
       "      <td>1</td>\n",
       "    </tr>\n",
       "    <tr>\n",
       "      <th>2</th>\n",
       "      <td>British Airways</td>\n",
       "      <td>ZYL</td>\n",
       "      <td>Osmani International Airport, Sylhet</td>\n",
       "      <td>KUL</td>\n",
       "      <td>Kuala Lumpur International Airport</td>\n",
       "      <td>2025-12-13 12:03:00</td>\n",
       "      <td>2025-12-13 14:44:22</td>\n",
       "      <td>2.689651</td>\n",
       "      <td>1 Stop</td>\n",
       "      <td>Boeing 787</td>\n",
       "      <td>...</td>\n",
       "      <td>Travel Agency</td>\n",
       "      <td>39882.499349</td>\n",
       "      <td>11982.374902</td>\n",
       "      <td>51864.874251</td>\n",
       "      <td>Winter Holidays</td>\n",
       "      <td>83</td>\n",
       "      <td>1</td>\n",
       "      <td>3</td>\n",
       "      <td>1</td>\n",
       "      <td>2</td>\n",
       "    </tr>\n",
       "    <tr>\n",
       "      <th>3</th>\n",
       "      <td>Singapore Airlines</td>\n",
       "      <td>RJH</td>\n",
       "      <td>Shah Makhdum Airport, Rajshahi</td>\n",
       "      <td>DAC</td>\n",
       "      <td>Hazrat Shahjalal International Airport, Dhaka</td>\n",
       "      <td>2025-05-30 03:21:00</td>\n",
       "      <td>2025-05-30 04:02:09</td>\n",
       "      <td>0.686054</td>\n",
       "      <td>Direct</td>\n",
       "      <td>Airbus A320</td>\n",
       "      <td>...</td>\n",
       "      <td>Direct Booking</td>\n",
       "      <td>4435.607340</td>\n",
       "      <td>200.000000</td>\n",
       "      <td>4635.607340</td>\n",
       "      <td>Regular</td>\n",
       "      <td>56</td>\n",
       "      <td>0</td>\n",
       "      <td>3</td>\n",
       "      <td>3</td>\n",
       "      <td>1</td>\n",
       "    </tr>\n",
       "    <tr>\n",
       "      <th>4</th>\n",
       "      <td>British Airways</td>\n",
       "      <td>SPD</td>\n",
       "      <td>Saidpur Airport</td>\n",
       "      <td>YYZ</td>\n",
       "      <td>Toronto Pearson International Airport</td>\n",
       "      <td>2025-04-25 09:14:00</td>\n",
       "      <td>2025-04-25 23:17:20</td>\n",
       "      <td>14.055609</td>\n",
       "      <td>1 Stop</td>\n",
       "      <td>Airbus A350</td>\n",
       "      <td>...</td>\n",
       "      <td>Direct Booking</td>\n",
       "      <td>59243.806146</td>\n",
       "      <td>14886.570922</td>\n",
       "      <td>74130.377068</td>\n",
       "      <td>Regular</td>\n",
       "      <td>90</td>\n",
       "      <td>1</td>\n",
       "      <td>1</td>\n",
       "      <td>3</td>\n",
       "      <td>1</td>\n",
       "    </tr>\n",
       "  </tbody>\n",
       "</table>\n",
       "<p>5 rows × 21 columns</p>\n",
       "</div>"
      ],
      "text/plain": [
       "              Airline Source                           Source Name  \\\n",
       "0  Malaysian Airlines    CXB                   Cox's Bazar Airport   \n",
       "1      Cathay Pacific    BZL                       Barisal Airport   \n",
       "2     British Airways    ZYL  Osmani International Airport, Sylhet   \n",
       "3  Singapore Airlines    RJH        Shah Makhdum Airport, Rajshahi   \n",
       "4     British Airways    SPD                       Saidpur Airport   \n",
       "\n",
       "  Destination                                   Destination Name  \\\n",
       "0         CCU  Netaji Subhas Chandra Bose International Airpo...   \n",
       "1         CGP      Shah Amanat International Airport, Chittagong   \n",
       "2         KUL                 Kuala Lumpur International Airport   \n",
       "3         DAC      Hazrat Shahjalal International Airport, Dhaka   \n",
       "4         YYZ              Toronto Pearson International Airport   \n",
       "\n",
       "  Departure Date & Time Arrival Date & Time  Duration (hrs) Stopovers  \\\n",
       "0   2025-11-17 06:25:00 2025-11-17 07:38:10        1.219526    Direct   \n",
       "1   2025-03-16 00:17:00 2025-03-16 00:53:31        0.608638    Direct   \n",
       "2   2025-12-13 12:03:00 2025-12-13 14:44:22        2.689651    1 Stop   \n",
       "3   2025-05-30 03:21:00 2025-05-30 04:02:09        0.686054    Direct   \n",
       "4   2025-04-25 09:14:00 2025-04-25 23:17:20       14.055609    1 Stop   \n",
       "\n",
       "  Aircraft Type  ...  Booking Source Base Fare (BDT)  Tax & Surcharge (BDT)  \\\n",
       "0   Airbus A320  ...  Online Website    21131.225021            5169.683753   \n",
       "1   Airbus A320  ...   Travel Agency    11605.395471             200.000000   \n",
       "2    Boeing 787  ...   Travel Agency    39882.499349           11982.374902   \n",
       "3   Airbus A320  ...  Direct Booking     4435.607340             200.000000   \n",
       "4   Airbus A350  ...  Direct Booking    59243.806146           14886.570922   \n",
       "\n",
       "   Total Fare (BDT)      Seasonality Days Before Departure  Stopovers_numeric  \\\n",
       "0      26300.908775          Regular                    10                  0   \n",
       "1      11805.395471          Regular                    14                  0   \n",
       "2      51864.874251  Winter Holidays                    83                  1   \n",
       "3       4635.607340          Regular                    56                  0   \n",
       "4      74130.377068          Regular                    90                  1   \n",
       "\n",
       "   Class_numeric  Booking Source numeric  Seasonality Numeric  \n",
       "0              3                       2                    1  \n",
       "1              2                       1                    1  \n",
       "2              3                       1                    2  \n",
       "3              3                       3                    1  \n",
       "4              1                       3                    1  \n",
       "\n",
       "[5 rows x 21 columns]"
      ]
     },
     "execution_count": 43,
     "metadata": {},
     "output_type": "execute_result"
    }
   ],
   "source": [
    "flight_data_set.head()"
   ]
  },
  {
   "cell_type": "markdown",
   "id": "0aa705d3",
   "metadata": {},
   "source": [
    "1. ✈️ Which airline has the most number of flights? "
   ]
  },
  {
   "cell_type": "code",
   "execution_count": 44,
   "id": "9a002b4a",
   "metadata": {},
   "outputs": [
    {
     "data": {
      "application/vnd.microsoft.datawrangler.viewer.v0+json": {
       "columns": [
        {
         "name": "Airline",
         "rawType": "object",
         "type": "string"
        },
        {
         "name": "count",
         "rawType": "int64",
         "type": "integer"
        }
       ],
       "ref": "21d11350-b1f8-43a3-9340-57372a778e4f",
       "rows": [
        [
         "US-Bangla Airlines",
         "4496"
        ],
        [
         "Vistara",
         "2368"
        ],
        [
         "Lufthansa",
         "2368"
        ],
        [
         "FlyDubai",
         "2346"
        ],
        [
         "Biman Bangladesh Airlines",
         "2344"
        ],
        [
         "Emirates",
         "2327"
        ],
        [
         "Saudia",
         "2321"
        ],
        [
         "Thai Airways",
         "2316"
        ],
        [
         "AirAsia",
         "2312"
        ],
        [
         "Air Astra",
         "2304"
        ],
        [
         "Malaysian Airlines",
         "2292"
        ],
        [
         "Cathay Pacific",
         "2282"
        ],
        [
         "Air India",
         "2280"
        ],
        [
         "Singapore Airlines",
         "2279"
        ],
        [
         "NovoAir",
         "2268"
        ],
        [
         "Etihad Airways",
         "2267"
        ],
        [
         "Qatar Airways",
         "2267"
        ],
        [
         "Kuwait Airways",
         "2262"
        ],
        [
         "Gulf Air",
         "2231"
        ],
        [
         "IndiGo",
         "2223"
        ],
        [
         "Turkish Airlines",
         "2220"
        ],
        [
         "Air Arabia",
         "2217"
        ],
        [
         "British Airways",
         "2209"
        ],
        [
         "SriLankan Airlines",
         "2201"
        ]
       ],
       "shape": {
        "columns": 1,
        "rows": 24
       }
      },
      "text/plain": [
       "Airline\n",
       "US-Bangla Airlines           4496\n",
       "Vistara                      2368\n",
       "Lufthansa                    2368\n",
       "FlyDubai                     2346\n",
       "Biman Bangladesh Airlines    2344\n",
       "Emirates                     2327\n",
       "Saudia                       2321\n",
       "Thai Airways                 2316\n",
       "AirAsia                      2312\n",
       "Air Astra                    2304\n",
       "Malaysian Airlines           2292\n",
       "Cathay Pacific               2282\n",
       "Air India                    2280\n",
       "Singapore Airlines           2279\n",
       "NovoAir                      2268\n",
       "Etihad Airways               2267\n",
       "Qatar Airways                2267\n",
       "Kuwait Airways               2262\n",
       "Gulf Air                     2231\n",
       "IndiGo                       2223\n",
       "Turkish Airlines             2220\n",
       "Air Arabia                   2217\n",
       "British Airways              2209\n",
       "SriLankan Airlines           2201\n",
       "Name: count, dtype: int64"
      ]
     },
     "execution_count": 44,
     "metadata": {},
     "output_type": "execute_result"
    }
   ],
   "source": [
    "flight_data_set['Airline'].value_counts()"
   ]
  },
  {
   "cell_type": "code",
   "execution_count": 45,
   "id": "8d43b12d",
   "metadata": {},
   "outputs": [
    {
     "name": "stderr",
     "output_type": "stream",
     "text": [
      "C:\\Users\\ragha\\AppData\\Local\\Temp\\ipykernel_5544\\3860945097.py:10: FutureWarning: \n",
      "\n",
      "Passing `palette` without assigning `hue` is deprecated and will be removed in v0.14.0. Assign the `x` variable to `hue` and set `legend=False` for the same effect.\n",
      "\n",
      "  sns.barplot(data=airline_counts, x='Airline', y='Count', palette='Set2')\n"
     ]
    },
    {
     "data": {
      "image/png": "[encoded data removed]",
      "text/plain": [
       "<Figure size 1300x800 with 1 Axes>"
      ]
     },
     "metadata": {},
     "output_type": "display_data"
    }
   ],
   "source": [
    "import seaborn as sns\n",
    "import matplotlib.pyplot as plt\n",
    "\n",
    "airline_counts = flight_data_set['Airline'].value_counts().reset_index()\n",
    "airline_counts.columns = ['Airline', 'Count']\n",
    "\n",
    "plt.figure(figsize=(13, 8))\n",
    "\n",
    "\n",
    "sns.barplot(data=airline_counts, x='Airline', y='Count', palette='Set2')\n",
    "\n",
    "\n",
    "plt.xticks(rotation=45)\n",
    "\n",
    "\n",
    "plt.title('Number of Flights per Airline', fontsize=16)\n",
    "plt.xlabel('Airline', fontsize=14)\n",
    "plt.ylabel('Number of Flights', fontsize=14)\n",
    "\n",
    "\n",
    "for index, row in airline_counts.iterrows():\n",
    "    plt.text(index, row['Count'] + 100, row['Count'], ha='center', va='bottom', fontsize=10)\n",
    "\n",
    "\n",
    "plt.tight_layout()\n",
    "plt.show()\n",
    "\n"
   ]
  },
  {
   "cell_type": "markdown",
   "id": "b3539655",
   "metadata": {},
   "source": [
    "2. 📅 How does the number of flights vary by month? "
   ]
  },
  {
   "cell_type": "code",
   "execution_count": 46,
   "id": "7f6964c0",
   "metadata": {},
   "outputs": [],
   "source": [
    "flight_data_set['Month'] = flight_data_set['Departure Date & Time'].dt.month_name()"
   ]
  },
  {
   "cell_type": "code",
   "execution_count": 47,
   "id": "a06c82b8",
   "metadata": {},
   "outputs": [
    {
     "data": {
      "text/plain": [
       "array(['November', 'March', 'December', 'May', 'April', 'June', 'October',\n",
       "       'July', 'January', 'September', 'February', 'August'], dtype=object)"
      ]
     },
     "execution_count": 47,
     "metadata": {},
     "output_type": "execute_result"
    }
   ],
   "source": [
    "flight_data_set['Month'].unique()"
   ]
  },
  {
   "cell_type": "code",
   "execution_count": 48,
   "id": "efef9dd1",
   "metadata": {},
   "outputs": [
    {
     "data": {
      "application/vnd.microsoft.datawrangler.viewer.v0+json": {
       "columns": [
        {
         "name": "Month",
         "rawType": "object",
         "type": "string"
        },
        {
         "name": "count",
         "rawType": "int64",
         "type": "integer"
        }
       ],
       "ref": "d5042746-c9db-4251-bb5a-413d42ce55c9",
       "rows": [
        [
         "January",
         "4851"
        ],
        [
         "February",
         "4216"
        ],
        [
         "March",
         "4893"
        ],
        [
         "April",
         "4709"
        ],
        [
         "May",
         "4814"
        ],
        [
         "June",
         "4702"
        ],
        [
         "July",
         "4664"
        ],
        [
         "August",
         "4919"
        ],
        [
         "September",
         "4715"
        ],
        [
         "October",
         "4992"
        ],
        [
         "November",
         "4733"
        ],
        [
         "December",
         "4792"
        ]
       ],
       "shape": {
        "columns": 1,
        "rows": 12
       }
      },
      "text/plain": [
       "Month\n",
       "January      4851\n",
       "February     4216\n",
       "March        4893\n",
       "April        4709\n",
       "May          4814\n",
       "June         4702\n",
       "July         4664\n",
       "August       4919\n",
       "September    4715\n",
       "October      4992\n",
       "November     4733\n",
       "December     4792\n",
       "Name: count, dtype: int64"
      ]
     },
     "execution_count": 48,
     "metadata": {},
     "output_type": "execute_result"
    }
   ],
   "source": [
    "monthly_flights = flight_data_set['Month'].value_counts().reindex(['January','February','March','April','May','June','July','August','September','October','November','December'])\n",
    "monthly_flights"
   ]
  },
  {
   "cell_type": "code",
   "execution_count": 49,
   "id": "ed27f217",
   "metadata": {},
   "outputs": [
    {
     "data": {
      "image/png": "[encoded data removed]",
      "text/plain": [
       "<Figure size 1200x600 with 1 Axes>"
      ]
     },
     "metadata": {},
     "output_type": "display_data"
    }
   ],
   "source": [
    "plt.figure(figsize=(12, 6))\n",
    "sns.lineplot(x = monthly_flights.index , y = monthly_flights.values , marker = 'o' , linewidth = 2.5 , color = 'teal' )\n",
    "\n",
    "plt.title('Number of Flights per Month', fontsize=16)\n",
    "plt.xlabel('Month', fontsize=14)\n",
    "plt.ylabel('Number of Flights', fontsize=14)\n",
    "plt.xticks(rotation=45)\n",
    "plt.grid(True)\n",
    "\n",
    "plt.tight_layout()\n",
    "plt.show()\n"
   ]
  },
  {
   "cell_type": "markdown",
   "id": "ff22899c",
   "metadata": {},
   "source": [
    "3. 🕓 What are the peak hours for departures and arrivals?"
   ]
  },
  {
   "cell_type": "code",
   "execution_count": 50,
   "id": "561a2425",
   "metadata": {},
   "outputs": [
    {
     "data": {
      "image/png": "[encoded data removed]",
      "text/plain": [
       "<Figure size 1400x600 with 2 Axes>"
      ]
     },
     "metadata": {},
     "output_type": "display_data"
    }
   ],
   "source": [
    "flight_data_set['Arrival_Hour'] = flight_data_set['Arrival Date & Time'].dt.hour\n",
    "flight_data_set['Arrival_Day'] = flight_data_set['Arrival Date & Time'].dt.day_name()\n",
    "\n",
    "peak_hours = flight_data_set.groupby(['Arrival_Hour','Arrival_Day']).size().reset_index(name='Flight_Count')\n",
    "\n",
    "import seaborn as sns\n",
    "import matplotlib.pyplot as plt\n",
    "\n",
    "pivot_table = peak_hours.pivot(index='Arrival_Day', columns='Arrival_Hour', values='Flight_Count')\n",
    "\n",
    "plt.figure(figsize=(14, 6))\n",
    "sns.heatmap(pivot_table, cmap='YlGnBu', annot=True, fmt='g')\n",
    "plt.title('Number of Arrivals by Day and Hour')\n",
    "plt.xlabel('Hour of Day')\n",
    "plt.ylabel('Day of Week')\n",
    "plt.tight_layout()\n",
    "plt.show()\n",
    "\n",
    "\n"
   ]
  },
  {
   "cell_type": "code",
   "execution_count": 51,
   "id": "fa294613",
   "metadata": {},
   "outputs": [
    {
     "data": {
      "text/plain": [
       "<Axes: xlabel='Arrival_Day', ylabel='Arrival_Hour'>"
      ]
     },
     "execution_count": 51,
     "metadata": {},
     "output_type": "execute_result"
    },
    {
     "data": {
      "image/png": "[encoded data removed]",
      "text/plain": [
       "<Figure size 640x480 with 1 Axes>"
      ]
     },
     "metadata": {},
     "output_type": "display_data"
    }
   ],
   "source": [
    "sns.lineplot(x = peak_hours['Arrival_Day'],y = peak_hours['Arrival_Hour'])"
   ]
  },
  {
   "cell_type": "code",
   "execution_count": 52,
   "id": "17041c6f",
   "metadata": {},
   "outputs": [
    {
     "data": {
      "application/vnd.microsoft.datawrangler.viewer.v0+json": {
       "columns": [
        {
         "name": "index",
         "rawType": "int64",
         "type": "integer"
        },
        {
         "name": "Airline",
         "rawType": "object",
         "type": "string"
        },
        {
         "name": "Source",
         "rawType": "object",
         "type": "string"
        },
        {
         "name": "Source Name",
         "rawType": "object",
         "type": "string"
        },
        {
         "name": "Destination",
         "rawType": "object",
         "type": "string"
        },
        {
         "name": "Destination Name",
         "rawType": "object",
         "type": "string"
        },
        {
         "name": "Departure Date & Time",
         "rawType": "datetime64[ns]",
         "type": "datetime"
        },
        {
         "name": "Arrival Date & Time",
         "rawType": "datetime64[ns]",
         "type": "datetime"
        },
        {
         "name": "Duration (hrs)",
         "rawType": "float64",
         "type": "float"
        },
        {
         "name": "Stopovers",
         "rawType": "object",
         "type": "string"
        },
        {
         "name": "Aircraft Type",
         "rawType": "object",
         "type": "string"
        },
        {
         "name": "Class",
         "rawType": "object",
         "type": "string"
        },
        {
         "name": "Booking Source",
         "rawType": "object",
         "type": "string"
        },
        {
         "name": "Base Fare (BDT)",
         "rawType": "float64",
         "type": "float"
        },
        {
         "name": "Tax & Surcharge (BDT)",
         "rawType": "float64",
         "type": "float"
        },
        {
         "name": "Total Fare (BDT)",
         "rawType": "float64",
         "type": "float"
        },
        {
         "name": "Seasonality",
         "rawType": "object",
         "type": "string"
        },
        {
         "name": "Days Before Departure",
         "rawType": "int64",
         "type": "integer"
        },
        {
         "name": "Stopovers_numeric",
         "rawType": "int64",
         "type": "integer"
        },
        {
         "name": "Class_numeric",
         "rawType": "int64",
         "type": "integer"
        },
        {
         "name": "Booking Source numeric",
         "rawType": "int64",
         "type": "integer"
        },
        {
         "name": "Seasonality Numeric",
         "rawType": "int64",
         "type": "integer"
        },
        {
         "name": "Month",
         "rawType": "object",
         "type": "string"
        },
        {
         "name": "Arrival_Hour",
         "rawType": "int32",
         "type": "integer"
        },
        {
         "name": "Arrival_Day",
         "rawType": "object",
         "type": "string"
        }
       ],
       "ref": "9837486c-0273-43ed-b503-0c5f23f2142c",
       "rows": [
        [
         "0",
         "Malaysian Airlines",
         "CXB",
         "Cox's Bazar Airport",
         "CCU",
         "Netaji Subhas Chandra Bose International Airport, Kolkata",
         "2025-11-17 06:25:00",
         "2025-11-17 07:38:10",
         "1.2195264539377717",
         "Direct",
         "Airbus A320",
         "Economy",
         "Online Website",
         "21131.22502141266",
         "5169.683753211899",
         "26300.90877462456",
         "Regular",
         "10",
         "0",
         "3",
         "2",
         "1",
         "November",
         "7",
         "Monday"
        ],
        [
         "1",
         "Cathay Pacific",
         "BZL",
         "Barisal Airport",
         "CGP",
         "Shah Amanat International Airport, Chittagong",
         "2025-03-16 00:17:00",
         "2025-03-16 00:53:31",
         "0.6086380128173666",
         "Direct",
         "Airbus A320",
         "First Class",
         "Travel Agency",
         "11605.395470566073",
         "200.0",
         "11805.395470566073",
         "Regular",
         "14",
         "0",
         "2",
         "1",
         "1",
         "March",
         "0",
         "Sunday"
        ],
        [
         "2",
         "British Airways",
         "ZYL",
         "Osmani International Airport, Sylhet",
         "KUL",
         "Kuala Lumpur International Airport",
         "2025-12-13 12:03:00",
         "2025-12-13 14:44:22",
         "2.6896505565217104",
         "1 Stop",
         "Boeing 787",
         "Economy",
         "Travel Agency",
         "39882.49934875141",
         "11982.374902312711",
         "51864.87425106412",
         "Winter Holidays",
         "83",
         "1",
         "3",
         "1",
         "2",
         "December",
         "14",
         "Saturday"
        ],
        [
         "3",
         "Singapore Airlines",
         "RJH",
         "Shah Makhdum Airport, Rajshahi",
         "DAC",
         "Hazrat Shahjalal International Airport, Dhaka",
         "2025-05-30 03:21:00",
         "2025-05-30 04:02:09",
         "0.6860536480181382",
         "Direct",
         "Airbus A320",
         "Economy",
         "Direct Booking",
         "4435.607340298566",
         "200.0",
         "4635.607340298566",
         "Regular",
         "56",
         "0",
         "3",
         "3",
         "1",
         "May",
         "4",
         "Friday"
        ],
        [
         "4",
         "British Airways",
         "SPD",
         "Saidpur Airport",
         "YYZ",
         "Toronto Pearson International Airport",
         "2025-04-25 09:14:00",
         "2025-04-25 23:17:20",
         "14.05560922703888",
         "1 Stop",
         "Airbus A350",
         "Business",
         "Direct Booking",
         "59243.806145866125",
         "14886.570921879918",
         "74130.37706774604",
         "Regular",
         "90",
         "1",
         "1",
         "3",
         "1",
         "April",
         "23",
         "Friday"
        ]
       ],
       "shape": {
        "columns": 24,
        "rows": 5
       }
      },
      "text/html": [
       "<div>\n",
       "<style scoped>\n",
       "    .dataframe tbody tr th:only-of-type {\n",
       "        vertical-align: middle;\n",
       "    }\n",
       "\n",
       "    .dataframe tbody tr th {\n",
       "        vertical-align: top;\n",
       "    }\n",
       "\n",
       "    .dataframe thead th {\n",
       "        text-align: right;\n",
       "    }\n",
       "</style>\n",
       "<table border=\"1\" class=\"dataframe\">\n",
       "  <thead>\n",
       "    <tr style=\"text-align: right;\">\n",
       "      <th></th>\n",
       "      <th>Airline</th>\n",
       "      <th>Source</th>\n",
       "      <th>Source Name</th>\n",
       "      <th>Destination</th>\n",
       "      <th>Destination Name</th>\n",
       "      <th>Departure Date &amp; Time</th>\n",
       "      <th>Arrival Date &amp; Time</th>\n",
       "      <th>Duration (hrs)</th>\n",
       "      <th>Stopovers</th>\n",
       "      <th>Aircraft Type</th>\n",
       "      <th>...</th>\n",
       "      <th>Total Fare (BDT)</th>\n",
       "      <th>Seasonality</th>\n",
       "      <th>Days Before Departure</th>\n",
       "      <th>Stopovers_numeric</th>\n",
       "      <th>Class_numeric</th>\n",
       "      <th>Booking Source numeric</th>\n",
       "      <th>Seasonality Numeric</th>\n",
       "      <th>Month</th>\n",
       "      <th>Arrival_Hour</th>\n",
       "      <th>Arrival_Day</th>\n",
       "    </tr>\n",
       "  </thead>\n",
       "  <tbody>\n",
       "    <tr>\n",
       "      <th>0</th>\n",
       "      <td>Malaysian Airlines</td>\n",
       "      <td>CXB</td>\n",
       "      <td>Cox's Bazar Airport</td>\n",
       "      <td>CCU</td>\n",
       "      <td>Netaji Subhas Chandra Bose International Airpo...</td>\n",
       "      <td>2025-11-17 06:25:00</td>\n",
       "      <td>2025-11-17 07:38:10</td>\n",
       "      <td>1.219526</td>\n",
       "      <td>Direct</td>\n",
       "      <td>Airbus A320</td>\n",
       "      <td>...</td>\n",
       "      <td>26300.908775</td>\n",
       "      <td>Regular</td>\n",
       "      <td>10</td>\n",
       "      <td>0</td>\n",
       "      <td>3</td>\n",
       "      <td>2</td>\n",
       "      <td>1</td>\n",
       "      <td>November</td>\n",
       "      <td>7</td>\n",
       "      <td>Monday</td>\n",
       "    </tr>\n",
       "    <tr>\n",
       "      <th>1</th>\n",
       "      <td>Cathay Pacific</td>\n",
       "      <td>BZL</td>\n",
       "      <td>Barisal Airport</td>\n",
       "      <td>CGP</td>\n",
       "      <td>Shah Amanat International Airport, Chittagong</td>\n",
       "      <td>2025-03-16 00:17:00</td>\n",
       "      <td>2025-03-16 00:53:31</td>\n",
       "      <td>0.608638</td>\n",
       "      <td>Direct</td>\n",
       "      <td>Airbus A320</td>\n",
       "      <td>...</td>\n",
       "      <td>11805.395471</td>\n",
       "      <td>Regular</td>\n",
       "      <td>14</td>\n",
       "      <td>0</td>\n",
       "      <td>2</td>\n",
       "      <td>1</td>\n",
       "      <td>1</td>\n",
       "      <td>March</td>\n",
       "      <td>0</td>\n",
       "      <td>Sunday</td>\n",
       "    </tr>\n",
       "    <tr>\n",
       "      <th>2</th>\n",
       "      <td>British Airways</td>\n",
       "      <td>ZYL</td>\n",
       "      <td>Osmani International Airport, Sylhet</td>\n",
       "      <td>KUL</td>\n",
       "      <td>Kuala Lumpur International Airport</td>\n",
       "      <td>2025-12-13 12:03:00</td>\n",
       "      <td>2025-12-13 14:44:22</td>\n",
       "      <td>2.689651</td>\n",
       "      <td>1 Stop</td>\n",
       "      <td>Boeing 787</td>\n",
       "      <td>...</td>\n",
       "      <td>51864.874251</td>\n",
       "      <td>Winter Holidays</td>\n",
       "      <td>83</td>\n",
       "      <td>1</td>\n",
       "      <td>3</td>\n",
       "      <td>1</td>\n",
       "      <td>2</td>\n",
       "      <td>December</td>\n",
       "      <td>14</td>\n",
       "      <td>Saturday</td>\n",
       "    </tr>\n",
       "    <tr>\n",
       "      <th>3</th>\n",
       "      <td>Singapore Airlines</td>\n",
       "      <td>RJH</td>\n",
       "      <td>Shah Makhdum Airport, Rajshahi</td>\n",
       "      <td>DAC</td>\n",
       "      <td>Hazrat Shahjalal International Airport, Dhaka</td>\n",
       "      <td>2025-05-30 03:21:00</td>\n",
       "      <td>2025-05-30 04:02:09</td>\n",
       "      <td>0.686054</td>\n",
       "      <td>Direct</td>\n",
       "      <td>Airbus A320</td>\n",
       "      <td>...</td>\n",
       "      <td>4635.607340</td>\n",
       "      <td>Regular</td>\n",
       "      <td>56</td>\n",
       "      <td>0</td>\n",
       "      <td>3</td>\n",
       "      <td>3</td>\n",
       "      <td>1</td>\n",
       "      <td>May</td>\n",
       "      <td>4</td>\n",
       "      <td>Friday</td>\n",
       "    </tr>\n",
       "    <tr>\n",
       "      <th>4</th>\n",
       "      <td>British Airways</td>\n",
       "      <td>SPD</td>\n",
       "      <td>Saidpur Airport</td>\n",
       "      <td>YYZ</td>\n",
       "      <td>Toronto Pearson International Airport</td>\n",
       "      <td>2025-04-25 09:14:00</td>\n",
       "      <td>2025-04-25 23:17:20</td>\n",
       "      <td>14.055609</td>\n",
       "      <td>1 Stop</td>\n",
       "      <td>Airbus A350</td>\n",
       "      <td>...</td>\n",
       "      <td>74130.377068</td>\n",
       "      <td>Regular</td>\n",
       "      <td>90</td>\n",
       "      <td>1</td>\n",
       "      <td>1</td>\n",
       "      <td>3</td>\n",
       "      <td>1</td>\n",
       "      <td>April</td>\n",
       "      <td>23</td>\n",
       "      <td>Friday</td>\n",
       "    </tr>\n",
       "  </tbody>\n",
       "</table>\n",
       "<p>5 rows × 24 columns</p>\n",
       "</div>"
      ],
      "text/plain": [
       "              Airline Source                           Source Name  \\\n",
       "0  Malaysian Airlines    CXB                   Cox's Bazar Airport   \n",
       "1      Cathay Pacific    BZL                       Barisal Airport   \n",
       "2     British Airways    ZYL  Osmani International Airport, Sylhet   \n",
       "3  Singapore Airlines    RJH        Shah Makhdum Airport, Rajshahi   \n",
       "4     British Airways    SPD                       Saidpur Airport   \n",
       "\n",
       "  Destination                                   Destination Name  \\\n",
       "0         CCU  Netaji Subhas Chandra Bose International Airpo...   \n",
       "1         CGP      Shah Amanat International Airport, Chittagong   \n",
       "2         KUL                 Kuala Lumpur International Airport   \n",
       "3         DAC      Hazrat Shahjalal International Airport, Dhaka   \n",
       "4         YYZ              Toronto Pearson International Airport   \n",
       "\n",
       "  Departure Date & Time Arrival Date & Time  Duration (hrs) Stopovers  \\\n",
       "0   2025-11-17 06:25:00 2025-11-17 07:38:10        1.219526    Direct   \n",
       "1   2025-03-16 00:17:00 2025-03-16 00:53:31        0.608638    Direct   \n",
       "2   2025-12-13 12:03:00 2025-12-13 14:44:22        2.689651    1 Stop   \n",
       "3   2025-05-30 03:21:00 2025-05-30 04:02:09        0.686054    Direct   \n",
       "4   2025-04-25 09:14:00 2025-04-25 23:17:20       14.055609    1 Stop   \n",
       "\n",
       "  Aircraft Type  ... Total Fare (BDT)      Seasonality  Days Before Departure  \\\n",
       "0   Airbus A320  ...     26300.908775          Regular                     10   \n",
       "1   Airbus A320  ...     11805.395471          Regular                     14   \n",
       "2    Boeing 787  ...     51864.874251  Winter Holidays                     83   \n",
       "3   Airbus A320  ...      4635.607340          Regular                     56   \n",
       "4   Airbus A350  ...     74130.377068          Regular                     90   \n",
       "\n",
       "   Stopovers_numeric  Class_numeric Booking Source numeric  \\\n",
       "0                  0              3                      2   \n",
       "1                  0              2                      1   \n",
       "2                  1              3                      1   \n",
       "3                  0              3                      3   \n",
       "4                  1              1                      3   \n",
       "\n",
       "   Seasonality Numeric     Month  Arrival_Hour  Arrival_Day  \n",
       "0                    1  November             7       Monday  \n",
       "1                    1     March             0       Sunday  \n",
       "2                    2  December            14     Saturday  \n",
       "3                    1       May             4       Friday  \n",
       "4                    1     April            23       Friday  \n",
       "\n",
       "[5 rows x 24 columns]"
      ]
     },
     "execution_count": 52,
     "metadata": {},
     "output_type": "execute_result"
    }
   ],
   "source": [
    "flight_data_set.head()"
   ]
  },
  {
   "cell_type": "code",
   "execution_count": 53,
   "id": "9d0aa239",
   "metadata": {},
   "outputs": [],
   "source": [
    "save = flight_data_set.to_csv(\"Flight_Price_Dataset_of_Bangladesh_Cleaned.csv\")"
   ]
  },
  {
   "cell_type": "markdown",
   "id": "0369bf1d",
   "metadata": {},
   "source": [
    "4. 🌍 Which are the top 10 busiest routes"
   ]
  },
  {
   "cell_type": "code",
   "execution_count": 54,
   "id": "22d63c28",
   "metadata": {},
   "outputs": [
    {
     "data": {
      "application/vnd.microsoft.datawrangler.viewer.v0+json": {
       "columns": [
        {
         "name": "index",
         "rawType": "int64",
         "type": "integer"
        },
        {
         "name": "Airline",
         "rawType": "object",
         "type": "string"
        },
        {
         "name": "Source",
         "rawType": "object",
         "type": "string"
        },
        {
         "name": "Source Name",
         "rawType": "object",
         "type": "string"
        },
        {
         "name": "Destination",
         "rawType": "object",
         "type": "string"
        },
        {
         "name": "Destination Name",
         "rawType": "object",
         "type": "string"
        },
        {
         "name": "Departure Date & Time",
         "rawType": "datetime64[ns]",
         "type": "datetime"
        },
        {
         "name": "Arrival Date & Time",
         "rawType": "datetime64[ns]",
         "type": "datetime"
        },
        {
         "name": "Duration (hrs)",
         "rawType": "float64",
         "type": "float"
        },
        {
         "name": "Stopovers",
         "rawType": "object",
         "type": "string"
        },
        {
         "name": "Aircraft Type",
         "rawType": "object",
         "type": "string"
        },
        {
         "name": "Class",
         "rawType": "object",
         "type": "string"
        },
        {
         "name": "Booking Source",
         "rawType": "object",
         "type": "string"
        },
        {
         "name": "Base Fare (BDT)",
         "rawType": "float64",
         "type": "float"
        },
        {
         "name": "Tax & Surcharge (BDT)",
         "rawType": "float64",
         "type": "float"
        },
        {
         "name": "Total Fare (BDT)",
         "rawType": "float64",
         "type": "float"
        },
        {
         "name": "Seasonality",
         "rawType": "object",
         "type": "string"
        },
        {
         "name": "Days Before Departure",
         "rawType": "int64",
         "type": "integer"
        },
        {
         "name": "Stopovers_numeric",
         "rawType": "int64",
         "type": "integer"
        },
        {
         "name": "Class_numeric",
         "rawType": "int64",
         "type": "integer"
        },
        {
         "name": "Booking Source numeric",
         "rawType": "int64",
         "type": "integer"
        },
        {
         "name": "Seasonality Numeric",
         "rawType": "int64",
         "type": "integer"
        },
        {
         "name": "Month",
         "rawType": "object",
         "type": "string"
        },
        {
         "name": "Arrival_Hour",
         "rawType": "int32",
         "type": "integer"
        },
        {
         "name": "Arrival_Day",
         "rawType": "object",
         "type": "string"
        }
       ],
       "ref": "06f13cd5-818f-4dba-8bd0-ea000fa8fb2d",
       "rows": [
        [
         "0",
         "Malaysian Airlines",
         "CXB",
         "Cox's Bazar Airport",
         "CCU",
         "Netaji Subhas Chandra Bose International Airport, Kolkata",
         "2025-11-17 06:25:00",
         "2025-11-17 07:38:10",
         "1.2195264539377717",
         "Direct",
         "Airbus A320",
         "Economy",
         "Online Website",
         "21131.22502141266",
         "5169.683753211899",
         "26300.90877462456",
         "Regular",
         "10",
         "0",
         "3",
         "2",
         "1",
         "November",
         "7",
         "Monday"
        ],
        [
         "1",
         "Cathay Pacific",
         "BZL",
         "Barisal Airport",
         "CGP",
         "Shah Amanat International Airport, Chittagong",
         "2025-03-16 00:17:00",
         "2025-03-16 00:53:31",
         "0.6086380128173666",
         "Direct",
         "Airbus A320",
         "First Class",
         "Travel Agency",
         "11605.395470566073",
         "200.0",
         "11805.395470566073",
         "Regular",
         "14",
         "0",
         "2",
         "1",
         "1",
         "March",
         "0",
         "Sunday"
        ],
        [
         "2",
         "British Airways",
         "ZYL",
         "Osmani International Airport, Sylhet",
         "KUL",
         "Kuala Lumpur International Airport",
         "2025-12-13 12:03:00",
         "2025-12-13 14:44:22",
         "2.6896505565217104",
         "1 Stop",
         "Boeing 787",
         "Economy",
         "Travel Agency",
         "39882.49934875141",
         "11982.374902312711",
         "51864.87425106412",
         "Winter Holidays",
         "83",
         "1",
         "3",
         "1",
         "2",
         "December",
         "14",
         "Saturday"
        ],
        [
         "3",
         "Singapore Airlines",
         "RJH",
         "Shah Makhdum Airport, Rajshahi",
         "DAC",
         "Hazrat Shahjalal International Airport, Dhaka",
         "2025-05-30 03:21:00",
         "2025-05-30 04:02:09",
         "0.6860536480181382",
         "Direct",
         "Airbus A320",
         "Economy",
         "Direct Booking",
         "4435.607340298566",
         "200.0",
         "4635.607340298566",
         "Regular",
         "56",
         "0",
         "3",
         "3",
         "1",
         "May",
         "4",
         "Friday"
        ],
        [
         "4",
         "British Airways",
         "SPD",
         "Saidpur Airport",
         "YYZ",
         "Toronto Pearson International Airport",
         "2025-04-25 09:14:00",
         "2025-04-25 23:17:20",
         "14.05560922703888",
         "1 Stop",
         "Airbus A350",
         "Business",
         "Direct Booking",
         "59243.806145866125",
         "14886.570921879918",
         "74130.37706774604",
         "Regular",
         "90",
         "1",
         "1",
         "3",
         "1",
         "April",
         "23",
         "Friday"
        ]
       ],
       "shape": {
        "columns": 24,
        "rows": 5
       }
      },
      "text/html": [
       "<div>\n",
       "<style scoped>\n",
       "    .dataframe tbody tr th:only-of-type {\n",
       "        vertical-align: middle;\n",
       "    }\n",
       "\n",
       "    .dataframe tbody tr th {\n",
       "        vertical-align: top;\n",
       "    }\n",
       "\n",
       "    .dataframe thead th {\n",
       "        text-align: right;\n",
       "    }\n",
       "</style>\n",
       "<table border=\"1\" class=\"dataframe\">\n",
       "  <thead>\n",
       "    <tr style=\"text-align: right;\">\n",
       "      <th></th>\n",
       "      <th>Airline</th>\n",
       "      <th>Source</th>\n",
       "      <th>Source Name</th>\n",
       "      <th>Destination</th>\n",
       "      <th>Destination Name</th>\n",
       "      <th>Departure Date &amp; Time</th>\n",
       "      <th>Arrival Date &amp; Time</th>\n",
       "      <th>Duration (hrs)</th>\n",
       "      <th>Stopovers</th>\n",
       "      <th>Aircraft Type</th>\n",
       "      <th>...</th>\n",
       "      <th>Total Fare (BDT)</th>\n",
       "      <th>Seasonality</th>\n",
       "      <th>Days Before Departure</th>\n",
       "      <th>Stopovers_numeric</th>\n",
       "      <th>Class_numeric</th>\n",
       "      <th>Booking Source numeric</th>\n",
       "      <th>Seasonality Numeric</th>\n",
       "      <th>Month</th>\n",
       "      <th>Arrival_Hour</th>\n",
       "      <th>Arrival_Day</th>\n",
       "    </tr>\n",
       "  </thead>\n",
       "  <tbody>\n",
       "    <tr>\n",
       "      <th>0</th>\n",
       "      <td>Malaysian Airlines</td>\n",
       "      <td>CXB</td>\n",
       "      <td>Cox's Bazar Airport</td>\n",
       "      <td>CCU</td>\n",
       "      <td>Netaji Subhas Chandra Bose International Airpo...</td>\n",
       "      <td>2025-11-17 06:25:00</td>\n",
       "      <td>2025-11-17 07:38:10</td>\n",
       "      <td>1.219526</td>\n",
       "      <td>Direct</td>\n",
       "      <td>Airbus A320</td>\n",
       "      <td>...</td>\n",
       "      <td>26300.908775</td>\n",
       "      <td>Regular</td>\n",
       "      <td>10</td>\n",
       "      <td>0</td>\n",
       "      <td>3</td>\n",
       "      <td>2</td>\n",
       "      <td>1</td>\n",
       "      <td>November</td>\n",
       "      <td>7</td>\n",
       "      <td>Monday</td>\n",
       "    </tr>\n",
       "    <tr>\n",
       "      <th>1</th>\n",
       "      <td>Cathay Pacific</td>\n",
       "      <td>BZL</td>\n",
       "      <td>Barisal Airport</td>\n",
       "      <td>CGP</td>\n",
       "      <td>Shah Amanat International Airport, Chittagong</td>\n",
       "      <td>2025-03-16 00:17:00</td>\n",
       "      <td>2025-03-16 00:53:31</td>\n",
       "      <td>0.608638</td>\n",
       "      <td>Direct</td>\n",
       "      <td>Airbus A320</td>\n",
       "      <td>...</td>\n",
       "      <td>11805.395471</td>\n",
       "      <td>Regular</td>\n",
       "      <td>14</td>\n",
       "      <td>0</td>\n",
       "      <td>2</td>\n",
       "      <td>1</td>\n",
       "      <td>1</td>\n",
       "      <td>March</td>\n",
       "      <td>0</td>\n",
       "      <td>Sunday</td>\n",
       "    </tr>\n",
       "    <tr>\n",
       "      <th>2</th>\n",
       "      <td>British Airways</td>\n",
       "      <td>ZYL</td>\n",
       "      <td>Osmani International Airport, Sylhet</td>\n",
       "      <td>KUL</td>\n",
       "      <td>Kuala Lumpur International Airport</td>\n",
       "      <td>2025-12-13 12:03:00</td>\n",
       "      <td>2025-12-13 14:44:22</td>\n",
       "      <td>2.689651</td>\n",
       "      <td>1 Stop</td>\n",
       "      <td>Boeing 787</td>\n",
       "      <td>...</td>\n",
       "      <td>51864.874251</td>\n",
       "      <td>Winter Holidays</td>\n",
       "      <td>83</td>\n",
       "      <td>1</td>\n",
       "      <td>3</td>\n",
       "      <td>1</td>\n",
       "      <td>2</td>\n",
       "      <td>December</td>\n",
       "      <td>14</td>\n",
       "      <td>Saturday</td>\n",
       "    </tr>\n",
       "    <tr>\n",
       "      <th>3</th>\n",
       "      <td>Singapore Airlines</td>\n",
       "      <td>RJH</td>\n",
       "      <td>Shah Makhdum Airport, Rajshahi</td>\n",
       "      <td>DAC</td>\n",
       "      <td>Hazrat Shahjalal International Airport, Dhaka</td>\n",
       "      <td>2025-05-30 03:21:00</td>\n",
       "      <td>2025-05-30 04:02:09</td>\n",
       "      <td>0.686054</td>\n",
       "      <td>Direct</td>\n",
       "      <td>Airbus A320</td>\n",
       "      <td>...</td>\n",
       "      <td>4635.607340</td>\n",
       "      <td>Regular</td>\n",
       "      <td>56</td>\n",
       "      <td>0</td>\n",
       "      <td>3</td>\n",
       "      <td>3</td>\n",
       "      <td>1</td>\n",
       "      <td>May</td>\n",
       "      <td>4</td>\n",
       "      <td>Friday</td>\n",
       "    </tr>\n",
       "    <tr>\n",
       "      <th>4</th>\n",
       "      <td>British Airways</td>\n",
       "      <td>SPD</td>\n",
       "      <td>Saidpur Airport</td>\n",
       "      <td>YYZ</td>\n",
       "      <td>Toronto Pearson International Airport</td>\n",
       "      <td>2025-04-25 09:14:00</td>\n",
       "      <td>2025-04-25 23:17:20</td>\n",
       "      <td>14.055609</td>\n",
       "      <td>1 Stop</td>\n",
       "      <td>Airbus A350</td>\n",
       "      <td>...</td>\n",
       "      <td>74130.377068</td>\n",
       "      <td>Regular</td>\n",
       "      <td>90</td>\n",
       "      <td>1</td>\n",
       "      <td>1</td>\n",
       "      <td>3</td>\n",
       "      <td>1</td>\n",
       "      <td>April</td>\n",
       "      <td>23</td>\n",
       "      <td>Friday</td>\n",
       "    </tr>\n",
       "  </tbody>\n",
       "</table>\n",
       "<p>5 rows × 24 columns</p>\n",
       "</div>"
      ],
      "text/plain": [
       "              Airline Source                           Source Name  \\\n",
       "0  Malaysian Airlines    CXB                   Cox's Bazar Airport   \n",
       "1      Cathay Pacific    BZL                       Barisal Airport   \n",
       "2     British Airways    ZYL  Osmani International Airport, Sylhet   \n",
       "3  Singapore Airlines    RJH        Shah Makhdum Airport, Rajshahi   \n",
       "4     British Airways    SPD                       Saidpur Airport   \n",
       "\n",
       "  Destination                                   Destination Name  \\\n",
       "0         CCU  Netaji Subhas Chandra Bose International Airpo...   \n",
       "1         CGP      Shah Amanat International Airport, Chittagong   \n",
       "2         KUL                 Kuala Lumpur International Airport   \n",
       "3         DAC      Hazrat Shahjalal International Airport, Dhaka   \n",
       "4         YYZ              Toronto Pearson International Airport   \n",
       "\n",
       "  Departure Date & Time Arrival Date & Time  Duration (hrs) Stopovers  \\\n",
       "0   2025-11-17 06:25:00 2025-11-17 07:38:10        1.219526    Direct   \n",
       "1   2025-03-16 00:17:00 2025-03-16 00:53:31        0.608638    Direct   \n",
       "2   2025-12-13 12:03:00 2025-12-13 14:44:22        2.689651    1 Stop   \n",
       "3   2025-05-30 03:21:00 2025-05-30 04:02:09        0.686054    Direct   \n",
       "4   2025-04-25 09:14:00 2025-04-25 23:17:20       14.055609    1 Stop   \n",
       "\n",
       "  Aircraft Type  ... Total Fare (BDT)      Seasonality  Days Before Departure  \\\n",
       "0   Airbus A320  ...     26300.908775          Regular                     10   \n",
       "1   Airbus A320  ...     11805.395471          Regular                     14   \n",
       "2    Boeing 787  ...     51864.874251  Winter Holidays                     83   \n",
       "3   Airbus A320  ...      4635.607340          Regular                     56   \n",
       "4   Airbus A350  ...     74130.377068          Regular                     90   \n",
       "\n",
       "   Stopovers_numeric  Class_numeric Booking Source numeric  \\\n",
       "0                  0              3                      2   \n",
       "1                  0              2                      1   \n",
       "2                  1              3                      1   \n",
       "3                  0              3                      3   \n",
       "4                  1              1                      3   \n",
       "\n",
       "   Seasonality Numeric     Month  Arrival_Hour  Arrival_Day  \n",
       "0                    1  November             7       Monday  \n",
       "1                    1     March             0       Sunday  \n",
       "2                    2  December            14     Saturday  \n",
       "3                    1       May             4       Friday  \n",
       "4                    1     April            23       Friday  \n",
       "\n",
       "[5 rows x 24 columns]"
      ]
     },
     "execution_count": 54,
     "metadata": {},
     "output_type": "execute_result"
    }
   ],
   "source": [
    "flight_data_set.head()"
   ]
  },
  {
   "cell_type": "code",
   "execution_count": 59,
   "id": "bc803e6c",
   "metadata": {},
   "outputs": [],
   "source": [
    "flight_data_set['Most_routes'] = flight_data_set['Source Name'] + '->' + flight_data_set['Destination Name']\n",
    "Routes = flight_data_set['Most_routes'].value_counts().head(10).reset_index()\n",
    "Routes.columns = ['Route', 'Count']"
   ]
  },
  {
   "cell_type": "code",
   "execution_count": 69,
   "id": "b472bf66",
   "metadata": {},
   "outputs": [
    {
     "data": {
      "image/png": "[encoded data removed]",
      "text/plain": [
       "<Figure size 1200x600 with 1 Axes>"
      ]
     },
     "metadata": {},
     "output_type": "display_data"
    }
   ],
   "source": [
    "plt.figure(figsize=(12, 6))\n",
    "plt.barh(Routes['Route'], Routes['Count'], color='skyblue')\n",
    "sns.scatterplot(x=Routes['Count'], y=Routes['Route'], color='red', s=100, label='Top Routes', edgecolor='black' )\n",
    "plt.title('Top 10 Most Frequent Routes', fontsize=16)\n",
    "plt.xlabel('Route', fontsize=14)    \n",
    "plt.ylabel('Number of Flights', fontsize=14)\n",
    "plt.xticks(rotation=45)\n",
    "plt.tight_layout()\n",
    "plt.show()"
   ]
  },
  {
   "cell_type": "markdown",
   "id": "377da0fa",
   "metadata": {},
   "source": [
    "5. 🏙️ Which airports handle the most departures or arrivals?\n"
   ]
  },
  {
   "cell_type": "code",
   "execution_count": 92,
   "id": "8e027c68",
   "metadata": {},
   "outputs": [
    {
     "data": {
      "application/vnd.microsoft.datawrangler.viewer.v0+json": {
       "columns": [
        {
         "name": "index",
         "rawType": "int64",
         "type": "integer"
        },
        {
         "name": "Source",
         "rawType": "object",
         "type": "unknown"
        },
        {
         "name": "Count",
         "rawType": "int64",
         "type": "integer"
        },
        {
         "name": "Destination",
         "rawType": "object",
         "type": "string"
        }
       ],
       "ref": "ebc6ff10-b7c7-4a31-89d1-5a854a9f5ca2",
       "rows": [
        [
         "0",
         "0",
         "2559",
         "Jessore Airport"
        ],
        [
         "1",
         "0",
         "2591",
         "Hazrat Shahjalal International Airport, Dhaka"
        ],
        [
         "2",
         "0",
         "2613",
         "Shah Amanat International Airport, Chittagong"
        ],
        [
         "3",
         "0",
         "2640",
         "Shah Makhdum Airport, Rajshahi"
        ],
        [
         "4",
         "0",
         "2641",
         "Barisal Airport"
        ]
       ],
       "shape": {
        "columns": 3,
        "rows": 5
       }
      },
      "text/html": [
       "<div>\n",
       "<style scoped>\n",
       "    .dataframe tbody tr th:only-of-type {\n",
       "        vertical-align: middle;\n",
       "    }\n",
       "\n",
       "    .dataframe tbody tr th {\n",
       "        vertical-align: top;\n",
       "    }\n",
       "\n",
       "    .dataframe thead th {\n",
       "        text-align: right;\n",
       "    }\n",
       "</style>\n",
       "<table border=\"1\" class=\"dataframe\">\n",
       "  <thead>\n",
       "    <tr style=\"text-align: right;\">\n",
       "      <th></th>\n",
       "      <th>Source</th>\n",
       "      <th>Count</th>\n",
       "      <th>Destination</th>\n",
       "    </tr>\n",
       "  </thead>\n",
       "  <tbody>\n",
       "    <tr>\n",
       "      <th>0</th>\n",
       "      <td>0</td>\n",
       "      <td>2559</td>\n",
       "      <td>Jessore Airport</td>\n",
       "    </tr>\n",
       "    <tr>\n",
       "      <th>1</th>\n",
       "      <td>0</td>\n",
       "      <td>2591</td>\n",
       "      <td>Hazrat Shahjalal International Airport, Dhaka</td>\n",
       "    </tr>\n",
       "    <tr>\n",
       "      <th>2</th>\n",
       "      <td>0</td>\n",
       "      <td>2613</td>\n",
       "      <td>Shah Amanat International Airport, Chittagong</td>\n",
       "    </tr>\n",
       "    <tr>\n",
       "      <th>3</th>\n",
       "      <td>0</td>\n",
       "      <td>2640</td>\n",
       "      <td>Shah Makhdum Airport, Rajshahi</td>\n",
       "    </tr>\n",
       "    <tr>\n",
       "      <th>4</th>\n",
       "      <td>0</td>\n",
       "      <td>2641</td>\n",
       "      <td>Barisal Airport</td>\n",
       "    </tr>\n",
       "  </tbody>\n",
       "</table>\n",
       "</div>"
      ],
      "text/plain": [
       "  Source  Count                                    Destination\n",
       "0      0   2559                                Jessore Airport\n",
       "1      0   2591  Hazrat Shahjalal International Airport, Dhaka\n",
       "2      0   2613  Shah Amanat International Airport, Chittagong\n",
       "3      0   2640                 Shah Makhdum Airport, Rajshahi\n",
       "4      0   2641                                Barisal Airport"
      ]
     },
     "execution_count": 92,
     "metadata": {},
     "output_type": "execute_result"
    }
   ],
   "source": [
    "departure_counts = flight_data_set['Source Name'].value_counts().reset_index()\n",
    "departure_counts.columns = ['Source', 'Count']\n",
    "arrival_counts = flight_data_set['Destination Name'].value_counts().reset_index()\n",
    "arrival_counts.columns = ['Destination', 'Count']   \n",
    "\n",
    "airport_traffic = pd.merge(departure_counts, arrival_counts, how='outer').fillna(0).head(10)\n",
    "airport_traffic.head()\n"
   ]
  },
  {
   "cell_type": "code",
   "execution_count": 93,
   "id": "6bb67b5c",
   "metadata": {},
   "outputs": [
    {
     "name": "stderr",
     "output_type": "stream",
     "text": [
      "C:\\Users\\ragha\\AppData\\Local\\Temp\\ipykernel_5544\\3455142733.py:5: FutureWarning:\n",
      "\n",
      "\n",
      "\n",
      "Passing `palette` without assigning `hue` is deprecated and will be removed in v0.14.0. Assign the `y` variable to `hue` and set `legend=False` for the same effect.\n",
      "\n",
      "\n"
     ]
    },
    {
     "data": {
      "image/png": "[encoded data removed]",
      "text/plain": [
       "<Figure size 1200x600 with 1 Axes>"
      ]
     },
     "metadata": {},
     "output_type": "display_data"
    }
   ],
   "source": [
    "import seaborn as sns\n",
    "import matplotlib.pyplot as plt\n",
    "\n",
    "plt.figure(figsize=(12, 6))\n",
    "sns.barplot(data=airport_traffic, x='Count', y='Destination', palette='crest')\n",
    "\n",
    "# Add titles and labels\n",
    "plt.title('Top 10 Busiest Airports by Total Traffic (Arrivals + Departures)', fontsize=16)\n",
    "plt.xlabel('Total Number of Flights', fontsize=14)\n",
    "plt.ylabel('Airport', fontsize=14)\n",
    "\n",
    "\n",
    "plt.tight_layout()\n",
    "plt.show()\n"
   ]
  },
  {
   "cell_type": "code",
   "execution_count": null,
   "id": "4b4dbd30",
   "metadata": {},
   "outputs": [],
   "source": []
  }
 ],
 "metadata": {
  "kernelspec": {
   "display_name": "Python 3",
   "language": "python",
   "name": "python3"
  },
  "language_info": {
   "codemirror_mode": {
    "name": "ipython",
    "version": 3
   },
   "file_extension": ".py",
   "mimetype": "text/x-python",
   "name": "python",
   "nbconvert_exporter": "python",
   "pygments_lexer": "ipython3",
   "version": "3.11.9"
  }
 },
 "nbformat": 4,
 "nbformat_minor": 5
}
