{
 "cells": [
  {
   "cell_type": "code",
   "execution_count": 49,
   "id": "60aeecff",
   "metadata": {},
   "outputs": [],
   "source": [
    "import pandas as pd   \n",
    "import numpy as np  \n",
    "import matplotlib.pyplot as plt \n",
    "import seaborn as sns"
   ]
  },
  {
   "cell_type": "markdown",
   "id": "82bba85e",
   "metadata": {},
   "source": [
    "# Load the data set "
   ]
  },
  {
   "cell_type": "code",
   "execution_count": 50,
   "id": "944da120",
   "metadata": {},
   "outputs": [
    {
     "data": {
      "application/vnd.microsoft.datawrangler.viewer.v0+json": {
       "columns": [
        {
         "name": "index",
         "rawType": "int64",
         "type": "integer"
        },
        {
         "name": "Order ID",
         "rawType": "object",
         "type": "string"
        },
        {
         "name": "Customer ID",
         "rawType": "object",
         "type": "string"
        },
        {
         "name": "Platform",
         "rawType": "object",
         "type": "string"
        },
        {
         "name": "Order Date & Time",
         "rawType": "object",
         "type": "string"
        },
        {
         "name": "Delivery Time (Minutes)",
         "rawType": "int64",
         "type": "integer"
        },
        {
         "name": "Product Category",
         "rawType": "object",
         "type": "string"
        },
        {
         "name": "Order Value (INR)",
         "rawType": "int64",
         "type": "integer"
        },
        {
         "name": "Customer Feedback",
         "rawType": "object",
         "type": "string"
        },
        {
         "name": "Service Rating",
         "rawType": "int64",
         "type": "integer"
        },
        {
         "name": "Delivery Delay",
         "rawType": "object",
         "type": "string"
        },
        {
         "name": "Refund Requested",
         "rawType": "object",
         "type": "string"
        }
       ],
       "ref": "46e9c7c2-858d-4d99-a482-cd342b2184af",
       "rows": [
        [
         "0",
         "ORD000001",
         "CUST2824",
         "JioMart",
         "19:29.5",
         "30",
         "Fruits & Vegetables",
         "382",
         "Fast delivery, great service!",
         "5",
         "No",
         "No"
        ],
        [
         "1",
         "ORD000002",
         "CUST1409",
         "Blinkit",
         "54:29.5",
         "16",
         "Dairy",
         "279",
         "Quick and reliable!",
         "5",
         "No",
         "No"
        ],
        [
         "2",
         "ORD000003",
         "CUST5506",
         "JioMart",
         "21:29.5",
         "25",
         "Beverages",
         "599",
         "Items missing from order.",
         "2",
         "No",
         "Yes"
        ],
        [
         "3",
         "ORD000004",
         "CUST5012",
         "JioMart",
         "19:29.5",
         "42",
         "Beverages",
         "946",
         "Items missing from order.",
         "2",
         "Yes",
         "Yes"
        ],
        [
         "4",
         "ORD000005",
         "CUST4657",
         "Blinkit",
         "49:29.5",
         "30",
         "Beverages",
         "334",
         "Fast delivery, great service!",
         "5",
         "No",
         "No"
        ]
       ],
       "shape": {
        "columns": 11,
        "rows": 5
       }
      },
      "text/html": [
       "<div>\n",
       "<style scoped>\n",
       "    .dataframe tbody tr th:only-of-type {\n",
       "        vertical-align: middle;\n",
       "    }\n",
       "\n",
       "    .dataframe tbody tr th {\n",
       "        vertical-align: top;\n",
       "    }\n",
       "\n",
       "    .dataframe thead th {\n",
       "        text-align: right;\n",
       "    }\n",
       "</style>\n",
       "<table border=\"1\" class=\"dataframe\">\n",
       "  <thead>\n",
       "    <tr style=\"text-align: right;\">\n",
       "      <th></th>\n",
       "      <th>Order ID</th>\n",
       "      <th>Customer ID</th>\n",
       "      <th>Platform</th>\n",
       "      <th>Order Date &amp; Time</th>\n",
       "      <th>Delivery Time (Minutes)</th>\n",
       "      <th>Product Category</th>\n",
       "      <th>Order Value (INR)</th>\n",
       "      <th>Customer Feedback</th>\n",
       "      <th>Service Rating</th>\n",
       "      <th>Delivery Delay</th>\n",
       "      <th>Refund Requested</th>\n",
       "    </tr>\n",
       "  </thead>\n",
       "  <tbody>\n",
       "    <tr>\n",
       "      <th>0</th>\n",
       "      <td>ORD000001</td>\n",
       "      <td>CUST2824</td>\n",
       "      <td>JioMart</td>\n",
       "      <td>19:29.5</td>\n",
       "      <td>30</td>\n",
       "      <td>Fruits &amp; Vegetables</td>\n",
       "      <td>382</td>\n",
       "      <td>Fast delivery, great service!</td>\n",
       "      <td>5</td>\n",
       "      <td>No</td>\n",
       "      <td>No</td>\n",
       "    </tr>\n",
       "    <tr>\n",
       "      <th>1</th>\n",
       "      <td>ORD000002</td>\n",
       "      <td>CUST1409</td>\n",
       "      <td>Blinkit</td>\n",
       "      <td>54:29.5</td>\n",
       "      <td>16</td>\n",
       "      <td>Dairy</td>\n",
       "      <td>279</td>\n",
       "      <td>Quick and reliable!</td>\n",
       "      <td>5</td>\n",
       "      <td>No</td>\n",
       "      <td>No</td>\n",
       "    </tr>\n",
       "    <tr>\n",
       "      <th>2</th>\n",
       "      <td>ORD000003</td>\n",
       "      <td>CUST5506</td>\n",
       "      <td>JioMart</td>\n",
       "      <td>21:29.5</td>\n",
       "      <td>25</td>\n",
       "      <td>Beverages</td>\n",
       "      <td>599</td>\n",
       "      <td>Items missing from order.</td>\n",
       "      <td>2</td>\n",
       "      <td>No</td>\n",
       "      <td>Yes</td>\n",
       "    </tr>\n",
       "    <tr>\n",
       "      <th>3</th>\n",
       "      <td>ORD000004</td>\n",
       "      <td>CUST5012</td>\n",
       "      <td>JioMart</td>\n",
       "      <td>19:29.5</td>\n",
       "      <td>42</td>\n",
       "      <td>Beverages</td>\n",
       "      <td>946</td>\n",
       "      <td>Items missing from order.</td>\n",
       "      <td>2</td>\n",
       "      <td>Yes</td>\n",
       "      <td>Yes</td>\n",
       "    </tr>\n",
       "    <tr>\n",
       "      <th>4</th>\n",
       "      <td>ORD000005</td>\n",
       "      <td>CUST4657</td>\n",
       "      <td>Blinkit</td>\n",
       "      <td>49:29.5</td>\n",
       "      <td>30</td>\n",
       "      <td>Beverages</td>\n",
       "      <td>334</td>\n",
       "      <td>Fast delivery, great service!</td>\n",
       "      <td>5</td>\n",
       "      <td>No</td>\n",
       "      <td>No</td>\n",
       "    </tr>\n",
       "  </tbody>\n",
       "</table>\n",
       "</div>"
      ],
      "text/plain": [
       "    Order ID Customer ID Platform Order Date & Time  Delivery Time (Minutes)  \\\n",
       "0  ORD000001    CUST2824  JioMart           19:29.5                       30   \n",
       "1  ORD000002    CUST1409  Blinkit           54:29.5                       16   \n",
       "2  ORD000003    CUST5506  JioMart           21:29.5                       25   \n",
       "3  ORD000004    CUST5012  JioMart           19:29.5                       42   \n",
       "4  ORD000005    CUST4657  Blinkit           49:29.5                       30   \n",
       "\n",
       "      Product Category  Order Value (INR)              Customer Feedback  \\\n",
       "0  Fruits & Vegetables                382  Fast delivery, great service!   \n",
       "1                Dairy                279            Quick and reliable!   \n",
       "2            Beverages                599      Items missing from order.   \n",
       "3            Beverages                946      Items missing from order.   \n",
       "4            Beverages                334  Fast delivery, great service!   \n",
       "\n",
       "   Service Rating Delivery Delay Refund Requested  \n",
       "0               5             No               No  \n",
       "1               5             No               No  \n",
       "2               2             No              Yes  \n",
       "3               2            Yes              Yes  \n",
       "4               5             No               No  "
      ]
     },
     "execution_count": 50,
     "metadata": {},
     "output_type": "execute_result"
    }
   ],
   "source": [
    "Ecomm_ds = pd.read_csv('Ecommerce_Delivery_Analytics_New.csv')\n",
    "Ecomm_ds.head()"
   ]
  },
  {
   "cell_type": "markdown",
   "id": "65f4ebe2",
   "metadata": {},
   "source": [
    "Information of the data set "
   ]
  },
  {
   "cell_type": "code",
   "execution_count": 51,
   "id": "ceaa3a2e",
   "metadata": {},
   "outputs": [
    {
     "name": "stdout",
     "output_type": "stream",
     "text": [
      "<class 'pandas.core.frame.DataFrame'>\n",
      "RangeIndex: 100000 entries, 0 to 99999\n",
      "Data columns (total 11 columns):\n",
      " #   Column                   Non-Null Count   Dtype \n",
      "---  ------                   --------------   ----- \n",
      " 0   Order ID                 100000 non-null  object\n",
      " 1   Customer ID              100000 non-null  object\n",
      " 2   Platform                 100000 non-null  object\n",
      " 3   Order Date & Time        100000 non-null  object\n",
      " 4   Delivery Time (Minutes)  100000 non-null  int64 \n",
      " 5   Product Category         100000 non-null  object\n",
      " 6   Order Value (INR)        100000 non-null  int64 \n",
      " 7   Customer Feedback        100000 non-null  object\n",
      " 8   Service Rating           100000 non-null  int64 \n",
      " 9   Delivery Delay           100000 non-null  object\n",
      " 10  Refund Requested         100000 non-null  object\n",
      "dtypes: int64(3), object(8)\n",
      "memory usage: 8.4+ MB\n"
     ]
    }
   ],
   "source": [
    "Ecomm_ds.info()"
   ]
  },
  {
   "cell_type": "markdown",
   "id": "37e5d559",
   "metadata": {},
   "source": [
    "check the null values in the dataset\n"
   ]
  },
  {
   "cell_type": "code",
   "execution_count": 52,
   "id": "21b68d0e",
   "metadata": {},
   "outputs": [
    {
     "data": {
      "application/vnd.microsoft.datawrangler.viewer.v0+json": {
       "columns": [
        {
         "name": "index",
         "rawType": "object",
         "type": "string"
        },
        {
         "name": "0",
         "rawType": "int64",
         "type": "integer"
        }
       ],
       "ref": "567dcfb1-e9a5-471d-ac05-5aa8a386b6ae",
       "rows": [
        [
         "Order ID",
         "0"
        ],
        [
         "Customer ID",
         "0"
        ],
        [
         "Platform",
         "0"
        ],
        [
         "Order Date & Time",
         "0"
        ],
        [
         "Delivery Time (Minutes)",
         "0"
        ],
        [
         "Product Category",
         "0"
        ],
        [
         "Order Value (INR)",
         "0"
        ],
        [
         "Customer Feedback",
         "0"
        ],
        [
         "Service Rating",
         "0"
        ],
        [
         "Delivery Delay",
         "0"
        ],
        [
         "Refund Requested",
         "0"
        ]
       ],
       "shape": {
        "columns": 1,
        "rows": 11
       }
      },
      "text/plain": [
       "Order ID                   0\n",
       "Customer ID                0\n",
       "Platform                   0\n",
       "Order Date & Time          0\n",
       "Delivery Time (Minutes)    0\n",
       "Product Category           0\n",
       "Order Value (INR)          0\n",
       "Customer Feedback          0\n",
       "Service Rating             0\n",
       "Delivery Delay             0\n",
       "Refund Requested           0\n",
       "dtype: int64"
      ]
     },
     "execution_count": 52,
     "metadata": {},
     "output_type": "execute_result"
    }
   ],
   "source": [
    "Ecomm_ds.isnull().sum()"
   ]
  },
  {
   "cell_type": "code",
   "execution_count": 53,
   "id": "8ef135f1",
   "metadata": {},
   "outputs": [
    {
     "data": {
      "application/vnd.microsoft.datawrangler.viewer.v0+json": {
       "columns": [
        {
         "name": "index",
         "rawType": "int64",
         "type": "integer"
        },
        {
         "name": "Order ID",
         "rawType": "object",
         "type": "string"
        },
        {
         "name": "Customer ID",
         "rawType": "object",
         "type": "string"
        },
        {
         "name": "Platform",
         "rawType": "object",
         "type": "string"
        },
        {
         "name": "Order Date & Time",
         "rawType": "object",
         "type": "string"
        },
        {
         "name": "Delivery Time (Minutes)",
         "rawType": "int64",
         "type": "integer"
        },
        {
         "name": "Product Category",
         "rawType": "object",
         "type": "string"
        },
        {
         "name": "Order Value (INR)",
         "rawType": "int64",
         "type": "integer"
        },
        {
         "name": "Customer Feedback",
         "rawType": "object",
         "type": "string"
        },
        {
         "name": "Service Rating",
         "rawType": "int64",
         "type": "integer"
        },
        {
         "name": "Delivery Delay",
         "rawType": "object",
         "type": "string"
        },
        {
         "name": "Refund Requested",
         "rawType": "object",
         "type": "string"
        }
       ],
       "ref": "817ae460-4abd-44d2-93da-c499a8318877",
       "rows": [
        [
         "0",
         "ORD000001",
         "CUST2824",
         "JioMart",
         "19:29.5",
         "30",
         "Fruits & Vegetables",
         "382",
         "Fast delivery, great service!",
         "5",
         "No",
         "No"
        ],
        [
         "1",
         "ORD000002",
         "CUST1409",
         "Blinkit",
         "54:29.5",
         "16",
         "Dairy",
         "279",
         "Quick and reliable!",
         "5",
         "No",
         "No"
        ],
        [
         "2",
         "ORD000003",
         "CUST5506",
         "JioMart",
         "21:29.5",
         "25",
         "Beverages",
         "599",
         "Items missing from order.",
         "2",
         "No",
         "Yes"
        ],
        [
         "3",
         "ORD000004",
         "CUST5012",
         "JioMart",
         "19:29.5",
         "42",
         "Beverages",
         "946",
         "Items missing from order.",
         "2",
         "Yes",
         "Yes"
        ],
        [
         "4",
         "ORD000005",
         "CUST4657",
         "Blinkit",
         "49:29.5",
         "30",
         "Beverages",
         "334",
         "Fast delivery, great service!",
         "5",
         "No",
         "No"
        ]
       ],
       "shape": {
        "columns": 11,
        "rows": 5
       }
      },
      "text/html": [
       "<div>\n",
       "<style scoped>\n",
       "    .dataframe tbody tr th:only-of-type {\n",
       "        vertical-align: middle;\n",
       "    }\n",
       "\n",
       "    .dataframe tbody tr th {\n",
       "        vertical-align: top;\n",
       "    }\n",
       "\n",
       "    .dataframe thead th {\n",
       "        text-align: right;\n",
       "    }\n",
       "</style>\n",
       "<table border=\"1\" class=\"dataframe\">\n",
       "  <thead>\n",
       "    <tr style=\"text-align: right;\">\n",
       "      <th></th>\n",
       "      <th>Order ID</th>\n",
       "      <th>Customer ID</th>\n",
       "      <th>Platform</th>\n",
       "      <th>Order Date &amp; Time</th>\n",
       "      <th>Delivery Time (Minutes)</th>\n",
       "      <th>Product Category</th>\n",
       "      <th>Order Value (INR)</th>\n",
       "      <th>Customer Feedback</th>\n",
       "      <th>Service Rating</th>\n",
       "      <th>Delivery Delay</th>\n",
       "      <th>Refund Requested</th>\n",
       "    </tr>\n",
       "  </thead>\n",
       "  <tbody>\n",
       "    <tr>\n",
       "      <th>0</th>\n",
       "      <td>ORD000001</td>\n",
       "      <td>CUST2824</td>\n",
       "      <td>JioMart</td>\n",
       "      <td>19:29.5</td>\n",
       "      <td>30</td>\n",
       "      <td>Fruits &amp; Vegetables</td>\n",
       "      <td>382</td>\n",
       "      <td>Fast delivery, great service!</td>\n",
       "      <td>5</td>\n",
       "      <td>No</td>\n",
       "      <td>No</td>\n",
       "    </tr>\n",
       "    <tr>\n",
       "      <th>1</th>\n",
       "      <td>ORD000002</td>\n",
       "      <td>CUST1409</td>\n",
       "      <td>Blinkit</td>\n",
       "      <td>54:29.5</td>\n",
       "      <td>16</td>\n",
       "      <td>Dairy</td>\n",
       "      <td>279</td>\n",
       "      <td>Quick and reliable!</td>\n",
       "      <td>5</td>\n",
       "      <td>No</td>\n",
       "      <td>No</td>\n",
       "    </tr>\n",
       "    <tr>\n",
       "      <th>2</th>\n",
       "      <td>ORD000003</td>\n",
       "      <td>CUST5506</td>\n",
       "      <td>JioMart</td>\n",
       "      <td>21:29.5</td>\n",
       "      <td>25</td>\n",
       "      <td>Beverages</td>\n",
       "      <td>599</td>\n",
       "      <td>Items missing from order.</td>\n",
       "      <td>2</td>\n",
       "      <td>No</td>\n",
       "      <td>Yes</td>\n",
       "    </tr>\n",
       "    <tr>\n",
       "      <th>3</th>\n",
       "      <td>ORD000004</td>\n",
       "      <td>CUST5012</td>\n",
       "      <td>JioMart</td>\n",
       "      <td>19:29.5</td>\n",
       "      <td>42</td>\n",
       "      <td>Beverages</td>\n",
       "      <td>946</td>\n",
       "      <td>Items missing from order.</td>\n",
       "      <td>2</td>\n",
       "      <td>Yes</td>\n",
       "      <td>Yes</td>\n",
       "    </tr>\n",
       "    <tr>\n",
       "      <th>4</th>\n",
       "      <td>ORD000005</td>\n",
       "      <td>CUST4657</td>\n",
       "      <td>Blinkit</td>\n",
       "      <td>49:29.5</td>\n",
       "      <td>30</td>\n",
       "      <td>Beverages</td>\n",
       "      <td>334</td>\n",
       "      <td>Fast delivery, great service!</td>\n",
       "      <td>5</td>\n",
       "      <td>No</td>\n",
       "      <td>No</td>\n",
       "    </tr>\n",
       "  </tbody>\n",
       "</table>\n",
       "</div>"
      ],
      "text/plain": [
       "    Order ID Customer ID Platform Order Date & Time  Delivery Time (Minutes)  \\\n",
       "0  ORD000001    CUST2824  JioMart           19:29.5                       30   \n",
       "1  ORD000002    CUST1409  Blinkit           54:29.5                       16   \n",
       "2  ORD000003    CUST5506  JioMart           21:29.5                       25   \n",
       "3  ORD000004    CUST5012  JioMart           19:29.5                       42   \n",
       "4  ORD000005    CUST4657  Blinkit           49:29.5                       30   \n",
       "\n",
       "      Product Category  Order Value (INR)              Customer Feedback  \\\n",
       "0  Fruits & Vegetables                382  Fast delivery, great service!   \n",
       "1                Dairy                279            Quick and reliable!   \n",
       "2            Beverages                599      Items missing from order.   \n",
       "3            Beverages                946      Items missing from order.   \n",
       "4            Beverages                334  Fast delivery, great service!   \n",
       "\n",
       "   Service Rating Delivery Delay Refund Requested  \n",
       "0               5             No               No  \n",
       "1               5             No               No  \n",
       "2               2             No              Yes  \n",
       "3               2            Yes              Yes  \n",
       "4               5             No               No  "
      ]
     },
     "execution_count": 53,
     "metadata": {},
     "output_type": "execute_result"
    }
   ],
   "source": [
    "Ecomm_ds.head()"
   ]
  },
  {
   "cell_type": "markdown",
   "id": "55635cc1",
   "metadata": {},
   "source": [
    "Lets check the Order date and Time "
   ]
  },
  {
   "cell_type": "code",
   "execution_count": 54,
   "id": "9de9ad04",
   "metadata": {},
   "outputs": [
    {
     "data": {
      "application/vnd.microsoft.datawrangler.viewer.v0+json": {
       "columns": [
        {
         "name": "index",
         "rawType": "int64",
         "type": "integer"
        },
        {
         "name": "Order Date & Time",
         "rawType": "object",
         "type": "string"
        }
       ],
       "ref": "ff81f5cb-c389-45e2-ae99-ca3a233b69fd",
       "rows": [
        [
         "0",
         "19:29.5"
        ],
        [
         "1",
         "54:29.5"
        ],
        [
         "2",
         "21:29.5"
        ],
        [
         "3",
         "19:29.5"
        ],
        [
         "4",
         "49:29.5"
        ],
        [
         "5",
         "36:29.5"
        ],
        [
         "6",
         "22:29.5"
        ],
        [
         "7",
         "50:29.5"
        ],
        [
         "8",
         "51:29.5"
        ],
        [
         "9",
         "08:29.5"
        ],
        [
         "10",
         "32:29.5"
        ],
        [
         "11",
         "12:29.5"
        ],
        [
         "12",
         "08:29.5"
        ],
        [
         "13",
         "19:29.5"
        ],
        [
         "14",
         "27:29.5"
        ],
        [
         "15",
         "07:29.5"
        ],
        [
         "16",
         "58:29.5"
        ],
        [
         "17",
         "23:29.5"
        ],
        [
         "18",
         "15:29.5"
        ],
        [
         "19",
         "20:29.5"
        ],
        [
         "20",
         "44:29.5"
        ],
        [
         "21",
         "57:29.5"
        ],
        [
         "22",
         "01:29.5"
        ],
        [
         "23",
         "27:29.5"
        ],
        [
         "24",
         "06:29.5"
        ],
        [
         "25",
         "59:29.5"
        ],
        [
         "26",
         "33:29.5"
        ],
        [
         "27",
         "56:29.5"
        ],
        [
         "28",
         "57:29.5"
        ],
        [
         "29",
         "53:29.5"
        ],
        [
         "30",
         "08:29.5"
        ],
        [
         "31",
         "23:29.5"
        ],
        [
         "32",
         "08:29.5"
        ],
        [
         "33",
         "28:29.5"
        ],
        [
         "34",
         "31:29.5"
        ],
        [
         "35",
         "50:29.5"
        ],
        [
         "36",
         "01:29.5"
        ],
        [
         "37",
         "41:29.5"
        ],
        [
         "38",
         "09:29.5"
        ],
        [
         "39",
         "11:29.5"
        ],
        [
         "40",
         "46:29.5"
        ],
        [
         "41",
         "11:29.5"
        ],
        [
         "42",
         "37:29.5"
        ],
        [
         "43",
         "05:29.5"
        ],
        [
         "44",
         "26:29.5"
        ],
        [
         "45",
         "14:29.5"
        ],
        [
         "46",
         "43:29.5"
        ],
        [
         "47",
         "16:29.5"
        ],
        [
         "48",
         "32:29.5"
        ],
        [
         "49",
         "59:29.5"
        ]
       ],
       "shape": {
        "columns": 1,
        "rows": 100000
       }
      },
      "text/plain": [
       "0        19:29.5\n",
       "1        54:29.5\n",
       "2        21:29.5\n",
       "3        19:29.5\n",
       "4        49:29.5\n",
       "          ...   \n",
       "99995    49:29.5\n",
       "99996    18:29.5\n",
       "99997    27:29.5\n",
       "99998    14:29.5\n",
       "99999    41:29.5\n",
       "Name: Order Date & Time, Length: 100000, dtype: object"
      ]
     },
     "execution_count": 54,
     "metadata": {},
     "output_type": "execute_result"
    }
   ],
   "source": [
    "Ecomm_ds['Order Date & Time']"
   ]
  },
  {
   "cell_type": "markdown",
   "id": "2a777c45",
   "metadata": {},
   "source": [
    "lets convert into timestamp "
   ]
  },
  {
   "cell_type": "code",
   "execution_count": 55,
   "id": "46c818f6",
   "metadata": {},
   "outputs": [],
   "source": [
    "from datetime import datetime\n",
    "import pandas as pd\n",
    "\n",
    "def convert_custom_time(time_str):\n",
    "    try:\n",
    "       \n",
    "        parts = time_str.split(\":\")\n",
    "        hours = int(parts[0])\n",
    "        \n",
    "        minute_str, sec_frac_str = parts[1].split(\".\")\n",
    "        minutes = int(minute_str)\n",
    "        sec_frac = float(\"0.\" + sec_frac_str)\n",
    "        \n",
    "       \n",
    "        seconds = int(sec_frac * 60)\n",
    "        microsecond = int(((sec_frac * 60) - seconds) * 1_000_000)\n",
    "        \n",
    "      \n",
    "        return datetime.strptime(f\"{hours:02d}:{minutes:02d}:{seconds:02d}\", \"%H:%M:%S\").replace(microsecond=microsecond)\n",
    "    \n",
    "    except Exception as e:\n",
    "        return pd.NaT\n",
    "\n",
    "Ecomm_ds['Order Date & Time'] = Ecomm_ds['Order Date & Time'].apply(convert_custom_time)\n"
   ]
  },
  {
   "cell_type": "code",
   "execution_count": 56,
   "id": "f7ebc807",
   "metadata": {},
   "outputs": [
    {
     "data": {
      "text/plain": [
       "pandas._libs.tslibs.timestamps.Timestamp"
      ]
     },
     "execution_count": 56,
     "metadata": {},
     "output_type": "execute_result"
    }
   ],
   "source": [
    "type(Ecomm_ds['Order Date & Time'][0])"
   ]
  },
  {
   "cell_type": "code",
   "execution_count": 57,
   "id": "db476958",
   "metadata": {},
   "outputs": [
    {
     "data": {
      "text/plain": [
       "array(['JioMart', 'Blinkit', 'Swiggy Instamart'], dtype=object)"
      ]
     },
     "execution_count": 57,
     "metadata": {},
     "output_type": "execute_result"
    }
   ],
   "source": [
    "Ecomm_ds['Platform'].unique()"
   ]
  },
  {
   "cell_type": "code",
   "execution_count": 58,
   "id": "5e69e700",
   "metadata": {},
   "outputs": [
    {
     "data": {
      "text/plain": [
       "array(['Fruits & Vegetables', 'Dairy', 'Beverages', 'Personal Care',\n",
       "       'Grocery', 'Snacks'], dtype=object)"
      ]
     },
     "execution_count": 58,
     "metadata": {},
     "output_type": "execute_result"
    }
   ],
   "source": [
    "Ecomm_ds['Product Category'].unique()"
   ]
  },
  {
   "cell_type": "code",
   "execution_count": 59,
   "id": "0e362ec2",
   "metadata": {},
   "outputs": [
    {
     "data": {
      "application/vnd.microsoft.datawrangler.viewer.v0+json": {
       "columns": [
        {
         "name": "Refund Requested",
         "rawType": "object",
         "type": "string"
        },
        {
         "name": "count",
         "rawType": "int64",
         "type": "integer"
        }
       ],
       "ref": "f3efcbf3-c181-41a5-acfb-21e6c090dda5",
       "rows": [
        [
         "No",
         "54181"
        ],
        [
         "Yes",
         "45819"
        ]
       ],
       "shape": {
        "columns": 1,
        "rows": 2
       }
      },
      "text/plain": [
       "Refund Requested\n",
       "No     54181\n",
       "Yes    45819\n",
       "Name: count, dtype: int64"
      ]
     },
     "execution_count": 59,
     "metadata": {},
     "output_type": "execute_result"
    }
   ],
   "source": [
    "Ecomm_ds['Refund Requested'].value_counts()"
   ]
  },
  {
   "cell_type": "code",
   "execution_count": 60,
   "id": "fe205803",
   "metadata": {},
   "outputs": [
    {
     "data": {
      "text/plain": [
       "array([5, 2, 1, 4, 3])"
      ]
     },
     "execution_count": 60,
     "metadata": {},
     "output_type": "execute_result"
    }
   ],
   "source": [
    "Ecomm_ds['Service Rating'].unique()"
   ]
  },
  {
   "cell_type": "code",
   "execution_count": 61,
   "id": "fc615ba3",
   "metadata": {},
   "outputs": [
    {
     "data": {
      "application/vnd.microsoft.datawrangler.viewer.v0+json": {
       "columns": [
        {
         "name": "Service Rating",
         "rawType": "int64",
         "type": "integer"
        },
        {
         "name": "count",
         "rawType": "int64",
         "type": "integer"
        }
       ],
       "ref": "cdbb2577-ae4f-4abd-ac85-eb35799b9bc8",
       "rows": [
        [
         "5",
         "38688"
        ],
        [
         "2",
         "30552"
        ],
        [
         "1",
         "15267"
        ],
        [
         "4",
         "7789"
        ],
        [
         "3",
         "7704"
        ]
       ],
       "shape": {
        "columns": 1,
        "rows": 5
       }
      },
      "text/plain": [
       "Service Rating\n",
       "5    38688\n",
       "2    30552\n",
       "1    15267\n",
       "4     7789\n",
       "3     7704\n",
       "Name: count, dtype: int64"
      ]
     },
     "execution_count": 61,
     "metadata": {},
     "output_type": "execute_result"
    }
   ],
   "source": [
    "Ecomm_ds['Service Rating'].value_counts()"
   ]
  },
  {
   "cell_type": "code",
   "execution_count": 62,
   "id": "d641befb",
   "metadata": {},
   "outputs": [
    {
     "data": {
      "application/vnd.microsoft.datawrangler.viewer.v0+json": {
       "columns": [
        {
         "name": "index",
         "rawType": "int64",
         "type": "integer"
        },
        {
         "name": "Order ID",
         "rawType": "object",
         "type": "string"
        },
        {
         "name": "Customer ID",
         "rawType": "object",
         "type": "string"
        },
        {
         "name": "Platform",
         "rawType": "object",
         "type": "string"
        },
        {
         "name": "Order Date & Time",
         "rawType": "datetime64[ns]",
         "type": "datetime"
        },
        {
         "name": "Delivery Time (Minutes)",
         "rawType": "int64",
         "type": "integer"
        },
        {
         "name": "Product Category",
         "rawType": "object",
         "type": "string"
        },
        {
         "name": "Order Value (INR)",
         "rawType": "int64",
         "type": "integer"
        },
        {
         "name": "Customer Feedback",
         "rawType": "object",
         "type": "string"
        },
        {
         "name": "Service Rating",
         "rawType": "int64",
         "type": "integer"
        },
        {
         "name": "Delivery Delay",
         "rawType": "object",
         "type": "string"
        },
        {
         "name": "Refund Requested",
         "rawType": "object",
         "type": "string"
        }
       ],
       "ref": "3c87c9e5-7d86-40b2-b1ce-33d5b584e0fa",
       "rows": [
        [
         "0",
         "ORD000001",
         "CUST2824",
         "JioMart",
         "1900-01-01 19:29:30",
         "30",
         "Fruits & Vegetables",
         "382",
         "Fast delivery, great service!",
         "5",
         "No",
         "No"
        ],
        [
         "1",
         "ORD000002",
         "CUST1409",
         "Blinkit",
         null,
         "16",
         "Dairy",
         "279",
         "Quick and reliable!",
         "5",
         "No",
         "No"
        ],
        [
         "2",
         "ORD000003",
         "CUST5506",
         "JioMart",
         "1900-01-01 21:29:30",
         "25",
         "Beverages",
         "599",
         "Items missing from order.",
         "2",
         "No",
         "Yes"
        ],
        [
         "3",
         "ORD000004",
         "CUST5012",
         "JioMart",
         "1900-01-01 19:29:30",
         "42",
         "Beverages",
         "946",
         "Items missing from order.",
         "2",
         "Yes",
         "Yes"
        ],
        [
         "4",
         "ORD000005",
         "CUST4657",
         "Blinkit",
         null,
         "30",
         "Beverages",
         "334",
         "Fast delivery, great service!",
         "5",
         "No",
         "No"
        ]
       ],
       "shape": {
        "columns": 11,
        "rows": 5
       }
      },
      "text/html": [
       "<div>\n",
       "<style scoped>\n",
       "    .dataframe tbody tr th:only-of-type {\n",
       "        vertical-align: middle;\n",
       "    }\n",
       "\n",
       "    .dataframe tbody tr th {\n",
       "        vertical-align: top;\n",
       "    }\n",
       "\n",
       "    .dataframe thead th {\n",
       "        text-align: right;\n",
       "    }\n",
       "</style>\n",
       "<table border=\"1\" class=\"dataframe\">\n",
       "  <thead>\n",
       "    <tr style=\"text-align: right;\">\n",
       "      <th></th>\n",
       "      <th>Order ID</th>\n",
       "      <th>Customer ID</th>\n",
       "      <th>Platform</th>\n",
       "      <th>Order Date &amp; Time</th>\n",
       "      <th>Delivery Time (Minutes)</th>\n",
       "      <th>Product Category</th>\n",
       "      <th>Order Value (INR)</th>\n",
       "      <th>Customer Feedback</th>\n",
       "      <th>Service Rating</th>\n",
       "      <th>Delivery Delay</th>\n",
       "      <th>Refund Requested</th>\n",
       "    </tr>\n",
       "  </thead>\n",
       "  <tbody>\n",
       "    <tr>\n",
       "      <th>0</th>\n",
       "      <td>ORD000001</td>\n",
       "      <td>CUST2824</td>\n",
       "      <td>JioMart</td>\n",
       "      <td>1900-01-01 19:29:30</td>\n",
       "      <td>30</td>\n",
       "      <td>Fruits &amp; Vegetables</td>\n",
       "      <td>382</td>\n",
       "      <td>Fast delivery, great service!</td>\n",
       "      <td>5</td>\n",
       "      <td>No</td>\n",
       "      <td>No</td>\n",
       "    </tr>\n",
       "    <tr>\n",
       "      <th>1</th>\n",
       "      <td>ORD000002</td>\n",
       "      <td>CUST1409</td>\n",
       "      <td>Blinkit</td>\n",
       "      <td>NaT</td>\n",
       "      <td>16</td>\n",
       "      <td>Dairy</td>\n",
       "      <td>279</td>\n",
       "      <td>Quick and reliable!</td>\n",
       "      <td>5</td>\n",
       "      <td>No</td>\n",
       "      <td>No</td>\n",
       "    </tr>\n",
       "    <tr>\n",
       "      <th>2</th>\n",
       "      <td>ORD000003</td>\n",
       "      <td>CUST5506</td>\n",
       "      <td>JioMart</td>\n",
       "      <td>1900-01-01 21:29:30</td>\n",
       "      <td>25</td>\n",
       "      <td>Beverages</td>\n",
       "      <td>599</td>\n",
       "      <td>Items missing from order.</td>\n",
       "      <td>2</td>\n",
       "      <td>No</td>\n",
       "      <td>Yes</td>\n",
       "    </tr>\n",
       "    <tr>\n",
       "      <th>3</th>\n",
       "      <td>ORD000004</td>\n",
       "      <td>CUST5012</td>\n",
       "      <td>JioMart</td>\n",
       "      <td>1900-01-01 19:29:30</td>\n",
       "      <td>42</td>\n",
       "      <td>Beverages</td>\n",
       "      <td>946</td>\n",
       "      <td>Items missing from order.</td>\n",
       "      <td>2</td>\n",
       "      <td>Yes</td>\n",
       "      <td>Yes</td>\n",
       "    </tr>\n",
       "    <tr>\n",
       "      <th>4</th>\n",
       "      <td>ORD000005</td>\n",
       "      <td>CUST4657</td>\n",
       "      <td>Blinkit</td>\n",
       "      <td>NaT</td>\n",
       "      <td>30</td>\n",
       "      <td>Beverages</td>\n",
       "      <td>334</td>\n",
       "      <td>Fast delivery, great service!</td>\n",
       "      <td>5</td>\n",
       "      <td>No</td>\n",
       "      <td>No</td>\n",
       "    </tr>\n",
       "  </tbody>\n",
       "</table>\n",
       "</div>"
      ],
      "text/plain": [
       "    Order ID Customer ID Platform   Order Date & Time  \\\n",
       "0  ORD000001    CUST2824  JioMart 1900-01-01 19:29:30   \n",
       "1  ORD000002    CUST1409  Blinkit                 NaT   \n",
       "2  ORD000003    CUST5506  JioMart 1900-01-01 21:29:30   \n",
       "3  ORD000004    CUST5012  JioMart 1900-01-01 19:29:30   \n",
       "4  ORD000005    CUST4657  Blinkit                 NaT   \n",
       "\n",
       "   Delivery Time (Minutes)     Product Category  Order Value (INR)  \\\n",
       "0                       30  Fruits & Vegetables                382   \n",
       "1                       16                Dairy                279   \n",
       "2                       25            Beverages                599   \n",
       "3                       42            Beverages                946   \n",
       "4                       30            Beverages                334   \n",
       "\n",
       "               Customer Feedback  Service Rating Delivery Delay  \\\n",
       "0  Fast delivery, great service!               5             No   \n",
       "1            Quick and reliable!               5             No   \n",
       "2      Items missing from order.               2             No   \n",
       "3      Items missing from order.               2            Yes   \n",
       "4  Fast delivery, great service!               5             No   \n",
       "\n",
       "  Refund Requested  \n",
       "0               No  \n",
       "1               No  \n",
       "2              Yes  \n",
       "3              Yes  \n",
       "4               No  "
      ]
     },
     "execution_count": 62,
     "metadata": {},
     "output_type": "execute_result"
    }
   ],
   "source": [
    "Ecomm_ds.head()"
   ]
  },
  {
   "cell_type": "code",
   "execution_count": 63,
   "id": "dc22d8b5",
   "metadata": {},
   "outputs": [
    {
     "data": {
      "text/plain": [
       "np.int64(60089)"
      ]
     },
     "execution_count": 63,
     "metadata": {},
     "output_type": "execute_result"
    }
   ],
   "source": [
    "Ecomm_ds['Order Date & Time'].isnull().sum()"
   ]
  },
  {
   "cell_type": "code",
   "execution_count": 64,
   "id": "6525936f",
   "metadata": {},
   "outputs": [],
   "source": [
    "Ecomm_ds['Order Date & Time'] = Ecomm_ds['Order Date & Time'].fillna(\"Not Available\")"
   ]
  },
  {
   "cell_type": "code",
   "execution_count": 65,
   "id": "a600a40c",
   "metadata": {},
   "outputs": [
    {
     "data": {
      "application/vnd.microsoft.datawrangler.viewer.v0+json": {
       "columns": [
        {
         "name": "Order Date & Time",
         "rawType": "object",
         "type": "unknown"
        },
        {
         "name": "count",
         "rawType": "int64",
         "type": "integer"
        }
       ],
       "ref": "9a6040a1-e0f0-438e-badc-b6795d7a896b",
       "rows": [
        [
         "Not Available",
         "60089"
        ],
        [
         "1900-01-01 19:29:30",
         "1732"
        ],
        [
         "1900-01-01 21:29:30",
         "1721"
        ],
        [
         "1900-01-01 02:29:30",
         "1719"
        ],
        [
         "1900-01-01 11:29:30",
         "1709"
        ],
        [
         "1900-01-01 10:29:30",
         "1709"
        ],
        [
         "1900-01-01 00:29:30",
         "1699"
        ],
        [
         "1900-01-01 17:29:30",
         "1692"
        ],
        [
         "1900-01-01 01:29:30",
         "1683"
        ],
        [
         "1900-01-01 08:29:30",
         "1679"
        ],
        [
         "1900-01-01 23:29:30",
         "1676"
        ],
        [
         "1900-01-01 22:29:30",
         "1669"
        ],
        [
         "1900-01-01 18:29:30",
         "1667"
        ],
        [
         "1900-01-01 12:29:30",
         "1666"
        ],
        [
         "1900-01-01 06:29:30",
         "1664"
        ],
        [
         "1900-01-01 09:29:30",
         "1659"
        ],
        [
         "1900-01-01 04:29:30",
         "1659"
        ],
        [
         "1900-01-01 03:29:30",
         "1652"
        ],
        [
         "1900-01-01 13:29:30",
         "1638"
        ],
        [
         "1900-01-01 20:29:30",
         "1636"
        ],
        [
         "1900-01-01 05:29:30",
         "1624"
        ],
        [
         "1900-01-01 16:29:30",
         "1613"
        ],
        [
         "1900-01-01 15:29:30",
         "1590"
        ],
        [
         "1900-01-01 14:29:30",
         "1588"
        ],
        [
         "1900-01-01 07:29:30",
         "1567"
        ]
       ],
       "shape": {
        "columns": 1,
        "rows": 25
       }
      },
      "text/plain": [
       "Order Date & Time\n",
       "Not Available          60089\n",
       "1900-01-01 19:29:30     1732\n",
       "1900-01-01 21:29:30     1721\n",
       "1900-01-01 02:29:30     1719\n",
       "1900-01-01 11:29:30     1709\n",
       "1900-01-01 10:29:30     1709\n",
       "1900-01-01 00:29:30     1699\n",
       "1900-01-01 17:29:30     1692\n",
       "1900-01-01 01:29:30     1683\n",
       "1900-01-01 08:29:30     1679\n",
       "1900-01-01 23:29:30     1676\n",
       "1900-01-01 22:29:30     1669\n",
       "1900-01-01 18:29:30     1667\n",
       "1900-01-01 12:29:30     1666\n",
       "1900-01-01 06:29:30     1664\n",
       "1900-01-01 09:29:30     1659\n",
       "1900-01-01 04:29:30     1659\n",
       "1900-01-01 03:29:30     1652\n",
       "1900-01-01 13:29:30     1638\n",
       "1900-01-01 20:29:30     1636\n",
       "1900-01-01 05:29:30     1624\n",
       "1900-01-01 16:29:30     1613\n",
       "1900-01-01 15:29:30     1590\n",
       "1900-01-01 14:29:30     1588\n",
       "1900-01-01 07:29:30     1567\n",
       "Name: count, dtype: int64"
      ]
     },
     "execution_count": 65,
     "metadata": {},
     "output_type": "execute_result"
    }
   ],
   "source": [
    "Ecomm_ds['Order Date & Time'].value_counts()"
   ]
  },
  {
   "cell_type": "code",
   "execution_count": 66,
   "id": "7da1700b",
   "metadata": {},
   "outputs": [
    {
     "data": {
      "application/vnd.microsoft.datawrangler.viewer.v0+json": {
       "columns": [
        {
         "name": "index",
         "rawType": "int64",
         "type": "integer"
        },
        {
         "name": "Order ID",
         "rawType": "object",
         "type": "string"
        },
        {
         "name": "Customer ID",
         "rawType": "object",
         "type": "string"
        },
        {
         "name": "Platform",
         "rawType": "object",
         "type": "string"
        },
        {
         "name": "Order Date & Time",
         "rawType": "object",
         "type": "unknown"
        },
        {
         "name": "Delivery Time (Minutes)",
         "rawType": "int64",
         "type": "integer"
        },
        {
         "name": "Product Category",
         "rawType": "object",
         "type": "string"
        },
        {
         "name": "Order Value (INR)",
         "rawType": "int64",
         "type": "integer"
        },
        {
         "name": "Customer Feedback",
         "rawType": "object",
         "type": "string"
        },
        {
         "name": "Service Rating",
         "rawType": "int64",
         "type": "integer"
        },
        {
         "name": "Delivery Delay",
         "rawType": "object",
         "type": "string"
        },
        {
         "name": "Refund Requested",
         "rawType": "object",
         "type": "string"
        }
       ],
       "ref": "03696068-7aa2-4e94-a472-49ef3a5f098e",
       "rows": [
        [
         "0",
         "ORD000001",
         "CUST2824",
         "JioMart",
         "1900-01-01 19:29:30",
         "30",
         "Fruits & Vegetables",
         "382",
         "Fast delivery, great service!",
         "5",
         "No",
         "No"
        ],
        [
         "1",
         "ORD000002",
         "CUST1409",
         "Blinkit",
         "Not Available",
         "16",
         "Dairy",
         "279",
         "Quick and reliable!",
         "5",
         "No",
         "No"
        ],
        [
         "2",
         "ORD000003",
         "CUST5506",
         "JioMart",
         "1900-01-01 21:29:30",
         "25",
         "Beverages",
         "599",
         "Items missing from order.",
         "2",
         "No",
         "Yes"
        ],
        [
         "3",
         "ORD000004",
         "CUST5012",
         "JioMart",
         "1900-01-01 19:29:30",
         "42",
         "Beverages",
         "946",
         "Items missing from order.",
         "2",
         "Yes",
         "Yes"
        ],
        [
         "4",
         "ORD000005",
         "CUST4657",
         "Blinkit",
         "Not Available",
         "30",
         "Beverages",
         "334",
         "Fast delivery, great service!",
         "5",
         "No",
         "No"
        ]
       ],
       "shape": {
        "columns": 11,
        "rows": 5
       }
      },
      "text/html": [
       "<div>\n",
       "<style scoped>\n",
       "    .dataframe tbody tr th:only-of-type {\n",
       "        vertical-align: middle;\n",
       "    }\n",
       "\n",
       "    .dataframe tbody tr th {\n",
       "        vertical-align: top;\n",
       "    }\n",
       "\n",
       "    .dataframe thead th {\n",
       "        text-align: right;\n",
       "    }\n",
       "</style>\n",
       "<table border=\"1\" class=\"dataframe\">\n",
       "  <thead>\n",
       "    <tr style=\"text-align: right;\">\n",
       "      <th></th>\n",
       "      <th>Order ID</th>\n",
       "      <th>Customer ID</th>\n",
       "      <th>Platform</th>\n",
       "      <th>Order Date &amp; Time</th>\n",
       "      <th>Delivery Time (Minutes)</th>\n",
       "      <th>Product Category</th>\n",
       "      <th>Order Value (INR)</th>\n",
       "      <th>Customer Feedback</th>\n",
       "      <th>Service Rating</th>\n",
       "      <th>Delivery Delay</th>\n",
       "      <th>Refund Requested</th>\n",
       "    </tr>\n",
       "  </thead>\n",
       "  <tbody>\n",
       "    <tr>\n",
       "      <th>0</th>\n",
       "      <td>ORD000001</td>\n",
       "      <td>CUST2824</td>\n",
       "      <td>JioMart</td>\n",
       "      <td>1900-01-01 19:29:30</td>\n",
       "      <td>30</td>\n",
       "      <td>Fruits &amp; Vegetables</td>\n",
       "      <td>382</td>\n",
       "      <td>Fast delivery, great service!</td>\n",
       "      <td>5</td>\n",
       "      <td>No</td>\n",
       "      <td>No</td>\n",
       "    </tr>\n",
       "    <tr>\n",
       "      <th>1</th>\n",
       "      <td>ORD000002</td>\n",
       "      <td>CUST1409</td>\n",
       "      <td>Blinkit</td>\n",
       "      <td>Not Available</td>\n",
       "      <td>16</td>\n",
       "      <td>Dairy</td>\n",
       "      <td>279</td>\n",
       "      <td>Quick and reliable!</td>\n",
       "      <td>5</td>\n",
       "      <td>No</td>\n",
       "      <td>No</td>\n",
       "    </tr>\n",
       "    <tr>\n",
       "      <th>2</th>\n",
       "      <td>ORD000003</td>\n",
       "      <td>CUST5506</td>\n",
       "      <td>JioMart</td>\n",
       "      <td>1900-01-01 21:29:30</td>\n",
       "      <td>25</td>\n",
       "      <td>Beverages</td>\n",
       "      <td>599</td>\n",
       "      <td>Items missing from order.</td>\n",
       "      <td>2</td>\n",
       "      <td>No</td>\n",
       "      <td>Yes</td>\n",
       "    </tr>\n",
       "    <tr>\n",
       "      <th>3</th>\n",
       "      <td>ORD000004</td>\n",
       "      <td>CUST5012</td>\n",
       "      <td>JioMart</td>\n",
       "      <td>1900-01-01 19:29:30</td>\n",
       "      <td>42</td>\n",
       "      <td>Beverages</td>\n",
       "      <td>946</td>\n",
       "      <td>Items missing from order.</td>\n",
       "      <td>2</td>\n",
       "      <td>Yes</td>\n",
       "      <td>Yes</td>\n",
       "    </tr>\n",
       "    <tr>\n",
       "      <th>4</th>\n",
       "      <td>ORD000005</td>\n",
       "      <td>CUST4657</td>\n",
       "      <td>Blinkit</td>\n",
       "      <td>Not Available</td>\n",
       "      <td>30</td>\n",
       "      <td>Beverages</td>\n",
       "      <td>334</td>\n",
       "      <td>Fast delivery, great service!</td>\n",
       "      <td>5</td>\n",
       "      <td>No</td>\n",
       "      <td>No</td>\n",
       "    </tr>\n",
       "  </tbody>\n",
       "</table>\n",
       "</div>"
      ],
      "text/plain": [
       "    Order ID Customer ID Platform    Order Date & Time  \\\n",
       "0  ORD000001    CUST2824  JioMart  1900-01-01 19:29:30   \n",
       "1  ORD000002    CUST1409  Blinkit        Not Available   \n",
       "2  ORD000003    CUST5506  JioMart  1900-01-01 21:29:30   \n",
       "3  ORD000004    CUST5012  JioMart  1900-01-01 19:29:30   \n",
       "4  ORD000005    CUST4657  Blinkit        Not Available   \n",
       "\n",
       "   Delivery Time (Minutes)     Product Category  Order Value (INR)  \\\n",
       "0                       30  Fruits & Vegetables                382   \n",
       "1                       16                Dairy                279   \n",
       "2                       25            Beverages                599   \n",
       "3                       42            Beverages                946   \n",
       "4                       30            Beverages                334   \n",
       "\n",
       "               Customer Feedback  Service Rating Delivery Delay  \\\n",
       "0  Fast delivery, great service!               5             No   \n",
       "1            Quick and reliable!               5             No   \n",
       "2      Items missing from order.               2             No   \n",
       "3      Items missing from order.               2            Yes   \n",
       "4  Fast delivery, great service!               5             No   \n",
       "\n",
       "  Refund Requested  \n",
       "0               No  \n",
       "1               No  \n",
       "2              Yes  \n",
       "3              Yes  \n",
       "4               No  "
      ]
     },
     "execution_count": 66,
     "metadata": {},
     "output_type": "execute_result"
    }
   ],
   "source": [
    "Ecomm_ds.head()"
   ]
  },
  {
   "cell_type": "markdown",
   "id": "cc754f8d",
   "metadata": {},
   "source": [
    "# Data Visualization "
   ]
  },
  {
   "cell_type": "markdown",
   "id": "bb33279c",
   "metadata": {},
   "source": [
    "1. Which Platform are used most for the cases ????"
   ]
  },
  {
   "cell_type": "code",
   "execution_count": 67,
   "id": "768dd710",
   "metadata": {},
   "outputs": [
    {
     "data": {
      "application/vnd.microsoft.datawrangler.viewer.v0+json": {
       "columns": [
        {
         "name": "index",
         "rawType": "int64",
         "type": "integer"
        },
        {
         "name": "Platform",
         "rawType": "object",
         "type": "string"
        },
        {
         "name": "Count",
         "rawType": "int64",
         "type": "integer"
        }
       ],
       "ref": "8ade41a2-b224-49c2-a906-e6c3c71bbc2b",
       "rows": [
        [
         "0",
         "Swiggy Instamart",
         "33449"
        ],
        [
         "1",
         "Blinkit",
         "33424"
        ],
        [
         "2",
         "JioMart",
         "33127"
        ]
       ],
       "shape": {
        "columns": 2,
        "rows": 3
       }
      },
      "text/html": [
       "<div>\n",
       "<style scoped>\n",
       "    .dataframe tbody tr th:only-of-type {\n",
       "        vertical-align: middle;\n",
       "    }\n",
       "\n",
       "    .dataframe tbody tr th {\n",
       "        vertical-align: top;\n",
       "    }\n",
       "\n",
       "    .dataframe thead th {\n",
       "        text-align: right;\n",
       "    }\n",
       "</style>\n",
       "<table border=\"1\" class=\"dataframe\">\n",
       "  <thead>\n",
       "    <tr style=\"text-align: right;\">\n",
       "      <th></th>\n",
       "      <th>Platform</th>\n",
       "      <th>Count</th>\n",
       "    </tr>\n",
       "  </thead>\n",
       "  <tbody>\n",
       "    <tr>\n",
       "      <th>0</th>\n",
       "      <td>Swiggy Instamart</td>\n",
       "      <td>33449</td>\n",
       "    </tr>\n",
       "    <tr>\n",
       "      <th>1</th>\n",
       "      <td>Blinkit</td>\n",
       "      <td>33424</td>\n",
       "    </tr>\n",
       "    <tr>\n",
       "      <th>2</th>\n",
       "      <td>JioMart</td>\n",
       "      <td>33127</td>\n",
       "    </tr>\n",
       "  </tbody>\n",
       "</table>\n",
       "</div>"
      ],
      "text/plain": [
       "           Platform  Count\n",
       "0  Swiggy Instamart  33449\n",
       "1           Blinkit  33424\n",
       "2           JioMart  33127"
      ]
     },
     "execution_count": 67,
     "metadata": {},
     "output_type": "execute_result"
    }
   ],
   "source": [
    "platform  =  Ecomm_ds['Platform'].value_counts().reset_index()\n",
    "platform.columns = ['Platform', 'Count']\n",
    "platform\n"
   ]
  },
  {
   "cell_type": "code",
   "execution_count": 68,
   "id": "891da059",
   "metadata": {},
   "outputs": [
    {
     "data": {
      "text/plain": [
       "array(['JioMart', 'Blinkit', 'Swiggy Instamart'], dtype=object)"
      ]
     },
     "execution_count": 68,
     "metadata": {},
     "output_type": "execute_result"
    }
   ],
   "source": [
    "Ecomm_ds['Platform'].unique()"
   ]
  },
  {
   "cell_type": "code",
   "execution_count": 69,
   "id": "ce2e9311",
   "metadata": {},
   "outputs": [],
   "source": [
    "def platform(plat):\n",
    "    if plat == \"Swiggy Instamart\":\n",
    "        return 3\n",
    "    elif plat == \"Blinkit\":\n",
    "        return 2 \n",
    "    elif plat == \"JioMart\":\n",
    "        return 1"
   ]
  },
  {
   "cell_type": "code",
   "execution_count": 70,
   "id": "7425aec2",
   "metadata": {},
   "outputs": [],
   "source": [
    "Ecomm_ds['Platform_numeric'] = Ecomm_ds['Platform'].apply(platform)"
   ]
  },
  {
   "cell_type": "code",
   "execution_count": 71,
   "id": "602b9667",
   "metadata": {},
   "outputs": [
    {
     "data": {
      "text/plain": [
       "array([1, 2, 3])"
      ]
     },
     "execution_count": 71,
     "metadata": {},
     "output_type": "execute_result"
    }
   ],
   "source": [
    "Ecomm_ds['Platform_numeric'].unique()"
   ]
  },
  {
   "cell_type": "code",
   "execution_count": 72,
   "id": "3f30992e",
   "metadata": {},
   "outputs": [
    {
     "ename": "TypeError",
     "evalue": "Data source must be a DataFrame or Mapping, not <class 'function'>.",
     "output_type": "error",
     "traceback": [
      "\u001b[1;31m---------------------------------------------------------------------------\u001b[0m",
      "\u001b[1;31mTypeError\u001b[0m                                 Traceback (most recent call last)",
      "Cell \u001b[1;32mIn[72], line 1\u001b[0m\n\u001b[1;32m----> 1\u001b[0m \u001b[43msns\u001b[49m\u001b[38;5;241;43m.\u001b[39;49m\u001b[43mbarplot\u001b[49m\u001b[43m(\u001b[49m\u001b[43mdata\u001b[49m\u001b[43m \u001b[49m\u001b[38;5;241;43m=\u001b[39;49m\u001b[43m \u001b[49m\u001b[43mplatform\u001b[49m\u001b[43m \u001b[49m\u001b[43m,\u001b[49m\u001b[43m \u001b[49m\u001b[43mx\u001b[49m\u001b[43m \u001b[49m\u001b[38;5;241;43m=\u001b[39;49m\u001b[43m \u001b[49m\u001b[38;5;124;43m'\u001b[39;49m\u001b[38;5;124;43mPlatform\u001b[39;49m\u001b[38;5;124;43m'\u001b[39;49m\u001b[43m \u001b[49m\u001b[43m,\u001b[49m\u001b[43m \u001b[49m\u001b[43my\u001b[49m\u001b[43m \u001b[49m\u001b[38;5;241;43m=\u001b[39;49m\u001b[43m \u001b[49m\u001b[38;5;124;43m'\u001b[39;49m\u001b[38;5;124;43mCount\u001b[39;49m\u001b[38;5;124;43m'\u001b[39;49m\u001b[43m \u001b[49m\u001b[43m,\u001b[49m\u001b[43m \u001b[49m\u001b[43mpalette\u001b[49m\u001b[38;5;241;43m=\u001b[39;49m\u001b[43m \u001b[49m\u001b[38;5;124;43m'\u001b[39;49m\u001b[38;5;124;43mrainbow\u001b[39;49m\u001b[38;5;124;43m'\u001b[39;49m\u001b[43m \u001b[49m\u001b[43m)\u001b[49m\n\u001b[0;32m      2\u001b[0m plt\u001b[38;5;241m.\u001b[39mtitle(\u001b[38;5;124m\"\u001b[39m\u001b[38;5;124mThe most platform are used \u001b[39m\u001b[38;5;124m\"\u001b[39m , fontsize \u001b[38;5;241m=\u001b[39m \u001b[38;5;241m14\u001b[39m , fontweight \u001b[38;5;241m=\u001b[39m \u001b[38;5;124m'\u001b[39m\u001b[38;5;124mbold\u001b[39m\u001b[38;5;124m'\u001b[39m)\n\u001b[0;32m      4\u001b[0m \u001b[38;5;28;01mfor\u001b[39;00m index, row \u001b[38;5;129;01min\u001b[39;00m platform\u001b[38;5;241m.\u001b[39miterrows():\n",
      "File \u001b[1;32m~\\AppData\\Local\\Packages\\PythonSoftwareFoundation.Python.3.11_qbz5n2kfra8p0\\LocalCache\\local-packages\\Python311\\site-packages\\seaborn\\categorical.py:2341\u001b[0m, in \u001b[0;36mbarplot\u001b[1;34m(data, x, y, hue, order, hue_order, estimator, errorbar, n_boot, seed, units, weights, orient, color, palette, saturation, fill, hue_norm, width, dodge, gap, log_scale, native_scale, formatter, legend, capsize, err_kws, ci, errcolor, errwidth, ax, **kwargs)\u001b[0m\n\u001b[0;32m   2338\u001b[0m \u001b[38;5;28;01mif\u001b[39;00m estimator \u001b[38;5;129;01mis\u001b[39;00m \u001b[38;5;28mlen\u001b[39m:\n\u001b[0;32m   2339\u001b[0m     estimator \u001b[38;5;241m=\u001b[39m \u001b[38;5;124m\"\u001b[39m\u001b[38;5;124msize\u001b[39m\u001b[38;5;124m\"\u001b[39m\n\u001b[1;32m-> 2341\u001b[0m p \u001b[38;5;241m=\u001b[39m \u001b[43m_CategoricalAggPlotter\u001b[49m\u001b[43m(\u001b[49m\n\u001b[0;32m   2342\u001b[0m \u001b[43m    \u001b[49m\u001b[43mdata\u001b[49m\u001b[38;5;241;43m=\u001b[39;49m\u001b[43mdata\u001b[49m\u001b[43m,\u001b[49m\n\u001b[0;32m   2343\u001b[0m \u001b[43m    \u001b[49m\u001b[43mvariables\u001b[49m\u001b[38;5;241;43m=\u001b[39;49m\u001b[38;5;28;43mdict\u001b[39;49m\u001b[43m(\u001b[49m\u001b[43mx\u001b[49m\u001b[38;5;241;43m=\u001b[39;49m\u001b[43mx\u001b[49m\u001b[43m,\u001b[49m\u001b[43m \u001b[49m\u001b[43my\u001b[49m\u001b[38;5;241;43m=\u001b[39;49m\u001b[43my\u001b[49m\u001b[43m,\u001b[49m\u001b[43m \u001b[49m\u001b[43mhue\u001b[49m\u001b[38;5;241;43m=\u001b[39;49m\u001b[43mhue\u001b[49m\u001b[43m,\u001b[49m\u001b[43m \u001b[49m\u001b[43munits\u001b[49m\u001b[38;5;241;43m=\u001b[39;49m\u001b[43munits\u001b[49m\u001b[43m,\u001b[49m\u001b[43m \u001b[49m\u001b[43mweight\u001b[49m\u001b[38;5;241;43m=\u001b[39;49m\u001b[43mweights\u001b[49m\u001b[43m)\u001b[49m\u001b[43m,\u001b[49m\n\u001b[0;32m   2344\u001b[0m \u001b[43m    \u001b[49m\u001b[43morder\u001b[49m\u001b[38;5;241;43m=\u001b[39;49m\u001b[43morder\u001b[49m\u001b[43m,\u001b[49m\n\u001b[0;32m   2345\u001b[0m \u001b[43m    \u001b[49m\u001b[43morient\u001b[49m\u001b[38;5;241;43m=\u001b[39;49m\u001b[43morient\u001b[49m\u001b[43m,\u001b[49m\n\u001b[0;32m   2346\u001b[0m \u001b[43m    \u001b[49m\u001b[43mcolor\u001b[49m\u001b[38;5;241;43m=\u001b[39;49m\u001b[43mcolor\u001b[49m\u001b[43m,\u001b[49m\n\u001b[0;32m   2347\u001b[0m \u001b[43m    \u001b[49m\u001b[43mlegend\u001b[49m\u001b[38;5;241;43m=\u001b[39;49m\u001b[43mlegend\u001b[49m\u001b[43m,\u001b[49m\n\u001b[0;32m   2348\u001b[0m \u001b[43m\u001b[49m\u001b[43m)\u001b[49m\n\u001b[0;32m   2350\u001b[0m \u001b[38;5;28;01mif\u001b[39;00m ax \u001b[38;5;129;01mis\u001b[39;00m \u001b[38;5;28;01mNone\u001b[39;00m:\n\u001b[0;32m   2351\u001b[0m     ax \u001b[38;5;241m=\u001b[39m plt\u001b[38;5;241m.\u001b[39mgca()\n",
      "File \u001b[1;32m~\\AppData\\Local\\Packages\\PythonSoftwareFoundation.Python.3.11_qbz5n2kfra8p0\\LocalCache\\local-packages\\Python311\\site-packages\\seaborn\\categorical.py:67\u001b[0m, in \u001b[0;36m_CategoricalPlotter.__init__\u001b[1;34m(self, data, variables, order, orient, require_numeric, color, legend)\u001b[0m\n\u001b[0;32m     56\u001b[0m \u001b[38;5;28;01mdef\u001b[39;00m\u001b[38;5;250m \u001b[39m\u001b[38;5;21m__init__\u001b[39m(\n\u001b[0;32m     57\u001b[0m     \u001b[38;5;28mself\u001b[39m,\n\u001b[0;32m     58\u001b[0m     data\u001b[38;5;241m=\u001b[39m\u001b[38;5;28;01mNone\u001b[39;00m,\n\u001b[1;32m   (...)\u001b[0m\n\u001b[0;32m     64\u001b[0m     legend\u001b[38;5;241m=\u001b[39m\u001b[38;5;124m\"\u001b[39m\u001b[38;5;124mauto\u001b[39m\u001b[38;5;124m\"\u001b[39m,\n\u001b[0;32m     65\u001b[0m ):\n\u001b[1;32m---> 67\u001b[0m     \u001b[38;5;28;43msuper\u001b[39;49m\u001b[43m(\u001b[49m\u001b[43m)\u001b[49m\u001b[38;5;241;43m.\u001b[39;49m\u001b[38;5;21;43m__init__\u001b[39;49m\u001b[43m(\u001b[49m\u001b[43mdata\u001b[49m\u001b[38;5;241;43m=\u001b[39;49m\u001b[43mdata\u001b[49m\u001b[43m,\u001b[49m\u001b[43m \u001b[49m\u001b[43mvariables\u001b[49m\u001b[38;5;241;43m=\u001b[39;49m\u001b[43mvariables\u001b[49m\u001b[43m)\u001b[49m\n\u001b[0;32m     69\u001b[0m     \u001b[38;5;66;03m# This method takes care of some bookkeeping that is necessary because the\u001b[39;00m\n\u001b[0;32m     70\u001b[0m     \u001b[38;5;66;03m# original categorical plots (prior to the 2021 refactor) had some rules that\u001b[39;00m\n\u001b[0;32m     71\u001b[0m     \u001b[38;5;66;03m# don't fit exactly into VectorPlotter logic. It may be wise to have a second\u001b[39;00m\n\u001b[1;32m   (...)\u001b[0m\n\u001b[0;32m     76\u001b[0m     \u001b[38;5;66;03m# default VectorPlotter rules. If we do decide to make orient part of the\u001b[39;00m\n\u001b[0;32m     77\u001b[0m     \u001b[38;5;66;03m# _base variable assignment, we'll want to figure out how to express that.\u001b[39;00m\n\u001b[0;32m     78\u001b[0m     \u001b[38;5;28;01mif\u001b[39;00m \u001b[38;5;28mself\u001b[39m\u001b[38;5;241m.\u001b[39minput_format \u001b[38;5;241m==\u001b[39m \u001b[38;5;124m\"\u001b[39m\u001b[38;5;124mwide\u001b[39m\u001b[38;5;124m\"\u001b[39m \u001b[38;5;129;01mand\u001b[39;00m orient \u001b[38;5;129;01min\u001b[39;00m [\u001b[38;5;124m\"\u001b[39m\u001b[38;5;124mh\u001b[39m\u001b[38;5;124m\"\u001b[39m, \u001b[38;5;124m\"\u001b[39m\u001b[38;5;124my\u001b[39m\u001b[38;5;124m\"\u001b[39m]:\n",
      "File \u001b[1;32m~\\AppData\\Local\\Packages\\PythonSoftwareFoundation.Python.3.11_qbz5n2kfra8p0\\LocalCache\\local-packages\\Python311\\site-packages\\seaborn\\_base.py:634\u001b[0m, in \u001b[0;36mVectorPlotter.__init__\u001b[1;34m(self, data, variables)\u001b[0m\n\u001b[0;32m    629\u001b[0m \u001b[38;5;66;03m# var_ordered is relevant only for categorical axis variables, and may\u001b[39;00m\n\u001b[0;32m    630\u001b[0m \u001b[38;5;66;03m# be better handled by an internal axis information object that tracks\u001b[39;00m\n\u001b[0;32m    631\u001b[0m \u001b[38;5;66;03m# such information and is set up by the scale_* methods. The analogous\u001b[39;00m\n\u001b[0;32m    632\u001b[0m \u001b[38;5;66;03m# information for numeric axes would be information about log scales.\u001b[39;00m\n\u001b[0;32m    633\u001b[0m \u001b[38;5;28mself\u001b[39m\u001b[38;5;241m.\u001b[39m_var_ordered \u001b[38;5;241m=\u001b[39m {\u001b[38;5;124m\"\u001b[39m\u001b[38;5;124mx\u001b[39m\u001b[38;5;124m\"\u001b[39m: \u001b[38;5;28;01mFalse\u001b[39;00m, \u001b[38;5;124m\"\u001b[39m\u001b[38;5;124my\u001b[39m\u001b[38;5;124m\"\u001b[39m: \u001b[38;5;28;01mFalse\u001b[39;00m}  \u001b[38;5;66;03m# alt., used DefaultDict\u001b[39;00m\n\u001b[1;32m--> 634\u001b[0m \u001b[38;5;28;43mself\u001b[39;49m\u001b[38;5;241;43m.\u001b[39;49m\u001b[43massign_variables\u001b[49m\u001b[43m(\u001b[49m\u001b[43mdata\u001b[49m\u001b[43m,\u001b[49m\u001b[43m \u001b[49m\u001b[43mvariables\u001b[49m\u001b[43m)\u001b[49m\n\u001b[0;32m    636\u001b[0m \u001b[38;5;66;03m# TODO Lots of tests assume that these are called to initialize the\u001b[39;00m\n\u001b[0;32m    637\u001b[0m \u001b[38;5;66;03m# mappings to default values on class initialization. I'd prefer to\u001b[39;00m\n\u001b[0;32m    638\u001b[0m \u001b[38;5;66;03m# move away from that and only have a mapping when explicitly called.\u001b[39;00m\n\u001b[0;32m    639\u001b[0m \u001b[38;5;28;01mfor\u001b[39;00m var \u001b[38;5;129;01min\u001b[39;00m [\u001b[38;5;124m\"\u001b[39m\u001b[38;5;124mhue\u001b[39m\u001b[38;5;124m\"\u001b[39m, \u001b[38;5;124m\"\u001b[39m\u001b[38;5;124msize\u001b[39m\u001b[38;5;124m\"\u001b[39m, \u001b[38;5;124m\"\u001b[39m\u001b[38;5;124mstyle\u001b[39m\u001b[38;5;124m\"\u001b[39m]:\n",
      "File \u001b[1;32m~\\AppData\\Local\\Packages\\PythonSoftwareFoundation.Python.3.11_qbz5n2kfra8p0\\LocalCache\\local-packages\\Python311\\site-packages\\seaborn\\_base.py:679\u001b[0m, in \u001b[0;36mVectorPlotter.assign_variables\u001b[1;34m(self, data, variables)\u001b[0m\n\u001b[0;32m    674\u001b[0m \u001b[38;5;28;01melse\u001b[39;00m:\n\u001b[0;32m    675\u001b[0m     \u001b[38;5;66;03m# When dealing with long-form input, use the newer PlotData\u001b[39;00m\n\u001b[0;32m    676\u001b[0m     \u001b[38;5;66;03m# object (internal but introduced for the objects interface)\u001b[39;00m\n\u001b[0;32m    677\u001b[0m     \u001b[38;5;66;03m# to centralize / standardize data consumption logic.\u001b[39;00m\n\u001b[0;32m    678\u001b[0m     \u001b[38;5;28mself\u001b[39m\u001b[38;5;241m.\u001b[39minput_format \u001b[38;5;241m=\u001b[39m \u001b[38;5;124m\"\u001b[39m\u001b[38;5;124mlong\u001b[39m\u001b[38;5;124m\"\u001b[39m\n\u001b[1;32m--> 679\u001b[0m     plot_data \u001b[38;5;241m=\u001b[39m \u001b[43mPlotData\u001b[49m\u001b[43m(\u001b[49m\u001b[43mdata\u001b[49m\u001b[43m,\u001b[49m\u001b[43m \u001b[49m\u001b[43mvariables\u001b[49m\u001b[43m)\u001b[49m\n\u001b[0;32m    680\u001b[0m     frame \u001b[38;5;241m=\u001b[39m plot_data\u001b[38;5;241m.\u001b[39mframe\n\u001b[0;32m    681\u001b[0m     names \u001b[38;5;241m=\u001b[39m plot_data\u001b[38;5;241m.\u001b[39mnames\n",
      "File \u001b[1;32m~\\AppData\\Local\\Packages\\PythonSoftwareFoundation.Python.3.11_qbz5n2kfra8p0\\LocalCache\\local-packages\\Python311\\site-packages\\seaborn\\_core\\data.py:57\u001b[0m, in \u001b[0;36mPlotData.__init__\u001b[1;34m(self, data, variables)\u001b[0m\n\u001b[0;32m     51\u001b[0m \u001b[38;5;28;01mdef\u001b[39;00m\u001b[38;5;250m \u001b[39m\u001b[38;5;21m__init__\u001b[39m(\n\u001b[0;32m     52\u001b[0m     \u001b[38;5;28mself\u001b[39m,\n\u001b[0;32m     53\u001b[0m     data: DataSource,\n\u001b[0;32m     54\u001b[0m     variables: \u001b[38;5;28mdict\u001b[39m[\u001b[38;5;28mstr\u001b[39m, VariableSpec],\n\u001b[0;32m     55\u001b[0m ):\n\u001b[1;32m---> 57\u001b[0m     data \u001b[38;5;241m=\u001b[39m \u001b[43mhandle_data_source\u001b[49m\u001b[43m(\u001b[49m\u001b[43mdata\u001b[49m\u001b[43m)\u001b[49m\n\u001b[0;32m     58\u001b[0m     frame, names, ids \u001b[38;5;241m=\u001b[39m \u001b[38;5;28mself\u001b[39m\u001b[38;5;241m.\u001b[39m_assign_variables(data, variables)\n\u001b[0;32m     60\u001b[0m     \u001b[38;5;28mself\u001b[39m\u001b[38;5;241m.\u001b[39mframe \u001b[38;5;241m=\u001b[39m frame\n",
      "File \u001b[1;32m~\\AppData\\Local\\Packages\\PythonSoftwareFoundation.Python.3.11_qbz5n2kfra8p0\\LocalCache\\local-packages\\Python311\\site-packages\\seaborn\\_core\\data.py:278\u001b[0m, in \u001b[0;36mhandle_data_source\u001b[1;34m(data)\u001b[0m\n\u001b[0;32m    276\u001b[0m \u001b[38;5;28;01melif\u001b[39;00m data \u001b[38;5;129;01mis\u001b[39;00m \u001b[38;5;129;01mnot\u001b[39;00m \u001b[38;5;28;01mNone\u001b[39;00m \u001b[38;5;129;01mand\u001b[39;00m \u001b[38;5;129;01mnot\u001b[39;00m \u001b[38;5;28misinstance\u001b[39m(data, Mapping):\n\u001b[0;32m    277\u001b[0m     err \u001b[38;5;241m=\u001b[39m \u001b[38;5;124mf\u001b[39m\u001b[38;5;124m\"\u001b[39m\u001b[38;5;124mData source must be a DataFrame or Mapping, not \u001b[39m\u001b[38;5;132;01m{\u001b[39;00m\u001b[38;5;28mtype\u001b[39m(data)\u001b[38;5;132;01m!r}\u001b[39;00m\u001b[38;5;124m.\u001b[39m\u001b[38;5;124m\"\u001b[39m\n\u001b[1;32m--> 278\u001b[0m     \u001b[38;5;28;01mraise\u001b[39;00m \u001b[38;5;167;01mTypeError\u001b[39;00m(err)\n\u001b[0;32m    280\u001b[0m \u001b[38;5;28;01mreturn\u001b[39;00m data\n",
      "\u001b[1;31mTypeError\u001b[0m: Data source must be a DataFrame or Mapping, not <class 'function'>."
     ]
    }
   ],
   "source": [
    "sns.barplot(data = platform , x = 'Platform' , y = 'Count' , palette= 'rainbow' )\n",
    "plt.title(\"The most platform are used \" , fontsize = 14 , fontweight = 'bold')\n",
    "\n",
    "for index, row in platform.iterrows():\n",
    "    plt.text(index, row['Count'] + 100, row['Count'], ha='center', va='bottom', fontsize=10)"
   ]
  },
  {
   "cell_type": "markdown",
   "id": "9a399b17",
   "metadata": {},
   "source": [
    "According to this visualization the most Swiggy instamart are used for delivery "
   ]
  },
  {
   "cell_type": "markdown",
   "id": "e0ae9ec8",
   "metadata": {},
   "source": [
    " 2 .Most service rating "
   ]
  },
  {
   "cell_type": "code",
   "execution_count": null,
   "id": "ea5d9393",
   "metadata": {},
   "outputs": [
    {
     "data": {
      "application/vnd.microsoft.datawrangler.viewer.v0+json": {
       "columns": [
        {
         "name": "index",
         "rawType": "int64",
         "type": "integer"
        },
        {
         "name": "rating",
         "rawType": "int64",
         "type": "integer"
        },
        {
         "name": "count",
         "rawType": "int64",
         "type": "integer"
        }
       ],
       "ref": "a43cdc85-c66c-4930-85fc-7e0a6eb4b79b",
       "rows": [
        [
         "0",
         "5",
         "38688"
        ],
        [
         "1",
         "2",
         "30552"
        ],
        [
         "2",
         "1",
         "15267"
        ],
        [
         "3",
         "4",
         "7789"
        ],
        [
         "4",
         "3",
         "7704"
        ]
       ],
       "shape": {
        "columns": 2,
        "rows": 5
       }
      },
      "text/html": [
       "<div>\n",
       "<style scoped>\n",
       "    .dataframe tbody tr th:only-of-type {\n",
       "        vertical-align: middle;\n",
       "    }\n",
       "\n",
       "    .dataframe tbody tr th {\n",
       "        vertical-align: top;\n",
       "    }\n",
       "\n",
       "    .dataframe thead th {\n",
       "        text-align: right;\n",
       "    }\n",
       "</style>\n",
       "<table border=\"1\" class=\"dataframe\">\n",
       "  <thead>\n",
       "    <tr style=\"text-align: right;\">\n",
       "      <th></th>\n",
       "      <th>rating</th>\n",
       "      <th>count</th>\n",
       "    </tr>\n",
       "  </thead>\n",
       "  <tbody>\n",
       "    <tr>\n",
       "      <th>0</th>\n",
       "      <td>5</td>\n",
       "      <td>38688</td>\n",
       "    </tr>\n",
       "    <tr>\n",
       "      <th>1</th>\n",
       "      <td>2</td>\n",
       "      <td>30552</td>\n",
       "    </tr>\n",
       "    <tr>\n",
       "      <th>2</th>\n",
       "      <td>1</td>\n",
       "      <td>15267</td>\n",
       "    </tr>\n",
       "    <tr>\n",
       "      <th>3</th>\n",
       "      <td>4</td>\n",
       "      <td>7789</td>\n",
       "    </tr>\n",
       "    <tr>\n",
       "      <th>4</th>\n",
       "      <td>3</td>\n",
       "      <td>7704</td>\n",
       "    </tr>\n",
       "  </tbody>\n",
       "</table>\n",
       "</div>"
      ],
      "text/plain": [
       "   rating  count\n",
       "0       5  38688\n",
       "1       2  30552\n",
       "2       1  15267\n",
       "3       4   7789\n",
       "4       3   7704"
      ]
     },
     "execution_count": 75,
     "metadata": {},
     "output_type": "execute_result"
    }
   ],
   "source": [
    "Rating = Ecomm_ds['Service Rating'].value_counts().reset_index()\n",
    "Rating.columns = ['rating','count']\n",
    "Rating"
   ]
  },
  {
   "cell_type": "code",
   "execution_count": null,
   "id": "cee7da74",
   "metadata": {},
   "outputs": [
    {
     "name": "stderr",
     "output_type": "stream",
     "text": [
      "C:\\Users\\ragha\\AppData\\Local\\Temp\\ipykernel_19796\\301080135.py:1: FutureWarning: \n",
      "\n",
      "Passing `palette` without assigning `hue` is deprecated and will be removed in v0.14.0. Assign the `x` variable to `hue` and set `legend=False` for the same effect.\n",
      "\n",
      "  sns.barplot(data=Rating , x = 'rating', y = 'count' , palette= 'Set2' )\n"
     ]
    },
    {
     "data": {
      "image/png": "[encoded data removed]",
      "text/plain": [
       "<Figure size 640x480 with 1 Axes>"
      ]
     },
     "metadata": {},
     "output_type": "display_data"
    }
   ],
   "source": [
    "sns.barplot(data=Rating , x = 'rating', y = 'count' , palette= 'Set2' ) \n",
    "\n",
    "plt.title(\"Rating Range Between 1-->5\" , fontsize = 14 , fontweight = 'bold')\n",
    "for index, row in Rating.iterrows():\n",
    "    plt.text(index, row['count'] + 100, row['count'], ha='center', va='bottom', fontsize=10)\n",
    "    "
   ]
  },
  {
   "cell_type": "markdown",
   "id": "e9fec913",
   "metadata": {},
   "source": [
    "The most rating is 5 "
   ]
  },
  {
   "cell_type": "markdown",
   "id": "0745a148",
   "metadata": {},
   "source": [
    "3. Delivery Delay "
   ]
  },
  {
   "cell_type": "code",
   "execution_count": null,
   "id": "6f5f3a00",
   "metadata": {},
   "outputs": [],
   "source": [
    "Delay  =Ecomm_ds['Delivery Delay'].value_counts()"
   ]
  },
  {
   "cell_type": "code",
   "execution_count": null,
   "id": "f1bde1f8",
   "metadata": {},
   "outputs": [
    {
     "data": {
      "image/png": "[encoded data removed]",
      "text/plain": [
       "<Figure size 4000x2500 with 1 Axes>"
      ]
     },
     "metadata": {},
     "output_type": "display_data"
    }
   ],
   "source": [
    "plt.figure(figsize=(8,5 ), dpi = 500)\n",
    "plt.bar(x = Delay.index , height= Delay.values )\n",
    "plt.title(\"Delivery Delay\", fontsize = 14, fontweight  = 'bold')\n",
    "plt.xlabel(\"Delay in form of (Yes || No )\" , fontweight = 'bold')\n",
    "plt.ylabel(\"Number of time \" , fontweight = 'bold')\n",
    "plt.show()"
   ]
  },
  {
   "cell_type": "markdown",
   "id": "0ca9d332",
   "metadata": {},
   "source": [
    "4. Maximum product categories selling "
   ]
  },
  {
   "cell_type": "code",
   "execution_count": null,
   "id": "6888a81d",
   "metadata": {},
   "outputs": [
    {
     "data": {
      "text/plain": [
       "array(['Fruits & Vegetables', 'Dairy', 'Beverages', 'Personal Care',\n",
       "       'Grocery', 'Snacks'], dtype=object)"
      ]
     },
     "execution_count": 109,
     "metadata": {},
     "output_type": "execute_result"
    }
   ],
   "source": [
    "Ecomm_ds['Product Category'].unique()"
   ]
  },
  {
   "cell_type": "code",
   "execution_count": null,
   "id": "4c8cec89",
   "metadata": {},
   "outputs": [
    {
     "data": {
      "application/vnd.microsoft.datawrangler.viewer.v0+json": {
       "columns": [
        {
         "name": "index",
         "rawType": "int64",
         "type": "integer"
        },
        {
         "name": "product",
         "rawType": "object",
         "type": "string"
        },
        {
         "name": "count",
         "rawType": "int64",
         "type": "integer"
        }
       ],
       "ref": "0080bd1b-50cc-4fda-9bcb-1534cb5d12bc",
       "rows": [
        [
         "0",
         "Dairy",
         "16857"
        ],
        [
         "1",
         "Grocery",
         "16737"
        ],
        [
         "2",
         "Snacks",
         "16705"
        ],
        [
         "3",
         "Fruits & Vegetables",
         "16632"
        ],
        [
         "4",
         "Beverages",
         "16536"
        ],
        [
         "5",
         "Personal Care",
         "16533"
        ]
       ],
       "shape": {
        "columns": 2,
        "rows": 6
       }
      },
      "text/html": [
       "<div>\n",
       "<style scoped>\n",
       "    .dataframe tbody tr th:only-of-type {\n",
       "        vertical-align: middle;\n",
       "    }\n",
       "\n",
       "    .dataframe tbody tr th {\n",
       "        vertical-align: top;\n",
       "    }\n",
       "\n",
       "    .dataframe thead th {\n",
       "        text-align: right;\n",
       "    }\n",
       "</style>\n",
       "<table border=\"1\" class=\"dataframe\">\n",
       "  <thead>\n",
       "    <tr style=\"text-align: right;\">\n",
       "      <th></th>\n",
       "      <th>product</th>\n",
       "      <th>count</th>\n",
       "    </tr>\n",
       "  </thead>\n",
       "  <tbody>\n",
       "    <tr>\n",
       "      <th>0</th>\n",
       "      <td>Dairy</td>\n",
       "      <td>16857</td>\n",
       "    </tr>\n",
       "    <tr>\n",
       "      <th>1</th>\n",
       "      <td>Grocery</td>\n",
       "      <td>16737</td>\n",
       "    </tr>\n",
       "    <tr>\n",
       "      <th>2</th>\n",
       "      <td>Snacks</td>\n",
       "      <td>16705</td>\n",
       "    </tr>\n",
       "    <tr>\n",
       "      <th>3</th>\n",
       "      <td>Fruits &amp; Vegetables</td>\n",
       "      <td>16632</td>\n",
       "    </tr>\n",
       "    <tr>\n",
       "      <th>4</th>\n",
       "      <td>Beverages</td>\n",
       "      <td>16536</td>\n",
       "    </tr>\n",
       "    <tr>\n",
       "      <th>5</th>\n",
       "      <td>Personal Care</td>\n",
       "      <td>16533</td>\n",
       "    </tr>\n",
       "  </tbody>\n",
       "</table>\n",
       "</div>"
      ],
      "text/plain": [
       "               product  count\n",
       "0                Dairy  16857\n",
       "1              Grocery  16737\n",
       "2               Snacks  16705\n",
       "3  Fruits & Vegetables  16632\n",
       "4            Beverages  16536\n",
       "5        Personal Care  16533"
      ]
     },
     "execution_count": 144,
     "metadata": {},
     "output_type": "execute_result"
    }
   ],
   "source": [
    "Product_catagories  = Ecomm_ds['Product Category'].value_counts().reset_index()\n",
    "Product_catagories.columns = ['product','count']\n",
    "Product_catagories"
   ]
  },
  {
   "cell_type": "code",
   "execution_count": null,
   "id": "c188d288",
   "metadata": {},
   "outputs": [
    {
     "name": "stderr",
     "output_type": "stream",
     "text": [
      "C:\\Users\\ragha\\AppData\\Local\\Temp\\ipykernel_19796\\3513998014.py:1: UserWarning: Ignoring `palette` because no `hue` variable has been assigned.\n",
      "  sns.scatterplot(x = Product_catagories.index, y = Product_catagories.values , palette='Set2' )\n"
     ]
    },
    {
     "data": {
      "text/plain": [
       "([0, 1, 2, 3, 4, 5],\n",
       " [Text(0, 0, 'Dairy'),\n",
       "  Text(1, 0, 'Grocery'),\n",
       "  Text(2, 0, 'Snacks'),\n",
       "  Text(3, 0, 'Fruits & Vegetables'),\n",
       "  Text(4, 0, 'Beverages'),\n",
       "  Text(5, 0, 'Personal Care')])"
      ]
     },
     "execution_count": 136,
     "metadata": {},
     "output_type": "execute_result"
    },
    {
     "data": {
      "image/png": "[encoded data removed]",
      "text/plain": [
       "<Figure size 640x480 with 1 Axes>"
      ]
     },
     "metadata": {},
     "output_type": "display_data"
    }
   ],
   "source": [
    "\n",
    "sns.scatterplot(x = Product_catagories.index, y = Product_catagories.values , palette='Set2' )\n",
    "plt.title(\"Most product catagories selling  \")\n",
    "plt.xticks(rotation = 45)"
   ]
  },
  {
   "cell_type": "code",
   "execution_count": null,
   "id": "92740af8",
   "metadata": {},
   "outputs": [
    {
     "data": {
      "text/plain": [
       "([0, 1, 2, 3, 4, 5],\n",
       " [Text(0, 0, 'Dairy'),\n",
       "  Text(1, 0, 'Grocery'),\n",
       "  Text(2, 0, 'Snacks'),\n",
       "  Text(3, 0, 'Fruits & Vegetables'),\n",
       "  Text(4, 0, 'Beverages'),\n",
       "  Text(5, 0, 'Personal Care')])"
      ]
     },
     "execution_count": 134,
     "metadata": {},
     "output_type": "execute_result"
    },
    {
     "data": {
      "image/png": "[encoded data removed]",
      "text/plain": [
       "<Figure size 640x480 with 1 Axes>"
      ]
     },
     "metadata": {},
     "output_type": "display_data"
    }
   ],
   "source": [
    "sns.histplot(x = Product_catagories.index, y = Product_catagories.values ,  kde = True  )\n",
    "plt.xticks(rotation = 45)\n"
   ]
  },
  {
   "cell_type": "code",
   "execution_count": null,
   "id": "7a2befa9",
   "metadata": {},
   "outputs": [
    {
     "data": {
      "text/plain": [
       "<seaborn.axisgrid.PairGrid at 0x277b12b5310>"
      ]
     },
     "execution_count": 157,
     "metadata": {},
     "output_type": "execute_result"
    },
    {
     "data": {
      "image/png": "[encoded data removed]",
      "text/plain": [
       "<Figure size 550x550 with 2 Axes>"
      ]
     },
     "metadata": {},
     "output_type": "display_data"
    }
   ],
   "source": [
    "sns.pairplot(Product_catagories, kind = 'kde',height= 5.5)"
   ]
  },
  {
   "cell_type": "code",
   "execution_count": 74,
   "id": "5bf52f42",
   "metadata": {},
   "outputs": [],
   "source": [
    "Ecomm_ds.to_csv(\"Ecommerence cleaned data.csv\")"
   ]
  },
  {
   "cell_type": "code",
   "execution_count": null,
   "id": "263bba92",
   "metadata": {},
   "outputs": [],
   "source": []
  }
 ],
 "metadata": {
  "kernelspec": {
   "display_name": "Python 3",
   "language": "python",
   "name": "python3"
  },
  "language_info": {
   "codemirror_mode": {
    "name": "ipython",
    "version": 3
   },
   "file_extension": ".py",
   "mimetype": "text/x-python",
   "name": "python",
   "nbconvert_exporter": "python",
   "pygments_lexer": "ipython3",
   "version": "3.11.9"
  }
 },
 "nbformat": 4,
 "nbformat_minor": 5
}
